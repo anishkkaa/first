{
 "cells": [
  {
   "cell_type": "code",
   "execution_count": 1,
   "id": "7036f402",
   "metadata": {},
   "outputs": [],
   "source": [
    "import cv2"
   ]
  },
  {
   "cell_type": "code",
   "execution_count": 2,
   "id": "82ede35a",
   "metadata": {},
   "outputs": [],
   "source": [
    "image = cv2.imread('meteor shower.jpg')"
   ]
  },
  {
   "cell_type": "code",
   "execution_count": 3,
   "id": "ec9823da",
   "metadata": {},
   "outputs": [],
   "source": [
    "if image is not None:\n",
    "    cv2.imshow('Image', image)\n",
    "    cv2.waitKey(0)\n",
    "    cv2.destroyAllWindows()"
   ]
  },
  {
   "cell_type": "code",
   "execution_count": 4,
   "id": "6b45ed7f",
   "metadata": {},
   "outputs": [
    {
     "data": {
      "text/plain": [
       "array([[[ 63,  42,  45],\n",
       "        [ 32,  11,  14],\n",
       "        [ 36,  15,  18],\n",
       "        ...,\n",
       "        [195, 146, 148],\n",
       "        [140,  91,  93],\n",
       "        [107,  58,  60]],\n",
       "\n",
       "       [[ 85,  64,  67],\n",
       "        [ 61,  40,  43],\n",
       "        [ 60,  39,  42],\n",
       "        ...,\n",
       "        [121,  72,  74],\n",
       "        [103,  54,  56],\n",
       "        [100,  51,  53]],\n",
       "\n",
       "       [[ 78,  57,  60],\n",
       "        [ 67,  46,  49],\n",
       "        [ 60,  39,  42],\n",
       "        ...,\n",
       "        [ 92,  45,  47],\n",
       "        [ 96,  49,  51],\n",
       "        [ 97,  50,  52]],\n",
       "\n",
       "       ...,\n",
       "\n",
       "       [[ 71,  91, 146],\n",
       "        [ 69,  89, 144],\n",
       "        [ 67,  87, 142],\n",
       "        ...,\n",
       "        [ 76, 102, 118],\n",
       "        [ 76, 102, 118],\n",
       "        [ 76, 102, 118]],\n",
       "\n",
       "       [[ 68,  88, 143],\n",
       "        [ 67,  87, 142],\n",
       "        [ 65,  85, 140],\n",
       "        ...,\n",
       "        [ 76, 102, 118],\n",
       "        [ 76, 102, 118],\n",
       "        [ 76, 102, 118]],\n",
       "\n",
       "       [[ 65,  85, 140],\n",
       "        [ 64,  84, 139],\n",
       "        [ 63,  83, 138],\n",
       "        ...,\n",
       "        [ 76, 102, 118],\n",
       "        [ 76, 102, 118],\n",
       "        [ 76, 102, 118]]], shape=(998, 1500, 3), dtype=uint8)"
      ]
     },
     "execution_count": 4,
     "metadata": {},
     "output_type": "execute_result"
    }
   ],
   "source": [
    "image"
   ]
  },
  {
   "cell_type": "code",
   "execution_count": 5,
   "id": "e65971a5",
   "metadata": {},
   "outputs": [],
   "source": [
    "gray_image = cv2.cvtColor(image, cv2.COLOR_BGR2GRAY)\n",
    "cv2.imshow('Image', gray_image)\n",
    "cv2.waitKey(0)\n",
    "cv2.destroyAllWindows()"
   ]
  },
  {
   "cell_type": "code",
   "execution_count": 6,
   "id": "0c8e0f1b",
   "metadata": {},
   "outputs": [],
   "source": [
    "blurred_image = cv2.GaussianBlur(image, (15, 15), 0 )\n",
    "cv2.imshow('Blurred Image', blurred_image)\n",
    "cv2.waitKey(0)\n",
    "cv2.destroyAllWindows()"
   ]
  },
  {
   "cell_type": "markdown",
   "id": "9a9090e0",
   "metadata": {},
   "source": [
    ". IMPORTANT FILTER"
   ]
  },
  {
   "cell_type": "code",
   "execution_count": 7,
   "id": "09c14016",
   "metadata": {},
   "outputs": [],
   "source": [
    "edges = cv2.Canny(gray_image, 100, 200)\n",
    "cv2.imshow('Edges', edges)\n",
    "cv2.waitKey(0)\n",
    "cv2.destroyAllWindows()"
   ]
  },
  {
   "cell_type": "code",
   "execution_count": 8,
   "id": "dba1d1c6",
   "metadata": {},
   "outputs": [
    {
     "data": {
      "text/plain": [
       "<function destroyAllWindows>"
      ]
     },
     "execution_count": 8,
     "metadata": {},
     "output_type": "execute_result"
    }
   ],
   "source": [
    "small_image = cv2.resize(image, (600, 400))\n",
    "cv2.imshow('Small image', small_image)\n",
    "cv2.waitKey(0)\n",
    "cv2.destroyAllWindows"
   ]
  },
  {
   "cell_type": "code",
   "execution_count": 9,
   "id": "769db44f",
   "metadata": {},
   "outputs": [
    {
     "data": {
      "text/plain": [
       "(998, 1500, 3)"
      ]
     },
     "execution_count": 9,
     "metadata": {},
     "output_type": "execute_result"
    }
   ],
   "source": [
    "image.shape"
   ]
  },
  {
   "cell_type": "code",
   "execution_count": 10,
   "id": "87ac0f31",
   "metadata": {},
   "outputs": [],
   "source": [
    "cropped_image = image[300:600 , 350:750]\n",
    "cv2.imshow('Cropped Image' , cropped_image)\n",
    "cv2.waitKey(0)\n",
    "cv2.destroyAllWindows()"
   ]
  },
  {
   "cell_type": "code",
   "execution_count": null,
   "id": "b92ad31f",
   "metadata": {},
   "outputs": [],
   "source": []
  }
 ],
 "metadata": {
  "kernelspec": {
   "display_name": "base",
   "language": "python",
   "name": "python3"
  },
  "language_info": {
   "codemirror_mode": {
    "name": "ipython",
    "version": 3
   },
   "file_extension": ".py",
   "mimetype": "text/x-python",
   "name": "python",
   "nbconvert_exporter": "python",
   "pygments_lexer": "ipython3",
   "version": "3.13.2"
  }
 },
 "nbformat": 4,
 "nbformat_minor": 5
}
