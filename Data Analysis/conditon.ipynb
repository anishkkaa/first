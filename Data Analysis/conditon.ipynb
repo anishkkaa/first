{
 "cells": [
  {
   "cell_type": "code",
   "execution_count": 1,
   "id": "0f961ec0",
   "metadata": {},
   "outputs": [
    {
     "name": "stdout",
     "output_type": "stream",
     "text": [
      "hello\n",
      "world\n",
      "done\n"
     ]
    }
   ],
   "source": [
    "a = 12\n",
    "if a>10:\n",
    "    print(\"hello\")\n",
    "    print(\"world\")\n",
    "print(\"done\")    \n",
    "  "
   ]
  },
  {
   "cell_type": "code",
   "execution_count": 2,
   "id": "83915934",
   "metadata": {},
   "outputs": [
    {
     "name": "stdout",
     "output_type": "stream",
     "text": [
      "A\n",
      "B\n"
     ]
    }
   ],
   "source": [
    "marks = 85\n",
    "if marks >=90:\n",
    "    print(\"A+\")\n",
    "if marks >= 80:\n",
    "    print(\"A\")  \n",
    "if marks >= 60: \n",
    "    print(\"B\")\n",
    "if marks < 60: \n",
    "    print(\"Fail\")         "
   ]
  },
  {
   "cell_type": "code",
   "execution_count": 3,
   "id": "11f320ac",
   "metadata": {},
   "outputs": [
    {
     "name": "stdout",
     "output_type": "stream",
     "text": [
      "A\n"
     ]
    }
   ],
   "source": [
    "marks = 85\n",
    "if marks >=90:\n",
    "    print(\"A+\")\n",
    "elif marks >= 80:\n",
    "    print(\"A\")  \n",
    "elif marks >= 60: \n",
    "    print(\"B\")\n",
    "elif marks < 60: \n",
    "    print(\"Fail\")\n",
    "else:\n",
    "    print(\"Invalid marks\")    "
   ]
  },
  {
   "cell_type": "code",
   "execution_count": 4,
   "id": "faf283ba",
   "metadata": {},
   "outputs": [
    {
     "name": "stdout",
     "output_type": "stream",
     "text": [
      "You are eligible to vote\n"
     ]
    }
   ],
   "source": [
    "age = 20\n",
    "if age >= 18:\n",
    "    print(\"You are eligible to vote\")\n",
    "else:\n",
    "    print(\"You are not eligible to vote\")    "
   ]
  },
  {
   "cell_type": "code",
   "execution_count": 1,
   "id": "009fe2d5",
   "metadata": {},
   "outputs": [
    {
     "name": "stdout",
     "output_type": "stream",
     "text": [
      "The two sides are not equal.\n"
     ]
    }
   ],
   "source": [
    "a = float(input(\"Enter first side: \"))\n",
    "b = float(input(\"Enter second side: \"))\n",
    "\n",
    "if a == b:\n",
    "    print(\"The two sides are equal.\")\n",
    "else:\n",
    "    print(\"The two sides are not equal.\")\n"
   ]
  },
  {
   "cell_type": "code",
   "execution_count": 2,
   "id": "764c3518",
   "metadata": {},
   "outputs": [
    {
     "name": "stdout",
     "output_type": "stream",
     "text": [
      "Scalene triangle.\n"
     ]
    }
   ],
   "source": [
    "a = float(input(\"Enter first side: \"))\n",
    "b = float(input(\"Enter second side: \"))\n",
    "c = float(input(\"Enter third side: \"))\n",
    "\n",
    "if a == b == c:\n",
    "    print(\"Equilateral triangle.\")\n",
    "elif a == b or b == c or a == c:\n",
    "    print(\"Isosceles triangle.\")\n",
    "else:\n",
    "    print(\"Scalene triangle.\")\n"
   ]
  },
  {
   "cell_type": "code",
   "execution_count": 2,
   "id": "f7efd74c",
   "metadata": {},
   "outputs": [
    {
     "name": "stdout",
     "output_type": "stream",
     "text": [
      "It is a vowel.\n"
     ]
    }
   ],
   "source": [
    "ch = input(\"Enter a character: \").lower()\n",
    "\n",
    "if ch in 'aeiou':\n",
    "    print(\"It is a vowel.\")\n",
    "else:\n",
    "    print(\"It is not a vowel.\")\n"
   ]
  },
  {
   "cell_type": "code",
   "execution_count": 4,
   "id": "0e0361ab",
   "metadata": {},
   "outputs": [
    {
     "name": "stdout",
     "output_type": "stream",
     "text": [
      "Not a leap year.\n"
     ]
    }
   ],
   "source": [
    "year = int(input(\"Enter a year: \"))\n",
    "\n",
    "if (year % 4 == 0 and year % 100 != 0) or (year % 400 == 0):\n",
    "    print(\"Leap year.\")\n",
    "else:\n",
    "    print(\"Not a leap year.\")\n"
   ]
  },
  {
   "cell_type": "code",
   "execution_count": 5,
   "id": "5d0af87a",
   "metadata": {},
   "outputs": [
    {
     "name": "stdout",
     "output_type": "stream",
     "text": [
      "Odd number.\n"
     ]
    }
   ],
   "source": [
    "num = int(input(\"Enter a number: \"))\n",
    "\n",
    "if num % 2 == 0:\n",
    "    print(\"Even number.\")\n",
    "else:\n",
    "    print(\"Odd number.\")\n"
   ]
  },
  {
   "cell_type": "code",
   "execution_count": 6,
   "id": "3422bc9e",
   "metadata": {},
   "outputs": [
    {
     "name": "stdout",
     "output_type": "stream",
     "text": [
      "Gross Salary: 57500.0\n"
     ]
    }
   ],
   "source": [
    "basic_salary = 50000\n",
    "hra = 0.05 * basic_salary\n",
    "da = 0.10 * basic_salary\n",
    "\n",
    "gross_salary = basic_salary + hra + da\n",
    "\n",
    "print(f\"Gross Salary: {gross_salary}\")\n"
   ]
  },
  {
   "cell_type": "code",
   "execution_count": null,
   "id": "a5f1a6e9",
   "metadata": {},
   "outputs": [],
   "source": []
  },
  {
   "cell_type": "code",
   "execution_count": 1,
   "id": "7f10c6ea",
   "metadata": {},
   "outputs": [
    {
     "name": "stdout",
     "output_type": "stream",
     "text": [
      "Invalid email📧\n"
     ]
    }
   ],
   "source": [
    "username = input(\"Enter a username: \")\n",
    "email = input(\"Enter a email: \")\n",
    "password = input(\"Enter a password: \")\n",
    "cpass = input(\"Enter a password again: \")\n",
    "\n",
    "if len(username) > 5 and len(username) <= 20:\n",
    "    if '@' in email and len(email) <= 20:\n",
    "        if len(password) >= 10 and password != username:\n",
    "            if password == cpass:\n",
    "                print(\"Registration Successfully Done🎉\")\n",
    "            else:\n",
    "                print(\"Password does not match😳\")\n",
    "        else:\n",
    "            print(\"Incorrect Password 😶\")\n",
    "    else:\n",
    "        print(\"Invalid email📧\")\n",
    "else:\n",
    "    print(\"Invalid Username🤯🤯🤯\")\n"
   ]
  }
 ],
 "metadata": {
  "kernelspec": {
   "display_name": "base",
   "language": "python",
   "name": "python3"
  },
  "language_info": {
   "codemirror_mode": {
    "name": "ipython",
    "version": 3
   },
   "file_extension": ".py",
   "mimetype": "text/x-python",
   "name": "python",
   "nbconvert_exporter": "python",
   "pygments_lexer": "ipython3",
   "version": "3.13.2"
  }
 },
 "nbformat": 4,
 "nbformat_minor": 5
}
