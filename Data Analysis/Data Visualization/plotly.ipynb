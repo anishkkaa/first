{
 "cells": [
  {
   "cell_type": "code",
   "execution_count": 1,
   "id": "2decbe7d",
   "metadata": {},
   "outputs": [],
   "source": [
    "import seaborn as sns\n",
    "import plotly.express as px"
   ]
  },
  {
   "cell_type": "code",
   "execution_count": 2,
   "id": "7a351ed9",
   "metadata": {},
   "outputs": [
    {
     "data": {
      "text/html": [
       "<div>\n",
       "<style scoped>\n",
       "    .dataframe tbody tr th:only-of-type {\n",
       "        vertical-align: middle;\n",
       "    }\n",
       "\n",
       "    .dataframe tbody tr th {\n",
       "        vertical-align: top;\n",
       "    }\n",
       "\n",
       "    .dataframe thead th {\n",
       "        text-align: right;\n",
       "    }\n",
       "</style>\n",
       "<table border=\"1\" class=\"dataframe\">\n",
       "  <thead>\n",
       "    <tr style=\"text-align: right;\">\n",
       "      <th></th>\n",
       "      <th>total</th>\n",
       "      <th>speeding</th>\n",
       "      <th>alcohol</th>\n",
       "      <th>not_distracted</th>\n",
       "      <th>no_previous</th>\n",
       "      <th>ins_premium</th>\n",
       "      <th>ins_losses</th>\n",
       "      <th>abbrev</th>\n",
       "    </tr>\n",
       "  </thead>\n",
       "  <tbody>\n",
       "    <tr>\n",
       "      <th>0</th>\n",
       "      <td>18.8</td>\n",
       "      <td>7.332</td>\n",
       "      <td>5.640</td>\n",
       "      <td>18.048</td>\n",
       "      <td>15.040</td>\n",
       "      <td>784.55</td>\n",
       "      <td>145.08</td>\n",
       "      <td>AL</td>\n",
       "    </tr>\n",
       "    <tr>\n",
       "      <th>1</th>\n",
       "      <td>18.1</td>\n",
       "      <td>7.421</td>\n",
       "      <td>4.525</td>\n",
       "      <td>16.290</td>\n",
       "      <td>17.014</td>\n",
       "      <td>1053.48</td>\n",
       "      <td>133.93</td>\n",
       "      <td>AK</td>\n",
       "    </tr>\n",
       "    <tr>\n",
       "      <th>2</th>\n",
       "      <td>18.6</td>\n",
       "      <td>6.510</td>\n",
       "      <td>5.208</td>\n",
       "      <td>15.624</td>\n",
       "      <td>17.856</td>\n",
       "      <td>899.47</td>\n",
       "      <td>110.35</td>\n",
       "      <td>AZ</td>\n",
       "    </tr>\n",
       "    <tr>\n",
       "      <th>3</th>\n",
       "      <td>22.4</td>\n",
       "      <td>4.032</td>\n",
       "      <td>5.824</td>\n",
       "      <td>21.056</td>\n",
       "      <td>21.280</td>\n",
       "      <td>827.34</td>\n",
       "      <td>142.39</td>\n",
       "      <td>AR</td>\n",
       "    </tr>\n",
       "    <tr>\n",
       "      <th>4</th>\n",
       "      <td>12.0</td>\n",
       "      <td>4.200</td>\n",
       "      <td>3.360</td>\n",
       "      <td>10.920</td>\n",
       "      <td>10.680</td>\n",
       "      <td>878.41</td>\n",
       "      <td>165.63</td>\n",
       "      <td>CA</td>\n",
       "    </tr>\n",
       "    <tr>\n",
       "      <th>5</th>\n",
       "      <td>13.6</td>\n",
       "      <td>5.032</td>\n",
       "      <td>3.808</td>\n",
       "      <td>10.744</td>\n",
       "      <td>12.920</td>\n",
       "      <td>835.50</td>\n",
       "      <td>139.91</td>\n",
       "      <td>CO</td>\n",
       "    </tr>\n",
       "    <tr>\n",
       "      <th>6</th>\n",
       "      <td>10.8</td>\n",
       "      <td>4.968</td>\n",
       "      <td>3.888</td>\n",
       "      <td>9.396</td>\n",
       "      <td>8.856</td>\n",
       "      <td>1068.73</td>\n",
       "      <td>167.02</td>\n",
       "      <td>CT</td>\n",
       "    </tr>\n",
       "    <tr>\n",
       "      <th>7</th>\n",
       "      <td>16.2</td>\n",
       "      <td>6.156</td>\n",
       "      <td>4.860</td>\n",
       "      <td>14.094</td>\n",
       "      <td>16.038</td>\n",
       "      <td>1137.87</td>\n",
       "      <td>151.48</td>\n",
       "      <td>DE</td>\n",
       "    </tr>\n",
       "    <tr>\n",
       "      <th>8</th>\n",
       "      <td>5.9</td>\n",
       "      <td>2.006</td>\n",
       "      <td>1.593</td>\n",
       "      <td>5.900</td>\n",
       "      <td>5.900</td>\n",
       "      <td>1273.89</td>\n",
       "      <td>136.05</td>\n",
       "      <td>DC</td>\n",
       "    </tr>\n",
       "    <tr>\n",
       "      <th>9</th>\n",
       "      <td>17.9</td>\n",
       "      <td>3.759</td>\n",
       "      <td>5.191</td>\n",
       "      <td>16.468</td>\n",
       "      <td>16.826</td>\n",
       "      <td>1160.13</td>\n",
       "      <td>144.18</td>\n",
       "      <td>FL</td>\n",
       "    </tr>\n",
       "    <tr>\n",
       "      <th>10</th>\n",
       "      <td>15.6</td>\n",
       "      <td>2.964</td>\n",
       "      <td>3.900</td>\n",
       "      <td>14.820</td>\n",
       "      <td>14.508</td>\n",
       "      <td>913.15</td>\n",
       "      <td>142.80</td>\n",
       "      <td>GA</td>\n",
       "    </tr>\n",
       "    <tr>\n",
       "      <th>11</th>\n",
       "      <td>17.5</td>\n",
       "      <td>9.450</td>\n",
       "      <td>7.175</td>\n",
       "      <td>14.350</td>\n",
       "      <td>15.225</td>\n",
       "      <td>861.18</td>\n",
       "      <td>120.92</td>\n",
       "      <td>HI</td>\n",
       "    </tr>\n",
       "    <tr>\n",
       "      <th>12</th>\n",
       "      <td>15.3</td>\n",
       "      <td>5.508</td>\n",
       "      <td>4.437</td>\n",
       "      <td>13.005</td>\n",
       "      <td>14.994</td>\n",
       "      <td>641.96</td>\n",
       "      <td>82.75</td>\n",
       "      <td>ID</td>\n",
       "    </tr>\n",
       "    <tr>\n",
       "      <th>13</th>\n",
       "      <td>12.8</td>\n",
       "      <td>4.608</td>\n",
       "      <td>4.352</td>\n",
       "      <td>12.032</td>\n",
       "      <td>12.288</td>\n",
       "      <td>803.11</td>\n",
       "      <td>139.15</td>\n",
       "      <td>IL</td>\n",
       "    </tr>\n",
       "    <tr>\n",
       "      <th>14</th>\n",
       "      <td>14.5</td>\n",
       "      <td>3.625</td>\n",
       "      <td>4.205</td>\n",
       "      <td>13.775</td>\n",
       "      <td>13.775</td>\n",
       "      <td>710.46</td>\n",
       "      <td>108.92</td>\n",
       "      <td>IN</td>\n",
       "    </tr>\n",
       "    <tr>\n",
       "      <th>15</th>\n",
       "      <td>15.7</td>\n",
       "      <td>2.669</td>\n",
       "      <td>3.925</td>\n",
       "      <td>15.229</td>\n",
       "      <td>13.659</td>\n",
       "      <td>649.06</td>\n",
       "      <td>114.47</td>\n",
       "      <td>IA</td>\n",
       "    </tr>\n",
       "    <tr>\n",
       "      <th>16</th>\n",
       "      <td>17.8</td>\n",
       "      <td>4.806</td>\n",
       "      <td>4.272</td>\n",
       "      <td>13.706</td>\n",
       "      <td>15.130</td>\n",
       "      <td>780.45</td>\n",
       "      <td>133.80</td>\n",
       "      <td>KS</td>\n",
       "    </tr>\n",
       "    <tr>\n",
       "      <th>17</th>\n",
       "      <td>21.4</td>\n",
       "      <td>4.066</td>\n",
       "      <td>4.922</td>\n",
       "      <td>16.692</td>\n",
       "      <td>16.264</td>\n",
       "      <td>872.51</td>\n",
       "      <td>137.13</td>\n",
       "      <td>KY</td>\n",
       "    </tr>\n",
       "    <tr>\n",
       "      <th>18</th>\n",
       "      <td>20.5</td>\n",
       "      <td>7.175</td>\n",
       "      <td>6.765</td>\n",
       "      <td>14.965</td>\n",
       "      <td>20.090</td>\n",
       "      <td>1281.55</td>\n",
       "      <td>194.78</td>\n",
       "      <td>LA</td>\n",
       "    </tr>\n",
       "    <tr>\n",
       "      <th>19</th>\n",
       "      <td>15.1</td>\n",
       "      <td>5.738</td>\n",
       "      <td>4.530</td>\n",
       "      <td>13.137</td>\n",
       "      <td>12.684</td>\n",
       "      <td>661.88</td>\n",
       "      <td>96.57</td>\n",
       "      <td>ME</td>\n",
       "    </tr>\n",
       "    <tr>\n",
       "      <th>20</th>\n",
       "      <td>12.5</td>\n",
       "      <td>4.250</td>\n",
       "      <td>4.000</td>\n",
       "      <td>8.875</td>\n",
       "      <td>12.375</td>\n",
       "      <td>1048.78</td>\n",
       "      <td>192.70</td>\n",
       "      <td>MD</td>\n",
       "    </tr>\n",
       "    <tr>\n",
       "      <th>21</th>\n",
       "      <td>8.2</td>\n",
       "      <td>1.886</td>\n",
       "      <td>2.870</td>\n",
       "      <td>7.134</td>\n",
       "      <td>6.560</td>\n",
       "      <td>1011.14</td>\n",
       "      <td>135.63</td>\n",
       "      <td>MA</td>\n",
       "    </tr>\n",
       "    <tr>\n",
       "      <th>22</th>\n",
       "      <td>14.1</td>\n",
       "      <td>3.384</td>\n",
       "      <td>3.948</td>\n",
       "      <td>13.395</td>\n",
       "      <td>10.857</td>\n",
       "      <td>1110.61</td>\n",
       "      <td>152.26</td>\n",
       "      <td>MI</td>\n",
       "    </tr>\n",
       "    <tr>\n",
       "      <th>23</th>\n",
       "      <td>9.6</td>\n",
       "      <td>2.208</td>\n",
       "      <td>2.784</td>\n",
       "      <td>8.448</td>\n",
       "      <td>8.448</td>\n",
       "      <td>777.18</td>\n",
       "      <td>133.35</td>\n",
       "      <td>MN</td>\n",
       "    </tr>\n",
       "    <tr>\n",
       "      <th>24</th>\n",
       "      <td>17.6</td>\n",
       "      <td>2.640</td>\n",
       "      <td>5.456</td>\n",
       "      <td>1.760</td>\n",
       "      <td>17.600</td>\n",
       "      <td>896.07</td>\n",
       "      <td>155.77</td>\n",
       "      <td>MS</td>\n",
       "    </tr>\n",
       "    <tr>\n",
       "      <th>25</th>\n",
       "      <td>16.1</td>\n",
       "      <td>6.923</td>\n",
       "      <td>5.474</td>\n",
       "      <td>14.812</td>\n",
       "      <td>13.524</td>\n",
       "      <td>790.32</td>\n",
       "      <td>144.45</td>\n",
       "      <td>MO</td>\n",
       "    </tr>\n",
       "    <tr>\n",
       "      <th>26</th>\n",
       "      <td>21.4</td>\n",
       "      <td>8.346</td>\n",
       "      <td>9.416</td>\n",
       "      <td>17.976</td>\n",
       "      <td>18.190</td>\n",
       "      <td>816.21</td>\n",
       "      <td>85.15</td>\n",
       "      <td>MT</td>\n",
       "    </tr>\n",
       "    <tr>\n",
       "      <th>27</th>\n",
       "      <td>14.9</td>\n",
       "      <td>1.937</td>\n",
       "      <td>5.215</td>\n",
       "      <td>13.857</td>\n",
       "      <td>13.410</td>\n",
       "      <td>732.28</td>\n",
       "      <td>114.82</td>\n",
       "      <td>NE</td>\n",
       "    </tr>\n",
       "    <tr>\n",
       "      <th>28</th>\n",
       "      <td>14.7</td>\n",
       "      <td>5.439</td>\n",
       "      <td>4.704</td>\n",
       "      <td>13.965</td>\n",
       "      <td>14.553</td>\n",
       "      <td>1029.87</td>\n",
       "      <td>138.71</td>\n",
       "      <td>NV</td>\n",
       "    </tr>\n",
       "    <tr>\n",
       "      <th>29</th>\n",
       "      <td>11.6</td>\n",
       "      <td>4.060</td>\n",
       "      <td>3.480</td>\n",
       "      <td>10.092</td>\n",
       "      <td>9.628</td>\n",
       "      <td>746.54</td>\n",
       "      <td>120.21</td>\n",
       "      <td>NH</td>\n",
       "    </tr>\n",
       "    <tr>\n",
       "      <th>30</th>\n",
       "      <td>11.2</td>\n",
       "      <td>1.792</td>\n",
       "      <td>3.136</td>\n",
       "      <td>9.632</td>\n",
       "      <td>8.736</td>\n",
       "      <td>1301.52</td>\n",
       "      <td>159.85</td>\n",
       "      <td>NJ</td>\n",
       "    </tr>\n",
       "    <tr>\n",
       "      <th>31</th>\n",
       "      <td>18.4</td>\n",
       "      <td>3.496</td>\n",
       "      <td>4.968</td>\n",
       "      <td>12.328</td>\n",
       "      <td>18.032</td>\n",
       "      <td>869.85</td>\n",
       "      <td>120.75</td>\n",
       "      <td>NM</td>\n",
       "    </tr>\n",
       "    <tr>\n",
       "      <th>32</th>\n",
       "      <td>12.3</td>\n",
       "      <td>3.936</td>\n",
       "      <td>3.567</td>\n",
       "      <td>10.824</td>\n",
       "      <td>9.840</td>\n",
       "      <td>1234.31</td>\n",
       "      <td>150.01</td>\n",
       "      <td>NY</td>\n",
       "    </tr>\n",
       "    <tr>\n",
       "      <th>33</th>\n",
       "      <td>16.8</td>\n",
       "      <td>6.552</td>\n",
       "      <td>5.208</td>\n",
       "      <td>15.792</td>\n",
       "      <td>13.608</td>\n",
       "      <td>708.24</td>\n",
       "      <td>127.82</td>\n",
       "      <td>NC</td>\n",
       "    </tr>\n",
       "    <tr>\n",
       "      <th>34</th>\n",
       "      <td>23.9</td>\n",
       "      <td>5.497</td>\n",
       "      <td>10.038</td>\n",
       "      <td>23.661</td>\n",
       "      <td>20.554</td>\n",
       "      <td>688.75</td>\n",
       "      <td>109.72</td>\n",
       "      <td>ND</td>\n",
       "    </tr>\n",
       "    <tr>\n",
       "      <th>35</th>\n",
       "      <td>14.1</td>\n",
       "      <td>3.948</td>\n",
       "      <td>4.794</td>\n",
       "      <td>13.959</td>\n",
       "      <td>11.562</td>\n",
       "      <td>697.73</td>\n",
       "      <td>133.52</td>\n",
       "      <td>OH</td>\n",
       "    </tr>\n",
       "    <tr>\n",
       "      <th>36</th>\n",
       "      <td>19.9</td>\n",
       "      <td>6.368</td>\n",
       "      <td>5.771</td>\n",
       "      <td>18.308</td>\n",
       "      <td>18.706</td>\n",
       "      <td>881.51</td>\n",
       "      <td>178.86</td>\n",
       "      <td>OK</td>\n",
       "    </tr>\n",
       "    <tr>\n",
       "      <th>37</th>\n",
       "      <td>12.8</td>\n",
       "      <td>4.224</td>\n",
       "      <td>3.328</td>\n",
       "      <td>8.576</td>\n",
       "      <td>11.520</td>\n",
       "      <td>804.71</td>\n",
       "      <td>104.61</td>\n",
       "      <td>OR</td>\n",
       "    </tr>\n",
       "    <tr>\n",
       "      <th>38</th>\n",
       "      <td>18.2</td>\n",
       "      <td>9.100</td>\n",
       "      <td>5.642</td>\n",
       "      <td>17.472</td>\n",
       "      <td>16.016</td>\n",
       "      <td>905.99</td>\n",
       "      <td>153.86</td>\n",
       "      <td>PA</td>\n",
       "    </tr>\n",
       "    <tr>\n",
       "      <th>39</th>\n",
       "      <td>11.1</td>\n",
       "      <td>3.774</td>\n",
       "      <td>4.218</td>\n",
       "      <td>10.212</td>\n",
       "      <td>8.769</td>\n",
       "      <td>1148.99</td>\n",
       "      <td>148.58</td>\n",
       "      <td>RI</td>\n",
       "    </tr>\n",
       "    <tr>\n",
       "      <th>40</th>\n",
       "      <td>23.9</td>\n",
       "      <td>9.082</td>\n",
       "      <td>9.799</td>\n",
       "      <td>22.944</td>\n",
       "      <td>19.359</td>\n",
       "      <td>858.97</td>\n",
       "      <td>116.29</td>\n",
       "      <td>SC</td>\n",
       "    </tr>\n",
       "    <tr>\n",
       "      <th>41</th>\n",
       "      <td>19.4</td>\n",
       "      <td>6.014</td>\n",
       "      <td>6.402</td>\n",
       "      <td>19.012</td>\n",
       "      <td>16.684</td>\n",
       "      <td>669.31</td>\n",
       "      <td>96.87</td>\n",
       "      <td>SD</td>\n",
       "    </tr>\n",
       "    <tr>\n",
       "      <th>42</th>\n",
       "      <td>19.5</td>\n",
       "      <td>4.095</td>\n",
       "      <td>5.655</td>\n",
       "      <td>15.990</td>\n",
       "      <td>15.795</td>\n",
       "      <td>767.91</td>\n",
       "      <td>155.57</td>\n",
       "      <td>TN</td>\n",
       "    </tr>\n",
       "    <tr>\n",
       "      <th>43</th>\n",
       "      <td>19.4</td>\n",
       "      <td>7.760</td>\n",
       "      <td>7.372</td>\n",
       "      <td>17.654</td>\n",
       "      <td>16.878</td>\n",
       "      <td>1004.75</td>\n",
       "      <td>156.83</td>\n",
       "      <td>TX</td>\n",
       "    </tr>\n",
       "    <tr>\n",
       "      <th>44</th>\n",
       "      <td>11.3</td>\n",
       "      <td>4.859</td>\n",
       "      <td>1.808</td>\n",
       "      <td>9.944</td>\n",
       "      <td>10.848</td>\n",
       "      <td>809.38</td>\n",
       "      <td>109.48</td>\n",
       "      <td>UT</td>\n",
       "    </tr>\n",
       "    <tr>\n",
       "      <th>45</th>\n",
       "      <td>13.6</td>\n",
       "      <td>4.080</td>\n",
       "      <td>4.080</td>\n",
       "      <td>13.056</td>\n",
       "      <td>12.920</td>\n",
       "      <td>716.20</td>\n",
       "      <td>109.61</td>\n",
       "      <td>VT</td>\n",
       "    </tr>\n",
       "    <tr>\n",
       "      <th>46</th>\n",
       "      <td>12.7</td>\n",
       "      <td>2.413</td>\n",
       "      <td>3.429</td>\n",
       "      <td>11.049</td>\n",
       "      <td>11.176</td>\n",
       "      <td>768.95</td>\n",
       "      <td>153.72</td>\n",
       "      <td>VA</td>\n",
       "    </tr>\n",
       "    <tr>\n",
       "      <th>47</th>\n",
       "      <td>10.6</td>\n",
       "      <td>4.452</td>\n",
       "      <td>3.498</td>\n",
       "      <td>8.692</td>\n",
       "      <td>9.116</td>\n",
       "      <td>890.03</td>\n",
       "      <td>111.62</td>\n",
       "      <td>WA</td>\n",
       "    </tr>\n",
       "    <tr>\n",
       "      <th>48</th>\n",
       "      <td>23.8</td>\n",
       "      <td>8.092</td>\n",
       "      <td>6.664</td>\n",
       "      <td>23.086</td>\n",
       "      <td>20.706</td>\n",
       "      <td>992.61</td>\n",
       "      <td>152.56</td>\n",
       "      <td>WV</td>\n",
       "    </tr>\n",
       "    <tr>\n",
       "      <th>49</th>\n",
       "      <td>13.8</td>\n",
       "      <td>4.968</td>\n",
       "      <td>4.554</td>\n",
       "      <td>5.382</td>\n",
       "      <td>11.592</td>\n",
       "      <td>670.31</td>\n",
       "      <td>106.62</td>\n",
       "      <td>WI</td>\n",
       "    </tr>\n",
       "    <tr>\n",
       "      <th>50</th>\n",
       "      <td>17.4</td>\n",
       "      <td>7.308</td>\n",
       "      <td>5.568</td>\n",
       "      <td>14.094</td>\n",
       "      <td>15.660</td>\n",
       "      <td>791.14</td>\n",
       "      <td>122.04</td>\n",
       "      <td>WY</td>\n",
       "    </tr>\n",
       "  </tbody>\n",
       "</table>\n",
       "</div>"
      ],
      "text/plain": [
       "    total  speeding  alcohol  not_distracted  no_previous  ins_premium  \\\n",
       "0    18.8     7.332    5.640          18.048       15.040       784.55   \n",
       "1    18.1     7.421    4.525          16.290       17.014      1053.48   \n",
       "2    18.6     6.510    5.208          15.624       17.856       899.47   \n",
       "3    22.4     4.032    5.824          21.056       21.280       827.34   \n",
       "4    12.0     4.200    3.360          10.920       10.680       878.41   \n",
       "5    13.6     5.032    3.808          10.744       12.920       835.50   \n",
       "6    10.8     4.968    3.888           9.396        8.856      1068.73   \n",
       "7    16.2     6.156    4.860          14.094       16.038      1137.87   \n",
       "8     5.9     2.006    1.593           5.900        5.900      1273.89   \n",
       "9    17.9     3.759    5.191          16.468       16.826      1160.13   \n",
       "10   15.6     2.964    3.900          14.820       14.508       913.15   \n",
       "11   17.5     9.450    7.175          14.350       15.225       861.18   \n",
       "12   15.3     5.508    4.437          13.005       14.994       641.96   \n",
       "13   12.8     4.608    4.352          12.032       12.288       803.11   \n",
       "14   14.5     3.625    4.205          13.775       13.775       710.46   \n",
       "15   15.7     2.669    3.925          15.229       13.659       649.06   \n",
       "16   17.8     4.806    4.272          13.706       15.130       780.45   \n",
       "17   21.4     4.066    4.922          16.692       16.264       872.51   \n",
       "18   20.5     7.175    6.765          14.965       20.090      1281.55   \n",
       "19   15.1     5.738    4.530          13.137       12.684       661.88   \n",
       "20   12.5     4.250    4.000           8.875       12.375      1048.78   \n",
       "21    8.2     1.886    2.870           7.134        6.560      1011.14   \n",
       "22   14.1     3.384    3.948          13.395       10.857      1110.61   \n",
       "23    9.6     2.208    2.784           8.448        8.448       777.18   \n",
       "24   17.6     2.640    5.456           1.760       17.600       896.07   \n",
       "25   16.1     6.923    5.474          14.812       13.524       790.32   \n",
       "26   21.4     8.346    9.416          17.976       18.190       816.21   \n",
       "27   14.9     1.937    5.215          13.857       13.410       732.28   \n",
       "28   14.7     5.439    4.704          13.965       14.553      1029.87   \n",
       "29   11.6     4.060    3.480          10.092        9.628       746.54   \n",
       "30   11.2     1.792    3.136           9.632        8.736      1301.52   \n",
       "31   18.4     3.496    4.968          12.328       18.032       869.85   \n",
       "32   12.3     3.936    3.567          10.824        9.840      1234.31   \n",
       "33   16.8     6.552    5.208          15.792       13.608       708.24   \n",
       "34   23.9     5.497   10.038          23.661       20.554       688.75   \n",
       "35   14.1     3.948    4.794          13.959       11.562       697.73   \n",
       "36   19.9     6.368    5.771          18.308       18.706       881.51   \n",
       "37   12.8     4.224    3.328           8.576       11.520       804.71   \n",
       "38   18.2     9.100    5.642          17.472       16.016       905.99   \n",
       "39   11.1     3.774    4.218          10.212        8.769      1148.99   \n",
       "40   23.9     9.082    9.799          22.944       19.359       858.97   \n",
       "41   19.4     6.014    6.402          19.012       16.684       669.31   \n",
       "42   19.5     4.095    5.655          15.990       15.795       767.91   \n",
       "43   19.4     7.760    7.372          17.654       16.878      1004.75   \n",
       "44   11.3     4.859    1.808           9.944       10.848       809.38   \n",
       "45   13.6     4.080    4.080          13.056       12.920       716.20   \n",
       "46   12.7     2.413    3.429          11.049       11.176       768.95   \n",
       "47   10.6     4.452    3.498           8.692        9.116       890.03   \n",
       "48   23.8     8.092    6.664          23.086       20.706       992.61   \n",
       "49   13.8     4.968    4.554           5.382       11.592       670.31   \n",
       "50   17.4     7.308    5.568          14.094       15.660       791.14   \n",
       "\n",
       "    ins_losses abbrev  \n",
       "0       145.08     AL  \n",
       "1       133.93     AK  \n",
       "2       110.35     AZ  \n",
       "3       142.39     AR  \n",
       "4       165.63     CA  \n",
       "5       139.91     CO  \n",
       "6       167.02     CT  \n",
       "7       151.48     DE  \n",
       "8       136.05     DC  \n",
       "9       144.18     FL  \n",
       "10      142.80     GA  \n",
       "11      120.92     HI  \n",
       "12       82.75     ID  \n",
       "13      139.15     IL  \n",
       "14      108.92     IN  \n",
       "15      114.47     IA  \n",
       "16      133.80     KS  \n",
       "17      137.13     KY  \n",
       "18      194.78     LA  \n",
       "19       96.57     ME  \n",
       "20      192.70     MD  \n",
       "21      135.63     MA  \n",
       "22      152.26     MI  \n",
       "23      133.35     MN  \n",
       "24      155.77     MS  \n",
       "25      144.45     MO  \n",
       "26       85.15     MT  \n",
       "27      114.82     NE  \n",
       "28      138.71     NV  \n",
       "29      120.21     NH  \n",
       "30      159.85     NJ  \n",
       "31      120.75     NM  \n",
       "32      150.01     NY  \n",
       "33      127.82     NC  \n",
       "34      109.72     ND  \n",
       "35      133.52     OH  \n",
       "36      178.86     OK  \n",
       "37      104.61     OR  \n",
       "38      153.86     PA  \n",
       "39      148.58     RI  \n",
       "40      116.29     SC  \n",
       "41       96.87     SD  \n",
       "42      155.57     TN  \n",
       "43      156.83     TX  \n",
       "44      109.48     UT  \n",
       "45      109.61     VT  \n",
       "46      153.72     VA  \n",
       "47      111.62     WA  \n",
       "48      152.56     WV  \n",
       "49      106.62     WI  \n",
       "50      122.04     WY  "
      ]
     },
     "execution_count": 2,
     "metadata": {},
     "output_type": "execute_result"
    }
   ],
   "source": [
    "df = sns.load_dataset(\"car_crashes\")\n",
    "df"
   ]
  },
  {
   "cell_type": "code",
   "execution_count": 3,
   "id": "b3428f3c",
   "metadata": {},
   "outputs": [
    {
     "name": "stdout",
     "output_type": "stream",
     "text": [
      "Requirement already satisfied: nbformat in c:\\users\\anamika\\miniconda3\\lib\\site-packages (5.10.4)\n",
      "Requirement already satisfied: fastjsonschema>=2.15 in c:\\users\\anamika\\miniconda3\\lib\\site-packages (from nbformat) (2.21.1)\n",
      "Requirement already satisfied: jsonschema>=2.6 in c:\\users\\anamika\\miniconda3\\lib\\site-packages (from nbformat) (4.24.1)\n",
      "Requirement already satisfied: jupyter-core!=5.0.*,>=4.12 in c:\\users\\anamika\\miniconda3\\lib\\site-packages (from nbformat) (5.8.1)\n",
      "Requirement already satisfied: traitlets>=5.1 in c:\\users\\anamika\\miniconda3\\lib\\site-packages (from nbformat) (5.14.3)\n",
      "Requirement already satisfied: attrs>=22.2.0 in c:\\users\\anamika\\miniconda3\\lib\\site-packages (from jsonschema>=2.6->nbformat) (25.3.0)\n",
      "Requirement already satisfied: jsonschema-specifications>=2023.03.6 in c:\\users\\anamika\\miniconda3\\lib\\site-packages (from jsonschema>=2.6->nbformat) (2025.4.1)\n",
      "Requirement already satisfied: referencing>=0.28.4 in c:\\users\\anamika\\miniconda3\\lib\\site-packages (from jsonschema>=2.6->nbformat) (0.36.2)\n",
      "Requirement already satisfied: rpds-py>=0.7.1 in c:\\users\\anamika\\miniconda3\\lib\\site-packages (from jsonschema>=2.6->nbformat) (0.26.0)\n",
      "Requirement already satisfied: platformdirs>=2.5 in c:\\users\\anamika\\miniconda3\\lib\\site-packages (from jupyter-core!=5.0.*,>=4.12->nbformat) (4.3.7)\n",
      "Requirement already satisfied: pywin32>=300 in c:\\users\\anamika\\miniconda3\\lib\\site-packages (from jupyter-core!=5.0.*,>=4.12->nbformat) (308)\n",
      "Note: you may need to restart the kernel to use updated packages.\n"
     ]
    }
   ],
   "source": [
    "pip install nbformat"
   ]
  },
  {
   "cell_type": "code",
   "execution_count": 4,
   "id": "f47975fb",
   "metadata": {},
   "outputs": [
    {
     "data": {
      "application/vnd.plotly.v1+json": {
       "config": {
        "plotlyServerURL": "https://plot.ly"
       },
       "data": [
        {
         "hovertemplate": "state=%{x}<br>Total Accidents=%{marker.color}<extra></extra>",
         "legendgroup": "",
         "marker": {
          "color": {
           "bdata": "zczMzMzMMkCamZmZmRkyQJqZmZmZmTJAZmZmZmZmNkAAAAAAAAAoQDMzMzMzMytAmpmZmZmZJUAzMzMzMzMwQJqZmZmZmRdAZmZmZmbmMUAzMzMzMzMvQAAAAAAAgDFAmpmZmZmZLkCamZmZmZkpQAAAAAAAAC1AZmZmZmZmL0DNzMzMzMwxQGZmZmZmZjVAAAAAAACANEAzMzMzMzMuQAAAAAAAAClAZmZmZmZmIEAzMzMzMzMsQDMzMzMzMyNAmpmZmZmZMUCamZmZmRkwQGZmZmZmZjVAzczMzMzMLUBmZmZmZmYtQDMzMzMzMydAZmZmZmZmJkBmZmZmZmYyQJqZmZmZmShAzczMzMzMMEBmZmZmZuY3QDMzMzMzMyxAZmZmZmbmM0CamZmZmZkpQDMzMzMzMzJAMzMzMzMzJkBmZmZmZuY3QGZmZmZmZjNAAAAAAACAM0BmZmZmZmYzQJqZmZmZmSZAMzMzMzMzK0BmZmZmZmYpQDMzMzMzMyVAzczMzMzMN0CamZmZmZkrQGZmZmZmZjFA",
           "dtype": "f8"
          },
          "coloraxis": "coloraxis",
          "pattern": {
           "shape": ""
          }
         },
         "name": "",
         "orientation": "v",
         "showlegend": false,
         "textposition": "auto",
         "type": "bar",
         "x": [
          "AL",
          "AK",
          "AZ",
          "AR",
          "CA",
          "CO",
          "CT",
          "DE",
          "DC",
          "FL",
          "GA",
          "HI",
          "ID",
          "IL",
          "IN",
          "IA",
          "KS",
          "KY",
          "LA",
          "ME",
          "MD",
          "MA",
          "MI",
          "MN",
          "MS",
          "MO",
          "MT",
          "NE",
          "NV",
          "NH",
          "NJ",
          "NM",
          "NY",
          "NC",
          "ND",
          "OH",
          "OK",
          "OR",
          "PA",
          "RI",
          "SC",
          "SD",
          "TN",
          "TX",
          "UT",
          "VT",
          "VA",
          "WA",
          "WV",
          "WI",
          "WY"
         ],
         "xaxis": "x",
         "y": {
          "bdata": "zczMzMzMMkCamZmZmRkyQJqZmZmZmTJAZmZmZmZmNkAAAAAAAAAoQDMzMzMzMytAmpmZmZmZJUAzMzMzMzMwQJqZmZmZmRdAZmZmZmbmMUAzMzMzMzMvQAAAAAAAgDFAmpmZmZmZLkCamZmZmZkpQAAAAAAAAC1AZmZmZmZmL0DNzMzMzMwxQGZmZmZmZjVAAAAAAACANEAzMzMzMzMuQAAAAAAAAClAZmZmZmZmIEAzMzMzMzMsQDMzMzMzMyNAmpmZmZmZMUCamZmZmRkwQGZmZmZmZjVAzczMzMzMLUBmZmZmZmYtQDMzMzMzMydAZmZmZmZmJkBmZmZmZmYyQJqZmZmZmShAzczMzMzMMEBmZmZmZuY3QDMzMzMzMyxAZmZmZmbmM0CamZmZmZkpQDMzMzMzMzJAMzMzMzMzJkBmZmZmZuY3QGZmZmZmZjNAAAAAAACAM0BmZmZmZmYzQJqZmZmZmSZAMzMzMzMzK0BmZmZmZmYpQDMzMzMzMyVAzczMzMzMN0CamZmZmZkrQGZmZmZmZjFA",
          "dtype": "f8"
         },
         "yaxis": "y"
        }
       ],
       "layout": {
        "barmode": "relative",
        "coloraxis": {
         "colorbar": {
          "title": {
           "text": "Total Accidents"
          }
         },
         "colorscale": [
          [
           0,
           "#0d0887"
          ],
          [
           0.1111111111111111,
           "#46039f"
          ],
          [
           0.2222222222222222,
           "#7201a8"
          ],
          [
           0.3333333333333333,
           "#9c179e"
          ],
          [
           0.4444444444444444,
           "#bd3786"
          ],
          [
           0.5555555555555556,
           "#d8576b"
          ],
          [
           0.6666666666666666,
           "#ed7953"
          ],
          [
           0.7777777777777778,
           "#fb9f3a"
          ],
          [
           0.8888888888888888,
           "#fdca26"
          ],
          [
           1,
           "#f0f921"
          ]
         ]
        },
        "legend": {
         "tracegroupgap": 0
        },
        "template": {
         "data": {
          "bar": [
           {
            "error_x": {
             "color": "#2a3f5f"
            },
            "error_y": {
             "color": "#2a3f5f"
            },
            "marker": {
             "line": {
              "color": "#E5ECF6",
              "width": 0.5
             },
             "pattern": {
              "fillmode": "overlay",
              "size": 10,
              "solidity": 0.2
             }
            },
            "type": "bar"
           }
          ],
          "barpolar": [
           {
            "marker": {
             "line": {
              "color": "#E5ECF6",
              "width": 0.5
             },
             "pattern": {
              "fillmode": "overlay",
              "size": 10,
              "solidity": 0.2
             }
            },
            "type": "barpolar"
           }
          ],
          "carpet": [
           {
            "aaxis": {
             "endlinecolor": "#2a3f5f",
             "gridcolor": "white",
             "linecolor": "white",
             "minorgridcolor": "white",
             "startlinecolor": "#2a3f5f"
            },
            "baxis": {
             "endlinecolor": "#2a3f5f",
             "gridcolor": "white",
             "linecolor": "white",
             "minorgridcolor": "white",
             "startlinecolor": "#2a3f5f"
            },
            "type": "carpet"
           }
          ],
          "choropleth": [
           {
            "colorbar": {
             "outlinewidth": 0,
             "ticks": ""
            },
            "type": "choropleth"
           }
          ],
          "contour": [
           {
            "colorbar": {
             "outlinewidth": 0,
             "ticks": ""
            },
            "colorscale": [
             [
              0,
              "#0d0887"
             ],
             [
              0.1111111111111111,
              "#46039f"
             ],
             [
              0.2222222222222222,
              "#7201a8"
             ],
             [
              0.3333333333333333,
              "#9c179e"
             ],
             [
              0.4444444444444444,
              "#bd3786"
             ],
             [
              0.5555555555555556,
              "#d8576b"
             ],
             [
              0.6666666666666666,
              "#ed7953"
             ],
             [
              0.7777777777777778,
              "#fb9f3a"
             ],
             [
              0.8888888888888888,
              "#fdca26"
             ],
             [
              1,
              "#f0f921"
             ]
            ],
            "type": "contour"
           }
          ],
          "contourcarpet": [
           {
            "colorbar": {
             "outlinewidth": 0,
             "ticks": ""
            },
            "type": "contourcarpet"
           }
          ],
          "heatmap": [
           {
            "colorbar": {
             "outlinewidth": 0,
             "ticks": ""
            },
            "colorscale": [
             [
              0,
              "#0d0887"
             ],
             [
              0.1111111111111111,
              "#46039f"
             ],
             [
              0.2222222222222222,
              "#7201a8"
             ],
             [
              0.3333333333333333,
              "#9c179e"
             ],
             [
              0.4444444444444444,
              "#bd3786"
             ],
             [
              0.5555555555555556,
              "#d8576b"
             ],
             [
              0.6666666666666666,
              "#ed7953"
             ],
             [
              0.7777777777777778,
              "#fb9f3a"
             ],
             [
              0.8888888888888888,
              "#fdca26"
             ],
             [
              1,
              "#f0f921"
             ]
            ],
            "type": "heatmap"
           }
          ],
          "histogram": [
           {
            "marker": {
             "pattern": {
              "fillmode": "overlay",
              "size": 10,
              "solidity": 0.2
             }
            },
            "type": "histogram"
           }
          ],
          "histogram2d": [
           {
            "colorbar": {
             "outlinewidth": 0,
             "ticks": ""
            },
            "colorscale": [
             [
              0,
              "#0d0887"
             ],
             [
              0.1111111111111111,
              "#46039f"
             ],
             [
              0.2222222222222222,
              "#7201a8"
             ],
             [
              0.3333333333333333,
              "#9c179e"
             ],
             [
              0.4444444444444444,
              "#bd3786"
             ],
             [
              0.5555555555555556,
              "#d8576b"
             ],
             [
              0.6666666666666666,
              "#ed7953"
             ],
             [
              0.7777777777777778,
              "#fb9f3a"
             ],
             [
              0.8888888888888888,
              "#fdca26"
             ],
             [
              1,
              "#f0f921"
             ]
            ],
            "type": "histogram2d"
           }
          ],
          "histogram2dcontour": [
           {
            "colorbar": {
             "outlinewidth": 0,
             "ticks": ""
            },
            "colorscale": [
             [
              0,
              "#0d0887"
             ],
             [
              0.1111111111111111,
              "#46039f"
             ],
             [
              0.2222222222222222,
              "#7201a8"
             ],
             [
              0.3333333333333333,
              "#9c179e"
             ],
             [
              0.4444444444444444,
              "#bd3786"
             ],
             [
              0.5555555555555556,
              "#d8576b"
             ],
             [
              0.6666666666666666,
              "#ed7953"
             ],
             [
              0.7777777777777778,
              "#fb9f3a"
             ],
             [
              0.8888888888888888,
              "#fdca26"
             ],
             [
              1,
              "#f0f921"
             ]
            ],
            "type": "histogram2dcontour"
           }
          ],
          "mesh3d": [
           {
            "colorbar": {
             "outlinewidth": 0,
             "ticks": ""
            },
            "type": "mesh3d"
           }
          ],
          "parcoords": [
           {
            "line": {
             "colorbar": {
              "outlinewidth": 0,
              "ticks": ""
             }
            },
            "type": "parcoords"
           }
          ],
          "pie": [
           {
            "automargin": true,
            "type": "pie"
           }
          ],
          "scatter": [
           {
            "fillpattern": {
             "fillmode": "overlay",
             "size": 10,
             "solidity": 0.2
            },
            "type": "scatter"
           }
          ],
          "scatter3d": [
           {
            "line": {
             "colorbar": {
              "outlinewidth": 0,
              "ticks": ""
             }
            },
            "marker": {
             "colorbar": {
              "outlinewidth": 0,
              "ticks": ""
             }
            },
            "type": "scatter3d"
           }
          ],
          "scattercarpet": [
           {
            "marker": {
             "colorbar": {
              "outlinewidth": 0,
              "ticks": ""
             }
            },
            "type": "scattercarpet"
           }
          ],
          "scattergeo": [
           {
            "marker": {
             "colorbar": {
              "outlinewidth": 0,
              "ticks": ""
             }
            },
            "type": "scattergeo"
           }
          ],
          "scattergl": [
           {
            "marker": {
             "colorbar": {
              "outlinewidth": 0,
              "ticks": ""
             }
            },
            "type": "scattergl"
           }
          ],
          "scattermap": [
           {
            "marker": {
             "colorbar": {
              "outlinewidth": 0,
              "ticks": ""
             }
            },
            "type": "scattermap"
           }
          ],
          "scattermapbox": [
           {
            "marker": {
             "colorbar": {
              "outlinewidth": 0,
              "ticks": ""
             }
            },
            "type": "scattermapbox"
           }
          ],
          "scatterpolar": [
           {
            "marker": {
             "colorbar": {
              "outlinewidth": 0,
              "ticks": ""
             }
            },
            "type": "scatterpolar"
           }
          ],
          "scatterpolargl": [
           {
            "marker": {
             "colorbar": {
              "outlinewidth": 0,
              "ticks": ""
             }
            },
            "type": "scatterpolargl"
           }
          ],
          "scatterternary": [
           {
            "marker": {
             "colorbar": {
              "outlinewidth": 0,
              "ticks": ""
             }
            },
            "type": "scatterternary"
           }
          ],
          "surface": [
           {
            "colorbar": {
             "outlinewidth": 0,
             "ticks": ""
            },
            "colorscale": [
             [
              0,
              "#0d0887"
             ],
             [
              0.1111111111111111,
              "#46039f"
             ],
             [
              0.2222222222222222,
              "#7201a8"
             ],
             [
              0.3333333333333333,
              "#9c179e"
             ],
             [
              0.4444444444444444,
              "#bd3786"
             ],
             [
              0.5555555555555556,
              "#d8576b"
             ],
             [
              0.6666666666666666,
              "#ed7953"
             ],
             [
              0.7777777777777778,
              "#fb9f3a"
             ],
             [
              0.8888888888888888,
              "#fdca26"
             ],
             [
              1,
              "#f0f921"
             ]
            ],
            "type": "surface"
           }
          ],
          "table": [
           {
            "cells": {
             "fill": {
              "color": "#EBF0F8"
             },
             "line": {
              "color": "white"
             }
            },
            "header": {
             "fill": {
              "color": "#C8D4E3"
             },
             "line": {
              "color": "white"
             }
            },
            "type": "table"
           }
          ]
         },
         "layout": {
          "annotationdefaults": {
           "arrowcolor": "#2a3f5f",
           "arrowhead": 0,
           "arrowwidth": 1
          },
          "autotypenumbers": "strict",
          "coloraxis": {
           "colorbar": {
            "outlinewidth": 0,
            "ticks": ""
           }
          },
          "colorscale": {
           "diverging": [
            [
             0,
             "#8e0152"
            ],
            [
             0.1,
             "#c51b7d"
            ],
            [
             0.2,
             "#de77ae"
            ],
            [
             0.3,
             "#f1b6da"
            ],
            [
             0.4,
             "#fde0ef"
            ],
            [
             0.5,
             "#f7f7f7"
            ],
            [
             0.6,
             "#e6f5d0"
            ],
            [
             0.7,
             "#b8e186"
            ],
            [
             0.8,
             "#7fbc41"
            ],
            [
             0.9,
             "#4d9221"
            ],
            [
             1,
             "#276419"
            ]
           ],
           "sequential": [
            [
             0,
             "#0d0887"
            ],
            [
             0.1111111111111111,
             "#46039f"
            ],
            [
             0.2222222222222222,
             "#7201a8"
            ],
            [
             0.3333333333333333,
             "#9c179e"
            ],
            [
             0.4444444444444444,
             "#bd3786"
            ],
            [
             0.5555555555555556,
             "#d8576b"
            ],
            [
             0.6666666666666666,
             "#ed7953"
            ],
            [
             0.7777777777777778,
             "#fb9f3a"
            ],
            [
             0.8888888888888888,
             "#fdca26"
            ],
            [
             1,
             "#f0f921"
            ]
           ],
           "sequentialminus": [
            [
             0,
             "#0d0887"
            ],
            [
             0.1111111111111111,
             "#46039f"
            ],
            [
             0.2222222222222222,
             "#7201a8"
            ],
            [
             0.3333333333333333,
             "#9c179e"
            ],
            [
             0.4444444444444444,
             "#bd3786"
            ],
            [
             0.5555555555555556,
             "#d8576b"
            ],
            [
             0.6666666666666666,
             "#ed7953"
            ],
            [
             0.7777777777777778,
             "#fb9f3a"
            ],
            [
             0.8888888888888888,
             "#fdca26"
            ],
            [
             1,
             "#f0f921"
            ]
           ]
          },
          "colorway": [
           "#636efa",
           "#EF553B",
           "#00cc96",
           "#ab63fa",
           "#FFA15A",
           "#19d3f3",
           "#FF6692",
           "#B6E880",
           "#FF97FF",
           "#FECB52"
          ],
          "font": {
           "color": "#2a3f5f"
          },
          "geo": {
           "bgcolor": "white",
           "lakecolor": "white",
           "landcolor": "#E5ECF6",
           "showlakes": true,
           "showland": true,
           "subunitcolor": "white"
          },
          "hoverlabel": {
           "align": "left"
          },
          "hovermode": "closest",
          "mapbox": {
           "style": "light"
          },
          "paper_bgcolor": "white",
          "plot_bgcolor": "#E5ECF6",
          "polar": {
           "angularaxis": {
            "gridcolor": "white",
            "linecolor": "white",
            "ticks": ""
           },
           "bgcolor": "#E5ECF6",
           "radialaxis": {
            "gridcolor": "white",
            "linecolor": "white",
            "ticks": ""
           }
          },
          "scene": {
           "xaxis": {
            "backgroundcolor": "#E5ECF6",
            "gridcolor": "white",
            "gridwidth": 2,
            "linecolor": "white",
            "showbackground": true,
            "ticks": "",
            "zerolinecolor": "white"
           },
           "yaxis": {
            "backgroundcolor": "#E5ECF6",
            "gridcolor": "white",
            "gridwidth": 2,
            "linecolor": "white",
            "showbackground": true,
            "ticks": "",
            "zerolinecolor": "white"
           },
           "zaxis": {
            "backgroundcolor": "#E5ECF6",
            "gridcolor": "white",
            "gridwidth": 2,
            "linecolor": "white",
            "showbackground": true,
            "ticks": "",
            "zerolinecolor": "white"
           }
          },
          "shapedefaults": {
           "line": {
            "color": "#2a3f5f"
           }
          },
          "ternary": {
           "aaxis": {
            "gridcolor": "white",
            "linecolor": "white",
            "ticks": ""
           },
           "baxis": {
            "gridcolor": "white",
            "linecolor": "white",
            "ticks": ""
           },
           "bgcolor": "#E5ECF6",
           "caxis": {
            "gridcolor": "white",
            "linecolor": "white",
            "ticks": ""
           }
          },
          "title": {
           "x": 0.05
          },
          "xaxis": {
           "automargin": true,
           "gridcolor": "white",
           "linecolor": "white",
           "ticks": "",
           "title": {
            "standoff": 15
           },
           "zerolinecolor": "white",
           "zerolinewidth": 2
          },
          "yaxis": {
           "automargin": true,
           "gridcolor": "white",
           "linecolor": "white",
           "ticks": "",
           "title": {
            "standoff": 15
           },
           "zerolinecolor": "white",
           "zerolinewidth": 2
          }
         }
        },
        "title": {
         "text": "Total Accidents by State"
        },
        "xaxis": {
         "anchor": "y",
         "domain": [
          0,
          1
         ],
         "title": {
          "text": "state"
         }
        },
        "yaxis": {
         "anchor": "x",
         "domain": [
          0,
          1
         ],
         "title": {
          "text": "Total Accidents"
         }
        }
       }
      }
     },
     "metadata": {},
     "output_type": "display_data"
    }
   ],
   "source": [
    "#Total Accident by State\n",
    "fig = px.bar(df, x='abbrev', y='total',\n",
    "             title='Total Accidents by State',\n",
    "             labels={'abbrev':'state','total':'Total Accidents'},\n",
    "             color= 'total')\n",
    "fig.show()"
   ]
  },
  {
   "cell_type": "code",
   "execution_count": 5,
   "id": "e0e96d8a",
   "metadata": {},
   "outputs": [
    {
     "data": {
      "application/vnd.plotly.v1+json": {
       "config": {
        "plotlyServerURL": "https://plot.ly"
       },
       "data": [
        {
         "customdata": {
          "bdata": "iBbZzvdTHUDJdr6fGq8dQArXo3A9ChpAVOOlm8QgEEDNzMzMzMwQQFTjpZvEIBRArBxaZDvfE0A6tMh2vp8YQD81XrpJDABA30+Nl24SDkCDwMqhRbYHQGZmZmZm5iJA1njpJjEIFkA830+Nl24SQAAAAAAAAA1AJzEIrBxaBUDTTWIQWDkTQN0kBoGVQxBAMzMzMzOzHEDByqFFtvMWQAAAAAAAABFAkxgEVg4t/j/fT42XbhILQESLbOf7qQFAH4XrUbgeBUD/1HjpJrEbQP3UeOkmsSBAzaFFtvP9/j+oxks3icEVQD0K16NwPRBAeOkmMQis/D8rhxbZzvcLQLByaJHtfA9AaZHtfD81GkCvcmiR7fwVQC/dJAaBlQ9ARbbz/dR4GUBMN4lBYOUQQDMzMzMzMyJA/tR46SYxDkBEi2zn+ykiQHSTGARWDhhA4XoUrkdhEEAK16NwPQofQFYOLbKdbxNAUrgehetREEDn+6nx0k0DQAIrhxbZzhFAyXa+nxovIECsHFpkO98TQAisHFpkOx1A",
          "dtype": "f8",
          "shape": "51, 1"
         },
         "domain": {
          "x": [
           0,
           1
          ],
          "y": [
           0,
           1
          ]
         },
         "hovertemplate": "State=%{label}<br>Speeding Accidents=%{customdata[0]}<extra></extra>",
         "labels": [
          "AL",
          "AK",
          "AZ",
          "AR",
          "CA",
          "CO",
          "CT",
          "DE",
          "DC",
          "FL",
          "GA",
          "HI",
          "ID",
          "IL",
          "IN",
          "IA",
          "KS",
          "KY",
          "LA",
          "ME",
          "MD",
          "MA",
          "MI",
          "MN",
          "MS",
          "MO",
          "MT",
          "NE",
          "NV",
          "NH",
          "NJ",
          "NM",
          "NY",
          "NC",
          "ND",
          "OH",
          "OK",
          "OR",
          "PA",
          "RI",
          "SC",
          "SD",
          "TN",
          "TX",
          "UT",
          "VT",
          "VA",
          "WA",
          "WV",
          "WI",
          "WY"
         ],
         "legendgroup": "",
         "marker": {
          "colors": [
           "#636efa",
           "#EF553B",
           "#00cc96",
           "#ab63fa",
           "#FFA15A",
           "#19d3f3",
           "#FF6692",
           "#B6E880",
           "#FF97FF",
           "#FECB52",
           "#636efa",
           "#EF553B",
           "#00cc96",
           "#ab63fa",
           "#FFA15A",
           "#19d3f3",
           "#FF6692",
           "#B6E880",
           "#FF97FF",
           "#FECB52",
           "#636efa",
           "#EF553B",
           "#00cc96",
           "#ab63fa",
           "#FFA15A",
           "#19d3f3",
           "#FF6692",
           "#B6E880",
           "#FF97FF",
           "#FECB52",
           "#636efa",
           "#EF553B",
           "#00cc96",
           "#ab63fa",
           "#FFA15A",
           "#19d3f3",
           "#FF6692",
           "#B6E880",
           "#FF97FF",
           "#FECB52",
           "#636efa",
           "#EF553B",
           "#00cc96",
           "#ab63fa",
           "#FFA15A",
           "#19d3f3",
           "#FF6692",
           "#B6E880",
           "#FF97FF",
           "#FF6692",
           "#FECB52"
          ]
         },
         "name": "",
         "showlegend": true,
         "type": "pie",
         "values": {
          "bdata": "iBbZzvdTHUDJdr6fGq8dQArXo3A9ChpAVOOlm8QgEEDNzMzMzMwQQFTjpZvEIBRArBxaZDvfE0A6tMh2vp8YQD81XrpJDABA30+Nl24SDkCDwMqhRbYHQGZmZmZm5iJA1njpJjEIFkA830+Nl24SQAAAAAAAAA1AJzEIrBxaBUDTTWIQWDkTQN0kBoGVQxBAMzMzMzOzHEDByqFFtvMWQAAAAAAAABFAkxgEVg4t/j/fT42XbhILQESLbOf7qQFAH4XrUbgeBUD/1HjpJrEbQP3UeOkmsSBAzaFFtvP9/j+oxks3icEVQD0K16NwPRBAeOkmMQis/D8rhxbZzvcLQLByaJHtfA9AaZHtfD81GkCvcmiR7fwVQC/dJAaBlQ9ARbbz/dR4GUBMN4lBYOUQQDMzMzMzMyJA/tR46SYxDkBEi2zn+ykiQHSTGARWDhhA4XoUrkdhEEAK16NwPQofQFYOLbKdbxNAUrgehetREEDn+6nx0k0DQAIrhxbZzhFAyXa+nxovIECsHFpkO98TQAisHFpkOx1A",
          "dtype": "f8"
         }
        }
       ],
       "layout": {
        "legend": {
         "tracegroupgap": 0
        },
        "template": {
         "data": {
          "bar": [
           {
            "error_x": {
             "color": "#2a3f5f"
            },
            "error_y": {
             "color": "#2a3f5f"
            },
            "marker": {
             "line": {
              "color": "#E5ECF6",
              "width": 0.5
             },
             "pattern": {
              "fillmode": "overlay",
              "size": 10,
              "solidity": 0.2
             }
            },
            "type": "bar"
           }
          ],
          "barpolar": [
           {
            "marker": {
             "line": {
              "color": "#E5ECF6",
              "width": 0.5
             },
             "pattern": {
              "fillmode": "overlay",
              "size": 10,
              "solidity": 0.2
             }
            },
            "type": "barpolar"
           }
          ],
          "carpet": [
           {
            "aaxis": {
             "endlinecolor": "#2a3f5f",
             "gridcolor": "white",
             "linecolor": "white",
             "minorgridcolor": "white",
             "startlinecolor": "#2a3f5f"
            },
            "baxis": {
             "endlinecolor": "#2a3f5f",
             "gridcolor": "white",
             "linecolor": "white",
             "minorgridcolor": "white",
             "startlinecolor": "#2a3f5f"
            },
            "type": "carpet"
           }
          ],
          "choropleth": [
           {
            "colorbar": {
             "outlinewidth": 0,
             "ticks": ""
            },
            "type": "choropleth"
           }
          ],
          "contour": [
           {
            "colorbar": {
             "outlinewidth": 0,
             "ticks": ""
            },
            "colorscale": [
             [
              0,
              "#0d0887"
             ],
             [
              0.1111111111111111,
              "#46039f"
             ],
             [
              0.2222222222222222,
              "#7201a8"
             ],
             [
              0.3333333333333333,
              "#9c179e"
             ],
             [
              0.4444444444444444,
              "#bd3786"
             ],
             [
              0.5555555555555556,
              "#d8576b"
             ],
             [
              0.6666666666666666,
              "#ed7953"
             ],
             [
              0.7777777777777778,
              "#fb9f3a"
             ],
             [
              0.8888888888888888,
              "#fdca26"
             ],
             [
              1,
              "#f0f921"
             ]
            ],
            "type": "contour"
           }
          ],
          "contourcarpet": [
           {
            "colorbar": {
             "outlinewidth": 0,
             "ticks": ""
            },
            "type": "contourcarpet"
           }
          ],
          "heatmap": [
           {
            "colorbar": {
             "outlinewidth": 0,
             "ticks": ""
            },
            "colorscale": [
             [
              0,
              "#0d0887"
             ],
             [
              0.1111111111111111,
              "#46039f"
             ],
             [
              0.2222222222222222,
              "#7201a8"
             ],
             [
              0.3333333333333333,
              "#9c179e"
             ],
             [
              0.4444444444444444,
              "#bd3786"
             ],
             [
              0.5555555555555556,
              "#d8576b"
             ],
             [
              0.6666666666666666,
              "#ed7953"
             ],
             [
              0.7777777777777778,
              "#fb9f3a"
             ],
             [
              0.8888888888888888,
              "#fdca26"
             ],
             [
              1,
              "#f0f921"
             ]
            ],
            "type": "heatmap"
           }
          ],
          "histogram": [
           {
            "marker": {
             "pattern": {
              "fillmode": "overlay",
              "size": 10,
              "solidity": 0.2
             }
            },
            "type": "histogram"
           }
          ],
          "histogram2d": [
           {
            "colorbar": {
             "outlinewidth": 0,
             "ticks": ""
            },
            "colorscale": [
             [
              0,
              "#0d0887"
             ],
             [
              0.1111111111111111,
              "#46039f"
             ],
             [
              0.2222222222222222,
              "#7201a8"
             ],
             [
              0.3333333333333333,
              "#9c179e"
             ],
             [
              0.4444444444444444,
              "#bd3786"
             ],
             [
              0.5555555555555556,
              "#d8576b"
             ],
             [
              0.6666666666666666,
              "#ed7953"
             ],
             [
              0.7777777777777778,
              "#fb9f3a"
             ],
             [
              0.8888888888888888,
              "#fdca26"
             ],
             [
              1,
              "#f0f921"
             ]
            ],
            "type": "histogram2d"
           }
          ],
          "histogram2dcontour": [
           {
            "colorbar": {
             "outlinewidth": 0,
             "ticks": ""
            },
            "colorscale": [
             [
              0,
              "#0d0887"
             ],
             [
              0.1111111111111111,
              "#46039f"
             ],
             [
              0.2222222222222222,
              "#7201a8"
             ],
             [
              0.3333333333333333,
              "#9c179e"
             ],
             [
              0.4444444444444444,
              "#bd3786"
             ],
             [
              0.5555555555555556,
              "#d8576b"
             ],
             [
              0.6666666666666666,
              "#ed7953"
             ],
             [
              0.7777777777777778,
              "#fb9f3a"
             ],
             [
              0.8888888888888888,
              "#fdca26"
             ],
             [
              1,
              "#f0f921"
             ]
            ],
            "type": "histogram2dcontour"
           }
          ],
          "mesh3d": [
           {
            "colorbar": {
             "outlinewidth": 0,
             "ticks": ""
            },
            "type": "mesh3d"
           }
          ],
          "parcoords": [
           {
            "line": {
             "colorbar": {
              "outlinewidth": 0,
              "ticks": ""
             }
            },
            "type": "parcoords"
           }
          ],
          "pie": [
           {
            "automargin": true,
            "type": "pie"
           }
          ],
          "scatter": [
           {
            "fillpattern": {
             "fillmode": "overlay",
             "size": 10,
             "solidity": 0.2
            },
            "type": "scatter"
           }
          ],
          "scatter3d": [
           {
            "line": {
             "colorbar": {
              "outlinewidth": 0,
              "ticks": ""
             }
            },
            "marker": {
             "colorbar": {
              "outlinewidth": 0,
              "ticks": ""
             }
            },
            "type": "scatter3d"
           }
          ],
          "scattercarpet": [
           {
            "marker": {
             "colorbar": {
              "outlinewidth": 0,
              "ticks": ""
             }
            },
            "type": "scattercarpet"
           }
          ],
          "scattergeo": [
           {
            "marker": {
             "colorbar": {
              "outlinewidth": 0,
              "ticks": ""
             }
            },
            "type": "scattergeo"
           }
          ],
          "scattergl": [
           {
            "marker": {
             "colorbar": {
              "outlinewidth": 0,
              "ticks": ""
             }
            },
            "type": "scattergl"
           }
          ],
          "scattermap": [
           {
            "marker": {
             "colorbar": {
              "outlinewidth": 0,
              "ticks": ""
             }
            },
            "type": "scattermap"
           }
          ],
          "scattermapbox": [
           {
            "marker": {
             "colorbar": {
              "outlinewidth": 0,
              "ticks": ""
             }
            },
            "type": "scattermapbox"
           }
          ],
          "scatterpolar": [
           {
            "marker": {
             "colorbar": {
              "outlinewidth": 0,
              "ticks": ""
             }
            },
            "type": "scatterpolar"
           }
          ],
          "scatterpolargl": [
           {
            "marker": {
             "colorbar": {
              "outlinewidth": 0,
              "ticks": ""
             }
            },
            "type": "scatterpolargl"
           }
          ],
          "scatterternary": [
           {
            "marker": {
             "colorbar": {
              "outlinewidth": 0,
              "ticks": ""
             }
            },
            "type": "scatterternary"
           }
          ],
          "surface": [
           {
            "colorbar": {
             "outlinewidth": 0,
             "ticks": ""
            },
            "colorscale": [
             [
              0,
              "#0d0887"
             ],
             [
              0.1111111111111111,
              "#46039f"
             ],
             [
              0.2222222222222222,
              "#7201a8"
             ],
             [
              0.3333333333333333,
              "#9c179e"
             ],
             [
              0.4444444444444444,
              "#bd3786"
             ],
             [
              0.5555555555555556,
              "#d8576b"
             ],
             [
              0.6666666666666666,
              "#ed7953"
             ],
             [
              0.7777777777777778,
              "#fb9f3a"
             ],
             [
              0.8888888888888888,
              "#fdca26"
             ],
             [
              1,
              "#f0f921"
             ]
            ],
            "type": "surface"
           }
          ],
          "table": [
           {
            "cells": {
             "fill": {
              "color": "#EBF0F8"
             },
             "line": {
              "color": "white"
             }
            },
            "header": {
             "fill": {
              "color": "#C8D4E3"
             },
             "line": {
              "color": "white"
             }
            },
            "type": "table"
           }
          ]
         },
         "layout": {
          "annotationdefaults": {
           "arrowcolor": "#2a3f5f",
           "arrowhead": 0,
           "arrowwidth": 1
          },
          "autotypenumbers": "strict",
          "coloraxis": {
           "colorbar": {
            "outlinewidth": 0,
            "ticks": ""
           }
          },
          "colorscale": {
           "diverging": [
            [
             0,
             "#8e0152"
            ],
            [
             0.1,
             "#c51b7d"
            ],
            [
             0.2,
             "#de77ae"
            ],
            [
             0.3,
             "#f1b6da"
            ],
            [
             0.4,
             "#fde0ef"
            ],
            [
             0.5,
             "#f7f7f7"
            ],
            [
             0.6,
             "#e6f5d0"
            ],
            [
             0.7,
             "#b8e186"
            ],
            [
             0.8,
             "#7fbc41"
            ],
            [
             0.9,
             "#4d9221"
            ],
            [
             1,
             "#276419"
            ]
           ],
           "sequential": [
            [
             0,
             "#0d0887"
            ],
            [
             0.1111111111111111,
             "#46039f"
            ],
            [
             0.2222222222222222,
             "#7201a8"
            ],
            [
             0.3333333333333333,
             "#9c179e"
            ],
            [
             0.4444444444444444,
             "#bd3786"
            ],
            [
             0.5555555555555556,
             "#d8576b"
            ],
            [
             0.6666666666666666,
             "#ed7953"
            ],
            [
             0.7777777777777778,
             "#fb9f3a"
            ],
            [
             0.8888888888888888,
             "#fdca26"
            ],
            [
             1,
             "#f0f921"
            ]
           ],
           "sequentialminus": [
            [
             0,
             "#0d0887"
            ],
            [
             0.1111111111111111,
             "#46039f"
            ],
            [
             0.2222222222222222,
             "#7201a8"
            ],
            [
             0.3333333333333333,
             "#9c179e"
            ],
            [
             0.4444444444444444,
             "#bd3786"
            ],
            [
             0.5555555555555556,
             "#d8576b"
            ],
            [
             0.6666666666666666,
             "#ed7953"
            ],
            [
             0.7777777777777778,
             "#fb9f3a"
            ],
            [
             0.8888888888888888,
             "#fdca26"
            ],
            [
             1,
             "#f0f921"
            ]
           ]
          },
          "colorway": [
           "#636efa",
           "#EF553B",
           "#00cc96",
           "#ab63fa",
           "#FFA15A",
           "#19d3f3",
           "#FF6692",
           "#B6E880",
           "#FF97FF",
           "#FECB52"
          ],
          "font": {
           "color": "#2a3f5f"
          },
          "geo": {
           "bgcolor": "white",
           "lakecolor": "white",
           "landcolor": "#E5ECF6",
           "showlakes": true,
           "showland": true,
           "subunitcolor": "white"
          },
          "hoverlabel": {
           "align": "left"
          },
          "hovermode": "closest",
          "mapbox": {
           "style": "light"
          },
          "paper_bgcolor": "white",
          "plot_bgcolor": "#E5ECF6",
          "polar": {
           "angularaxis": {
            "gridcolor": "white",
            "linecolor": "white",
            "ticks": ""
           },
           "bgcolor": "#E5ECF6",
           "radialaxis": {
            "gridcolor": "white",
            "linecolor": "white",
            "ticks": ""
           }
          },
          "scene": {
           "xaxis": {
            "backgroundcolor": "#E5ECF6",
            "gridcolor": "white",
            "gridwidth": 2,
            "linecolor": "white",
            "showbackground": true,
            "ticks": "",
            "zerolinecolor": "white"
           },
           "yaxis": {
            "backgroundcolor": "#E5ECF6",
            "gridcolor": "white",
            "gridwidth": 2,
            "linecolor": "white",
            "showbackground": true,
            "ticks": "",
            "zerolinecolor": "white"
           },
           "zaxis": {
            "backgroundcolor": "#E5ECF6",
            "gridcolor": "white",
            "gridwidth": 2,
            "linecolor": "white",
            "showbackground": true,
            "ticks": "",
            "zerolinecolor": "white"
           }
          },
          "shapedefaults": {
           "line": {
            "color": "#2a3f5f"
           }
          },
          "ternary": {
           "aaxis": {
            "gridcolor": "white",
            "linecolor": "white",
            "ticks": ""
           },
           "baxis": {
            "gridcolor": "white",
            "linecolor": "white",
            "ticks": ""
           },
           "bgcolor": "#E5ECF6",
           "caxis": {
            "gridcolor": "white",
            "linecolor": "white",
            "ticks": ""
           }
          },
          "title": {
           "x": 0.05
          },
          "xaxis": {
           "automargin": true,
           "gridcolor": "white",
           "linecolor": "white",
           "ticks": "",
           "title": {
            "standoff": 15
           },
           "zerolinecolor": "white",
           "zerolinewidth": 2
          },
          "yaxis": {
           "automargin": true,
           "gridcolor": "white",
           "linecolor": "white",
           "ticks": "",
           "title": {
            "standoff": 15
           },
           "zerolinecolor": "white",
           "zerolinewidth": 2
          }
         }
        },
        "title": {
         "text": "Percentage of Speeding Accidents by State"
        }
       }
      }
     },
     "metadata": {},
     "output_type": "display_data"
    }
   ],
   "source": [
    "#percentage of speeding accidents by state\n",
    "Fig = px.pie(df, values='speeding',names='abbrev',\n",
    "             title='Percentage of Speeding Accidents by State',\n",
    "             labels={'abbrev':'State','speeding':'Speeding Accidents'},\n",
    "             color = 'speeding')\n",
    "Fig.show()"
   ]
  },
  {
   "cell_type": "code",
   "execution_count": 6,
   "id": "0a1277e6",
   "metadata": {},
   "outputs": [
    {
     "data": {
      "application/vnd.plotly.v1+json": {
       "config": {
        "plotlyServerURL": "https://plot.ly"
       },
       "data": [
        {
         "domain": {
          "x": [
           0,
           1
          ],
          "y": [
           0,
           1
          ]
         },
         "hole": 0.3,
         "hovertemplate": "State=%{label}<br>Speeding Accidents=%{value}<extra></extra>",
         "labels": [
          "AL",
          "AK",
          "AZ",
          "AR",
          "CA",
          "CO",
          "CT",
          "DE",
          "DC",
          "FL",
          "GA",
          "HI",
          "ID",
          "IL",
          "IN",
          "IA",
          "KS",
          "KY",
          "LA",
          "ME",
          "MD",
          "MA",
          "MI",
          "MN",
          "MS",
          "MO",
          "MT",
          "NE",
          "NV",
          "NH",
          "NJ",
          "NM",
          "NY",
          "NC",
          "ND",
          "OH",
          "OK",
          "OR",
          "PA",
          "RI",
          "SC",
          "SD",
          "TN",
          "TX",
          "UT",
          "VT",
          "VA",
          "WA",
          "WV",
          "WI",
          "WY"
         ],
         "legendgroup": "",
         "name": "",
         "showlegend": true,
         "type": "pie",
         "values": {
          "bdata": "iBbZzvdTHUDJdr6fGq8dQArXo3A9ChpAVOOlm8QgEEDNzMzMzMwQQFTjpZvEIBRArBxaZDvfE0A6tMh2vp8YQD81XrpJDABA30+Nl24SDkCDwMqhRbYHQGZmZmZm5iJA1njpJjEIFkA830+Nl24SQAAAAAAAAA1AJzEIrBxaBUDTTWIQWDkTQN0kBoGVQxBAMzMzMzOzHEDByqFFtvMWQAAAAAAAABFAkxgEVg4t/j/fT42XbhILQESLbOf7qQFAH4XrUbgeBUD/1HjpJrEbQP3UeOkmsSBAzaFFtvP9/j+oxks3icEVQD0K16NwPRBAeOkmMQis/D8rhxbZzvcLQLByaJHtfA9AaZHtfD81GkCvcmiR7fwVQC/dJAaBlQ9ARbbz/dR4GUBMN4lBYOUQQDMzMzMzMyJA/tR46SYxDkBEi2zn+ykiQHSTGARWDhhA4XoUrkdhEEAK16NwPQofQFYOLbKdbxNAUrgehetREEDn+6nx0k0DQAIrhxbZzhFAyXa+nxovIECsHFpkO98TQAisHFpkOx1A",
          "dtype": "f8"
         }
        }
       ],
       "layout": {
        "legend": {
         "tracegroupgap": 0
        },
        "piecolorway": [
         "rgb(103,0,31)",
         "rgb(178,24,43)",
         "rgb(214,96,77)",
         "rgb(244,165,130)",
         "rgb(253,219,199)",
         "rgb(247,247,247)",
         "rgb(209,229,240)",
         "rgb(146,197,222)",
         "rgb(67,147,195)",
         "rgb(33,102,172)",
         "rgb(5,48,97)"
        ],
        "template": {
         "data": {
          "bar": [
           {
            "error_x": {
             "color": "#2a3f5f"
            },
            "error_y": {
             "color": "#2a3f5f"
            },
            "marker": {
             "line": {
              "color": "#E5ECF6",
              "width": 0.5
             },
             "pattern": {
              "fillmode": "overlay",
              "size": 10,
              "solidity": 0.2
             }
            },
            "type": "bar"
           }
          ],
          "barpolar": [
           {
            "marker": {
             "line": {
              "color": "#E5ECF6",
              "width": 0.5
             },
             "pattern": {
              "fillmode": "overlay",
              "size": 10,
              "solidity": 0.2
             }
            },
            "type": "barpolar"
           }
          ],
          "carpet": [
           {
            "aaxis": {
             "endlinecolor": "#2a3f5f",
             "gridcolor": "white",
             "linecolor": "white",
             "minorgridcolor": "white",
             "startlinecolor": "#2a3f5f"
            },
            "baxis": {
             "endlinecolor": "#2a3f5f",
             "gridcolor": "white",
             "linecolor": "white",
             "minorgridcolor": "white",
             "startlinecolor": "#2a3f5f"
            },
            "type": "carpet"
           }
          ],
          "choropleth": [
           {
            "colorbar": {
             "outlinewidth": 0,
             "ticks": ""
            },
            "type": "choropleth"
           }
          ],
          "contour": [
           {
            "colorbar": {
             "outlinewidth": 0,
             "ticks": ""
            },
            "colorscale": [
             [
              0,
              "#0d0887"
             ],
             [
              0.1111111111111111,
              "#46039f"
             ],
             [
              0.2222222222222222,
              "#7201a8"
             ],
             [
              0.3333333333333333,
              "#9c179e"
             ],
             [
              0.4444444444444444,
              "#bd3786"
             ],
             [
              0.5555555555555556,
              "#d8576b"
             ],
             [
              0.6666666666666666,
              "#ed7953"
             ],
             [
              0.7777777777777778,
              "#fb9f3a"
             ],
             [
              0.8888888888888888,
              "#fdca26"
             ],
             [
              1,
              "#f0f921"
             ]
            ],
            "type": "contour"
           }
          ],
          "contourcarpet": [
           {
            "colorbar": {
             "outlinewidth": 0,
             "ticks": ""
            },
            "type": "contourcarpet"
           }
          ],
          "heatmap": [
           {
            "colorbar": {
             "outlinewidth": 0,
             "ticks": ""
            },
            "colorscale": [
             [
              0,
              "#0d0887"
             ],
             [
              0.1111111111111111,
              "#46039f"
             ],
             [
              0.2222222222222222,
              "#7201a8"
             ],
             [
              0.3333333333333333,
              "#9c179e"
             ],
             [
              0.4444444444444444,
              "#bd3786"
             ],
             [
              0.5555555555555556,
              "#d8576b"
             ],
             [
              0.6666666666666666,
              "#ed7953"
             ],
             [
              0.7777777777777778,
              "#fb9f3a"
             ],
             [
              0.8888888888888888,
              "#fdca26"
             ],
             [
              1,
              "#f0f921"
             ]
            ],
            "type": "heatmap"
           }
          ],
          "histogram": [
           {
            "marker": {
             "pattern": {
              "fillmode": "overlay",
              "size": 10,
              "solidity": 0.2
             }
            },
            "type": "histogram"
           }
          ],
          "histogram2d": [
           {
            "colorbar": {
             "outlinewidth": 0,
             "ticks": ""
            },
            "colorscale": [
             [
              0,
              "#0d0887"
             ],
             [
              0.1111111111111111,
              "#46039f"
             ],
             [
              0.2222222222222222,
              "#7201a8"
             ],
             [
              0.3333333333333333,
              "#9c179e"
             ],
             [
              0.4444444444444444,
              "#bd3786"
             ],
             [
              0.5555555555555556,
              "#d8576b"
             ],
             [
              0.6666666666666666,
              "#ed7953"
             ],
             [
              0.7777777777777778,
              "#fb9f3a"
             ],
             [
              0.8888888888888888,
              "#fdca26"
             ],
             [
              1,
              "#f0f921"
             ]
            ],
            "type": "histogram2d"
           }
          ],
          "histogram2dcontour": [
           {
            "colorbar": {
             "outlinewidth": 0,
             "ticks": ""
            },
            "colorscale": [
             [
              0,
              "#0d0887"
             ],
             [
              0.1111111111111111,
              "#46039f"
             ],
             [
              0.2222222222222222,
              "#7201a8"
             ],
             [
              0.3333333333333333,
              "#9c179e"
             ],
             [
              0.4444444444444444,
              "#bd3786"
             ],
             [
              0.5555555555555556,
              "#d8576b"
             ],
             [
              0.6666666666666666,
              "#ed7953"
             ],
             [
              0.7777777777777778,
              "#fb9f3a"
             ],
             [
              0.8888888888888888,
              "#fdca26"
             ],
             [
              1,
              "#f0f921"
             ]
            ],
            "type": "histogram2dcontour"
           }
          ],
          "mesh3d": [
           {
            "colorbar": {
             "outlinewidth": 0,
             "ticks": ""
            },
            "type": "mesh3d"
           }
          ],
          "parcoords": [
           {
            "line": {
             "colorbar": {
              "outlinewidth": 0,
              "ticks": ""
             }
            },
            "type": "parcoords"
           }
          ],
          "pie": [
           {
            "automargin": true,
            "type": "pie"
           }
          ],
          "scatter": [
           {
            "fillpattern": {
             "fillmode": "overlay",
             "size": 10,
             "solidity": 0.2
            },
            "type": "scatter"
           }
          ],
          "scatter3d": [
           {
            "line": {
             "colorbar": {
              "outlinewidth": 0,
              "ticks": ""
             }
            },
            "marker": {
             "colorbar": {
              "outlinewidth": 0,
              "ticks": ""
             }
            },
            "type": "scatter3d"
           }
          ],
          "scattercarpet": [
           {
            "marker": {
             "colorbar": {
              "outlinewidth": 0,
              "ticks": ""
             }
            },
            "type": "scattercarpet"
           }
          ],
          "scattergeo": [
           {
            "marker": {
             "colorbar": {
              "outlinewidth": 0,
              "ticks": ""
             }
            },
            "type": "scattergeo"
           }
          ],
          "scattergl": [
           {
            "marker": {
             "colorbar": {
              "outlinewidth": 0,
              "ticks": ""
             }
            },
            "type": "scattergl"
           }
          ],
          "scattermap": [
           {
            "marker": {
             "colorbar": {
              "outlinewidth": 0,
              "ticks": ""
             }
            },
            "type": "scattermap"
           }
          ],
          "scattermapbox": [
           {
            "marker": {
             "colorbar": {
              "outlinewidth": 0,
              "ticks": ""
             }
            },
            "type": "scattermapbox"
           }
          ],
          "scatterpolar": [
           {
            "marker": {
             "colorbar": {
              "outlinewidth": 0,
              "ticks": ""
             }
            },
            "type": "scatterpolar"
           }
          ],
          "scatterpolargl": [
           {
            "marker": {
             "colorbar": {
              "outlinewidth": 0,
              "ticks": ""
             }
            },
            "type": "scatterpolargl"
           }
          ],
          "scatterternary": [
           {
            "marker": {
             "colorbar": {
              "outlinewidth": 0,
              "ticks": ""
             }
            },
            "type": "scatterternary"
           }
          ],
          "surface": [
           {
            "colorbar": {
             "outlinewidth": 0,
             "ticks": ""
            },
            "colorscale": [
             [
              0,
              "#0d0887"
             ],
             [
              0.1111111111111111,
              "#46039f"
             ],
             [
              0.2222222222222222,
              "#7201a8"
             ],
             [
              0.3333333333333333,
              "#9c179e"
             ],
             [
              0.4444444444444444,
              "#bd3786"
             ],
             [
              0.5555555555555556,
              "#d8576b"
             ],
             [
              0.6666666666666666,
              "#ed7953"
             ],
             [
              0.7777777777777778,
              "#fb9f3a"
             ],
             [
              0.8888888888888888,
              "#fdca26"
             ],
             [
              1,
              "#f0f921"
             ]
            ],
            "type": "surface"
           }
          ],
          "table": [
           {
            "cells": {
             "fill": {
              "color": "#EBF0F8"
             },
             "line": {
              "color": "white"
             }
            },
            "header": {
             "fill": {
              "color": "#C8D4E3"
             },
             "line": {
              "color": "white"
             }
            },
            "type": "table"
           }
          ]
         },
         "layout": {
          "annotationdefaults": {
           "arrowcolor": "#2a3f5f",
           "arrowhead": 0,
           "arrowwidth": 1
          },
          "autotypenumbers": "strict",
          "coloraxis": {
           "colorbar": {
            "outlinewidth": 0,
            "ticks": ""
           }
          },
          "colorscale": {
           "diverging": [
            [
             0,
             "#8e0152"
            ],
            [
             0.1,
             "#c51b7d"
            ],
            [
             0.2,
             "#de77ae"
            ],
            [
             0.3,
             "#f1b6da"
            ],
            [
             0.4,
             "#fde0ef"
            ],
            [
             0.5,
             "#f7f7f7"
            ],
            [
             0.6,
             "#e6f5d0"
            ],
            [
             0.7,
             "#b8e186"
            ],
            [
             0.8,
             "#7fbc41"
            ],
            [
             0.9,
             "#4d9221"
            ],
            [
             1,
             "#276419"
            ]
           ],
           "sequential": [
            [
             0,
             "#0d0887"
            ],
            [
             0.1111111111111111,
             "#46039f"
            ],
            [
             0.2222222222222222,
             "#7201a8"
            ],
            [
             0.3333333333333333,
             "#9c179e"
            ],
            [
             0.4444444444444444,
             "#bd3786"
            ],
            [
             0.5555555555555556,
             "#d8576b"
            ],
            [
             0.6666666666666666,
             "#ed7953"
            ],
            [
             0.7777777777777778,
             "#fb9f3a"
            ],
            [
             0.8888888888888888,
             "#fdca26"
            ],
            [
             1,
             "#f0f921"
            ]
           ],
           "sequentialminus": [
            [
             0,
             "#0d0887"
            ],
            [
             0.1111111111111111,
             "#46039f"
            ],
            [
             0.2222222222222222,
             "#7201a8"
            ],
            [
             0.3333333333333333,
             "#9c179e"
            ],
            [
             0.4444444444444444,
             "#bd3786"
            ],
            [
             0.5555555555555556,
             "#d8576b"
            ],
            [
             0.6666666666666666,
             "#ed7953"
            ],
            [
             0.7777777777777778,
             "#fb9f3a"
            ],
            [
             0.8888888888888888,
             "#fdca26"
            ],
            [
             1,
             "#f0f921"
            ]
           ]
          },
          "colorway": [
           "#636efa",
           "#EF553B",
           "#00cc96",
           "#ab63fa",
           "#FFA15A",
           "#19d3f3",
           "#FF6692",
           "#B6E880",
           "#FF97FF",
           "#FECB52"
          ],
          "font": {
           "color": "#2a3f5f"
          },
          "geo": {
           "bgcolor": "white",
           "lakecolor": "white",
           "landcolor": "#E5ECF6",
           "showlakes": true,
           "showland": true,
           "subunitcolor": "white"
          },
          "hoverlabel": {
           "align": "left"
          },
          "hovermode": "closest",
          "mapbox": {
           "style": "light"
          },
          "paper_bgcolor": "white",
          "plot_bgcolor": "#E5ECF6",
          "polar": {
           "angularaxis": {
            "gridcolor": "white",
            "linecolor": "white",
            "ticks": ""
           },
           "bgcolor": "#E5ECF6",
           "radialaxis": {
            "gridcolor": "white",
            "linecolor": "white",
            "ticks": ""
           }
          },
          "scene": {
           "xaxis": {
            "backgroundcolor": "#E5ECF6",
            "gridcolor": "white",
            "gridwidth": 2,
            "linecolor": "white",
            "showbackground": true,
            "ticks": "",
            "zerolinecolor": "white"
           },
           "yaxis": {
            "backgroundcolor": "#E5ECF6",
            "gridcolor": "white",
            "gridwidth": 2,
            "linecolor": "white",
            "showbackground": true,
            "ticks": "",
            "zerolinecolor": "white"
           },
           "zaxis": {
            "backgroundcolor": "#E5ECF6",
            "gridcolor": "white",
            "gridwidth": 2,
            "linecolor": "white",
            "showbackground": true,
            "ticks": "",
            "zerolinecolor": "white"
           }
          },
          "shapedefaults": {
           "line": {
            "color": "#2a3f5f"
           }
          },
          "ternary": {
           "aaxis": {
            "gridcolor": "white",
            "linecolor": "white",
            "ticks": ""
           },
           "baxis": {
            "gridcolor": "white",
            "linecolor": "white",
            "ticks": ""
           },
           "bgcolor": "#E5ECF6",
           "caxis": {
            "gridcolor": "white",
            "linecolor": "white",
            "ticks": ""
           }
          },
          "title": {
           "x": 0.05
          },
          "xaxis": {
           "automargin": true,
           "gridcolor": "white",
           "linecolor": "white",
           "ticks": "",
           "title": {
            "standoff": 15
           },
           "zerolinecolor": "white",
           "zerolinewidth": 2
          },
          "yaxis": {
           "automargin": true,
           "gridcolor": "white",
           "linecolor": "white",
           "ticks": "",
           "title": {
            "standoff": 15
           },
           "zerolinecolor": "white",
           "zerolinewidth": 2
          }
         }
        },
        "title": {
         "text": "Percentage of Speeding Accidents by State"
        }
       }
      }
     },
     "metadata": {},
     "output_type": "display_data"
    }
   ],
   "source": [
    "#percentage of speeding accidents by state\n",
    "Fig = px.pie(df, values='speeding',names='abbrev',\n",
    "             title='Percentage of Speeding Accidents by State',\n",
    "             labels={'abbrev':'State','speeding':'Speeding Accidents'},\n",
    "             color_discrete_sequence=px.colors.sequential.RdBu,\n",
    "             hole=0.3)\n",
    "\n",
    "fig.update_traces(textposition='inside', text='percent',\n",
    "                  )\n",
    "Fig.show()             "
   ]
  },
  {
   "cell_type": "code",
   "execution_count": 7,
   "id": "fae6f5d1",
   "metadata": {},
   "outputs": [
    {
     "data": {
      "text/html": [
       "<div>\n",
       "<style scoped>\n",
       "    .dataframe tbody tr th:only-of-type {\n",
       "        vertical-align: middle;\n",
       "    }\n",
       "\n",
       "    .dataframe tbody tr th {\n",
       "        vertical-align: top;\n",
       "    }\n",
       "\n",
       "    .dataframe thead th {\n",
       "        text-align: right;\n",
       "    }\n",
       "</style>\n",
       "<table border=\"1\" class=\"dataframe\">\n",
       "  <thead>\n",
       "    <tr style=\"text-align: right;\">\n",
       "      <th></th>\n",
       "      <th>total</th>\n",
       "      <th>speeding</th>\n",
       "      <th>alcohol</th>\n",
       "      <th>not_distracted</th>\n",
       "      <th>no_previous</th>\n",
       "      <th>ins_premium</th>\n",
       "      <th>ins_losses</th>\n",
       "      <th>abbrev</th>\n",
       "      <th>region</th>\n",
       "    </tr>\n",
       "  </thead>\n",
       "  <tbody>\n",
       "    <tr>\n",
       "      <th>0</th>\n",
       "      <td>18.8</td>\n",
       "      <td>7.332</td>\n",
       "      <td>5.640</td>\n",
       "      <td>18.048</td>\n",
       "      <td>15.040</td>\n",
       "      <td>784.55</td>\n",
       "      <td>145.08</td>\n",
       "      <td>AL</td>\n",
       "      <td>South</td>\n",
       "    </tr>\n",
       "    <tr>\n",
       "      <th>1</th>\n",
       "      <td>18.1</td>\n",
       "      <td>7.421</td>\n",
       "      <td>4.525</td>\n",
       "      <td>16.290</td>\n",
       "      <td>17.014</td>\n",
       "      <td>1053.48</td>\n",
       "      <td>133.93</td>\n",
       "      <td>AK</td>\n",
       "      <td>West</td>\n",
       "    </tr>\n",
       "    <tr>\n",
       "      <th>2</th>\n",
       "      <td>18.6</td>\n",
       "      <td>6.510</td>\n",
       "      <td>5.208</td>\n",
       "      <td>15.624</td>\n",
       "      <td>17.856</td>\n",
       "      <td>899.47</td>\n",
       "      <td>110.35</td>\n",
       "      <td>AZ</td>\n",
       "      <td>West</td>\n",
       "    </tr>\n",
       "    <tr>\n",
       "      <th>3</th>\n",
       "      <td>22.4</td>\n",
       "      <td>4.032</td>\n",
       "      <td>5.824</td>\n",
       "      <td>21.056</td>\n",
       "      <td>21.280</td>\n",
       "      <td>827.34</td>\n",
       "      <td>142.39</td>\n",
       "      <td>AR</td>\n",
       "      <td>South</td>\n",
       "    </tr>\n",
       "    <tr>\n",
       "      <th>4</th>\n",
       "      <td>12.0</td>\n",
       "      <td>4.200</td>\n",
       "      <td>3.360</td>\n",
       "      <td>10.920</td>\n",
       "      <td>10.680</td>\n",
       "      <td>878.41</td>\n",
       "      <td>165.63</td>\n",
       "      <td>CA</td>\n",
       "      <td>West</td>\n",
       "    </tr>\n",
       "    <tr>\n",
       "      <th>5</th>\n",
       "      <td>13.6</td>\n",
       "      <td>5.032</td>\n",
       "      <td>3.808</td>\n",
       "      <td>10.744</td>\n",
       "      <td>12.920</td>\n",
       "      <td>835.50</td>\n",
       "      <td>139.91</td>\n",
       "      <td>CO</td>\n",
       "      <td>West</td>\n",
       "    </tr>\n",
       "    <tr>\n",
       "      <th>6</th>\n",
       "      <td>10.8</td>\n",
       "      <td>4.968</td>\n",
       "      <td>3.888</td>\n",
       "      <td>9.396</td>\n",
       "      <td>8.856</td>\n",
       "      <td>1068.73</td>\n",
       "      <td>167.02</td>\n",
       "      <td>CT</td>\n",
       "      <td>Northeast</td>\n",
       "    </tr>\n",
       "    <tr>\n",
       "      <th>7</th>\n",
       "      <td>16.2</td>\n",
       "      <td>6.156</td>\n",
       "      <td>4.860</td>\n",
       "      <td>14.094</td>\n",
       "      <td>16.038</td>\n",
       "      <td>1137.87</td>\n",
       "      <td>151.48</td>\n",
       "      <td>DE</td>\n",
       "      <td>South</td>\n",
       "    </tr>\n",
       "    <tr>\n",
       "      <th>8</th>\n",
       "      <td>5.9</td>\n",
       "      <td>2.006</td>\n",
       "      <td>1.593</td>\n",
       "      <td>5.900</td>\n",
       "      <td>5.900</td>\n",
       "      <td>1273.89</td>\n",
       "      <td>136.05</td>\n",
       "      <td>DC</td>\n",
       "      <td>South</td>\n",
       "    </tr>\n",
       "    <tr>\n",
       "      <th>9</th>\n",
       "      <td>17.9</td>\n",
       "      <td>3.759</td>\n",
       "      <td>5.191</td>\n",
       "      <td>16.468</td>\n",
       "      <td>16.826</td>\n",
       "      <td>1160.13</td>\n",
       "      <td>144.18</td>\n",
       "      <td>FL</td>\n",
       "      <td>South</td>\n",
       "    </tr>\n",
       "    <tr>\n",
       "      <th>10</th>\n",
       "      <td>15.6</td>\n",
       "      <td>2.964</td>\n",
       "      <td>3.900</td>\n",
       "      <td>14.820</td>\n",
       "      <td>14.508</td>\n",
       "      <td>913.15</td>\n",
       "      <td>142.80</td>\n",
       "      <td>GA</td>\n",
       "      <td>South</td>\n",
       "    </tr>\n",
       "    <tr>\n",
       "      <th>11</th>\n",
       "      <td>17.5</td>\n",
       "      <td>9.450</td>\n",
       "      <td>7.175</td>\n",
       "      <td>14.350</td>\n",
       "      <td>15.225</td>\n",
       "      <td>861.18</td>\n",
       "      <td>120.92</td>\n",
       "      <td>HI</td>\n",
       "      <td>West</td>\n",
       "    </tr>\n",
       "    <tr>\n",
       "      <th>12</th>\n",
       "      <td>15.3</td>\n",
       "      <td>5.508</td>\n",
       "      <td>4.437</td>\n",
       "      <td>13.005</td>\n",
       "      <td>14.994</td>\n",
       "      <td>641.96</td>\n",
       "      <td>82.75</td>\n",
       "      <td>ID</td>\n",
       "      <td>West</td>\n",
       "    </tr>\n",
       "    <tr>\n",
       "      <th>13</th>\n",
       "      <td>12.8</td>\n",
       "      <td>4.608</td>\n",
       "      <td>4.352</td>\n",
       "      <td>12.032</td>\n",
       "      <td>12.288</td>\n",
       "      <td>803.11</td>\n",
       "      <td>139.15</td>\n",
       "      <td>IL</td>\n",
       "      <td>Midwest</td>\n",
       "    </tr>\n",
       "    <tr>\n",
       "      <th>14</th>\n",
       "      <td>14.5</td>\n",
       "      <td>3.625</td>\n",
       "      <td>4.205</td>\n",
       "      <td>13.775</td>\n",
       "      <td>13.775</td>\n",
       "      <td>710.46</td>\n",
       "      <td>108.92</td>\n",
       "      <td>IN</td>\n",
       "      <td>Midwest</td>\n",
       "    </tr>\n",
       "    <tr>\n",
       "      <th>15</th>\n",
       "      <td>15.7</td>\n",
       "      <td>2.669</td>\n",
       "      <td>3.925</td>\n",
       "      <td>15.229</td>\n",
       "      <td>13.659</td>\n",
       "      <td>649.06</td>\n",
       "      <td>114.47</td>\n",
       "      <td>IA</td>\n",
       "      <td>Midwest</td>\n",
       "    </tr>\n",
       "    <tr>\n",
       "      <th>16</th>\n",
       "      <td>17.8</td>\n",
       "      <td>4.806</td>\n",
       "      <td>4.272</td>\n",
       "      <td>13.706</td>\n",
       "      <td>15.130</td>\n",
       "      <td>780.45</td>\n",
       "      <td>133.80</td>\n",
       "      <td>KS</td>\n",
       "      <td>Midwest</td>\n",
       "    </tr>\n",
       "    <tr>\n",
       "      <th>17</th>\n",
       "      <td>21.4</td>\n",
       "      <td>4.066</td>\n",
       "      <td>4.922</td>\n",
       "      <td>16.692</td>\n",
       "      <td>16.264</td>\n",
       "      <td>872.51</td>\n",
       "      <td>137.13</td>\n",
       "      <td>KY</td>\n",
       "      <td>South</td>\n",
       "    </tr>\n",
       "    <tr>\n",
       "      <th>18</th>\n",
       "      <td>20.5</td>\n",
       "      <td>7.175</td>\n",
       "      <td>6.765</td>\n",
       "      <td>14.965</td>\n",
       "      <td>20.090</td>\n",
       "      <td>1281.55</td>\n",
       "      <td>194.78</td>\n",
       "      <td>LA</td>\n",
       "      <td>South</td>\n",
       "    </tr>\n",
       "    <tr>\n",
       "      <th>19</th>\n",
       "      <td>15.1</td>\n",
       "      <td>5.738</td>\n",
       "      <td>4.530</td>\n",
       "      <td>13.137</td>\n",
       "      <td>12.684</td>\n",
       "      <td>661.88</td>\n",
       "      <td>96.57</td>\n",
       "      <td>ME</td>\n",
       "      <td>Northeast</td>\n",
       "    </tr>\n",
       "    <tr>\n",
       "      <th>20</th>\n",
       "      <td>12.5</td>\n",
       "      <td>4.250</td>\n",
       "      <td>4.000</td>\n",
       "      <td>8.875</td>\n",
       "      <td>12.375</td>\n",
       "      <td>1048.78</td>\n",
       "      <td>192.70</td>\n",
       "      <td>MD</td>\n",
       "      <td>South</td>\n",
       "    </tr>\n",
       "    <tr>\n",
       "      <th>21</th>\n",
       "      <td>8.2</td>\n",
       "      <td>1.886</td>\n",
       "      <td>2.870</td>\n",
       "      <td>7.134</td>\n",
       "      <td>6.560</td>\n",
       "      <td>1011.14</td>\n",
       "      <td>135.63</td>\n",
       "      <td>MA</td>\n",
       "      <td>Northeast</td>\n",
       "    </tr>\n",
       "    <tr>\n",
       "      <th>22</th>\n",
       "      <td>14.1</td>\n",
       "      <td>3.384</td>\n",
       "      <td>3.948</td>\n",
       "      <td>13.395</td>\n",
       "      <td>10.857</td>\n",
       "      <td>1110.61</td>\n",
       "      <td>152.26</td>\n",
       "      <td>MI</td>\n",
       "      <td>Midwest</td>\n",
       "    </tr>\n",
       "    <tr>\n",
       "      <th>23</th>\n",
       "      <td>9.6</td>\n",
       "      <td>2.208</td>\n",
       "      <td>2.784</td>\n",
       "      <td>8.448</td>\n",
       "      <td>8.448</td>\n",
       "      <td>777.18</td>\n",
       "      <td>133.35</td>\n",
       "      <td>MN</td>\n",
       "      <td>Midwest</td>\n",
       "    </tr>\n",
       "    <tr>\n",
       "      <th>24</th>\n",
       "      <td>17.6</td>\n",
       "      <td>2.640</td>\n",
       "      <td>5.456</td>\n",
       "      <td>1.760</td>\n",
       "      <td>17.600</td>\n",
       "      <td>896.07</td>\n",
       "      <td>155.77</td>\n",
       "      <td>MS</td>\n",
       "      <td>South</td>\n",
       "    </tr>\n",
       "    <tr>\n",
       "      <th>25</th>\n",
       "      <td>16.1</td>\n",
       "      <td>6.923</td>\n",
       "      <td>5.474</td>\n",
       "      <td>14.812</td>\n",
       "      <td>13.524</td>\n",
       "      <td>790.32</td>\n",
       "      <td>144.45</td>\n",
       "      <td>MO</td>\n",
       "      <td>Midwest</td>\n",
       "    </tr>\n",
       "    <tr>\n",
       "      <th>26</th>\n",
       "      <td>21.4</td>\n",
       "      <td>8.346</td>\n",
       "      <td>9.416</td>\n",
       "      <td>17.976</td>\n",
       "      <td>18.190</td>\n",
       "      <td>816.21</td>\n",
       "      <td>85.15</td>\n",
       "      <td>MT</td>\n",
       "      <td>West</td>\n",
       "    </tr>\n",
       "    <tr>\n",
       "      <th>27</th>\n",
       "      <td>14.9</td>\n",
       "      <td>1.937</td>\n",
       "      <td>5.215</td>\n",
       "      <td>13.857</td>\n",
       "      <td>13.410</td>\n",
       "      <td>732.28</td>\n",
       "      <td>114.82</td>\n",
       "      <td>NE</td>\n",
       "      <td>Midwest</td>\n",
       "    </tr>\n",
       "    <tr>\n",
       "      <th>28</th>\n",
       "      <td>14.7</td>\n",
       "      <td>5.439</td>\n",
       "      <td>4.704</td>\n",
       "      <td>13.965</td>\n",
       "      <td>14.553</td>\n",
       "      <td>1029.87</td>\n",
       "      <td>138.71</td>\n",
       "      <td>NV</td>\n",
       "      <td>West</td>\n",
       "    </tr>\n",
       "    <tr>\n",
       "      <th>29</th>\n",
       "      <td>11.6</td>\n",
       "      <td>4.060</td>\n",
       "      <td>3.480</td>\n",
       "      <td>10.092</td>\n",
       "      <td>9.628</td>\n",
       "      <td>746.54</td>\n",
       "      <td>120.21</td>\n",
       "      <td>NH</td>\n",
       "      <td>Northeast</td>\n",
       "    </tr>\n",
       "    <tr>\n",
       "      <th>30</th>\n",
       "      <td>11.2</td>\n",
       "      <td>1.792</td>\n",
       "      <td>3.136</td>\n",
       "      <td>9.632</td>\n",
       "      <td>8.736</td>\n",
       "      <td>1301.52</td>\n",
       "      <td>159.85</td>\n",
       "      <td>NJ</td>\n",
       "      <td>Northeast</td>\n",
       "    </tr>\n",
       "    <tr>\n",
       "      <th>31</th>\n",
       "      <td>18.4</td>\n",
       "      <td>3.496</td>\n",
       "      <td>4.968</td>\n",
       "      <td>12.328</td>\n",
       "      <td>18.032</td>\n",
       "      <td>869.85</td>\n",
       "      <td>120.75</td>\n",
       "      <td>NM</td>\n",
       "      <td>West</td>\n",
       "    </tr>\n",
       "    <tr>\n",
       "      <th>32</th>\n",
       "      <td>12.3</td>\n",
       "      <td>3.936</td>\n",
       "      <td>3.567</td>\n",
       "      <td>10.824</td>\n",
       "      <td>9.840</td>\n",
       "      <td>1234.31</td>\n",
       "      <td>150.01</td>\n",
       "      <td>NY</td>\n",
       "      <td>Northeast</td>\n",
       "    </tr>\n",
       "    <tr>\n",
       "      <th>33</th>\n",
       "      <td>16.8</td>\n",
       "      <td>6.552</td>\n",
       "      <td>5.208</td>\n",
       "      <td>15.792</td>\n",
       "      <td>13.608</td>\n",
       "      <td>708.24</td>\n",
       "      <td>127.82</td>\n",
       "      <td>NC</td>\n",
       "      <td>South</td>\n",
       "    </tr>\n",
       "    <tr>\n",
       "      <th>34</th>\n",
       "      <td>23.9</td>\n",
       "      <td>5.497</td>\n",
       "      <td>10.038</td>\n",
       "      <td>23.661</td>\n",
       "      <td>20.554</td>\n",
       "      <td>688.75</td>\n",
       "      <td>109.72</td>\n",
       "      <td>ND</td>\n",
       "      <td>Midwest</td>\n",
       "    </tr>\n",
       "    <tr>\n",
       "      <th>35</th>\n",
       "      <td>14.1</td>\n",
       "      <td>3.948</td>\n",
       "      <td>4.794</td>\n",
       "      <td>13.959</td>\n",
       "      <td>11.562</td>\n",
       "      <td>697.73</td>\n",
       "      <td>133.52</td>\n",
       "      <td>OH</td>\n",
       "      <td>Midwest</td>\n",
       "    </tr>\n",
       "    <tr>\n",
       "      <th>36</th>\n",
       "      <td>19.9</td>\n",
       "      <td>6.368</td>\n",
       "      <td>5.771</td>\n",
       "      <td>18.308</td>\n",
       "      <td>18.706</td>\n",
       "      <td>881.51</td>\n",
       "      <td>178.86</td>\n",
       "      <td>OK</td>\n",
       "      <td>South</td>\n",
       "    </tr>\n",
       "    <tr>\n",
       "      <th>37</th>\n",
       "      <td>12.8</td>\n",
       "      <td>4.224</td>\n",
       "      <td>3.328</td>\n",
       "      <td>8.576</td>\n",
       "      <td>11.520</td>\n",
       "      <td>804.71</td>\n",
       "      <td>104.61</td>\n",
       "      <td>OR</td>\n",
       "      <td>West</td>\n",
       "    </tr>\n",
       "    <tr>\n",
       "      <th>38</th>\n",
       "      <td>18.2</td>\n",
       "      <td>9.100</td>\n",
       "      <td>5.642</td>\n",
       "      <td>17.472</td>\n",
       "      <td>16.016</td>\n",
       "      <td>905.99</td>\n",
       "      <td>153.86</td>\n",
       "      <td>PA</td>\n",
       "      <td>Northeast</td>\n",
       "    </tr>\n",
       "    <tr>\n",
       "      <th>39</th>\n",
       "      <td>11.1</td>\n",
       "      <td>3.774</td>\n",
       "      <td>4.218</td>\n",
       "      <td>10.212</td>\n",
       "      <td>8.769</td>\n",
       "      <td>1148.99</td>\n",
       "      <td>148.58</td>\n",
       "      <td>RI</td>\n",
       "      <td>Northeast</td>\n",
       "    </tr>\n",
       "    <tr>\n",
       "      <th>40</th>\n",
       "      <td>23.9</td>\n",
       "      <td>9.082</td>\n",
       "      <td>9.799</td>\n",
       "      <td>22.944</td>\n",
       "      <td>19.359</td>\n",
       "      <td>858.97</td>\n",
       "      <td>116.29</td>\n",
       "      <td>SC</td>\n",
       "      <td>South</td>\n",
       "    </tr>\n",
       "    <tr>\n",
       "      <th>41</th>\n",
       "      <td>19.4</td>\n",
       "      <td>6.014</td>\n",
       "      <td>6.402</td>\n",
       "      <td>19.012</td>\n",
       "      <td>16.684</td>\n",
       "      <td>669.31</td>\n",
       "      <td>96.87</td>\n",
       "      <td>SD</td>\n",
       "      <td>Midwest</td>\n",
       "    </tr>\n",
       "    <tr>\n",
       "      <th>42</th>\n",
       "      <td>19.5</td>\n",
       "      <td>4.095</td>\n",
       "      <td>5.655</td>\n",
       "      <td>15.990</td>\n",
       "      <td>15.795</td>\n",
       "      <td>767.91</td>\n",
       "      <td>155.57</td>\n",
       "      <td>TN</td>\n",
       "      <td>South</td>\n",
       "    </tr>\n",
       "    <tr>\n",
       "      <th>43</th>\n",
       "      <td>19.4</td>\n",
       "      <td>7.760</td>\n",
       "      <td>7.372</td>\n",
       "      <td>17.654</td>\n",
       "      <td>16.878</td>\n",
       "      <td>1004.75</td>\n",
       "      <td>156.83</td>\n",
       "      <td>TX</td>\n",
       "      <td>South</td>\n",
       "    </tr>\n",
       "    <tr>\n",
       "      <th>44</th>\n",
       "      <td>11.3</td>\n",
       "      <td>4.859</td>\n",
       "      <td>1.808</td>\n",
       "      <td>9.944</td>\n",
       "      <td>10.848</td>\n",
       "      <td>809.38</td>\n",
       "      <td>109.48</td>\n",
       "      <td>UT</td>\n",
       "      <td>West</td>\n",
       "    </tr>\n",
       "    <tr>\n",
       "      <th>45</th>\n",
       "      <td>13.6</td>\n",
       "      <td>4.080</td>\n",
       "      <td>4.080</td>\n",
       "      <td>13.056</td>\n",
       "      <td>12.920</td>\n",
       "      <td>716.20</td>\n",
       "      <td>109.61</td>\n",
       "      <td>VT</td>\n",
       "      <td>Northeast</td>\n",
       "    </tr>\n",
       "    <tr>\n",
       "      <th>46</th>\n",
       "      <td>12.7</td>\n",
       "      <td>2.413</td>\n",
       "      <td>3.429</td>\n",
       "      <td>11.049</td>\n",
       "      <td>11.176</td>\n",
       "      <td>768.95</td>\n",
       "      <td>153.72</td>\n",
       "      <td>VA</td>\n",
       "      <td>South</td>\n",
       "    </tr>\n",
       "    <tr>\n",
       "      <th>47</th>\n",
       "      <td>10.6</td>\n",
       "      <td>4.452</td>\n",
       "      <td>3.498</td>\n",
       "      <td>8.692</td>\n",
       "      <td>9.116</td>\n",
       "      <td>890.03</td>\n",
       "      <td>111.62</td>\n",
       "      <td>WA</td>\n",
       "      <td>West</td>\n",
       "    </tr>\n",
       "    <tr>\n",
       "      <th>48</th>\n",
       "      <td>23.8</td>\n",
       "      <td>8.092</td>\n",
       "      <td>6.664</td>\n",
       "      <td>23.086</td>\n",
       "      <td>20.706</td>\n",
       "      <td>992.61</td>\n",
       "      <td>152.56</td>\n",
       "      <td>WV</td>\n",
       "      <td>South</td>\n",
       "    </tr>\n",
       "    <tr>\n",
       "      <th>49</th>\n",
       "      <td>13.8</td>\n",
       "      <td>4.968</td>\n",
       "      <td>4.554</td>\n",
       "      <td>5.382</td>\n",
       "      <td>11.592</td>\n",
       "      <td>670.31</td>\n",
       "      <td>106.62</td>\n",
       "      <td>WI</td>\n",
       "      <td>Midwest</td>\n",
       "    </tr>\n",
       "    <tr>\n",
       "      <th>50</th>\n",
       "      <td>17.4</td>\n",
       "      <td>7.308</td>\n",
       "      <td>5.568</td>\n",
       "      <td>14.094</td>\n",
       "      <td>15.660</td>\n",
       "      <td>791.14</td>\n",
       "      <td>122.04</td>\n",
       "      <td>WY</td>\n",
       "      <td>West</td>\n",
       "    </tr>\n",
       "  </tbody>\n",
       "</table>\n",
       "</div>"
      ],
      "text/plain": [
       "    total  speeding  alcohol  not_distracted  no_previous  ins_premium  \\\n",
       "0    18.8     7.332    5.640          18.048       15.040       784.55   \n",
       "1    18.1     7.421    4.525          16.290       17.014      1053.48   \n",
       "2    18.6     6.510    5.208          15.624       17.856       899.47   \n",
       "3    22.4     4.032    5.824          21.056       21.280       827.34   \n",
       "4    12.0     4.200    3.360          10.920       10.680       878.41   \n",
       "5    13.6     5.032    3.808          10.744       12.920       835.50   \n",
       "6    10.8     4.968    3.888           9.396        8.856      1068.73   \n",
       "7    16.2     6.156    4.860          14.094       16.038      1137.87   \n",
       "8     5.9     2.006    1.593           5.900        5.900      1273.89   \n",
       "9    17.9     3.759    5.191          16.468       16.826      1160.13   \n",
       "10   15.6     2.964    3.900          14.820       14.508       913.15   \n",
       "11   17.5     9.450    7.175          14.350       15.225       861.18   \n",
       "12   15.3     5.508    4.437          13.005       14.994       641.96   \n",
       "13   12.8     4.608    4.352          12.032       12.288       803.11   \n",
       "14   14.5     3.625    4.205          13.775       13.775       710.46   \n",
       "15   15.7     2.669    3.925          15.229       13.659       649.06   \n",
       "16   17.8     4.806    4.272          13.706       15.130       780.45   \n",
       "17   21.4     4.066    4.922          16.692       16.264       872.51   \n",
       "18   20.5     7.175    6.765          14.965       20.090      1281.55   \n",
       "19   15.1     5.738    4.530          13.137       12.684       661.88   \n",
       "20   12.5     4.250    4.000           8.875       12.375      1048.78   \n",
       "21    8.2     1.886    2.870           7.134        6.560      1011.14   \n",
       "22   14.1     3.384    3.948          13.395       10.857      1110.61   \n",
       "23    9.6     2.208    2.784           8.448        8.448       777.18   \n",
       "24   17.6     2.640    5.456           1.760       17.600       896.07   \n",
       "25   16.1     6.923    5.474          14.812       13.524       790.32   \n",
       "26   21.4     8.346    9.416          17.976       18.190       816.21   \n",
       "27   14.9     1.937    5.215          13.857       13.410       732.28   \n",
       "28   14.7     5.439    4.704          13.965       14.553      1029.87   \n",
       "29   11.6     4.060    3.480          10.092        9.628       746.54   \n",
       "30   11.2     1.792    3.136           9.632        8.736      1301.52   \n",
       "31   18.4     3.496    4.968          12.328       18.032       869.85   \n",
       "32   12.3     3.936    3.567          10.824        9.840      1234.31   \n",
       "33   16.8     6.552    5.208          15.792       13.608       708.24   \n",
       "34   23.9     5.497   10.038          23.661       20.554       688.75   \n",
       "35   14.1     3.948    4.794          13.959       11.562       697.73   \n",
       "36   19.9     6.368    5.771          18.308       18.706       881.51   \n",
       "37   12.8     4.224    3.328           8.576       11.520       804.71   \n",
       "38   18.2     9.100    5.642          17.472       16.016       905.99   \n",
       "39   11.1     3.774    4.218          10.212        8.769      1148.99   \n",
       "40   23.9     9.082    9.799          22.944       19.359       858.97   \n",
       "41   19.4     6.014    6.402          19.012       16.684       669.31   \n",
       "42   19.5     4.095    5.655          15.990       15.795       767.91   \n",
       "43   19.4     7.760    7.372          17.654       16.878      1004.75   \n",
       "44   11.3     4.859    1.808           9.944       10.848       809.38   \n",
       "45   13.6     4.080    4.080          13.056       12.920       716.20   \n",
       "46   12.7     2.413    3.429          11.049       11.176       768.95   \n",
       "47   10.6     4.452    3.498           8.692        9.116       890.03   \n",
       "48   23.8     8.092    6.664          23.086       20.706       992.61   \n",
       "49   13.8     4.968    4.554           5.382       11.592       670.31   \n",
       "50   17.4     7.308    5.568          14.094       15.660       791.14   \n",
       "\n",
       "    ins_losses abbrev     region  \n",
       "0       145.08     AL      South  \n",
       "1       133.93     AK       West  \n",
       "2       110.35     AZ       West  \n",
       "3       142.39     AR      South  \n",
       "4       165.63     CA       West  \n",
       "5       139.91     CO       West  \n",
       "6       167.02     CT  Northeast  \n",
       "7       151.48     DE      South  \n",
       "8       136.05     DC      South  \n",
       "9       144.18     FL      South  \n",
       "10      142.80     GA      South  \n",
       "11      120.92     HI       West  \n",
       "12       82.75     ID       West  \n",
       "13      139.15     IL    Midwest  \n",
       "14      108.92     IN    Midwest  \n",
       "15      114.47     IA    Midwest  \n",
       "16      133.80     KS    Midwest  \n",
       "17      137.13     KY      South  \n",
       "18      194.78     LA      South  \n",
       "19       96.57     ME  Northeast  \n",
       "20      192.70     MD      South  \n",
       "21      135.63     MA  Northeast  \n",
       "22      152.26     MI    Midwest  \n",
       "23      133.35     MN    Midwest  \n",
       "24      155.77     MS      South  \n",
       "25      144.45     MO    Midwest  \n",
       "26       85.15     MT       West  \n",
       "27      114.82     NE    Midwest  \n",
       "28      138.71     NV       West  \n",
       "29      120.21     NH  Northeast  \n",
       "30      159.85     NJ  Northeast  \n",
       "31      120.75     NM       West  \n",
       "32      150.01     NY  Northeast  \n",
       "33      127.82     NC      South  \n",
       "34      109.72     ND    Midwest  \n",
       "35      133.52     OH    Midwest  \n",
       "36      178.86     OK      South  \n",
       "37      104.61     OR       West  \n",
       "38      153.86     PA  Northeast  \n",
       "39      148.58     RI  Northeast  \n",
       "40      116.29     SC      South  \n",
       "41       96.87     SD    Midwest  \n",
       "42      155.57     TN      South  \n",
       "43      156.83     TX      South  \n",
       "44      109.48     UT       West  \n",
       "45      109.61     VT  Northeast  \n",
       "46      153.72     VA      South  \n",
       "47      111.62     WA       West  \n",
       "48      152.56     WV      South  \n",
       "49      106.62     WI    Midwest  \n",
       "50      122.04     WY       West  "
      ]
     },
     "execution_count": 7,
     "metadata": {},
     "output_type": "execute_result"
    }
   ],
   "source": [
    "# Manually map states to regions\n",
    "region_map = {\n",
    "    'CT': 'Northeast', 'ME': 'Northeast', 'MA': 'Northeast', 'NH': 'Northeast', 'RI': 'Northeast', 'VT': 'Northeast',\n",
    "    'NJ': 'Northeast', 'NY': 'Northeast', 'PA': 'Northeast',\n",
    "    'IL': 'Midwest', 'IN': 'Midwest', 'MI': 'Midwest', 'OH': 'Midwest', 'WI': 'Midwest',\n",
    "    'IA': 'Midwest', 'KS': 'Midwest', 'MN': 'Midwest', 'MO': 'Midwest', 'NE': 'Midwest', 'ND': 'Midwest', 'SD': 'Midwest',\n",
    "    'DE': 'South', 'FL': 'South', 'GA': 'South', 'MD': 'South', 'NC': 'South', 'SC': 'South', 'VA': 'South', 'DC': 'South',\n",
    "    'WV': 'South', 'AL': 'South', 'KY': 'South', 'MS': 'South', 'TN': 'South', 'AR': 'South', 'LA': 'South', 'OK': 'South', 'TX': 'South',\n",
    "    'AZ': 'West', 'CO': 'West', 'ID': 'West', 'MT': 'West', 'NV': 'West', 'NM': 'West', 'UT': 'West', 'WY': 'West',\n",
    "    'AK': 'West', 'CA': 'West', 'HI': 'West', 'OR': 'West', 'WA': 'West'\n",
    "}\n",
    "\n",
    "# Add region column using abbrev\n",
    "df['region'] = df['abbrev'].map(region_map)\n",
    "df"
   ]
  },
  {
   "cell_type": "code",
   "execution_count": 8,
   "id": "2851e37f",
   "metadata": {},
   "outputs": [
    {
     "data": {
      "application/vnd.plotly.v1+json": {
       "config": {
        "plotlyServerURL": "https://plot.ly"
       },
       "data": [
        {
         "branchvalues": "total",
         "customdata": {
          "bdata": "iBbZzvdTHUDIdr6fGq8dQArXo3A9ChpAVOOlm8QgEEDNzMzMzMwQQFTjpZvEIBRArBxaZDvfE0A6tMh2vp8YQD81XrpJDABA30+Nl24SDkCEwMqhRbYHQGZmZmZm5iJA1njpJjEIFkA830+Nl24SQAAAAAAAAA1AJzEIrBxaBUDTTWIQWDkTQN0kBoGVQxBAMzMzMzOzHEDCyqFFtvMWQAAAAAAAABFAkxgEVg4t/j/eT42XbhILQESLbOf7qQFAH4XrUbgeBUD/1HjpJrEbQP3UeOkmsSBAzaFFtvP9/j+oxks3icEVQD0K16NwPRBAeOkmMQis/D8rhxbZzvcLQLByaJHtfA9AaJHtfD81GkCvcmiR7fwVQC/dJAaBlQ9ARbbz/dR4GUBMN4lBYOUQQDMzMzMzMyJA/tR46SYxDkBEi2zn+ykiQHSTGARWDhhA4XoUrkdhEEAK16NwPQofQFYOLbKdbxNAUrgehetREEDn+6nx0k0DQAIrhxbZzhFAyXa+nxovIECsHFpkO98TQAisHFpkOx1AtY1BvONvGEC7Ied6wYEZQPBxtuFNXBVA3RmT2BXrEkA=",
          "dtype": "f8",
          "shape": "55, 1"
         },
         "domain": {
          "x": [
           0,
           1
          ],
          "y": [
           0,
           1
          ]
         },
         "hovertemplate": "labels=%{label}<br>speeding_sum=%{value}<br>parent=%{parent}<br>id=%{id}<br>Speeding Accidents=%{color}<extra></extra>",
         "ids": [
          "South/AL",
          "West/AK",
          "West/AZ",
          "South/AR",
          "West/CA",
          "West/CO",
          "Northeast/CT",
          "South/DE",
          "South/DC",
          "South/FL",
          "South/GA",
          "West/HI",
          "West/ID",
          "Midwest/IL",
          "Midwest/IN",
          "Midwest/IA",
          "Midwest/KS",
          "South/KY",
          "South/LA",
          "Northeast/ME",
          "South/MD",
          "Northeast/MA",
          "Midwest/MI",
          "Midwest/MN",
          "South/MS",
          "Midwest/MO",
          "West/MT",
          "Midwest/NE",
          "West/NV",
          "Northeast/NH",
          "Northeast/NJ",
          "West/NM",
          "Northeast/NY",
          "South/NC",
          "Midwest/ND",
          "Midwest/OH",
          "South/OK",
          "West/OR",
          "Northeast/PA",
          "Northeast/RI",
          "South/SC",
          "Midwest/SD",
          "South/TN",
          "South/TX",
          "West/UT",
          "Northeast/VT",
          "South/VA",
          "West/WA",
          "South/WV",
          "Midwest/WI",
          "West/WY",
          "South",
          "West",
          "Northeast",
          "Midwest"
         ],
         "labels": [
          "AL",
          "AK",
          "AZ",
          "AR",
          "CA",
          "CO",
          "CT",
          "DE",
          "DC",
          "FL",
          "GA",
          "HI",
          "ID",
          "IL",
          "IN",
          "IA",
          "KS",
          "KY",
          "LA",
          "ME",
          "MD",
          "MA",
          "MI",
          "MN",
          "MS",
          "MO",
          "MT",
          "NE",
          "NV",
          "NH",
          "NJ",
          "NM",
          "NY",
          "NC",
          "ND",
          "OH",
          "OK",
          "OR",
          "PA",
          "RI",
          "SC",
          "SD",
          "TN",
          "TX",
          "UT",
          "VT",
          "VA",
          "WA",
          "WV",
          "WI",
          "WY",
          "South",
          "West",
          "Northeast",
          "Midwest"
         ],
         "marker": {
          "coloraxis": "coloraxis",
          "colors": {
           "bdata": "iBbZzvdTHUDIdr6fGq8dQArXo3A9ChpAVOOlm8QgEEDNzMzMzMwQQFTjpZvEIBRArBxaZDvfE0A6tMh2vp8YQD81XrpJDABA30+Nl24SDkCEwMqhRbYHQGZmZmZm5iJA1njpJjEIFkA830+Nl24SQAAAAAAAAA1AJzEIrBxaBUDTTWIQWDkTQN0kBoGVQxBAMzMzMzOzHEDCyqFFtvMWQAAAAAAAABFAkxgEVg4t/j/eT42XbhILQESLbOf7qQFAH4XrUbgeBUD/1HjpJrEbQP3UeOkmsSBAzaFFtvP9/j+oxks3icEVQD0K16NwPRBAeOkmMQis/D8rhxbZzvcLQLByaJHtfA9AaJHtfD81GkCvcmiR7fwVQC/dJAaBlQ9ARbbz/dR4GUBMN4lBYOUQQDMzMzMzMyJA/tR46SYxDkBEi2zn+ykiQHSTGARWDhhA4XoUrkdhEEAK16NwPQofQFYOLbKdbxNAUrgehetREEDn+6nx0k0DQAIrhxbZzhFAyXa+nxovIECsHFpkO98TQAisHFpkOx1AtY1BvONvGEC7Ied6wYEZQPBxtuFNXBVA3RmT2BXrEkA=",
           "dtype": "f8"
          }
         },
         "name": "",
         "parents": [
          "South",
          "West",
          "West",
          "South",
          "West",
          "West",
          "Northeast",
          "South",
          "South",
          "South",
          "South",
          "West",
          "West",
          "Midwest",
          "Midwest",
          "Midwest",
          "Midwest",
          "South",
          "South",
          "Northeast",
          "South",
          "Northeast",
          "Midwest",
          "Midwest",
          "South",
          "Midwest",
          "West",
          "Midwest",
          "West",
          "Northeast",
          "Northeast",
          "West",
          "Northeast",
          "South",
          "Midwest",
          "Midwest",
          "South",
          "West",
          "Northeast",
          "Northeast",
          "South",
          "Midwest",
          "South",
          "South",
          "West",
          "Northeast",
          "South",
          "West",
          "South",
          "Midwest",
          "West",
          "",
          "",
          "",
          ""
         ],
         "type": "sunburst",
         "values": {
          "bdata": "iBbZzvdTHUDJdr6fGq8dQArXo3A9ChpAVOOlm8QgEEDNzMzMzMwQQFTjpZvEIBRArBxaZDvfE0A6tMh2vp8YQD81XrpJDABA30+Nl24SDkCDwMqhRbYHQGZmZmZm5iJA1njpJjEIFkA830+Nl24SQAAAAAAAAA1AJzEIrBxaBUDTTWIQWDkTQN0kBoGVQxBAMzMzMzOzHEDByqFFtvMWQAAAAAAAABFAkxgEVg4t/j/fT42XbhILQESLbOf7qQFAH4XrUbgeBUD/1HjpJrEbQP3UeOkmsSBAzaFFtvP9/j+oxks3icEVQD0K16NwPRBAeOkmMQis/D8rhxbZzvcLQLByaJHtfA9AaZHtfD81GkCvcmiR7fwVQC/dJAaBlQ9ARbbz/dR4GUBMN4lBYOUQQDMzMzMzMyJA/tR46SYxDkBEi2zn+ykiQHSTGARWDhhA4XoUrkdhEEAK16NwPQofQFYOLbKdbxNAUrgehetREEDn+6nx0k0DQAIrhxbZzhFAyXa+nxovIECsHFpkO98TQAisHFpkOx1Ac2iR7XwvVkBI4XoUrg9TQJhuEoPAqkNAQmDl0CJLSUA=",
          "dtype": "f8"
         }
        }
       ],
       "layout": {
        "coloraxis": {
         "colorbar": {
          "title": {
           "text": "Speeding Accidents"
          }
         },
         "colorscale": [
          [
           0,
           "rgb(103,0,31)"
          ],
          [
           0.1,
           "rgb(178,24,43)"
          ],
          [
           0.2,
           "rgb(214,96,77)"
          ],
          [
           0.3,
           "rgb(244,165,130)"
          ],
          [
           0.4,
           "rgb(253,219,199)"
          ],
          [
           0.5,
           "rgb(247,247,247)"
          ],
          [
           0.6,
           "rgb(209,229,240)"
          ],
          [
           0.7,
           "rgb(146,197,222)"
          ],
          [
           0.8,
           "rgb(67,147,195)"
          ],
          [
           0.9,
           "rgb(33,102,172)"
          ],
          [
           1,
           "rgb(5,48,97)"
          ]
         ]
        },
        "height": 600,
        "legend": {
         "tracegroupgap": 0
        },
        "template": {
         "data": {
          "bar": [
           {
            "error_x": {
             "color": "#f2f5fa"
            },
            "error_y": {
             "color": "#f2f5fa"
            },
            "marker": {
             "line": {
              "color": "rgb(17,17,17)",
              "width": 0.5
             },
             "pattern": {
              "fillmode": "overlay",
              "size": 10,
              "solidity": 0.2
             }
            },
            "type": "bar"
           }
          ],
          "barpolar": [
           {
            "marker": {
             "line": {
              "color": "rgb(17,17,17)",
              "width": 0.5
             },
             "pattern": {
              "fillmode": "overlay",
              "size": 10,
              "solidity": 0.2
             }
            },
            "type": "barpolar"
           }
          ],
          "carpet": [
           {
            "aaxis": {
             "endlinecolor": "#A2B1C6",
             "gridcolor": "#506784",
             "linecolor": "#506784",
             "minorgridcolor": "#506784",
             "startlinecolor": "#A2B1C6"
            },
            "baxis": {
             "endlinecolor": "#A2B1C6",
             "gridcolor": "#506784",
             "linecolor": "#506784",
             "minorgridcolor": "#506784",
             "startlinecolor": "#A2B1C6"
            },
            "type": "carpet"
           }
          ],
          "choropleth": [
           {
            "colorbar": {
             "outlinewidth": 0,
             "ticks": ""
            },
            "type": "choropleth"
           }
          ],
          "contour": [
           {
            "colorbar": {
             "outlinewidth": 0,
             "ticks": ""
            },
            "colorscale": [
             [
              0,
              "#0d0887"
             ],
             [
              0.1111111111111111,
              "#46039f"
             ],
             [
              0.2222222222222222,
              "#7201a8"
             ],
             [
              0.3333333333333333,
              "#9c179e"
             ],
             [
              0.4444444444444444,
              "#bd3786"
             ],
             [
              0.5555555555555556,
              "#d8576b"
             ],
             [
              0.6666666666666666,
              "#ed7953"
             ],
             [
              0.7777777777777778,
              "#fb9f3a"
             ],
             [
              0.8888888888888888,
              "#fdca26"
             ],
             [
              1,
              "#f0f921"
             ]
            ],
            "type": "contour"
           }
          ],
          "contourcarpet": [
           {
            "colorbar": {
             "outlinewidth": 0,
             "ticks": ""
            },
            "type": "contourcarpet"
           }
          ],
          "heatmap": [
           {
            "colorbar": {
             "outlinewidth": 0,
             "ticks": ""
            },
            "colorscale": [
             [
              0,
              "#0d0887"
             ],
             [
              0.1111111111111111,
              "#46039f"
             ],
             [
              0.2222222222222222,
              "#7201a8"
             ],
             [
              0.3333333333333333,
              "#9c179e"
             ],
             [
              0.4444444444444444,
              "#bd3786"
             ],
             [
              0.5555555555555556,
              "#d8576b"
             ],
             [
              0.6666666666666666,
              "#ed7953"
             ],
             [
              0.7777777777777778,
              "#fb9f3a"
             ],
             [
              0.8888888888888888,
              "#fdca26"
             ],
             [
              1,
              "#f0f921"
             ]
            ],
            "type": "heatmap"
           }
          ],
          "histogram": [
           {
            "marker": {
             "pattern": {
              "fillmode": "overlay",
              "size": 10,
              "solidity": 0.2
             }
            },
            "type": "histogram"
           }
          ],
          "histogram2d": [
           {
            "colorbar": {
             "outlinewidth": 0,
             "ticks": ""
            },
            "colorscale": [
             [
              0,
              "#0d0887"
             ],
             [
              0.1111111111111111,
              "#46039f"
             ],
             [
              0.2222222222222222,
              "#7201a8"
             ],
             [
              0.3333333333333333,
              "#9c179e"
             ],
             [
              0.4444444444444444,
              "#bd3786"
             ],
             [
              0.5555555555555556,
              "#d8576b"
             ],
             [
              0.6666666666666666,
              "#ed7953"
             ],
             [
              0.7777777777777778,
              "#fb9f3a"
             ],
             [
              0.8888888888888888,
              "#fdca26"
             ],
             [
              1,
              "#f0f921"
             ]
            ],
            "type": "histogram2d"
           }
          ],
          "histogram2dcontour": [
           {
            "colorbar": {
             "outlinewidth": 0,
             "ticks": ""
            },
            "colorscale": [
             [
              0,
              "#0d0887"
             ],
             [
              0.1111111111111111,
              "#46039f"
             ],
             [
              0.2222222222222222,
              "#7201a8"
             ],
             [
              0.3333333333333333,
              "#9c179e"
             ],
             [
              0.4444444444444444,
              "#bd3786"
             ],
             [
              0.5555555555555556,
              "#d8576b"
             ],
             [
              0.6666666666666666,
              "#ed7953"
             ],
             [
              0.7777777777777778,
              "#fb9f3a"
             ],
             [
              0.8888888888888888,
              "#fdca26"
             ],
             [
              1,
              "#f0f921"
             ]
            ],
            "type": "histogram2dcontour"
           }
          ],
          "mesh3d": [
           {
            "colorbar": {
             "outlinewidth": 0,
             "ticks": ""
            },
            "type": "mesh3d"
           }
          ],
          "parcoords": [
           {
            "line": {
             "colorbar": {
              "outlinewidth": 0,
              "ticks": ""
             }
            },
            "type": "parcoords"
           }
          ],
          "pie": [
           {
            "automargin": true,
            "type": "pie"
           }
          ],
          "scatter": [
           {
            "marker": {
             "line": {
              "color": "#283442"
             }
            },
            "type": "scatter"
           }
          ],
          "scatter3d": [
           {
            "line": {
             "colorbar": {
              "outlinewidth": 0,
              "ticks": ""
             }
            },
            "marker": {
             "colorbar": {
              "outlinewidth": 0,
              "ticks": ""
             }
            },
            "type": "scatter3d"
           }
          ],
          "scattercarpet": [
           {
            "marker": {
             "colorbar": {
              "outlinewidth": 0,
              "ticks": ""
             }
            },
            "type": "scattercarpet"
           }
          ],
          "scattergeo": [
           {
            "marker": {
             "colorbar": {
              "outlinewidth": 0,
              "ticks": ""
             }
            },
            "type": "scattergeo"
           }
          ],
          "scattergl": [
           {
            "marker": {
             "line": {
              "color": "#283442"
             }
            },
            "type": "scattergl"
           }
          ],
          "scattermap": [
           {
            "marker": {
             "colorbar": {
              "outlinewidth": 0,
              "ticks": ""
             }
            },
            "type": "scattermap"
           }
          ],
          "scattermapbox": [
           {
            "marker": {
             "colorbar": {
              "outlinewidth": 0,
              "ticks": ""
             }
            },
            "type": "scattermapbox"
           }
          ],
          "scatterpolar": [
           {
            "marker": {
             "colorbar": {
              "outlinewidth": 0,
              "ticks": ""
             }
            },
            "type": "scatterpolar"
           }
          ],
          "scatterpolargl": [
           {
            "marker": {
             "colorbar": {
              "outlinewidth": 0,
              "ticks": ""
             }
            },
            "type": "scatterpolargl"
           }
          ],
          "scatterternary": [
           {
            "marker": {
             "colorbar": {
              "outlinewidth": 0,
              "ticks": ""
             }
            },
            "type": "scatterternary"
           }
          ],
          "surface": [
           {
            "colorbar": {
             "outlinewidth": 0,
             "ticks": ""
            },
            "colorscale": [
             [
              0,
              "#0d0887"
             ],
             [
              0.1111111111111111,
              "#46039f"
             ],
             [
              0.2222222222222222,
              "#7201a8"
             ],
             [
              0.3333333333333333,
              "#9c179e"
             ],
             [
              0.4444444444444444,
              "#bd3786"
             ],
             [
              0.5555555555555556,
              "#d8576b"
             ],
             [
              0.6666666666666666,
              "#ed7953"
             ],
             [
              0.7777777777777778,
              "#fb9f3a"
             ],
             [
              0.8888888888888888,
              "#fdca26"
             ],
             [
              1,
              "#f0f921"
             ]
            ],
            "type": "surface"
           }
          ],
          "table": [
           {
            "cells": {
             "fill": {
              "color": "#506784"
             },
             "line": {
              "color": "rgb(17,17,17)"
             }
            },
            "header": {
             "fill": {
              "color": "#2a3f5f"
             },
             "line": {
              "color": "rgb(17,17,17)"
             }
            },
            "type": "table"
           }
          ]
         },
         "layout": {
          "annotationdefaults": {
           "arrowcolor": "#f2f5fa",
           "arrowhead": 0,
           "arrowwidth": 1
          },
          "autotypenumbers": "strict",
          "coloraxis": {
           "colorbar": {
            "outlinewidth": 0,
            "ticks": ""
           }
          },
          "colorscale": {
           "diverging": [
            [
             0,
             "#8e0152"
            ],
            [
             0.1,
             "#c51b7d"
            ],
            [
             0.2,
             "#de77ae"
            ],
            [
             0.3,
             "#f1b6da"
            ],
            [
             0.4,
             "#fde0ef"
            ],
            [
             0.5,
             "#f7f7f7"
            ],
            [
             0.6,
             "#e6f5d0"
            ],
            [
             0.7,
             "#b8e186"
            ],
            [
             0.8,
             "#7fbc41"
            ],
            [
             0.9,
             "#4d9221"
            ],
            [
             1,
             "#276419"
            ]
           ],
           "sequential": [
            [
             0,
             "#0d0887"
            ],
            [
             0.1111111111111111,
             "#46039f"
            ],
            [
             0.2222222222222222,
             "#7201a8"
            ],
            [
             0.3333333333333333,
             "#9c179e"
            ],
            [
             0.4444444444444444,
             "#bd3786"
            ],
            [
             0.5555555555555556,
             "#d8576b"
            ],
            [
             0.6666666666666666,
             "#ed7953"
            ],
            [
             0.7777777777777778,
             "#fb9f3a"
            ],
            [
             0.8888888888888888,
             "#fdca26"
            ],
            [
             1,
             "#f0f921"
            ]
           ],
           "sequentialminus": [
            [
             0,
             "#0d0887"
            ],
            [
             0.1111111111111111,
             "#46039f"
            ],
            [
             0.2222222222222222,
             "#7201a8"
            ],
            [
             0.3333333333333333,
             "#9c179e"
            ],
            [
             0.4444444444444444,
             "#bd3786"
            ],
            [
             0.5555555555555556,
             "#d8576b"
            ],
            [
             0.6666666666666666,
             "#ed7953"
            ],
            [
             0.7777777777777778,
             "#fb9f3a"
            ],
            [
             0.8888888888888888,
             "#fdca26"
            ],
            [
             1,
             "#f0f921"
            ]
           ]
          },
          "colorway": [
           "#636efa",
           "#EF553B",
           "#00cc96",
           "#ab63fa",
           "#FFA15A",
           "#19d3f3",
           "#FF6692",
           "#B6E880",
           "#FF97FF",
           "#FECB52"
          ],
          "font": {
           "color": "#f2f5fa"
          },
          "geo": {
           "bgcolor": "rgb(17,17,17)",
           "lakecolor": "rgb(17,17,17)",
           "landcolor": "rgb(17,17,17)",
           "showlakes": true,
           "showland": true,
           "subunitcolor": "#506784"
          },
          "hoverlabel": {
           "align": "left"
          },
          "hovermode": "closest",
          "mapbox": {
           "style": "dark"
          },
          "paper_bgcolor": "rgb(17,17,17)",
          "plot_bgcolor": "rgb(17,17,17)",
          "polar": {
           "angularaxis": {
            "gridcolor": "#506784",
            "linecolor": "#506784",
            "ticks": ""
           },
           "bgcolor": "rgb(17,17,17)",
           "radialaxis": {
            "gridcolor": "#506784",
            "linecolor": "#506784",
            "ticks": ""
           }
          },
          "scene": {
           "xaxis": {
            "backgroundcolor": "rgb(17,17,17)",
            "gridcolor": "#506784",
            "gridwidth": 2,
            "linecolor": "#506784",
            "showbackground": true,
            "ticks": "",
            "zerolinecolor": "#C8D4E3"
           },
           "yaxis": {
            "backgroundcolor": "rgb(17,17,17)",
            "gridcolor": "#506784",
            "gridwidth": 2,
            "linecolor": "#506784",
            "showbackground": true,
            "ticks": "",
            "zerolinecolor": "#C8D4E3"
           },
           "zaxis": {
            "backgroundcolor": "rgb(17,17,17)",
            "gridcolor": "#506784",
            "gridwidth": 2,
            "linecolor": "#506784",
            "showbackground": true,
            "ticks": "",
            "zerolinecolor": "#C8D4E3"
           }
          },
          "shapedefaults": {
           "line": {
            "color": "#f2f5fa"
           }
          },
          "sliderdefaults": {
           "bgcolor": "#C8D4E3",
           "bordercolor": "rgb(17,17,17)",
           "borderwidth": 1,
           "tickwidth": 0
          },
          "ternary": {
           "aaxis": {
            "gridcolor": "#506784",
            "linecolor": "#506784",
            "ticks": ""
           },
           "baxis": {
            "gridcolor": "#506784",
            "linecolor": "#506784",
            "ticks": ""
           },
           "bgcolor": "rgb(17,17,17)",
           "caxis": {
            "gridcolor": "#506784",
            "linecolor": "#506784",
            "ticks": ""
           }
          },
          "title": {
           "x": 0.05
          },
          "updatemenudefaults": {
           "bgcolor": "#506784",
           "borderwidth": 0
          },
          "xaxis": {
           "automargin": true,
           "gridcolor": "#283442",
           "linecolor": "#506784",
           "ticks": "",
           "title": {
            "standoff": 15
           },
           "zerolinecolor": "#283442",
           "zerolinewidth": 2
          },
          "yaxis": {
           "automargin": true,
           "gridcolor": "#283442",
           "linecolor": "#506784",
           "ticks": "",
           "title": {
            "standoff": 15
           },
           "zerolinecolor": "#283442",
           "zerolinewidth": 2
          }
         }
        },
        "title": {
         "text": "Speeding Accidents by Region and State"
        },
        "width": 800
       }
      }
     },
     "metadata": {},
     "output_type": "display_data"
    }
   ],
   "source": [
    "fig = px.sunburst(df,\n",
    "                  path=['region','abbrev'],\n",
    "                  values='speeding',\n",
    "                  title='Speeding Accidents by Region and State',\n",
    "                  labels={'abbrev':'State','speeding':'Speeding Accidents'},\n",
    "                  color='speeding',\n",
    "                  color_continuous_scale=px.colors.sequential.RdBu,\n",
    "                  height=600, width=800, template='plotly_dark')\n",
    "fig.show()\n"
   ]
  },
  {
   "cell_type": "code",
   "execution_count": 9,
   "id": "70c57558",
   "metadata": {},
   "outputs": [
    {
     "data": {
      "application/vnd.plotly.v1+json": {
       "config": {
        "plotlyServerURL": "https://plot.ly"
       },
       "data": [
        {
         "hovertemplate": "abbrev=AL<br>Speeding Accidents=%{x}<br>Alcohol Involvement=%{y}<br>total=%{marker.size}<extra></extra>",
         "legendgroup": "AL",
         "marker": {
          "color": "#636efa",
          "size": {
           "bdata": "zczMzMzMMkA=",
           "dtype": "f8"
          },
          "sizemode": "area",
          "sizeref": 0.05975,
          "symbol": "circle"
         },
         "mode": "markers",
         "name": "AL",
         "orientation": "v",
         "showlegend": true,
         "type": "scatter",
         "x": {
          "bdata": "iBbZzvdTHUA=",
          "dtype": "f8"
         },
         "xaxis": "x",
         "y": {
          "bdata": "j8L1KFyPFkA=",
          "dtype": "f8"
         },
         "yaxis": "y"
        },
        {
         "hovertemplate": "abbrev=AK<br>Speeding Accidents=%{x}<br>Alcohol Involvement=%{y}<br>total=%{marker.size}<extra></extra>",
         "legendgroup": "AK",
         "marker": {
          "color": "#EF553B",
          "size": {
           "bdata": "mpmZmZkZMkA=",
           "dtype": "f8"
          },
          "sizemode": "area",
          "sizeref": 0.05975,
          "symbol": "circle"
         },
         "mode": "markers",
         "name": "AK",
         "orientation": "v",
         "showlegend": true,
         "type": "scatter",
         "x": {
          "bdata": "yXa+nxqvHUA=",
          "dtype": "f8"
         },
         "xaxis": "x",
         "y": {
          "bdata": "mpmZmZkZEkA=",
          "dtype": "f8"
         },
         "yaxis": "y"
        },
        {
         "hovertemplate": "abbrev=AZ<br>Speeding Accidents=%{x}<br>Alcohol Involvement=%{y}<br>total=%{marker.size}<extra></extra>",
         "legendgroup": "AZ",
         "marker": {
          "color": "#00cc96",
          "size": {
           "bdata": "mpmZmZmZMkA=",
           "dtype": "f8"
          },
          "sizemode": "area",
          "sizeref": 0.05975,
          "symbol": "circle"
         },
         "mode": "markers",
         "name": "AZ",
         "orientation": "v",
         "showlegend": true,
         "type": "scatter",
         "x": {
          "bdata": "CtejcD0KGkA=",
          "dtype": "f8"
         },
         "xaxis": "x",
         "y": {
          "bdata": "o0W28/3UFEA=",
          "dtype": "f8"
         },
         "yaxis": "y"
        },
        {
         "hovertemplate": "abbrev=AR<br>Speeding Accidents=%{x}<br>Alcohol Involvement=%{y}<br>total=%{marker.size}<extra></extra>",
         "legendgroup": "AR",
         "marker": {
          "color": "#ab63fa",
          "size": {
           "bdata": "ZmZmZmZmNkA=",
           "dtype": "f8"
          },
          "sizemode": "area",
          "sizeref": 0.05975,
          "symbol": "circle"
         },
         "mode": "markers",
         "name": "AR",
         "orientation": "v",
         "showlegend": true,
         "type": "scatter",
         "x": {
          "bdata": "VOOlm8QgEEA=",
          "dtype": "f8"
         },
         "xaxis": "x",
         "y": {
          "bdata": "sp3vp8ZLF0A=",
          "dtype": "f8"
         },
         "yaxis": "y"
        },
        {
         "hovertemplate": "abbrev=CA<br>Speeding Accidents=%{x}<br>Alcohol Involvement=%{y}<br>total=%{marker.size}<extra></extra>",
         "legendgroup": "CA",
         "marker": {
          "color": "#FFA15A",
          "size": {
           "bdata": "AAAAAAAAKEA=",
           "dtype": "f8"
          },
          "sizemode": "area",
          "sizeref": 0.05975,
          "symbol": "circle"
         },
         "mode": "markers",
         "name": "CA",
         "orientation": "v",
         "showlegend": true,
         "type": "scatter",
         "x": {
          "bdata": "zczMzMzMEEA=",
          "dtype": "f8"
         },
         "xaxis": "x",
         "y": {
          "bdata": "4XoUrkfhCkA=",
          "dtype": "f8"
         },
         "yaxis": "y"
        },
        {
         "hovertemplate": "abbrev=CO<br>Speeding Accidents=%{x}<br>Alcohol Involvement=%{y}<br>total=%{marker.size}<extra></extra>",
         "legendgroup": "CO",
         "marker": {
          "color": "#19d3f3",
          "size": {
           "bdata": "MzMzMzMzK0A=",
           "dtype": "f8"
          },
          "sizemode": "area",
          "sizeref": 0.05975,
          "symbol": "circle"
         },
         "mode": "markers",
         "name": "CO",
         "orientation": "v",
         "showlegend": true,
         "type": "scatter",
         "x": {
          "bdata": "VOOlm8QgFEA=",
          "dtype": "f8"
         },
         "xaxis": "x",
         "y": {
          "bdata": "EFg5tMh2DkA=",
          "dtype": "f8"
         },
         "yaxis": "y"
        },
        {
         "hovertemplate": "abbrev=CT<br>Speeding Accidents=%{x}<br>Alcohol Involvement=%{y}<br>total=%{marker.size}<extra></extra>",
         "legendgroup": "CT",
         "marker": {
          "color": "#FF6692",
          "size": {
           "bdata": "mpmZmZmZJUA=",
           "dtype": "f8"
          },
          "sizemode": "area",
          "sizeref": 0.05975,
          "symbol": "circle"
         },
         "mode": "markers",
         "name": "CT",
         "orientation": "v",
         "showlegend": true,
         "type": "scatter",
         "x": {
          "bdata": "rBxaZDvfE0A=",
          "dtype": "f8"
         },
         "xaxis": "x",
         "y": {
          "bdata": "tMh2vp8aD0A=",
          "dtype": "f8"
         },
         "yaxis": "y"
        },
        {
         "hovertemplate": "abbrev=DE<br>Speeding Accidents=%{x}<br>Alcohol Involvement=%{y}<br>total=%{marker.size}<extra></extra>",
         "legendgroup": "DE",
         "marker": {
          "color": "#B6E880",
          "size": {
           "bdata": "MzMzMzMzMEA=",
           "dtype": "f8"
          },
          "sizemode": "area",
          "sizeref": 0.05975,
          "symbol": "circle"
         },
         "mode": "markers",
         "name": "DE",
         "orientation": "v",
         "showlegend": true,
         "type": "scatter",
         "x": {
          "bdata": "OrTIdr6fGEA=",
          "dtype": "f8"
         },
         "xaxis": "x",
         "y": {
          "bdata": "cT0K16NwE0A=",
          "dtype": "f8"
         },
         "yaxis": "y"
        },
        {
         "hovertemplate": "abbrev=DC<br>Speeding Accidents=%{x}<br>Alcohol Involvement=%{y}<br>total=%{marker.size}<extra></extra>",
         "legendgroup": "DC",
         "marker": {
          "color": "#FF97FF",
          "size": {
           "bdata": "mpmZmZmZF0A=",
           "dtype": "f8"
          },
          "sizemode": "area",
          "sizeref": 0.05975,
          "symbol": "circle"
         },
         "mode": "markers",
         "name": "DC",
         "orientation": "v",
         "showlegend": true,
         "type": "scatter",
         "x": {
          "bdata": "PzVeukkMAEA=",
          "dtype": "f8"
         },
         "xaxis": "x",
         "y": {
          "bdata": "sXJoke18+T8=",
          "dtype": "f8"
         },
         "yaxis": "y"
        },
        {
         "hovertemplate": "abbrev=FL<br>Speeding Accidents=%{x}<br>Alcohol Involvement=%{y}<br>total=%{marker.size}<extra></extra>",
         "legendgroup": "FL",
         "marker": {
          "color": "#FECB52",
          "size": {
           "bdata": "ZmZmZmbmMUA=",
           "dtype": "f8"
          },
          "sizemode": "area",
          "sizeref": 0.05975,
          "symbol": "circle"
         },
         "mode": "markers",
         "name": "FL",
         "orientation": "v",
         "showlegend": true,
         "type": "scatter",
         "x": {
          "bdata": "30+Nl24SDkA=",
          "dtype": "f8"
         },
         "xaxis": "x",
         "y": {
          "bdata": "3CQGgZXDFEA=",
          "dtype": "f8"
         },
         "yaxis": "y"
        },
        {
         "hovertemplate": "abbrev=GA<br>Speeding Accidents=%{x}<br>Alcohol Involvement=%{y}<br>total=%{marker.size}<extra></extra>",
         "legendgroup": "GA",
         "marker": {
          "color": "#636efa",
          "size": {
           "bdata": "MzMzMzMzL0A=",
           "dtype": "f8"
          },
          "sizemode": "area",
          "sizeref": 0.05975,
          "symbol": "circle"
         },
         "mode": "markers",
         "name": "GA",
         "orientation": "v",
         "showlegend": true,
         "type": "scatter",
         "x": {
          "bdata": "g8DKoUW2B0A=",
          "dtype": "f8"
         },
         "xaxis": "x",
         "y": {
          "bdata": "MzMzMzMzD0A=",
          "dtype": "f8"
         },
         "yaxis": "y"
        },
        {
         "hovertemplate": "abbrev=HI<br>Speeding Accidents=%{x}<br>Alcohol Involvement=%{y}<br>total=%{marker.size}<extra></extra>",
         "legendgroup": "HI",
         "marker": {
          "color": "#EF553B",
          "size": {
           "bdata": "AAAAAACAMUA=",
           "dtype": "f8"
          },
          "sizemode": "area",
          "sizeref": 0.05975,
          "symbol": "circle"
         },
         "mode": "markers",
         "name": "HI",
         "orientation": "v",
         "showlegend": true,
         "type": "scatter",
         "x": {
          "bdata": "ZmZmZmbmIkA=",
          "dtype": "f8"
         },
         "xaxis": "x",
         "y": {
          "bdata": "MzMzMzOzHEA=",
          "dtype": "f8"
         },
         "yaxis": "y"
        },
        {
         "hovertemplate": "abbrev=ID<br>Speeding Accidents=%{x}<br>Alcohol Involvement=%{y}<br>total=%{marker.size}<extra></extra>",
         "legendgroup": "ID",
         "marker": {
          "color": "#00cc96",
          "size": {
           "bdata": "mpmZmZmZLkA=",
           "dtype": "f8"
          },
          "sizemode": "area",
          "sizeref": 0.05975,
          "symbol": "circle"
         },
         "mode": "markers",
         "name": "ID",
         "orientation": "v",
         "showlegend": true,
         "type": "scatter",
         "x": {
          "bdata": "1njpJjEIFkA=",
          "dtype": "f8"
         },
         "xaxis": "x",
         "y": {
          "bdata": "c2iR7Xy/EUA=",
          "dtype": "f8"
         },
         "yaxis": "y"
        },
        {
         "hovertemplate": "abbrev=IL<br>Speeding Accidents=%{x}<br>Alcohol Involvement=%{y}<br>total=%{marker.size}<extra></extra>",
         "legendgroup": "IL",
         "marker": {
          "color": "#ab63fa",
          "size": {
           "bdata": "mpmZmZmZKUA=",
           "dtype": "f8"
          },
          "sizemode": "area",
          "sizeref": 0.05975,
          "symbol": "circle"
         },
         "mode": "markers",
         "name": "IL",
         "orientation": "v",
         "showlegend": true,
         "type": "scatter",
         "x": {
          "bdata": "PN9PjZduEkA=",
          "dtype": "f8"
         },
         "xaxis": "x",
         "y": {
          "bdata": "nMQgsHJoEUA=",
          "dtype": "f8"
         },
         "yaxis": "y"
        },
        {
         "hovertemplate": "abbrev=IN<br>Speeding Accidents=%{x}<br>Alcohol Involvement=%{y}<br>total=%{marker.size}<extra></extra>",
         "legendgroup": "IN",
         "marker": {
          "color": "#FFA15A",
          "size": {
           "bdata": "AAAAAAAALUA=",
           "dtype": "f8"
          },
          "sizemode": "area",
          "sizeref": 0.05975,
          "symbol": "circle"
         },
         "mode": "markers",
         "name": "IN",
         "orientation": "v",
         "showlegend": true,
         "type": "scatter",
         "x": {
          "bdata": "AAAAAAAADUA=",
          "dtype": "f8"
         },
         "xaxis": "x",
         "y": {
          "bdata": "UrgehevREEA=",
          "dtype": "f8"
         },
         "yaxis": "y"
        },
        {
         "hovertemplate": "abbrev=IA<br>Speeding Accidents=%{x}<br>Alcohol Involvement=%{y}<br>total=%{marker.size}<extra></extra>",
         "legendgroup": "IA",
         "marker": {
          "color": "#19d3f3",
          "size": {
           "bdata": "ZmZmZmZmL0A=",
           "dtype": "f8"
          },
          "sizemode": "area",
          "sizeref": 0.05975,
          "symbol": "circle"
         },
         "mode": "markers",
         "name": "IA",
         "orientation": "v",
         "showlegend": true,
         "type": "scatter",
         "x": {
          "bdata": "JzEIrBxaBUA=",
          "dtype": "f8"
         },
         "xaxis": "x",
         "y": {
          "bdata": "ZmZmZmZmD0A=",
          "dtype": "f8"
         },
         "yaxis": "y"
        },
        {
         "hovertemplate": "abbrev=KS<br>Speeding Accidents=%{x}<br>Alcohol Involvement=%{y}<br>total=%{marker.size}<extra></extra>",
         "legendgroup": "KS",
         "marker": {
          "color": "#FF6692",
          "size": {
           "bdata": "zczMzMzMMUA=",
           "dtype": "f8"
          },
          "sizemode": "area",
          "sizeref": 0.05975,
          "symbol": "circle"
         },
         "mode": "markers",
         "name": "KS",
         "orientation": "v",
         "showlegend": true,
         "type": "scatter",
         "x": {
          "bdata": "001iEFg5E0A=",
          "dtype": "f8"
         },
         "xaxis": "x",
         "y": {
          "bdata": "SgwCK4cWEUA=",
          "dtype": "f8"
         },
         "yaxis": "y"
        },
        {
         "hovertemplate": "abbrev=KY<br>Speeding Accidents=%{x}<br>Alcohol Involvement=%{y}<br>total=%{marker.size}<extra></extra>",
         "legendgroup": "KY",
         "marker": {
          "color": "#B6E880",
          "size": {
           "bdata": "ZmZmZmZmNUA=",
           "dtype": "f8"
          },
          "sizemode": "area",
          "sizeref": 0.05975,
          "symbol": "circle"
         },
         "mode": "markers",
         "name": "KY",
         "orientation": "v",
         "showlegend": true,
         "type": "scatter",
         "x": {
          "bdata": "3SQGgZVDEEA=",
          "dtype": "f8"
         },
         "xaxis": "x",
         "y": {
          "bdata": "46WbxCCwE0A=",
          "dtype": "f8"
         },
         "yaxis": "y"
        },
        {
         "hovertemplate": "abbrev=LA<br>Speeding Accidents=%{x}<br>Alcohol Involvement=%{y}<br>total=%{marker.size}<extra></extra>",
         "legendgroup": "LA",
         "marker": {
          "color": "#FF97FF",
          "size": {
           "bdata": "AAAAAACANEA=",
           "dtype": "f8"
          },
          "sizemode": "area",
          "sizeref": 0.05975,
          "symbol": "circle"
         },
         "mode": "markers",
         "name": "LA",
         "orientation": "v",
         "showlegend": true,
         "type": "scatter",
         "x": {
          "bdata": "MzMzMzOzHEA=",
          "dtype": "f8"
         },
         "xaxis": "x",
         "y": {
          "bdata": "j8L1KFwPG0A=",
          "dtype": "f8"
         },
         "yaxis": "y"
        },
        {
         "hovertemplate": "abbrev=ME<br>Speeding Accidents=%{x}<br>Alcohol Involvement=%{y}<br>total=%{marker.size}<extra></extra>",
         "legendgroup": "ME",
         "marker": {
          "color": "#FECB52",
          "size": {
           "bdata": "MzMzMzMzLkA=",
           "dtype": "f8"
          },
          "sizemode": "area",
          "sizeref": 0.05975,
          "symbol": "circle"
         },
         "mode": "markers",
         "name": "ME",
         "orientation": "v",
         "showlegend": true,
         "type": "scatter",
         "x": {
          "bdata": "wcqhRbbzFkA=",
          "dtype": "f8"
         },
         "xaxis": "x",
         "y": {
          "bdata": "H4XrUbgeEkA=",
          "dtype": "f8"
         },
         "yaxis": "y"
        },
        {
         "hovertemplate": "abbrev=MD<br>Speeding Accidents=%{x}<br>Alcohol Involvement=%{y}<br>total=%{marker.size}<extra></extra>",
         "legendgroup": "MD",
         "marker": {
          "color": "#636efa",
          "size": {
           "bdata": "AAAAAAAAKUA=",
           "dtype": "f8"
          },
          "sizemode": "area",
          "sizeref": 0.05975,
          "symbol": "circle"
         },
         "mode": "markers",
         "name": "MD",
         "orientation": "v",
         "showlegend": true,
         "type": "scatter",
         "x": {
          "bdata": "AAAAAAAAEUA=",
          "dtype": "f8"
         },
         "xaxis": "x",
         "y": {
          "bdata": "AAAAAAAAEEA=",
          "dtype": "f8"
         },
         "yaxis": "y"
        },
        {
         "hovertemplate": "abbrev=MA<br>Speeding Accidents=%{x}<br>Alcohol Involvement=%{y}<br>total=%{marker.size}<extra></extra>",
         "legendgroup": "MA",
         "marker": {
          "color": "#EF553B",
          "size": {
           "bdata": "ZmZmZmZmIEA=",
           "dtype": "f8"
          },
          "sizemode": "area",
          "sizeref": 0.05975,
          "symbol": "circle"
         },
         "mode": "markers",
         "name": "MA",
         "orientation": "v",
         "showlegend": true,
         "type": "scatter",
         "x": {
          "bdata": "kxgEVg4t/j8=",
          "dtype": "f8"
         },
         "xaxis": "x",
         "y": {
          "bdata": "9ihcj8L1BkA=",
          "dtype": "f8"
         },
         "yaxis": "y"
        },
        {
         "hovertemplate": "abbrev=MI<br>Speeding Accidents=%{x}<br>Alcohol Involvement=%{y}<br>total=%{marker.size}<extra></extra>",
         "legendgroup": "MI",
         "marker": {
          "color": "#00cc96",
          "size": {
           "bdata": "MzMzMzMzLEA=",
           "dtype": "f8"
          },
          "sizemode": "area",
          "sizeref": 0.05975,
          "symbol": "circle"
         },
         "mode": "markers",
         "name": "MI",
         "orientation": "v",
         "showlegend": true,
         "type": "scatter",
         "x": {
          "bdata": "30+Nl24SC0A=",
          "dtype": "f8"
         },
         "xaxis": "x",
         "y": {
          "bdata": "L90kBoGVD0A=",
          "dtype": "f8"
         },
         "yaxis": "y"
        },
        {
         "hovertemplate": "abbrev=MN<br>Speeding Accidents=%{x}<br>Alcohol Involvement=%{y}<br>total=%{marker.size}<extra></extra>",
         "legendgroup": "MN",
         "marker": {
          "color": "#ab63fa",
          "size": {
           "bdata": "MzMzMzMzI0A=",
           "dtype": "f8"
          },
          "sizemode": "area",
          "sizeref": 0.05975,
          "symbol": "circle"
         },
         "mode": "markers",
         "name": "MN",
         "orientation": "v",
         "showlegend": true,
         "type": "scatter",
         "x": {
          "bdata": "RIts5/upAUA=",
          "dtype": "f8"
         },
         "xaxis": "x",
         "y": {
          "bdata": "EoPAyqFFBkA=",
          "dtype": "f8"
         },
         "yaxis": "y"
        },
        {
         "hovertemplate": "abbrev=MS<br>Speeding Accidents=%{x}<br>Alcohol Involvement=%{y}<br>total=%{marker.size}<extra></extra>",
         "legendgroup": "MS",
         "marker": {
          "color": "#FFA15A",
          "size": {
           "bdata": "mpmZmZmZMUA=",
           "dtype": "f8"
          },
          "sizemode": "area",
          "sizeref": 0.05975,
          "symbol": "circle"
         },
         "mode": "markers",
         "name": "MS",
         "orientation": "v",
         "showlegend": true,
         "type": "scatter",
         "x": {
          "bdata": "H4XrUbgeBUA=",
          "dtype": "f8"
         },
         "xaxis": "x",
         "y": {
          "bdata": "bef7qfHSFUA=",
          "dtype": "f8"
         },
         "yaxis": "y"
        },
        {
         "hovertemplate": "abbrev=MO<br>Speeding Accidents=%{x}<br>Alcohol Involvement=%{y}<br>total=%{marker.size}<extra></extra>",
         "legendgroup": "MO",
         "marker": {
          "color": "#19d3f3",
          "size": {
           "bdata": "mpmZmZkZMEA=",
           "dtype": "f8"
          },
          "sizemode": "area",
          "sizeref": 0.05975,
          "symbol": "circle"
         },
         "mode": "markers",
         "name": "MO",
         "orientation": "v",
         "showlegend": true,
         "type": "scatter",
         "x": {
          "bdata": "/9R46SaxG0A=",
          "dtype": "f8"
         },
         "xaxis": "x",
         "y": {
          "bdata": "TTeJQWDlFUA=",
          "dtype": "f8"
         },
         "yaxis": "y"
        },
        {
         "hovertemplate": "abbrev=MT<br>Speeding Accidents=%{x}<br>Alcohol Involvement=%{y}<br>total=%{marker.size}<extra></extra>",
         "legendgroup": "MT",
         "marker": {
          "color": "#FF6692",
          "size": {
           "bdata": "ZmZmZmZmNUA=",
           "dtype": "f8"
          },
          "sizemode": "area",
          "sizeref": 0.05975,
          "symbol": "circle"
         },
         "mode": "markers",
         "name": "MT",
         "orientation": "v",
         "showlegend": true,
         "type": "scatter",
         "x": {
          "bdata": "/dR46SaxIEA=",
          "dtype": "f8"
         },
         "xaxis": "x",
         "y": {
          "bdata": "okW28/3UIkA=",
          "dtype": "f8"
         },
         "yaxis": "y"
        },
        {
         "hovertemplate": "abbrev=NE<br>Speeding Accidents=%{x}<br>Alcohol Involvement=%{y}<br>total=%{marker.size}<extra></extra>",
         "legendgroup": "NE",
         "marker": {
          "color": "#B6E880",
          "size": {
           "bdata": "zczMzMzMLUA=",
           "dtype": "f8"
          },
          "sizemode": "area",
          "sizeref": 0.05975,
          "symbol": "circle"
         },
         "mode": "markers",
         "name": "NE",
         "orientation": "v",
         "showlegend": true,
         "type": "scatter",
         "x": {
          "bdata": "zaFFtvP9/j8=",
          "dtype": "f8"
         },
         "xaxis": "x",
         "y": {
          "bdata": "XI/C9SjcFEA=",
          "dtype": "f8"
         },
         "yaxis": "y"
        },
        {
         "hovertemplate": "abbrev=NV<br>Speeding Accidents=%{x}<br>Alcohol Involvement=%{y}<br>total=%{marker.size}<extra></extra>",
         "legendgroup": "NV",
         "marker": {
          "color": "#FF97FF",
          "size": {
           "bdata": "ZmZmZmZmLUA=",
           "dtype": "f8"
          },
          "sizemode": "area",
          "sizeref": 0.05975,
          "symbol": "circle"
         },
         "mode": "markers",
         "name": "NV",
         "orientation": "v",
         "showlegend": true,
         "type": "scatter",
         "x": {
          "bdata": "qMZLN4nBFUA=",
          "dtype": "f8"
         },
         "xaxis": "x",
         "y": {
          "bdata": "N4lBYOXQEkA=",
          "dtype": "f8"
         },
         "yaxis": "y"
        },
        {
         "hovertemplate": "abbrev=NH<br>Speeding Accidents=%{x}<br>Alcohol Involvement=%{y}<br>total=%{marker.size}<extra></extra>",
         "legendgroup": "NH",
         "marker": {
          "color": "#FECB52",
          "size": {
           "bdata": "MzMzMzMzJ0A=",
           "dtype": "f8"
          },
          "sizemode": "area",
          "sizeref": 0.05975,
          "symbol": "circle"
         },
         "mode": "markers",
         "name": "NH",
         "orientation": "v",
         "showlegend": true,
         "type": "scatter",
         "x": {
          "bdata": "PQrXo3A9EEA=",
          "dtype": "f8"
         },
         "xaxis": "x",
         "y": {
          "bdata": "16NwPQrXC0A=",
          "dtype": "f8"
         },
         "yaxis": "y"
        },
        {
         "hovertemplate": "abbrev=NJ<br>Speeding Accidents=%{x}<br>Alcohol Involvement=%{y}<br>total=%{marker.size}<extra></extra>",
         "legendgroup": "NJ",
         "marker": {
          "color": "#636efa",
          "size": {
           "bdata": "ZmZmZmZmJkA=",
           "dtype": "f8"
          },
          "sizemode": "area",
          "sizeref": 0.05975,
          "symbol": "circle"
         },
         "mode": "markers",
         "name": "NJ",
         "orientation": "v",
         "showlegend": true,
         "type": "scatter",
         "x": {
          "bdata": "eOkmMQis/D8=",
          "dtype": "f8"
         },
         "xaxis": "x",
         "y": {
          "bdata": "SgwCK4cWCUA=",
          "dtype": "f8"
         },
         "yaxis": "y"
        },
        {
         "hovertemplate": "abbrev=NM<br>Speeding Accidents=%{x}<br>Alcohol Involvement=%{y}<br>total=%{marker.size}<extra></extra>",
         "legendgroup": "NM",
         "marker": {
          "color": "#EF553B",
          "size": {
           "bdata": "ZmZmZmZmMkA=",
           "dtype": "f8"
          },
          "sizemode": "area",
          "sizeref": 0.05975,
          "symbol": "circle"
         },
         "mode": "markers",
         "name": "NM",
         "orientation": "v",
         "showlegend": true,
         "type": "scatter",
         "x": {
          "bdata": "K4cW2c73C0A=",
          "dtype": "f8"
         },
         "xaxis": "x",
         "y": {
          "bdata": "rBxaZDvfE0A=",
          "dtype": "f8"
         },
         "yaxis": "y"
        },
        {
         "hovertemplate": "abbrev=NY<br>Speeding Accidents=%{x}<br>Alcohol Involvement=%{y}<br>total=%{marker.size}<extra></extra>",
         "legendgroup": "NY",
         "marker": {
          "color": "#00cc96",
          "size": {
           "bdata": "mpmZmZmZKEA=",
           "dtype": "f8"
          },
          "sizemode": "area",
          "sizeref": 0.05975,
          "symbol": "circle"
         },
         "mode": "markers",
         "name": "NY",
         "orientation": "v",
         "showlegend": true,
         "type": "scatter",
         "x": {
          "bdata": "sHJoke18D0A=",
          "dtype": "f8"
         },
         "xaxis": "x",
         "y": {
          "bdata": "8afGSzeJDEA=",
          "dtype": "f8"
         },
         "yaxis": "y"
        },
        {
         "hovertemplate": "abbrev=NC<br>Speeding Accidents=%{x}<br>Alcohol Involvement=%{y}<br>total=%{marker.size}<extra></extra>",
         "legendgroup": "NC",
         "marker": {
          "color": "#ab63fa",
          "size": {
           "bdata": "zczMzMzMMEA=",
           "dtype": "f8"
          },
          "sizemode": "area",
          "sizeref": 0.05975,
          "symbol": "circle"
         },
         "mode": "markers",
         "name": "NC",
         "orientation": "v",
         "showlegend": true,
         "type": "scatter",
         "x": {
          "bdata": "aZHtfD81GkA=",
          "dtype": "f8"
         },
         "xaxis": "x",
         "y": {
          "bdata": "o0W28/3UFEA=",
          "dtype": "f8"
         },
         "yaxis": "y"
        },
        {
         "hovertemplate": "abbrev=ND<br>Speeding Accidents=%{x}<br>Alcohol Involvement=%{y}<br>total=%{marker.size}<extra></extra>",
         "legendgroup": "ND",
         "marker": {
          "color": "#FFA15A",
          "size": {
           "bdata": "ZmZmZmbmN0A=",
           "dtype": "f8"
          },
          "sizemode": "area",
          "sizeref": 0.05975,
          "symbol": "circle"
         },
         "mode": "markers",
         "name": "ND",
         "orientation": "v",
         "showlegend": true,
         "type": "scatter",
         "x": {
          "bdata": "r3Joke38FUA=",
          "dtype": "f8"
         },
         "xaxis": "x",
         "y": {
          "bdata": "+n5qvHQTJEA=",
          "dtype": "f8"
         },
         "yaxis": "y"
        },
        {
         "hovertemplate": "abbrev=OH<br>Speeding Accidents=%{x}<br>Alcohol Involvement=%{y}<br>total=%{marker.size}<extra></extra>",
         "legendgroup": "OH",
         "marker": {
          "color": "#19d3f3",
          "size": {
           "bdata": "MzMzMzMzLEA=",
           "dtype": "f8"
          },
          "sizemode": "area",
          "sizeref": 0.05975,
          "symbol": "circle"
         },
         "mode": "markers",
         "name": "OH",
         "orientation": "v",
         "showlegend": true,
         "type": "scatter",
         "x": {
          "bdata": "L90kBoGVD0A=",
          "dtype": "f8"
         },
         "xaxis": "x",
         "y": {
          "bdata": "kxgEVg4tE0A=",
          "dtype": "f8"
         },
         "yaxis": "y"
        },
        {
         "hovertemplate": "abbrev=OK<br>Speeding Accidents=%{x}<br>Alcohol Involvement=%{y}<br>total=%{marker.size}<extra></extra>",
         "legendgroup": "OK",
         "marker": {
          "color": "#FF6692",
          "size": {
           "bdata": "ZmZmZmbmM0A=",
           "dtype": "f8"
          },
          "sizemode": "area",
          "sizeref": 0.05975,
          "symbol": "circle"
         },
         "mode": "markers",
         "name": "OK",
         "orientation": "v",
         "showlegend": true,
         "type": "scatter",
         "x": {
          "bdata": "Rbbz/dR4GUA=",
          "dtype": "f8"
         },
         "xaxis": "x",
         "y": {
          "bdata": "Lt0kBoEVF0A=",
          "dtype": "f8"
         },
         "yaxis": "y"
        },
        {
         "hovertemplate": "abbrev=OR<br>Speeding Accidents=%{x}<br>Alcohol Involvement=%{y}<br>total=%{marker.size}<extra></extra>",
         "legendgroup": "OR",
         "marker": {
          "color": "#B6E880",
          "size": {
           "bdata": "mpmZmZmZKUA=",
           "dtype": "f8"
          },
          "sizemode": "area",
          "sizeref": 0.05975,
          "symbol": "circle"
         },
         "mode": "markers",
         "name": "OR",
         "orientation": "v",
         "showlegend": true,
         "type": "scatter",
         "x": {
          "bdata": "TDeJQWDlEEA=",
          "dtype": "f8"
         },
         "xaxis": "x",
         "y": {
          "bdata": "OrTIdr6fCkA=",
          "dtype": "f8"
         },
         "yaxis": "y"
        },
        {
         "hovertemplate": "abbrev=PA<br>Speeding Accidents=%{x}<br>Alcohol Involvement=%{y}<br>total=%{marker.size}<extra></extra>",
         "legendgroup": "PA",
         "marker": {
          "color": "#FF97FF",
          "size": {
           "bdata": "MzMzMzMzMkA=",
           "dtype": "f8"
          },
          "sizemode": "area",
          "sizeref": 0.05975,
          "symbol": "circle"
         },
         "mode": "markers",
         "name": "PA",
         "orientation": "v",
         "showlegend": true,
         "type": "scatter",
         "x": {
          "bdata": "MzMzMzMzIkA=",
          "dtype": "f8"
         },
         "xaxis": "x",
         "y": {
          "bdata": "xSCwcmiRFkA=",
          "dtype": "f8"
         },
         "yaxis": "y"
        },
        {
         "hovertemplate": "abbrev=RI<br>Speeding Accidents=%{x}<br>Alcohol Involvement=%{y}<br>total=%{marker.size}<extra></extra>",
         "legendgroup": "RI",
         "marker": {
          "color": "#FECB52",
          "size": {
           "bdata": "MzMzMzMzJkA=",
           "dtype": "f8"
          },
          "sizemode": "area",
          "sizeref": 0.05975,
          "symbol": "circle"
         },
         "mode": "markers",
         "name": "RI",
         "orientation": "v",
         "showlegend": true,
         "type": "scatter",
         "x": {
          "bdata": "/tR46SYxDkA=",
          "dtype": "f8"
         },
         "xaxis": "x",
         "y": {
          "bdata": "rBxaZDvfEEA=",
          "dtype": "f8"
         },
         "yaxis": "y"
        },
        {
         "hovertemplate": "abbrev=SC<br>Speeding Accidents=%{x}<br>Alcohol Involvement=%{y}<br>total=%{marker.size}<extra></extra>",
         "legendgroup": "SC",
         "marker": {
          "color": "#636efa",
          "size": {
           "bdata": "ZmZmZmbmN0A=",
           "dtype": "f8"
          },
          "sizemode": "area",
          "sizeref": 0.05975,
          "symbol": "circle"
         },
         "mode": "markers",
         "name": "SC",
         "orientation": "v",
         "showlegend": true,
         "type": "scatter",
         "x": {
          "bdata": "RIts5/spIkA=",
          "dtype": "f8"
         },
         "xaxis": "x",
         "y": {
          "bdata": "DAIrhxaZI0A=",
          "dtype": "f8"
         },
         "yaxis": "y"
        },
        {
         "hovertemplate": "abbrev=SD<br>Speeding Accidents=%{x}<br>Alcohol Involvement=%{y}<br>total=%{marker.size}<extra></extra>",
         "legendgroup": "SD",
         "marker": {
          "color": "#EF553B",
          "size": {
           "bdata": "ZmZmZmZmM0A=",
           "dtype": "f8"
          },
          "sizemode": "area",
          "sizeref": 0.05975,
          "symbol": "circle"
         },
         "mode": "markers",
         "name": "SD",
         "orientation": "v",
         "showlegend": true,
         "type": "scatter",
         "x": {
          "bdata": "dJMYBFYOGEA=",
          "dtype": "f8"
         },
         "xaxis": "x",
         "y": {
          "bdata": "zvdT46WbGUA=",
          "dtype": "f8"
         },
         "yaxis": "y"
        },
        {
         "hovertemplate": "abbrev=TN<br>Speeding Accidents=%{x}<br>Alcohol Involvement=%{y}<br>total=%{marker.size}<extra></extra>",
         "legendgroup": "TN",
         "marker": {
          "color": "#00cc96",
          "size": {
           "bdata": "AAAAAACAM0A=",
           "dtype": "f8"
          },
          "sizemode": "area",
          "sizeref": 0.05975,
          "symbol": "circle"
         },
         "mode": "markers",
         "name": "TN",
         "orientation": "v",
         "showlegend": true,
         "type": "scatter",
         "x": {
          "bdata": "4XoUrkdhEEA=",
          "dtype": "f8"
         },
         "xaxis": "x",
         "y": {
          "bdata": "H4XrUbieFkA=",
          "dtype": "f8"
         },
         "yaxis": "y"
        },
        {
         "hovertemplate": "abbrev=TX<br>Speeding Accidents=%{x}<br>Alcohol Involvement=%{y}<br>total=%{marker.size}<extra></extra>",
         "legendgroup": "TX",
         "marker": {
          "color": "#ab63fa",
          "size": {
           "bdata": "ZmZmZmZmM0A=",
           "dtype": "f8"
          },
          "sizemode": "area",
          "sizeref": 0.05975,
          "symbol": "circle"
         },
         "mode": "markers",
         "name": "TX",
         "orientation": "v",
         "showlegend": true,
         "type": "scatter",
         "x": {
          "bdata": "CtejcD0KH0A=",
          "dtype": "f8"
         },
         "xaxis": "x",
         "y": {
          "bdata": "r3Joke18HUA=",
          "dtype": "f8"
         },
         "yaxis": "y"
        },
        {
         "hovertemplate": "abbrev=UT<br>Speeding Accidents=%{x}<br>Alcohol Involvement=%{y}<br>total=%{marker.size}<extra></extra>",
         "legendgroup": "UT",
         "marker": {
          "color": "#FFA15A",
          "size": {
           "bdata": "mpmZmZmZJkA=",
           "dtype": "f8"
          },
          "sizemode": "area",
          "sizeref": 0.05975,
          "symbol": "circle"
         },
         "mode": "markers",
         "name": "UT",
         "orientation": "v",
         "showlegend": true,
         "type": "scatter",
         "x": {
          "bdata": "Vg4tsp1vE0A=",
          "dtype": "f8"
         },
         "xaxis": "x",
         "y": {
          "bdata": "IbByaJHt/D8=",
          "dtype": "f8"
         },
         "yaxis": "y"
        },
        {
         "hovertemplate": "abbrev=VT<br>Speeding Accidents=%{x}<br>Alcohol Involvement=%{y}<br>total=%{marker.size}<extra></extra>",
         "legendgroup": "VT",
         "marker": {
          "color": "#19d3f3",
          "size": {
           "bdata": "MzMzMzMzK0A=",
           "dtype": "f8"
          },
          "sizemode": "area",
          "sizeref": 0.05975,
          "symbol": "circle"
         },
         "mode": "markers",
         "name": "VT",
         "orientation": "v",
         "showlegend": true,
         "type": "scatter",
         "x": {
          "bdata": "UrgehetREEA=",
          "dtype": "f8"
         },
         "xaxis": "x",
         "y": {
          "bdata": "UrgehetREEA=",
          "dtype": "f8"
         },
         "yaxis": "y"
        },
        {
         "hovertemplate": "abbrev=VA<br>Speeding Accidents=%{x}<br>Alcohol Involvement=%{y}<br>total=%{marker.size}<extra></extra>",
         "legendgroup": "VA",
         "marker": {
          "color": "#FF6692",
          "size": {
           "bdata": "ZmZmZmZmKUA=",
           "dtype": "f8"
          },
          "sizemode": "area",
          "sizeref": 0.05975,
          "symbol": "circle"
         },
         "mode": "markers",
         "name": "VA",
         "orientation": "v",
         "showlegend": true,
         "type": "scatter",
         "x": {
          "bdata": "5/up8dJNA0A=",
          "dtype": "f8"
         },
         "xaxis": "x",
         "y": {
          "bdata": "O99PjZduC0A=",
          "dtype": "f8"
         },
         "yaxis": "y"
        },
        {
         "hovertemplate": "abbrev=WA<br>Speeding Accidents=%{x}<br>Alcohol Involvement=%{y}<br>total=%{marker.size}<extra></extra>",
         "legendgroup": "WA",
         "marker": {
          "color": "#B6E880",
          "size": {
           "bdata": "MzMzMzMzJUA=",
           "dtype": "f8"
          },
          "sizemode": "area",
          "sizeref": 0.05975,
          "symbol": "circle"
         },
         "mode": "markers",
         "name": "WA",
         "orientation": "v",
         "showlegend": true,
         "type": "scatter",
         "x": {
          "bdata": "AiuHFtnOEUA=",
          "dtype": "f8"
         },
         "xaxis": "x",
         "y": {
          "bdata": "lkOLbOf7C0A=",
          "dtype": "f8"
         },
         "yaxis": "y"
        },
        {
         "hovertemplate": "abbrev=WV<br>Speeding Accidents=%{x}<br>Alcohol Involvement=%{y}<br>total=%{marker.size}<extra></extra>",
         "legendgroup": "WV",
         "marker": {
          "color": "#FF97FF",
          "size": {
           "bdata": "zczMzMzMN0A=",
           "dtype": "f8"
          },
          "sizemode": "area",
          "sizeref": 0.05975,
          "symbol": "circle"
         },
         "mode": "markers",
         "name": "WV",
         "orientation": "v",
         "showlegend": true,
         "type": "scatter",
         "x": {
          "bdata": "yXa+nxovIEA=",
          "dtype": "f8"
         },
         "xaxis": "x",
         "y": {
          "bdata": "Di2yne+nGkA=",
          "dtype": "f8"
         },
         "yaxis": "y"
        },
        {
         "hovertemplate": "abbrev=WI<br>Speeding Accidents=%{x}<br>Alcohol Involvement=%{y}<br>total=%{marker.size}<extra></extra>",
         "legendgroup": "WI",
         "marker": {
          "color": "#FECB52",
          "size": {
           "bdata": "mpmZmZmZK0A=",
           "dtype": "f8"
          },
          "sizemode": "area",
          "sizeref": 0.05975,
          "symbol": "circle"
         },
         "mode": "markers",
         "name": "WI",
         "orientation": "v",
         "showlegend": true,
         "type": "scatter",
         "x": {
          "bdata": "rBxaZDvfE0A=",
          "dtype": "f8"
         },
         "xaxis": "x",
         "y": {
          "bdata": "nu+nxks3EkA=",
          "dtype": "f8"
         },
         "yaxis": "y"
        },
        {
         "hovertemplate": "abbrev=WY<br>Speeding Accidents=%{x}<br>Alcohol Involvement=%{y}<br>total=%{marker.size}<extra></extra>",
         "legendgroup": "WY",
         "marker": {
          "color": "#636efa",
          "size": {
           "bdata": "ZmZmZmZmMUA=",
           "dtype": "f8"
          },
          "sizemode": "area",
          "sizeref": 0.05975,
          "symbol": "circle"
         },
         "mode": "markers",
         "name": "WY",
         "orientation": "v",
         "showlegend": true,
         "type": "scatter",
         "x": {
          "bdata": "CKwcWmQ7HUA=",
          "dtype": "f8"
         },
         "xaxis": "x",
         "y": {
          "bdata": "EoPAyqFFFkA=",
          "dtype": "f8"
         },
         "yaxis": "y"
        }
       ],
       "layout": {
        "legend": {
         "itemsizing": "constant",
         "title": {
          "text": "abbrev"
         },
         "tracegroupgap": 0
        },
        "template": {
         "data": {
          "bar": [
           {
            "error_x": {
             "color": "#2a3f5f"
            },
            "error_y": {
             "color": "#2a3f5f"
            },
            "marker": {
             "line": {
              "color": "#E5ECF6",
              "width": 0.5
             },
             "pattern": {
              "fillmode": "overlay",
              "size": 10,
              "solidity": 0.2
             }
            },
            "type": "bar"
           }
          ],
          "barpolar": [
           {
            "marker": {
             "line": {
              "color": "#E5ECF6",
              "width": 0.5
             },
             "pattern": {
              "fillmode": "overlay",
              "size": 10,
              "solidity": 0.2
             }
            },
            "type": "barpolar"
           }
          ],
          "carpet": [
           {
            "aaxis": {
             "endlinecolor": "#2a3f5f",
             "gridcolor": "white",
             "linecolor": "white",
             "minorgridcolor": "white",
             "startlinecolor": "#2a3f5f"
            },
            "baxis": {
             "endlinecolor": "#2a3f5f",
             "gridcolor": "white",
             "linecolor": "white",
             "minorgridcolor": "white",
             "startlinecolor": "#2a3f5f"
            },
            "type": "carpet"
           }
          ],
          "choropleth": [
           {
            "colorbar": {
             "outlinewidth": 0,
             "ticks": ""
            },
            "type": "choropleth"
           }
          ],
          "contour": [
           {
            "colorbar": {
             "outlinewidth": 0,
             "ticks": ""
            },
            "colorscale": [
             [
              0,
              "#0d0887"
             ],
             [
              0.1111111111111111,
              "#46039f"
             ],
             [
              0.2222222222222222,
              "#7201a8"
             ],
             [
              0.3333333333333333,
              "#9c179e"
             ],
             [
              0.4444444444444444,
              "#bd3786"
             ],
             [
              0.5555555555555556,
              "#d8576b"
             ],
             [
              0.6666666666666666,
              "#ed7953"
             ],
             [
              0.7777777777777778,
              "#fb9f3a"
             ],
             [
              0.8888888888888888,
              "#fdca26"
             ],
             [
              1,
              "#f0f921"
             ]
            ],
            "type": "contour"
           }
          ],
          "contourcarpet": [
           {
            "colorbar": {
             "outlinewidth": 0,
             "ticks": ""
            },
            "type": "contourcarpet"
           }
          ],
          "heatmap": [
           {
            "colorbar": {
             "outlinewidth": 0,
             "ticks": ""
            },
            "colorscale": [
             [
              0,
              "#0d0887"
             ],
             [
              0.1111111111111111,
              "#46039f"
             ],
             [
              0.2222222222222222,
              "#7201a8"
             ],
             [
              0.3333333333333333,
              "#9c179e"
             ],
             [
              0.4444444444444444,
              "#bd3786"
             ],
             [
              0.5555555555555556,
              "#d8576b"
             ],
             [
              0.6666666666666666,
              "#ed7953"
             ],
             [
              0.7777777777777778,
              "#fb9f3a"
             ],
             [
              0.8888888888888888,
              "#fdca26"
             ],
             [
              1,
              "#f0f921"
             ]
            ],
            "type": "heatmap"
           }
          ],
          "histogram": [
           {
            "marker": {
             "pattern": {
              "fillmode": "overlay",
              "size": 10,
              "solidity": 0.2
             }
            },
            "type": "histogram"
           }
          ],
          "histogram2d": [
           {
            "colorbar": {
             "outlinewidth": 0,
             "ticks": ""
            },
            "colorscale": [
             [
              0,
              "#0d0887"
             ],
             [
              0.1111111111111111,
              "#46039f"
             ],
             [
              0.2222222222222222,
              "#7201a8"
             ],
             [
              0.3333333333333333,
              "#9c179e"
             ],
             [
              0.4444444444444444,
              "#bd3786"
             ],
             [
              0.5555555555555556,
              "#d8576b"
             ],
             [
              0.6666666666666666,
              "#ed7953"
             ],
             [
              0.7777777777777778,
              "#fb9f3a"
             ],
             [
              0.8888888888888888,
              "#fdca26"
             ],
             [
              1,
              "#f0f921"
             ]
            ],
            "type": "histogram2d"
           }
          ],
          "histogram2dcontour": [
           {
            "colorbar": {
             "outlinewidth": 0,
             "ticks": ""
            },
            "colorscale": [
             [
              0,
              "#0d0887"
             ],
             [
              0.1111111111111111,
              "#46039f"
             ],
             [
              0.2222222222222222,
              "#7201a8"
             ],
             [
              0.3333333333333333,
              "#9c179e"
             ],
             [
              0.4444444444444444,
              "#bd3786"
             ],
             [
              0.5555555555555556,
              "#d8576b"
             ],
             [
              0.6666666666666666,
              "#ed7953"
             ],
             [
              0.7777777777777778,
              "#fb9f3a"
             ],
             [
              0.8888888888888888,
              "#fdca26"
             ],
             [
              1,
              "#f0f921"
             ]
            ],
            "type": "histogram2dcontour"
           }
          ],
          "mesh3d": [
           {
            "colorbar": {
             "outlinewidth": 0,
             "ticks": ""
            },
            "type": "mesh3d"
           }
          ],
          "parcoords": [
           {
            "line": {
             "colorbar": {
              "outlinewidth": 0,
              "ticks": ""
             }
            },
            "type": "parcoords"
           }
          ],
          "pie": [
           {
            "automargin": true,
            "type": "pie"
           }
          ],
          "scatter": [
           {
            "fillpattern": {
             "fillmode": "overlay",
             "size": 10,
             "solidity": 0.2
            },
            "type": "scatter"
           }
          ],
          "scatter3d": [
           {
            "line": {
             "colorbar": {
              "outlinewidth": 0,
              "ticks": ""
             }
            },
            "marker": {
             "colorbar": {
              "outlinewidth": 0,
              "ticks": ""
             }
            },
            "type": "scatter3d"
           }
          ],
          "scattercarpet": [
           {
            "marker": {
             "colorbar": {
              "outlinewidth": 0,
              "ticks": ""
             }
            },
            "type": "scattercarpet"
           }
          ],
          "scattergeo": [
           {
            "marker": {
             "colorbar": {
              "outlinewidth": 0,
              "ticks": ""
             }
            },
            "type": "scattergeo"
           }
          ],
          "scattergl": [
           {
            "marker": {
             "colorbar": {
              "outlinewidth": 0,
              "ticks": ""
             }
            },
            "type": "scattergl"
           }
          ],
          "scattermap": [
           {
            "marker": {
             "colorbar": {
              "outlinewidth": 0,
              "ticks": ""
             }
            },
            "type": "scattermap"
           }
          ],
          "scattermapbox": [
           {
            "marker": {
             "colorbar": {
              "outlinewidth": 0,
              "ticks": ""
             }
            },
            "type": "scattermapbox"
           }
          ],
          "scatterpolar": [
           {
            "marker": {
             "colorbar": {
              "outlinewidth": 0,
              "ticks": ""
             }
            },
            "type": "scatterpolar"
           }
          ],
          "scatterpolargl": [
           {
            "marker": {
             "colorbar": {
              "outlinewidth": 0,
              "ticks": ""
             }
            },
            "type": "scatterpolargl"
           }
          ],
          "scatterternary": [
           {
            "marker": {
             "colorbar": {
              "outlinewidth": 0,
              "ticks": ""
             }
            },
            "type": "scatterternary"
           }
          ],
          "surface": [
           {
            "colorbar": {
             "outlinewidth": 0,
             "ticks": ""
            },
            "colorscale": [
             [
              0,
              "#0d0887"
             ],
             [
              0.1111111111111111,
              "#46039f"
             ],
             [
              0.2222222222222222,
              "#7201a8"
             ],
             [
              0.3333333333333333,
              "#9c179e"
             ],
             [
              0.4444444444444444,
              "#bd3786"
             ],
             [
              0.5555555555555556,
              "#d8576b"
             ],
             [
              0.6666666666666666,
              "#ed7953"
             ],
             [
              0.7777777777777778,
              "#fb9f3a"
             ],
             [
              0.8888888888888888,
              "#fdca26"
             ],
             [
              1,
              "#f0f921"
             ]
            ],
            "type": "surface"
           }
          ],
          "table": [
           {
            "cells": {
             "fill": {
              "color": "#EBF0F8"
             },
             "line": {
              "color": "white"
             }
            },
            "header": {
             "fill": {
              "color": "#C8D4E3"
             },
             "line": {
              "color": "white"
             }
            },
            "type": "table"
           }
          ]
         },
         "layout": {
          "annotationdefaults": {
           "arrowcolor": "#2a3f5f",
           "arrowhead": 0,
           "arrowwidth": 1
          },
          "autotypenumbers": "strict",
          "coloraxis": {
           "colorbar": {
            "outlinewidth": 0,
            "ticks": ""
           }
          },
          "colorscale": {
           "diverging": [
            [
             0,
             "#8e0152"
            ],
            [
             0.1,
             "#c51b7d"
            ],
            [
             0.2,
             "#de77ae"
            ],
            [
             0.3,
             "#f1b6da"
            ],
            [
             0.4,
             "#fde0ef"
            ],
            [
             0.5,
             "#f7f7f7"
            ],
            [
             0.6,
             "#e6f5d0"
            ],
            [
             0.7,
             "#b8e186"
            ],
            [
             0.8,
             "#7fbc41"
            ],
            [
             0.9,
             "#4d9221"
            ],
            [
             1,
             "#276419"
            ]
           ],
           "sequential": [
            [
             0,
             "#0d0887"
            ],
            [
             0.1111111111111111,
             "#46039f"
            ],
            [
             0.2222222222222222,
             "#7201a8"
            ],
            [
             0.3333333333333333,
             "#9c179e"
            ],
            [
             0.4444444444444444,
             "#bd3786"
            ],
            [
             0.5555555555555556,
             "#d8576b"
            ],
            [
             0.6666666666666666,
             "#ed7953"
            ],
            [
             0.7777777777777778,
             "#fb9f3a"
            ],
            [
             0.8888888888888888,
             "#fdca26"
            ],
            [
             1,
             "#f0f921"
            ]
           ],
           "sequentialminus": [
            [
             0,
             "#0d0887"
            ],
            [
             0.1111111111111111,
             "#46039f"
            ],
            [
             0.2222222222222222,
             "#7201a8"
            ],
            [
             0.3333333333333333,
             "#9c179e"
            ],
            [
             0.4444444444444444,
             "#bd3786"
            ],
            [
             0.5555555555555556,
             "#d8576b"
            ],
            [
             0.6666666666666666,
             "#ed7953"
            ],
            [
             0.7777777777777778,
             "#fb9f3a"
            ],
            [
             0.8888888888888888,
             "#fdca26"
            ],
            [
             1,
             "#f0f921"
            ]
           ]
          },
          "colorway": [
           "#636efa",
           "#EF553B",
           "#00cc96",
           "#ab63fa",
           "#FFA15A",
           "#19d3f3",
           "#FF6692",
           "#B6E880",
           "#FF97FF",
           "#FECB52"
          ],
          "font": {
           "color": "#2a3f5f"
          },
          "geo": {
           "bgcolor": "white",
           "lakecolor": "white",
           "landcolor": "#E5ECF6",
           "showlakes": true,
           "showland": true,
           "subunitcolor": "white"
          },
          "hoverlabel": {
           "align": "left"
          },
          "hovermode": "closest",
          "mapbox": {
           "style": "light"
          },
          "paper_bgcolor": "white",
          "plot_bgcolor": "#E5ECF6",
          "polar": {
           "angularaxis": {
            "gridcolor": "white",
            "linecolor": "white",
            "ticks": ""
           },
           "bgcolor": "#E5ECF6",
           "radialaxis": {
            "gridcolor": "white",
            "linecolor": "white",
            "ticks": ""
           }
          },
          "scene": {
           "xaxis": {
            "backgroundcolor": "#E5ECF6",
            "gridcolor": "white",
            "gridwidth": 2,
            "linecolor": "white",
            "showbackground": true,
            "ticks": "",
            "zerolinecolor": "white"
           },
           "yaxis": {
            "backgroundcolor": "#E5ECF6",
            "gridcolor": "white",
            "gridwidth": 2,
            "linecolor": "white",
            "showbackground": true,
            "ticks": "",
            "zerolinecolor": "white"
           },
           "zaxis": {
            "backgroundcolor": "#E5ECF6",
            "gridcolor": "white",
            "gridwidth": 2,
            "linecolor": "white",
            "showbackground": true,
            "ticks": "",
            "zerolinecolor": "white"
           }
          },
          "shapedefaults": {
           "line": {
            "color": "#2a3f5f"
           }
          },
          "ternary": {
           "aaxis": {
            "gridcolor": "white",
            "linecolor": "white",
            "ticks": ""
           },
           "baxis": {
            "gridcolor": "white",
            "linecolor": "white",
            "ticks": ""
           },
           "bgcolor": "#E5ECF6",
           "caxis": {
            "gridcolor": "white",
            "linecolor": "white",
            "ticks": ""
           }
          },
          "title": {
           "x": 0.05
          },
          "xaxis": {
           "automargin": true,
           "gridcolor": "white",
           "linecolor": "white",
           "ticks": "",
           "title": {
            "standoff": 15
           },
           "zerolinecolor": "white",
           "zerolinewidth": 2
          },
          "yaxis": {
           "automargin": true,
           "gridcolor": "white",
           "linecolor": "white",
           "ticks": "",
           "title": {
            "standoff": 15
           },
           "zerolinecolor": "white",
           "zerolinewidth": 2
          }
         }
        },
        "title": {
         "text": "Speeding vs Alcohol",
         "x": 0.5
        },
        "xaxis": {
         "anchor": "y",
         "domain": [
          0,
          1
         ],
         "title": {
          "text": "Speeding Accidents"
         }
        },
        "yaxis": {
         "anchor": "x",
         "domain": [
          0,
          1
         ],
         "title": {
          "text": "Alcohol Involvement"
         }
        }
       }
      }
     },
     "metadata": {},
     "output_type": "display_data"
    }
   ],
   "source": [
    "#Alcohol vs Speeding\n",
    "fig = px.scatter(df, x = 'speeding', y = 'alcohol',\n",
    "                 color='abbrev',\n",
    "                 size='total',\n",
    "                 title='Speeding vs Alcohol',\n",
    "                 labels= {'speeding':'Speeding Accidents',\n",
    "                 'alcohol':'Alcohol Involvement'})\n",
    "fig.update_layout(title={'x':0.5})\n",
    "fig.show()"
   ]
  },
  {
   "cell_type": "code",
   "execution_count": 10,
   "id": "51647c72",
   "metadata": {},
   "outputs": [
    {
     "data": {
      "application/vnd.plotly.v1+json": {
       "config": {
        "plotlyServerURL": "https://plot.ly"
       },
       "data": [
        {
         "hovertemplate": "variable=speeding<br>abbrev=%{x}<br>Percentage=%{y}<extra></extra>",
         "legendgroup": "speeding",
         "marker": {
          "color": "#636efa",
          "pattern": {
           "shape": ""
          }
         },
         "name": "speeding",
         "orientation": "v",
         "showlegend": true,
         "textposition": "auto",
         "type": "bar",
         "x": [
          "AL",
          "AK",
          "AZ",
          "AR",
          "CA",
          "CO",
          "CT",
          "DE",
          "DC",
          "FL",
          "GA",
          "HI",
          "ID",
          "IL",
          "IN",
          "IA",
          "KS",
          "KY",
          "LA",
          "ME",
          "MD",
          "MA",
          "MI",
          "MN",
          "MS",
          "MO",
          "MT",
          "NE",
          "NV",
          "NH",
          "NJ",
          "NM",
          "NY",
          "NC",
          "ND",
          "OH",
          "OK",
          "OR",
          "PA",
          "RI",
          "SC",
          "SD",
          "TN",
          "TX",
          "UT",
          "VT",
          "VA",
          "WA",
          "WV",
          "WI",
          "WY"
         ],
         "xaxis": "x",
         "y": {
          "bdata": "iBbZzvdTHUDJdr6fGq8dQArXo3A9ChpAVOOlm8QgEEDNzMzMzMwQQFTjpZvEIBRArBxaZDvfE0A6tMh2vp8YQD81XrpJDABA30+Nl24SDkCDwMqhRbYHQGZmZmZm5iJA1njpJjEIFkA830+Nl24SQAAAAAAAAA1AJzEIrBxaBUDTTWIQWDkTQN0kBoGVQxBAMzMzMzOzHEDByqFFtvMWQAAAAAAAABFAkxgEVg4t/j/fT42XbhILQESLbOf7qQFAH4XrUbgeBUD/1HjpJrEbQP3UeOkmsSBAzaFFtvP9/j+oxks3icEVQD0K16NwPRBAeOkmMQis/D8rhxbZzvcLQLByaJHtfA9AaZHtfD81GkCvcmiR7fwVQC/dJAaBlQ9ARbbz/dR4GUBMN4lBYOUQQDMzMzMzMyJA/tR46SYxDkBEi2zn+ykiQHSTGARWDhhA4XoUrkdhEEAK16NwPQofQFYOLbKdbxNAUrgehetREEDn+6nx0k0DQAIrhxbZzhFAyXa+nxovIECsHFpkO98TQAisHFpkOx1A",
          "dtype": "f8"
         },
         "yaxis": "y"
        }
       ],
       "frames": [
        {
         "data": [
          {
           "hovertemplate": "variable=speeding<br>abbrev=%{x}<br>Percentage=%{y}<extra></extra>",
           "legendgroup": "speeding",
           "marker": {
            "color": "#636efa",
            "pattern": {
             "shape": ""
            }
           },
           "name": "speeding",
           "orientation": "v",
           "showlegend": true,
           "textposition": "auto",
           "type": "bar",
           "x": [
            "AL",
            "AK",
            "AZ",
            "AR",
            "CA",
            "CO",
            "CT",
            "DE",
            "DC",
            "FL",
            "GA",
            "HI",
            "ID",
            "IL",
            "IN",
            "IA",
            "KS",
            "KY",
            "LA",
            "ME",
            "MD",
            "MA",
            "MI",
            "MN",
            "MS",
            "MO",
            "MT",
            "NE",
            "NV",
            "NH",
            "NJ",
            "NM",
            "NY",
            "NC",
            "ND",
            "OH",
            "OK",
            "OR",
            "PA",
            "RI",
            "SC",
            "SD",
            "TN",
            "TX",
            "UT",
            "VT",
            "VA",
            "WA",
            "WV",
            "WI",
            "WY"
           ],
           "xaxis": "x",
           "y": {
            "bdata": "iBbZzvdTHUDJdr6fGq8dQArXo3A9ChpAVOOlm8QgEEDNzMzMzMwQQFTjpZvEIBRArBxaZDvfE0A6tMh2vp8YQD81XrpJDABA30+Nl24SDkCDwMqhRbYHQGZmZmZm5iJA1njpJjEIFkA830+Nl24SQAAAAAAAAA1AJzEIrBxaBUDTTWIQWDkTQN0kBoGVQxBAMzMzMzOzHEDByqFFtvMWQAAAAAAAABFAkxgEVg4t/j/fT42XbhILQESLbOf7qQFAH4XrUbgeBUD/1HjpJrEbQP3UeOkmsSBAzaFFtvP9/j+oxks3icEVQD0K16NwPRBAeOkmMQis/D8rhxbZzvcLQLByaJHtfA9AaZHtfD81GkCvcmiR7fwVQC/dJAaBlQ9ARbbz/dR4GUBMN4lBYOUQQDMzMzMzMyJA/tR46SYxDkBEi2zn+ykiQHSTGARWDhhA4XoUrkdhEEAK16NwPQofQFYOLbKdbxNAUrgehetREEDn+6nx0k0DQAIrhxbZzhFAyXa+nxovIECsHFpkO98TQAisHFpkOx1A",
            "dtype": "f8"
           },
           "yaxis": "y"
          }
         ],
         "name": "speeding"
        },
        {
         "data": [
          {
           "hovertemplate": "variable=alcohol<br>abbrev=%{x}<br>Percentage=%{y}<extra></extra>",
           "legendgroup": "alcohol",
           "marker": {
            "color": "#EF553B",
            "pattern": {
             "shape": ""
            }
           },
           "name": "alcohol",
           "orientation": "v",
           "showlegend": true,
           "textposition": "auto",
           "type": "bar",
           "x": [
            "AL",
            "AK",
            "AZ",
            "AR",
            "CA",
            "CO",
            "CT",
            "DE",
            "DC",
            "FL",
            "GA",
            "HI",
            "ID",
            "IL",
            "IN",
            "IA",
            "KS",
            "KY",
            "LA",
            "ME",
            "MD",
            "MA",
            "MI",
            "MN",
            "MS",
            "MO",
            "MT",
            "NE",
            "NV",
            "NH",
            "NJ",
            "NM",
            "NY",
            "NC",
            "ND",
            "OH",
            "OK",
            "OR",
            "PA",
            "RI",
            "SC",
            "SD",
            "TN",
            "TX",
            "UT",
            "VT",
            "VA",
            "WA",
            "WV",
            "WI",
            "WY"
           ],
           "xaxis": "x",
           "y": {
            "bdata": "j8L1KFyPFkCamZmZmRkSQKNFtvP91BRAsp3vp8ZLF0DhehSuR+EKQBBYObTIdg5AtMh2vp8aD0BxPQrXo3ATQLFyaJHtfPk/3CQGgZXDFEAzMzMzMzMPQDMzMzMzsxxAc2iR7Xy/EUCcxCCwcmgRQFK4HoXr0RBAZmZmZmZmD0BKDAIrhxYRQOOlm8QgsBNAj8L1KFwPG0AfhetRuB4SQAAAAAAAABBA9ihcj8L1BkAv3SQGgZUPQBKDwMqhRQZAbef7qfHSFUBNN4lBYOUVQKJFtvP91CJAXI/C9SjcFEA3iUFg5dASQNejcD0K1wtASgwCK4cWCUCsHFpkO98TQPGnxks3iQxAo0W28/3UFED6fmq8dBMkQJMYBFYOLRNALt0kBoEVF0A6tMh2vp8KQMUgsHJokRZArBxaZDvfEEAMAiuHFpkjQM73U+OlmxlAH4XrUbieFkCvcmiR7XwdQCGwcmiR7fw/UrgehetREEA730+Nl24LQJZDi2zn+wtADi2yne+nGkCe76fGSzcSQBKDwMqhRRZA",
            "dtype": "f8"
           },
           "yaxis": "y"
          }
         ],
         "name": "alcohol"
        },
        {
         "data": [
          {
           "hovertemplate": "variable=not_distracted<br>abbrev=%{x}<br>Percentage=%{y}<extra></extra>",
           "legendgroup": "not_distracted",
           "marker": {
            "color": "#00cc96",
            "pattern": {
             "shape": ""
            }
           },
           "name": "not_distracted",
           "orientation": "v",
           "showlegend": true,
           "textposition": "auto",
           "type": "bar",
           "x": [
            "AL",
            "AK",
            "AZ",
            "AR",
            "CA",
            "CO",
            "CT",
            "DE",
            "DC",
            "FL",
            "GA",
            "HI",
            "ID",
            "IL",
            "IN",
            "IA",
            "KS",
            "KY",
            "LA",
            "ME",
            "MD",
            "MA",
            "MI",
            "MN",
            "MS",
            "MO",
            "MT",
            "NE",
            "NV",
            "NH",
            "NJ",
            "NM",
            "NY",
            "NC",
            "ND",
            "OH",
            "OK",
            "OR",
            "PA",
            "RI",
            "SC",
            "SD",
            "TN",
            "TX",
            "UT",
            "VT",
            "VA",
            "WA",
            "WV",
            "WI",
            "WY"
           ],
           "xaxis": "x",
           "y": {
            "bdata": "PzVeukkMMkAL16NwPUowQHNoke18Py9AdZMYBFYONUDXo3A9CtclQK9yaJHtfCVAmG4Sg8DKIkDjpZvEIDAsQJqZmZmZmRdAK4cW2c53MECkcD0K16MtQDMzMzMzsyxAw/UoXI8CKkCq8dJNYhAoQM3MzMzMjCtAaJHtfD91LkC28/3UeGkrQP3UeOkmsTBArkfhehTuLUCgGi/dJEYqQAAAAAAAwCFA8KfGSzeJHEAK16NwPcoqQEw3iUFg5SBAKVyPwvUo/D85tMh2vp8tQGDl0CLb+TFAEFg5tMi2K0CuR+F6FO4rQMl2vp8aLyRA3SQGgZVDI0AOLbKd76coQNrO91PjpSVAL90kBoGVL0Dwp8ZLN6k3QF26SQwC6ytAAiuHFtlOMkD0/dR46SYhQEW28/3UeDFABoGVQ4tsJECLbOf7qfE2QFCNl24SAzNAexSuR+H6L0CBlUOLbKcxQBfZzvdT4yNA6SYxCKwcKkAMAiuHFhkmQPyp8dJNYiFAvHSTGAQWN0C7SQwCK4cVQOOlm8QgMCxA",
            "dtype": "f8"
           },
           "yaxis": "y"
          }
         ],
         "name": "not_distracted"
        }
       ],
       "layout": {
        "barmode": "relative",
        "legend": {
         "title": {
          "text": "variable"
         },
         "tracegroupgap": 0
        },
        "sliders": [
         {
          "active": 0,
          "currentvalue": {
           "prefix": "variable="
          },
          "len": 0.9,
          "pad": {
           "b": 10,
           "t": 60
          },
          "steps": [
           {
            "args": [
             [
              "speeding"
             ],
             {
              "frame": {
               "duration": 0,
               "redraw": true
              },
              "fromcurrent": true,
              "mode": "immediate",
              "transition": {
               "duration": 0,
               "easing": "linear"
              }
             }
            ],
            "label": "speeding",
            "method": "animate"
           },
           {
            "args": [
             [
              "alcohol"
             ],
             {
              "frame": {
               "duration": 0,
               "redraw": true
              },
              "fromcurrent": true,
              "mode": "immediate",
              "transition": {
               "duration": 0,
               "easing": "linear"
              }
             }
            ],
            "label": "alcohol",
            "method": "animate"
           },
           {
            "args": [
             [
              "not_distracted"
             ],
             {
              "frame": {
               "duration": 0,
               "redraw": true
              },
              "fromcurrent": true,
              "mode": "immediate",
              "transition": {
               "duration": 0,
               "easing": "linear"
              }
             }
            ],
            "label": "not_distracted",
            "method": "animate"
           }
          ],
          "x": 0.1,
          "xanchor": "left",
          "y": 0,
          "yanchor": "top"
         }
        ],
        "template": {
         "data": {
          "bar": [
           {
            "error_x": {
             "color": "#2a3f5f"
            },
            "error_y": {
             "color": "#2a3f5f"
            },
            "marker": {
             "line": {
              "color": "#E5ECF6",
              "width": 0.5
             },
             "pattern": {
              "fillmode": "overlay",
              "size": 10,
              "solidity": 0.2
             }
            },
            "type": "bar"
           }
          ],
          "barpolar": [
           {
            "marker": {
             "line": {
              "color": "#E5ECF6",
              "width": 0.5
             },
             "pattern": {
              "fillmode": "overlay",
              "size": 10,
              "solidity": 0.2
             }
            },
            "type": "barpolar"
           }
          ],
          "carpet": [
           {
            "aaxis": {
             "endlinecolor": "#2a3f5f",
             "gridcolor": "white",
             "linecolor": "white",
             "minorgridcolor": "white",
             "startlinecolor": "#2a3f5f"
            },
            "baxis": {
             "endlinecolor": "#2a3f5f",
             "gridcolor": "white",
             "linecolor": "white",
             "minorgridcolor": "white",
             "startlinecolor": "#2a3f5f"
            },
            "type": "carpet"
           }
          ],
          "choropleth": [
           {
            "colorbar": {
             "outlinewidth": 0,
             "ticks": ""
            },
            "type": "choropleth"
           }
          ],
          "contour": [
           {
            "colorbar": {
             "outlinewidth": 0,
             "ticks": ""
            },
            "colorscale": [
             [
              0,
              "#0d0887"
             ],
             [
              0.1111111111111111,
              "#46039f"
             ],
             [
              0.2222222222222222,
              "#7201a8"
             ],
             [
              0.3333333333333333,
              "#9c179e"
             ],
             [
              0.4444444444444444,
              "#bd3786"
             ],
             [
              0.5555555555555556,
              "#d8576b"
             ],
             [
              0.6666666666666666,
              "#ed7953"
             ],
             [
              0.7777777777777778,
              "#fb9f3a"
             ],
             [
              0.8888888888888888,
              "#fdca26"
             ],
             [
              1,
              "#f0f921"
             ]
            ],
            "type": "contour"
           }
          ],
          "contourcarpet": [
           {
            "colorbar": {
             "outlinewidth": 0,
             "ticks": ""
            },
            "type": "contourcarpet"
           }
          ],
          "heatmap": [
           {
            "colorbar": {
             "outlinewidth": 0,
             "ticks": ""
            },
            "colorscale": [
             [
              0,
              "#0d0887"
             ],
             [
              0.1111111111111111,
              "#46039f"
             ],
             [
              0.2222222222222222,
              "#7201a8"
             ],
             [
              0.3333333333333333,
              "#9c179e"
             ],
             [
              0.4444444444444444,
              "#bd3786"
             ],
             [
              0.5555555555555556,
              "#d8576b"
             ],
             [
              0.6666666666666666,
              "#ed7953"
             ],
             [
              0.7777777777777778,
              "#fb9f3a"
             ],
             [
              0.8888888888888888,
              "#fdca26"
             ],
             [
              1,
              "#f0f921"
             ]
            ],
            "type": "heatmap"
           }
          ],
          "histogram": [
           {
            "marker": {
             "pattern": {
              "fillmode": "overlay",
              "size": 10,
              "solidity": 0.2
             }
            },
            "type": "histogram"
           }
          ],
          "histogram2d": [
           {
            "colorbar": {
             "outlinewidth": 0,
             "ticks": ""
            },
            "colorscale": [
             [
              0,
              "#0d0887"
             ],
             [
              0.1111111111111111,
              "#46039f"
             ],
             [
              0.2222222222222222,
              "#7201a8"
             ],
             [
              0.3333333333333333,
              "#9c179e"
             ],
             [
              0.4444444444444444,
              "#bd3786"
             ],
             [
              0.5555555555555556,
              "#d8576b"
             ],
             [
              0.6666666666666666,
              "#ed7953"
             ],
             [
              0.7777777777777778,
              "#fb9f3a"
             ],
             [
              0.8888888888888888,
              "#fdca26"
             ],
             [
              1,
              "#f0f921"
             ]
            ],
            "type": "histogram2d"
           }
          ],
          "histogram2dcontour": [
           {
            "colorbar": {
             "outlinewidth": 0,
             "ticks": ""
            },
            "colorscale": [
             [
              0,
              "#0d0887"
             ],
             [
              0.1111111111111111,
              "#46039f"
             ],
             [
              0.2222222222222222,
              "#7201a8"
             ],
             [
              0.3333333333333333,
              "#9c179e"
             ],
             [
              0.4444444444444444,
              "#bd3786"
             ],
             [
              0.5555555555555556,
              "#d8576b"
             ],
             [
              0.6666666666666666,
              "#ed7953"
             ],
             [
              0.7777777777777778,
              "#fb9f3a"
             ],
             [
              0.8888888888888888,
              "#fdca26"
             ],
             [
              1,
              "#f0f921"
             ]
            ],
            "type": "histogram2dcontour"
           }
          ],
          "mesh3d": [
           {
            "colorbar": {
             "outlinewidth": 0,
             "ticks": ""
            },
            "type": "mesh3d"
           }
          ],
          "parcoords": [
           {
            "line": {
             "colorbar": {
              "outlinewidth": 0,
              "ticks": ""
             }
            },
            "type": "parcoords"
           }
          ],
          "pie": [
           {
            "automargin": true,
            "type": "pie"
           }
          ],
          "scatter": [
           {
            "fillpattern": {
             "fillmode": "overlay",
             "size": 10,
             "solidity": 0.2
            },
            "type": "scatter"
           }
          ],
          "scatter3d": [
           {
            "line": {
             "colorbar": {
              "outlinewidth": 0,
              "ticks": ""
             }
            },
            "marker": {
             "colorbar": {
              "outlinewidth": 0,
              "ticks": ""
             }
            },
            "type": "scatter3d"
           }
          ],
          "scattercarpet": [
           {
            "marker": {
             "colorbar": {
              "outlinewidth": 0,
              "ticks": ""
             }
            },
            "type": "scattercarpet"
           }
          ],
          "scattergeo": [
           {
            "marker": {
             "colorbar": {
              "outlinewidth": 0,
              "ticks": ""
             }
            },
            "type": "scattergeo"
           }
          ],
          "scattergl": [
           {
            "marker": {
             "colorbar": {
              "outlinewidth": 0,
              "ticks": ""
             }
            },
            "type": "scattergl"
           }
          ],
          "scattermap": [
           {
            "marker": {
             "colorbar": {
              "outlinewidth": 0,
              "ticks": ""
             }
            },
            "type": "scattermap"
           }
          ],
          "scattermapbox": [
           {
            "marker": {
             "colorbar": {
              "outlinewidth": 0,
              "ticks": ""
             }
            },
            "type": "scattermapbox"
           }
          ],
          "scatterpolar": [
           {
            "marker": {
             "colorbar": {
              "outlinewidth": 0,
              "ticks": ""
             }
            },
            "type": "scatterpolar"
           }
          ],
          "scatterpolargl": [
           {
            "marker": {
             "colorbar": {
              "outlinewidth": 0,
              "ticks": ""
             }
            },
            "type": "scatterpolargl"
           }
          ],
          "scatterternary": [
           {
            "marker": {
             "colorbar": {
              "outlinewidth": 0,
              "ticks": ""
             }
            },
            "type": "scatterternary"
           }
          ],
          "surface": [
           {
            "colorbar": {
             "outlinewidth": 0,
             "ticks": ""
            },
            "colorscale": [
             [
              0,
              "#0d0887"
             ],
             [
              0.1111111111111111,
              "#46039f"
             ],
             [
              0.2222222222222222,
              "#7201a8"
             ],
             [
              0.3333333333333333,
              "#9c179e"
             ],
             [
              0.4444444444444444,
              "#bd3786"
             ],
             [
              0.5555555555555556,
              "#d8576b"
             ],
             [
              0.6666666666666666,
              "#ed7953"
             ],
             [
              0.7777777777777778,
              "#fb9f3a"
             ],
             [
              0.8888888888888888,
              "#fdca26"
             ],
             [
              1,
              "#f0f921"
             ]
            ],
            "type": "surface"
           }
          ],
          "table": [
           {
            "cells": {
             "fill": {
              "color": "#EBF0F8"
             },
             "line": {
              "color": "white"
             }
            },
            "header": {
             "fill": {
              "color": "#C8D4E3"
             },
             "line": {
              "color": "white"
             }
            },
            "type": "table"
           }
          ]
         },
         "layout": {
          "annotationdefaults": {
           "arrowcolor": "#2a3f5f",
           "arrowhead": 0,
           "arrowwidth": 1
          },
          "autotypenumbers": "strict",
          "coloraxis": {
           "colorbar": {
            "outlinewidth": 0,
            "ticks": ""
           }
          },
          "colorscale": {
           "diverging": [
            [
             0,
             "#8e0152"
            ],
            [
             0.1,
             "#c51b7d"
            ],
            [
             0.2,
             "#de77ae"
            ],
            [
             0.3,
             "#f1b6da"
            ],
            [
             0.4,
             "#fde0ef"
            ],
            [
             0.5,
             "#f7f7f7"
            ],
            [
             0.6,
             "#e6f5d0"
            ],
            [
             0.7,
             "#b8e186"
            ],
            [
             0.8,
             "#7fbc41"
            ],
            [
             0.9,
             "#4d9221"
            ],
            [
             1,
             "#276419"
            ]
           ],
           "sequential": [
            [
             0,
             "#0d0887"
            ],
            [
             0.1111111111111111,
             "#46039f"
            ],
            [
             0.2222222222222222,
             "#7201a8"
            ],
            [
             0.3333333333333333,
             "#9c179e"
            ],
            [
             0.4444444444444444,
             "#bd3786"
            ],
            [
             0.5555555555555556,
             "#d8576b"
            ],
            [
             0.6666666666666666,
             "#ed7953"
            ],
            [
             0.7777777777777778,
             "#fb9f3a"
            ],
            [
             0.8888888888888888,
             "#fdca26"
            ],
            [
             1,
             "#f0f921"
            ]
           ],
           "sequentialminus": [
            [
             0,
             "#0d0887"
            ],
            [
             0.1111111111111111,
             "#46039f"
            ],
            [
             0.2222222222222222,
             "#7201a8"
            ],
            [
             0.3333333333333333,
             "#9c179e"
            ],
            [
             0.4444444444444444,
             "#bd3786"
            ],
            [
             0.5555555555555556,
             "#d8576b"
            ],
            [
             0.6666666666666666,
             "#ed7953"
            ],
            [
             0.7777777777777778,
             "#fb9f3a"
            ],
            [
             0.8888888888888888,
             "#fdca26"
            ],
            [
             1,
             "#f0f921"
            ]
           ]
          },
          "colorway": [
           "#636efa",
           "#EF553B",
           "#00cc96",
           "#ab63fa",
           "#FFA15A",
           "#19d3f3",
           "#FF6692",
           "#B6E880",
           "#FF97FF",
           "#FECB52"
          ],
          "font": {
           "color": "#2a3f5f"
          },
          "geo": {
           "bgcolor": "white",
           "lakecolor": "white",
           "landcolor": "#E5ECF6",
           "showlakes": true,
           "showland": true,
           "subunitcolor": "white"
          },
          "hoverlabel": {
           "align": "left"
          },
          "hovermode": "closest",
          "mapbox": {
           "style": "light"
          },
          "paper_bgcolor": "white",
          "plot_bgcolor": "#E5ECF6",
          "polar": {
           "angularaxis": {
            "gridcolor": "white",
            "linecolor": "white",
            "ticks": ""
           },
           "bgcolor": "#E5ECF6",
           "radialaxis": {
            "gridcolor": "white",
            "linecolor": "white",
            "ticks": ""
           }
          },
          "scene": {
           "xaxis": {
            "backgroundcolor": "#E5ECF6",
            "gridcolor": "white",
            "gridwidth": 2,
            "linecolor": "white",
            "showbackground": true,
            "ticks": "",
            "zerolinecolor": "white"
           },
           "yaxis": {
            "backgroundcolor": "#E5ECF6",
            "gridcolor": "white",
            "gridwidth": 2,
            "linecolor": "white",
            "showbackground": true,
            "ticks": "",
            "zerolinecolor": "white"
           },
           "zaxis": {
            "backgroundcolor": "#E5ECF6",
            "gridcolor": "white",
            "gridwidth": 2,
            "linecolor": "white",
            "showbackground": true,
            "ticks": "",
            "zerolinecolor": "white"
           }
          },
          "shapedefaults": {
           "line": {
            "color": "#2a3f5f"
           }
          },
          "ternary": {
           "aaxis": {
            "gridcolor": "white",
            "linecolor": "white",
            "ticks": ""
           },
           "baxis": {
            "gridcolor": "white",
            "linecolor": "white",
            "ticks": ""
           },
           "bgcolor": "#E5ECF6",
           "caxis": {
            "gridcolor": "white",
            "linecolor": "white",
            "ticks": ""
           }
          },
          "title": {
           "x": 0.05
          },
          "xaxis": {
           "automargin": true,
           "gridcolor": "white",
           "linecolor": "white",
           "ticks": "",
           "title": {
            "standoff": 15
           },
           "zerolinecolor": "white",
           "zerolinewidth": 2
          },
          "yaxis": {
           "automargin": true,
           "gridcolor": "white",
           "linecolor": "white",
           "ticks": "",
           "title": {
            "standoff": 15
           },
           "zerolinecolor": "white",
           "zerolinewidth": 2
          }
         }
        },
        "title": {
         "text": "Animated Comparison of Speeding, Alcohol and Not Distacted"
        },
        "updatemenus": [
         {
          "buttons": [
           {
            "args": [
             null,
             {
              "frame": {
               "duration": 500,
               "redraw": true
              },
              "fromcurrent": true,
              "mode": "immediate",
              "transition": {
               "duration": 500,
               "easing": "linear"
              }
             }
            ],
            "label": "&#9654;",
            "method": "animate"
           },
           {
            "args": [
             [
              null
             ],
             {
              "frame": {
               "duration": 0,
               "redraw": true
              },
              "fromcurrent": true,
              "mode": "immediate",
              "transition": {
               "duration": 0,
               "easing": "linear"
              }
             }
            ],
            "label": "&#9724;",
            "method": "animate"
           }
          ],
          "direction": "left",
          "pad": {
           "r": 10,
           "t": 70
          },
          "showactive": false,
          "type": "buttons",
          "x": 0.1,
          "xanchor": "right",
          "y": 0,
          "yanchor": "top"
         }
        ],
        "xaxis": {
         "anchor": "y",
         "domain": [
          0,
          1
         ],
         "title": {
          "text": "abbrev"
         }
        },
        "yaxis": {
         "anchor": "x",
         "domain": [
          0,
          1
         ],
         "title": {
          "text": "Percentage"
         }
        }
       }
      }
     },
     "metadata": {},
     "output_type": "display_data"
    }
   ],
   "source": [
    "melted_df = df.melt(id_vars=['abbrev'], value_vars=['speeding','alcohol','not_distracted'])\n",
    "                    \n",
    "fig = px.bar(melted_df, x='abbrev', y='value',color='variable',\n",
    "             animation_frame='variable',\n",
    "             title='Animated Comparison of Speeding, Alcohol and Not Distacted',\n",
    "             labels={'value':'Percentage'})\n",
    "fig.show()"
   ]
  },
  {
   "cell_type": "code",
   "execution_count": 11,
   "id": "bdb5e7a6",
   "metadata": {},
   "outputs": [
    {
     "data": {
      "application/vnd.plotly.v1+json": {
       "config": {
        "plotlyServerURL": "https://plot.ly"
       },
       "data": [
        {
         "coloraxis": "coloraxis",
         "geo": "geo",
         "hovertemplate": "abbrev=%{location}<br>total=%{z}<extra></extra>",
         "locationmode": "USA-states",
         "locations": [
          "AL",
          "AK",
          "AZ",
          "AR",
          "CA",
          "CO",
          "CT",
          "DE",
          "DC",
          "FL",
          "GA",
          "HI",
          "ID",
          "IL",
          "IN",
          "IA",
          "KS",
          "KY",
          "LA",
          "ME",
          "MD",
          "MA",
          "MI",
          "MN",
          "MS",
          "MO",
          "MT",
          "NE",
          "NV",
          "NH",
          "NJ",
          "NM",
          "NY",
          "NC",
          "ND",
          "OH",
          "OK",
          "OR",
          "PA",
          "RI",
          "SC",
          "SD",
          "TN",
          "TX",
          "UT",
          "VT",
          "VA",
          "WA",
          "WV",
          "WI",
          "WY"
         ],
         "name": "",
         "type": "choropleth",
         "z": {
          "bdata": "zczMzMzMMkCamZmZmRkyQJqZmZmZmTJAZmZmZmZmNkAAAAAAAAAoQDMzMzMzMytAmpmZmZmZJUAzMzMzMzMwQJqZmZmZmRdAZmZmZmbmMUAzMzMzMzMvQAAAAAAAgDFAmpmZmZmZLkCamZmZmZkpQAAAAAAAAC1AZmZmZmZmL0DNzMzMzMwxQGZmZmZmZjVAAAAAAACANEAzMzMzMzMuQAAAAAAAAClAZmZmZmZmIEAzMzMzMzMsQDMzMzMzMyNAmpmZmZmZMUCamZmZmRkwQGZmZmZmZjVAzczMzMzMLUBmZmZmZmYtQDMzMzMzMydAZmZmZmZmJkBmZmZmZmYyQJqZmZmZmShAzczMzMzMMEBmZmZmZuY3QDMzMzMzMyxAZmZmZmbmM0CamZmZmZkpQDMzMzMzMzJAMzMzMzMzJkBmZmZmZuY3QGZmZmZmZjNAAAAAAACAM0BmZmZmZmYzQJqZmZmZmSZAMzMzMzMzK0BmZmZmZmYpQDMzMzMzMyVAzczMzMzMN0CamZmZmZkrQGZmZmZmZjFA",
          "dtype": "f8"
         }
        }
       ],
       "layout": {
        "coloraxis": {
         "colorbar": {
          "title": {
           "text": "total"
          }
         },
         "colorscale": [
          [
           0,
           "#0d0887"
          ],
          [
           0.1111111111111111,
           "#46039f"
          ],
          [
           0.2222222222222222,
           "#7201a8"
          ],
          [
           0.3333333333333333,
           "#9c179e"
          ],
          [
           0.4444444444444444,
           "#bd3786"
          ],
          [
           0.5555555555555556,
           "#d8576b"
          ],
          [
           0.6666666666666666,
           "#ed7953"
          ],
          [
           0.7777777777777778,
           "#fb9f3a"
          ],
          [
           0.8888888888888888,
           "#fdca26"
          ],
          [
           1,
           "#f0f921"
          ]
         ]
        },
        "geo": {
         "center": {},
         "domain": {
          "x": [
           0,
           1
          ],
          "y": [
           0,
           1
          ]
         }
        },
        "legend": {
         "tracegroupgap": 0
        },
        "template": {
         "data": {
          "bar": [
           {
            "error_x": {
             "color": "#2a3f5f"
            },
            "error_y": {
             "color": "#2a3f5f"
            },
            "marker": {
             "line": {
              "color": "#E5ECF6",
              "width": 0.5
             },
             "pattern": {
              "fillmode": "overlay",
              "size": 10,
              "solidity": 0.2
             }
            },
            "type": "bar"
           }
          ],
          "barpolar": [
           {
            "marker": {
             "line": {
              "color": "#E5ECF6",
              "width": 0.5
             },
             "pattern": {
              "fillmode": "overlay",
              "size": 10,
              "solidity": 0.2
             }
            },
            "type": "barpolar"
           }
          ],
          "carpet": [
           {
            "aaxis": {
             "endlinecolor": "#2a3f5f",
             "gridcolor": "white",
             "linecolor": "white",
             "minorgridcolor": "white",
             "startlinecolor": "#2a3f5f"
            },
            "baxis": {
             "endlinecolor": "#2a3f5f",
             "gridcolor": "white",
             "linecolor": "white",
             "minorgridcolor": "white",
             "startlinecolor": "#2a3f5f"
            },
            "type": "carpet"
           }
          ],
          "choropleth": [
           {
            "colorbar": {
             "outlinewidth": 0,
             "ticks": ""
            },
            "type": "choropleth"
           }
          ],
          "contour": [
           {
            "colorbar": {
             "outlinewidth": 0,
             "ticks": ""
            },
            "colorscale": [
             [
              0,
              "#0d0887"
             ],
             [
              0.1111111111111111,
              "#46039f"
             ],
             [
              0.2222222222222222,
              "#7201a8"
             ],
             [
              0.3333333333333333,
              "#9c179e"
             ],
             [
              0.4444444444444444,
              "#bd3786"
             ],
             [
              0.5555555555555556,
              "#d8576b"
             ],
             [
              0.6666666666666666,
              "#ed7953"
             ],
             [
              0.7777777777777778,
              "#fb9f3a"
             ],
             [
              0.8888888888888888,
              "#fdca26"
             ],
             [
              1,
              "#f0f921"
             ]
            ],
            "type": "contour"
           }
          ],
          "contourcarpet": [
           {
            "colorbar": {
             "outlinewidth": 0,
             "ticks": ""
            },
            "type": "contourcarpet"
           }
          ],
          "heatmap": [
           {
            "colorbar": {
             "outlinewidth": 0,
             "ticks": ""
            },
            "colorscale": [
             [
              0,
              "#0d0887"
             ],
             [
              0.1111111111111111,
              "#46039f"
             ],
             [
              0.2222222222222222,
              "#7201a8"
             ],
             [
              0.3333333333333333,
              "#9c179e"
             ],
             [
              0.4444444444444444,
              "#bd3786"
             ],
             [
              0.5555555555555556,
              "#d8576b"
             ],
             [
              0.6666666666666666,
              "#ed7953"
             ],
             [
              0.7777777777777778,
              "#fb9f3a"
             ],
             [
              0.8888888888888888,
              "#fdca26"
             ],
             [
              1,
              "#f0f921"
             ]
            ],
            "type": "heatmap"
           }
          ],
          "histogram": [
           {
            "marker": {
             "pattern": {
              "fillmode": "overlay",
              "size": 10,
              "solidity": 0.2
             }
            },
            "type": "histogram"
           }
          ],
          "histogram2d": [
           {
            "colorbar": {
             "outlinewidth": 0,
             "ticks": ""
            },
            "colorscale": [
             [
              0,
              "#0d0887"
             ],
             [
              0.1111111111111111,
              "#46039f"
             ],
             [
              0.2222222222222222,
              "#7201a8"
             ],
             [
              0.3333333333333333,
              "#9c179e"
             ],
             [
              0.4444444444444444,
              "#bd3786"
             ],
             [
              0.5555555555555556,
              "#d8576b"
             ],
             [
              0.6666666666666666,
              "#ed7953"
             ],
             [
              0.7777777777777778,
              "#fb9f3a"
             ],
             [
              0.8888888888888888,
              "#fdca26"
             ],
             [
              1,
              "#f0f921"
             ]
            ],
            "type": "histogram2d"
           }
          ],
          "histogram2dcontour": [
           {
            "colorbar": {
             "outlinewidth": 0,
             "ticks": ""
            },
            "colorscale": [
             [
              0,
              "#0d0887"
             ],
             [
              0.1111111111111111,
              "#46039f"
             ],
             [
              0.2222222222222222,
              "#7201a8"
             ],
             [
              0.3333333333333333,
              "#9c179e"
             ],
             [
              0.4444444444444444,
              "#bd3786"
             ],
             [
              0.5555555555555556,
              "#d8576b"
             ],
             [
              0.6666666666666666,
              "#ed7953"
             ],
             [
              0.7777777777777778,
              "#fb9f3a"
             ],
             [
              0.8888888888888888,
              "#fdca26"
             ],
             [
              1,
              "#f0f921"
             ]
            ],
            "type": "histogram2dcontour"
           }
          ],
          "mesh3d": [
           {
            "colorbar": {
             "outlinewidth": 0,
             "ticks": ""
            },
            "type": "mesh3d"
           }
          ],
          "parcoords": [
           {
            "line": {
             "colorbar": {
              "outlinewidth": 0,
              "ticks": ""
             }
            },
            "type": "parcoords"
           }
          ],
          "pie": [
           {
            "automargin": true,
            "type": "pie"
           }
          ],
          "scatter": [
           {
            "fillpattern": {
             "fillmode": "overlay",
             "size": 10,
             "solidity": 0.2
            },
            "type": "scatter"
           }
          ],
          "scatter3d": [
           {
            "line": {
             "colorbar": {
              "outlinewidth": 0,
              "ticks": ""
             }
            },
            "marker": {
             "colorbar": {
              "outlinewidth": 0,
              "ticks": ""
             }
            },
            "type": "scatter3d"
           }
          ],
          "scattercarpet": [
           {
            "marker": {
             "colorbar": {
              "outlinewidth": 0,
              "ticks": ""
             }
            },
            "type": "scattercarpet"
           }
          ],
          "scattergeo": [
           {
            "marker": {
             "colorbar": {
              "outlinewidth": 0,
              "ticks": ""
             }
            },
            "type": "scattergeo"
           }
          ],
          "scattergl": [
           {
            "marker": {
             "colorbar": {
              "outlinewidth": 0,
              "ticks": ""
             }
            },
            "type": "scattergl"
           }
          ],
          "scattermap": [
           {
            "marker": {
             "colorbar": {
              "outlinewidth": 0,
              "ticks": ""
             }
            },
            "type": "scattermap"
           }
          ],
          "scattermapbox": [
           {
            "marker": {
             "colorbar": {
              "outlinewidth": 0,
              "ticks": ""
             }
            },
            "type": "scattermapbox"
           }
          ],
          "scatterpolar": [
           {
            "marker": {
             "colorbar": {
              "outlinewidth": 0,
              "ticks": ""
             }
            },
            "type": "scatterpolar"
           }
          ],
          "scatterpolargl": [
           {
            "marker": {
             "colorbar": {
              "outlinewidth": 0,
              "ticks": ""
             }
            },
            "type": "scatterpolargl"
           }
          ],
          "scatterternary": [
           {
            "marker": {
             "colorbar": {
              "outlinewidth": 0,
              "ticks": ""
             }
            },
            "type": "scatterternary"
           }
          ],
          "surface": [
           {
            "colorbar": {
             "outlinewidth": 0,
             "ticks": ""
            },
            "colorscale": [
             [
              0,
              "#0d0887"
             ],
             [
              0.1111111111111111,
              "#46039f"
             ],
             [
              0.2222222222222222,
              "#7201a8"
             ],
             [
              0.3333333333333333,
              "#9c179e"
             ],
             [
              0.4444444444444444,
              "#bd3786"
             ],
             [
              0.5555555555555556,
              "#d8576b"
             ],
             [
              0.6666666666666666,
              "#ed7953"
             ],
             [
              0.7777777777777778,
              "#fb9f3a"
             ],
             [
              0.8888888888888888,
              "#fdca26"
             ],
             [
              1,
              "#f0f921"
             ]
            ],
            "type": "surface"
           }
          ],
          "table": [
           {
            "cells": {
             "fill": {
              "color": "#EBF0F8"
             },
             "line": {
              "color": "white"
             }
            },
            "header": {
             "fill": {
              "color": "#C8D4E3"
             },
             "line": {
              "color": "white"
             }
            },
            "type": "table"
           }
          ]
         },
         "layout": {
          "annotationdefaults": {
           "arrowcolor": "#2a3f5f",
           "arrowhead": 0,
           "arrowwidth": 1
          },
          "autotypenumbers": "strict",
          "coloraxis": {
           "colorbar": {
            "outlinewidth": 0,
            "ticks": ""
           }
          },
          "colorscale": {
           "diverging": [
            [
             0,
             "#8e0152"
            ],
            [
             0.1,
             "#c51b7d"
            ],
            [
             0.2,
             "#de77ae"
            ],
            [
             0.3,
             "#f1b6da"
            ],
            [
             0.4,
             "#fde0ef"
            ],
            [
             0.5,
             "#f7f7f7"
            ],
            [
             0.6,
             "#e6f5d0"
            ],
            [
             0.7,
             "#b8e186"
            ],
            [
             0.8,
             "#7fbc41"
            ],
            [
             0.9,
             "#4d9221"
            ],
            [
             1,
             "#276419"
            ]
           ],
           "sequential": [
            [
             0,
             "#0d0887"
            ],
            [
             0.1111111111111111,
             "#46039f"
            ],
            [
             0.2222222222222222,
             "#7201a8"
            ],
            [
             0.3333333333333333,
             "#9c179e"
            ],
            [
             0.4444444444444444,
             "#bd3786"
            ],
            [
             0.5555555555555556,
             "#d8576b"
            ],
            [
             0.6666666666666666,
             "#ed7953"
            ],
            [
             0.7777777777777778,
             "#fb9f3a"
            ],
            [
             0.8888888888888888,
             "#fdca26"
            ],
            [
             1,
             "#f0f921"
            ]
           ],
           "sequentialminus": [
            [
             0,
             "#0d0887"
            ],
            [
             0.1111111111111111,
             "#46039f"
            ],
            [
             0.2222222222222222,
             "#7201a8"
            ],
            [
             0.3333333333333333,
             "#9c179e"
            ],
            [
             0.4444444444444444,
             "#bd3786"
            ],
            [
             0.5555555555555556,
             "#d8576b"
            ],
            [
             0.6666666666666666,
             "#ed7953"
            ],
            [
             0.7777777777777778,
             "#fb9f3a"
            ],
            [
             0.8888888888888888,
             "#fdca26"
            ],
            [
             1,
             "#f0f921"
            ]
           ]
          },
          "colorway": [
           "#636efa",
           "#EF553B",
           "#00cc96",
           "#ab63fa",
           "#FFA15A",
           "#19d3f3",
           "#FF6692",
           "#B6E880",
           "#FF97FF",
           "#FECB52"
          ],
          "font": {
           "color": "#2a3f5f"
          },
          "geo": {
           "bgcolor": "white",
           "lakecolor": "white",
           "landcolor": "#E5ECF6",
           "showlakes": true,
           "showland": true,
           "subunitcolor": "white"
          },
          "hoverlabel": {
           "align": "left"
          },
          "hovermode": "closest",
          "mapbox": {
           "style": "light"
          },
          "paper_bgcolor": "white",
          "plot_bgcolor": "#E5ECF6",
          "polar": {
           "angularaxis": {
            "gridcolor": "white",
            "linecolor": "white",
            "ticks": ""
           },
           "bgcolor": "#E5ECF6",
           "radialaxis": {
            "gridcolor": "white",
            "linecolor": "white",
            "ticks": ""
           }
          },
          "scene": {
           "xaxis": {
            "backgroundcolor": "#E5ECF6",
            "gridcolor": "white",
            "gridwidth": 2,
            "linecolor": "white",
            "showbackground": true,
            "ticks": "",
            "zerolinecolor": "white"
           },
           "yaxis": {
            "backgroundcolor": "#E5ECF6",
            "gridcolor": "white",
            "gridwidth": 2,
            "linecolor": "white",
            "showbackground": true,
            "ticks": "",
            "zerolinecolor": "white"
           },
           "zaxis": {
            "backgroundcolor": "#E5ECF6",
            "gridcolor": "white",
            "gridwidth": 2,
            "linecolor": "white",
            "showbackground": true,
            "ticks": "",
            "zerolinecolor": "white"
           }
          },
          "shapedefaults": {
           "line": {
            "color": "#2a3f5f"
           }
          },
          "ternary": {
           "aaxis": {
            "gridcolor": "white",
            "linecolor": "white",
            "ticks": ""
           },
           "baxis": {
            "gridcolor": "white",
            "linecolor": "white",
            "ticks": ""
           },
           "bgcolor": "#E5ECF6",
           "caxis": {
            "gridcolor": "white",
            "linecolor": "white",
            "ticks": ""
           }
          },
          "title": {
           "x": 0.05
          },
          "xaxis": {
           "automargin": true,
           "gridcolor": "white",
           "linecolor": "white",
           "ticks": "",
           "title": {
            "standoff": 15
           },
           "zerolinecolor": "white",
           "zerolinewidth": 2
          },
          "yaxis": {
           "automargin": true,
           "gridcolor": "white",
           "linecolor": "white",
           "ticks": "",
           "title": {
            "standoff": 15
           },
           "zerolinecolor": "white",
           "zerolinewidth": 2
          }
         }
        },
        "title": {
         "text": "Total Accidents by US states"
        }
       }
      }
     },
     "metadata": {},
     "output_type": "display_data"
    }
   ],
   "source": [
    "#Total Accidents by US States\n",
    "fig = px.choropleth(df,\n",
    "                    locations='abbrev',\n",
    "                    locationmode= 'USA-states',\n",
    "                    color= 'total',\n",
    "                    title='Total Accidents by US states')\n",
    "fig.show()"
   ]
  },
  {
   "cell_type": "code",
   "execution_count": 12,
   "id": "7fc66157",
   "metadata": {},
   "outputs": [
    {
     "data": {
      "application/vnd.plotly.v1+json": {
       "config": {
        "plotlyServerURL": "https://plot.ly"
       },
       "data": [
        {
         "alignmentgroup": "True",
         "hovertemplate": "region=%{x}<br>ins_premium=%{y}<extra></extra>",
         "legendgroup": "South",
         "marker": {
          "color": "#636efa"
         },
         "name": "South",
         "notched": false,
         "offsetgroup": "South",
         "orientation": "v",
         "showlegend": true,
         "type": "box",
         "x": [
          "South",
          "South",
          "South",
          "South",
          "South",
          "South",
          "South",
          "South",
          "South",
          "South",
          "South",
          "South",
          "South",
          "South",
          "South",
          "South",
          "South"
         ],
         "x0": " ",
         "xaxis": "x",
         "y": {
          "bdata": "ZmZmZmaEiEAfhetRuNqJQBSuR+F6x5FAw/UoXI/nk0DsUbgehSCSQDMzMzMziYxArkfhehREi0AzMzMzMwaUQIXrUbgeY5BAw/UoXI8AjEBSuB6F6yGGQK5H4XoUjItA9ihcj8LXikDhehSuR/+HQAAAAAAAZo9AmpmZmZkHiEB7FK5H4QSPQA==",
          "dtype": "f8"
         },
         "y0": " ",
         "yaxis": "y"
        },
        {
         "alignmentgroup": "True",
         "hovertemplate": "region=%{x}<br>ins_premium=%{y}<extra></extra>",
         "legendgroup": "West",
         "marker": {
          "color": "#EF553B"
         },
         "name": "West",
         "notched": false,
         "offsetgroup": "West",
         "orientation": "v",
         "showlegend": true,
         "type": "box",
         "x": [
          "West",
          "West",
          "West",
          "West",
          "West",
          "West",
          "West",
          "West",
          "West",
          "West",
          "West",
          "West",
          "West"
         ],
         "x0": " ",
         "xaxis": "x",
         "y": {
          "bdata": "Urgehet1kED2KFyPwhuMQOF6FK5Hc4tAAAAAAAAcikA9CtejcOmKQEjhehSuD4RASOF6FK6BiUAUrkfheheQQM3MzMzMLotASOF6FK4liUDXo3A9CkuJQArXo3A90ItAhetRuB65iEA=",
          "dtype": "f8"
         },
         "y0": " ",
         "yaxis": "y"
        },
        {
         "alignmentgroup": "True",
         "hovertemplate": "region=%{x}<br>ins_premium=%{y}<extra></extra>",
         "legendgroup": "Northeast",
         "marker": {
          "color": "#00cc96"
         },
         "name": "Northeast",
         "notched": false,
         "offsetgroup": "Northeast",
         "orientation": "v",
         "showlegend": true,
         "type": "box",
         "x": [
          "Northeast",
          "Northeast",
          "Northeast",
          "Northeast",
          "Northeast",
          "Northeast",
          "Northeast",
          "Northeast",
          "Northeast"
         ],
         "x0": " ",
         "xaxis": "x",
         "y": {
          "bdata": "UrgeheuykEDXo3A9Cq+EQIXrUbgemY9AuB6F61FUh0CuR+F6FFaUQArXo3A9SZNAUrgehetPjEApXI/C9fORQJqZmZmZYYZA",
          "dtype": "f8"
         },
         "y0": " ",
         "yaxis": "y"
        },
        {
         "alignmentgroup": "True",
         "hovertemplate": "region=%{x}<br>ins_premium=%{y}<extra></extra>",
         "legendgroup": "Midwest",
         "marker": {
          "color": "#ab63fa"
         },
         "name": "Midwest",
         "notched": false,
         "offsetgroup": "Midwest",
         "orientation": "v",
         "showlegend": true,
         "type": "box",
         "x": [
          "Midwest",
          "Midwest",
          "Midwest",
          "Midwest",
          "Midwest",
          "Midwest",
          "Midwest",
          "Midwest",
          "Midwest",
          "Midwest",
          "Midwest",
          "Midwest"
         ],
         "x0": " ",
         "xaxis": "x",
         "y": {
          "bdata": "exSuR+EYiUBI4XoUrjOGQBSuR+F6SIRAmpmZmZljiEA9CtejcFqRQD0K16NwSYhAw/UoXI+yiEAK16NwPeKGQAAAAAAAhoVApHA9CtfNhUAUrkfheuqEQBSuR+F68oRA",
          "dtype": "f8"
         },
         "y0": " ",
         "yaxis": "y"
        }
       ],
       "layout": {
        "boxmode": "overlay",
        "legend": {
         "title": {
          "text": "region"
         },
         "tracegroupgap": 0
        },
        "template": {
         "data": {
          "bar": [
           {
            "error_x": {
             "color": "#2a3f5f"
            },
            "error_y": {
             "color": "#2a3f5f"
            },
            "marker": {
             "line": {
              "color": "#E5ECF6",
              "width": 0.5
             },
             "pattern": {
              "fillmode": "overlay",
              "size": 10,
              "solidity": 0.2
             }
            },
            "type": "bar"
           }
          ],
          "barpolar": [
           {
            "marker": {
             "line": {
              "color": "#E5ECF6",
              "width": 0.5
             },
             "pattern": {
              "fillmode": "overlay",
              "size": 10,
              "solidity": 0.2
             }
            },
            "type": "barpolar"
           }
          ],
          "carpet": [
           {
            "aaxis": {
             "endlinecolor": "#2a3f5f",
             "gridcolor": "white",
             "linecolor": "white",
             "minorgridcolor": "white",
             "startlinecolor": "#2a3f5f"
            },
            "baxis": {
             "endlinecolor": "#2a3f5f",
             "gridcolor": "white",
             "linecolor": "white",
             "minorgridcolor": "white",
             "startlinecolor": "#2a3f5f"
            },
            "type": "carpet"
           }
          ],
          "choropleth": [
           {
            "colorbar": {
             "outlinewidth": 0,
             "ticks": ""
            },
            "type": "choropleth"
           }
          ],
          "contour": [
           {
            "colorbar": {
             "outlinewidth": 0,
             "ticks": ""
            },
            "colorscale": [
             [
              0,
              "#0d0887"
             ],
             [
              0.1111111111111111,
              "#46039f"
             ],
             [
              0.2222222222222222,
              "#7201a8"
             ],
             [
              0.3333333333333333,
              "#9c179e"
             ],
             [
              0.4444444444444444,
              "#bd3786"
             ],
             [
              0.5555555555555556,
              "#d8576b"
             ],
             [
              0.6666666666666666,
              "#ed7953"
             ],
             [
              0.7777777777777778,
              "#fb9f3a"
             ],
             [
              0.8888888888888888,
              "#fdca26"
             ],
             [
              1,
              "#f0f921"
             ]
            ],
            "type": "contour"
           }
          ],
          "contourcarpet": [
           {
            "colorbar": {
             "outlinewidth": 0,
             "ticks": ""
            },
            "type": "contourcarpet"
           }
          ],
          "heatmap": [
           {
            "colorbar": {
             "outlinewidth": 0,
             "ticks": ""
            },
            "colorscale": [
             [
              0,
              "#0d0887"
             ],
             [
              0.1111111111111111,
              "#46039f"
             ],
             [
              0.2222222222222222,
              "#7201a8"
             ],
             [
              0.3333333333333333,
              "#9c179e"
             ],
             [
              0.4444444444444444,
              "#bd3786"
             ],
             [
              0.5555555555555556,
              "#d8576b"
             ],
             [
              0.6666666666666666,
              "#ed7953"
             ],
             [
              0.7777777777777778,
              "#fb9f3a"
             ],
             [
              0.8888888888888888,
              "#fdca26"
             ],
             [
              1,
              "#f0f921"
             ]
            ],
            "type": "heatmap"
           }
          ],
          "histogram": [
           {
            "marker": {
             "pattern": {
              "fillmode": "overlay",
              "size": 10,
              "solidity": 0.2
             }
            },
            "type": "histogram"
           }
          ],
          "histogram2d": [
           {
            "colorbar": {
             "outlinewidth": 0,
             "ticks": ""
            },
            "colorscale": [
             [
              0,
              "#0d0887"
             ],
             [
              0.1111111111111111,
              "#46039f"
             ],
             [
              0.2222222222222222,
              "#7201a8"
             ],
             [
              0.3333333333333333,
              "#9c179e"
             ],
             [
              0.4444444444444444,
              "#bd3786"
             ],
             [
              0.5555555555555556,
              "#d8576b"
             ],
             [
              0.6666666666666666,
              "#ed7953"
             ],
             [
              0.7777777777777778,
              "#fb9f3a"
             ],
             [
              0.8888888888888888,
              "#fdca26"
             ],
             [
              1,
              "#f0f921"
             ]
            ],
            "type": "histogram2d"
           }
          ],
          "histogram2dcontour": [
           {
            "colorbar": {
             "outlinewidth": 0,
             "ticks": ""
            },
            "colorscale": [
             [
              0,
              "#0d0887"
             ],
             [
              0.1111111111111111,
              "#46039f"
             ],
             [
              0.2222222222222222,
              "#7201a8"
             ],
             [
              0.3333333333333333,
              "#9c179e"
             ],
             [
              0.4444444444444444,
              "#bd3786"
             ],
             [
              0.5555555555555556,
              "#d8576b"
             ],
             [
              0.6666666666666666,
              "#ed7953"
             ],
             [
              0.7777777777777778,
              "#fb9f3a"
             ],
             [
              0.8888888888888888,
              "#fdca26"
             ],
             [
              1,
              "#f0f921"
             ]
            ],
            "type": "histogram2dcontour"
           }
          ],
          "mesh3d": [
           {
            "colorbar": {
             "outlinewidth": 0,
             "ticks": ""
            },
            "type": "mesh3d"
           }
          ],
          "parcoords": [
           {
            "line": {
             "colorbar": {
              "outlinewidth": 0,
              "ticks": ""
             }
            },
            "type": "parcoords"
           }
          ],
          "pie": [
           {
            "automargin": true,
            "type": "pie"
           }
          ],
          "scatter": [
           {
            "fillpattern": {
             "fillmode": "overlay",
             "size": 10,
             "solidity": 0.2
            },
            "type": "scatter"
           }
          ],
          "scatter3d": [
           {
            "line": {
             "colorbar": {
              "outlinewidth": 0,
              "ticks": ""
             }
            },
            "marker": {
             "colorbar": {
              "outlinewidth": 0,
              "ticks": ""
             }
            },
            "type": "scatter3d"
           }
          ],
          "scattercarpet": [
           {
            "marker": {
             "colorbar": {
              "outlinewidth": 0,
              "ticks": ""
             }
            },
            "type": "scattercarpet"
           }
          ],
          "scattergeo": [
           {
            "marker": {
             "colorbar": {
              "outlinewidth": 0,
              "ticks": ""
             }
            },
            "type": "scattergeo"
           }
          ],
          "scattergl": [
           {
            "marker": {
             "colorbar": {
              "outlinewidth": 0,
              "ticks": ""
             }
            },
            "type": "scattergl"
           }
          ],
          "scattermap": [
           {
            "marker": {
             "colorbar": {
              "outlinewidth": 0,
              "ticks": ""
             }
            },
            "type": "scattermap"
           }
          ],
          "scattermapbox": [
           {
            "marker": {
             "colorbar": {
              "outlinewidth": 0,
              "ticks": ""
             }
            },
            "type": "scattermapbox"
           }
          ],
          "scatterpolar": [
           {
            "marker": {
             "colorbar": {
              "outlinewidth": 0,
              "ticks": ""
             }
            },
            "type": "scatterpolar"
           }
          ],
          "scatterpolargl": [
           {
            "marker": {
             "colorbar": {
              "outlinewidth": 0,
              "ticks": ""
             }
            },
            "type": "scatterpolargl"
           }
          ],
          "scatterternary": [
           {
            "marker": {
             "colorbar": {
              "outlinewidth": 0,
              "ticks": ""
             }
            },
            "type": "scatterternary"
           }
          ],
          "surface": [
           {
            "colorbar": {
             "outlinewidth": 0,
             "ticks": ""
            },
            "colorscale": [
             [
              0,
              "#0d0887"
             ],
             [
              0.1111111111111111,
              "#46039f"
             ],
             [
              0.2222222222222222,
              "#7201a8"
             ],
             [
              0.3333333333333333,
              "#9c179e"
             ],
             [
              0.4444444444444444,
              "#bd3786"
             ],
             [
              0.5555555555555556,
              "#d8576b"
             ],
             [
              0.6666666666666666,
              "#ed7953"
             ],
             [
              0.7777777777777778,
              "#fb9f3a"
             ],
             [
              0.8888888888888888,
              "#fdca26"
             ],
             [
              1,
              "#f0f921"
             ]
            ],
            "type": "surface"
           }
          ],
          "table": [
           {
            "cells": {
             "fill": {
              "color": "#EBF0F8"
             },
             "line": {
              "color": "white"
             }
            },
            "header": {
             "fill": {
              "color": "#C8D4E3"
             },
             "line": {
              "color": "white"
             }
            },
            "type": "table"
           }
          ]
         },
         "layout": {
          "annotationdefaults": {
           "arrowcolor": "#2a3f5f",
           "arrowhead": 0,
           "arrowwidth": 1
          },
          "autotypenumbers": "strict",
          "coloraxis": {
           "colorbar": {
            "outlinewidth": 0,
            "ticks": ""
           }
          },
          "colorscale": {
           "diverging": [
            [
             0,
             "#8e0152"
            ],
            [
             0.1,
             "#c51b7d"
            ],
            [
             0.2,
             "#de77ae"
            ],
            [
             0.3,
             "#f1b6da"
            ],
            [
             0.4,
             "#fde0ef"
            ],
            [
             0.5,
             "#f7f7f7"
            ],
            [
             0.6,
             "#e6f5d0"
            ],
            [
             0.7,
             "#b8e186"
            ],
            [
             0.8,
             "#7fbc41"
            ],
            [
             0.9,
             "#4d9221"
            ],
            [
             1,
             "#276419"
            ]
           ],
           "sequential": [
            [
             0,
             "#0d0887"
            ],
            [
             0.1111111111111111,
             "#46039f"
            ],
            [
             0.2222222222222222,
             "#7201a8"
            ],
            [
             0.3333333333333333,
             "#9c179e"
            ],
            [
             0.4444444444444444,
             "#bd3786"
            ],
            [
             0.5555555555555556,
             "#d8576b"
            ],
            [
             0.6666666666666666,
             "#ed7953"
            ],
            [
             0.7777777777777778,
             "#fb9f3a"
            ],
            [
             0.8888888888888888,
             "#fdca26"
            ],
            [
             1,
             "#f0f921"
            ]
           ],
           "sequentialminus": [
            [
             0,
             "#0d0887"
            ],
            [
             0.1111111111111111,
             "#46039f"
            ],
            [
             0.2222222222222222,
             "#7201a8"
            ],
            [
             0.3333333333333333,
             "#9c179e"
            ],
            [
             0.4444444444444444,
             "#bd3786"
            ],
            [
             0.5555555555555556,
             "#d8576b"
            ],
            [
             0.6666666666666666,
             "#ed7953"
            ],
            [
             0.7777777777777778,
             "#fb9f3a"
            ],
            [
             0.8888888888888888,
             "#fdca26"
            ],
            [
             1,
             "#f0f921"
            ]
           ]
          },
          "colorway": [
           "#636efa",
           "#EF553B",
           "#00cc96",
           "#ab63fa",
           "#FFA15A",
           "#19d3f3",
           "#FF6692",
           "#B6E880",
           "#FF97FF",
           "#FECB52"
          ],
          "font": {
           "color": "#2a3f5f"
          },
          "geo": {
           "bgcolor": "white",
           "lakecolor": "white",
           "landcolor": "#E5ECF6",
           "showlakes": true,
           "showland": true,
           "subunitcolor": "white"
          },
          "hoverlabel": {
           "align": "left"
          },
          "hovermode": "closest",
          "mapbox": {
           "style": "light"
          },
          "paper_bgcolor": "white",
          "plot_bgcolor": "#E5ECF6",
          "polar": {
           "angularaxis": {
            "gridcolor": "white",
            "linecolor": "white",
            "ticks": ""
           },
           "bgcolor": "#E5ECF6",
           "radialaxis": {
            "gridcolor": "white",
            "linecolor": "white",
            "ticks": ""
           }
          },
          "scene": {
           "xaxis": {
            "backgroundcolor": "#E5ECF6",
            "gridcolor": "white",
            "gridwidth": 2,
            "linecolor": "white",
            "showbackground": true,
            "ticks": "",
            "zerolinecolor": "white"
           },
           "yaxis": {
            "backgroundcolor": "#E5ECF6",
            "gridcolor": "white",
            "gridwidth": 2,
            "linecolor": "white",
            "showbackground": true,
            "ticks": "",
            "zerolinecolor": "white"
           },
           "zaxis": {
            "backgroundcolor": "#E5ECF6",
            "gridcolor": "white",
            "gridwidth": 2,
            "linecolor": "white",
            "showbackground": true,
            "ticks": "",
            "zerolinecolor": "white"
           }
          },
          "shapedefaults": {
           "line": {
            "color": "#2a3f5f"
           }
          },
          "ternary": {
           "aaxis": {
            "gridcolor": "white",
            "linecolor": "white",
            "ticks": ""
           },
           "baxis": {
            "gridcolor": "white",
            "linecolor": "white",
            "ticks": ""
           },
           "bgcolor": "#E5ECF6",
           "caxis": {
            "gridcolor": "white",
            "linecolor": "white",
            "ticks": ""
           }
          },
          "title": {
           "x": 0.05
          },
          "xaxis": {
           "automargin": true,
           "gridcolor": "white",
           "linecolor": "white",
           "ticks": "",
           "title": {
            "standoff": 15
           },
           "zerolinecolor": "white",
           "zerolinewidth": 2
          },
          "yaxis": {
           "automargin": true,
           "gridcolor": "white",
           "linecolor": "white",
           "ticks": "",
           "title": {
            "standoff": 15
           },
           "zerolinecolor": "white",
           "zerolinewidth": 2
          }
         }
        },
        "title": {
         "text": "Insurance Premium By Region"
        },
        "xaxis": {
         "anchor": "y",
         "categoryarray": [
          "South",
          "West",
          "Northeast",
          "Midwest"
         ],
         "categoryorder": "array",
         "domain": [
          0,
          1
         ],
         "title": {
          "text": "region"
         }
        },
        "yaxis": {
         "anchor": "x",
         "domain": [
          0,
          1
         ],
         "title": {
          "text": "ins_premium"
         }
        }
       }
      }
     },
     "metadata": {},
     "output_type": "display_data"
    }
   ],
   "source": [
    "#INSURANCE BY REGION\n",
    "fig = px.box(df,x='region',y='ins_premium',\n",
    "             title='Insurance Premium By Region',\n",
    "             color='region')\n",
    "fig.show()"
   ]
  },
  {
   "cell_type": "code",
   "execution_count": 13,
   "id": "a65686ed",
   "metadata": {},
   "outputs": [
    {
     "data": {
      "application/vnd.plotly.v1+json": {
       "config": {
        "plotlyServerURL": "https://plot.ly"
       },
       "data": [
        {
         "hovertemplate": "<b>%{hovertext}</b><br><br>region=South<br>total=%{x}<br>speeding=%{y}<br>alcohol=%{marker.size}<extra></extra>",
         "hovertext": [
          "AL",
          "AR",
          "DE",
          "DC",
          "FL",
          "GA",
          "KY",
          "LA",
          "MD",
          "MS",
          "NC",
          "OK",
          "SC",
          "TN",
          "TX",
          "VA",
          "WV"
         ],
         "legendgroup": "South",
         "marker": {
          "color": "#636efa",
          "size": {
           "bdata": "j8L1KFyPFkCyne+nxksXQHE9CtejcBNAsXJoke18+T/cJAaBlcMUQDMzMzMzMw9A46WbxCCwE0CPwvUoXA8bQAAAAAAAABBAbef7qfHSFUCjRbbz/dQUQC7dJAaBFRdADAIrhxaZI0AfhetRuJ4WQK9yaJHtfB1AO99PjZduC0AOLbKd76caQA==",
           "dtype": "f8"
          },
          "sizemode": "area",
          "sizeref": 0.025095,
          "symbol": "circle"
         },
         "mode": "markers",
         "name": "South",
         "orientation": "v",
         "showlegend": true,
         "type": "scatter",
         "x": {
          "bdata": "zczMzMzMMkBmZmZmZmY2QDMzMzMzMzBAmpmZmZmZF0BmZmZmZuYxQDMzMzMzMy9AZmZmZmZmNUAAAAAAAIA0QAAAAAAAAClAmpmZmZmZMUDNzMzMzMwwQGZmZmZm5jNAZmZmZmbmN0AAAAAAAIAzQGZmZmZmZjNAZmZmZmZmKUDNzMzMzMw3QA==",
          "dtype": "f8"
         },
         "xaxis": "x",
         "y": {
          "bdata": "iBbZzvdTHUBU46WbxCAQQDq0yHa+nxhAPzVeukkMAEDfT42XbhIOQIPAyqFFtgdA3SQGgZVDEEAzMzMzM7McQAAAAAAAABFAH4XrUbgeBUBpke18PzUaQEW28/3UeBlARIts5/spIkDhehSuR2EQQArXo3A9Ch9A5/up8dJNA0DJdr6fGi8gQA==",
          "dtype": "f8"
         },
         "yaxis": "y"
        },
        {
         "hovertemplate": "<b>%{hovertext}</b><br><br>region=West<br>total=%{x}<br>speeding=%{y}<br>alcohol=%{marker.size}<extra></extra>",
         "hovertext": [
          "AK",
          "AZ",
          "CA",
          "CO",
          "HI",
          "ID",
          "MT",
          "NV",
          "NM",
          "OR",
          "UT",
          "WA",
          "WY"
         ],
         "legendgroup": "West",
         "marker": {
          "color": "#EF553B",
          "size": {
           "bdata": "mpmZmZkZEkCjRbbz/dQUQOF6FK5H4QpAEFg5tMh2DkAzMzMzM7McQHNoke18vxFAokW28/3UIkA3iUFg5dASQKwcWmQ73xNAOrTIdr6fCkAhsHJoke38P5ZDi2zn+wtAEoPAyqFFFkA=",
           "dtype": "f8"
          },
          "sizemode": "area",
          "sizeref": 0.025095,
          "symbol": "circle"
         },
         "mode": "markers",
         "name": "West",
         "orientation": "v",
         "showlegend": true,
         "type": "scatter",
         "x": {
          "bdata": "mpmZmZkZMkCamZmZmZkyQAAAAAAAAChAMzMzMzMzK0AAAAAAAIAxQJqZmZmZmS5AZmZmZmZmNUBmZmZmZmYtQGZmZmZmZjJAmpmZmZmZKUCamZmZmZkmQDMzMzMzMyVAZmZmZmZmMUA=",
          "dtype": "f8"
         },
         "xaxis": "x",
         "y": {
          "bdata": "yXa+nxqvHUAK16NwPQoaQM3MzMzMzBBAVOOlm8QgFEBmZmZmZuYiQNZ46SYxCBZA/dR46SaxIECoxks3icEVQCuHFtnO9wtATDeJQWDlEEBWDi2ynW8TQAIrhxbZzhFACKwcWmQ7HUA=",
          "dtype": "f8"
         },
         "yaxis": "y"
        },
        {
         "hovertemplate": "<b>%{hovertext}</b><br><br>region=Northeast<br>total=%{x}<br>speeding=%{y}<br>alcohol=%{marker.size}<extra></extra>",
         "hovertext": [
          "CT",
          "ME",
          "MA",
          "NH",
          "NJ",
          "NY",
          "PA",
          "RI",
          "VT"
         ],
         "legendgroup": "Northeast",
         "marker": {
          "color": "#00cc96",
          "size": {
           "bdata": "tMh2vp8aD0AfhetRuB4SQPYoXI/C9QZA16NwPQrXC0BKDAIrhxYJQPGnxks3iQxAxSCwcmiRFkCsHFpkO98QQFK4HoXrURBA",
           "dtype": "f8"
          },
          "sizemode": "area",
          "sizeref": 0.025095,
          "symbol": "circle"
         },
         "mode": "markers",
         "name": "Northeast",
         "orientation": "v",
         "showlegend": true,
         "type": "scatter",
         "x": {
          "bdata": "mpmZmZmZJUAzMzMzMzMuQGZmZmZmZiBAMzMzMzMzJ0BmZmZmZmYmQJqZmZmZmShAMzMzMzMzMkAzMzMzMzMmQDMzMzMzMytA",
          "dtype": "f8"
         },
         "xaxis": "x",
         "y": {
          "bdata": "rBxaZDvfE0DByqFFtvMWQJMYBFYOLf4/PQrXo3A9EEB46SYxCKz8P7ByaJHtfA9AMzMzMzMzIkD+1HjpJjEOQFK4HoXrURBA",
          "dtype": "f8"
         },
         "yaxis": "y"
        },
        {
         "hovertemplate": "<b>%{hovertext}</b><br><br>region=Midwest<br>total=%{x}<br>speeding=%{y}<br>alcohol=%{marker.size}<extra></extra>",
         "hovertext": [
          "IL",
          "IN",
          "IA",
          "KS",
          "MI",
          "MN",
          "MO",
          "NE",
          "ND",
          "OH",
          "SD",
          "WI"
         ],
         "legendgroup": "Midwest",
         "marker": {
          "color": "#ab63fa",
          "size": {
           "bdata": "nMQgsHJoEUBSuB6F69EQQGZmZmZmZg9ASgwCK4cWEUAv3SQGgZUPQBKDwMqhRQZATTeJQWDlFUBcj8L1KNwUQPp+arx0EyRAkxgEVg4tE0DO91PjpZsZQJ7vp8ZLNxJA",
           "dtype": "f8"
          },
          "sizemode": "area",
          "sizeref": 0.025095,
          "symbol": "circle"
         },
         "mode": "markers",
         "name": "Midwest",
         "orientation": "v",
         "showlegend": true,
         "type": "scatter",
         "x": {
          "bdata": "mpmZmZmZKUAAAAAAAAAtQGZmZmZmZi9AzczMzMzMMUAzMzMzMzMsQDMzMzMzMyNAmpmZmZkZMEDNzMzMzMwtQGZmZmZm5jdAMzMzMzMzLEBmZmZmZmYzQJqZmZmZmStA",
          "dtype": "f8"
         },
         "xaxis": "x",
         "y": {
          "bdata": "PN9PjZduEkAAAAAAAAANQCcxCKwcWgVA001iEFg5E0DfT42XbhILQESLbOf7qQFA/9R46SaxG0DNoUW28/3+P69yaJHt/BVAL90kBoGVD0B0kxgEVg4YQKwcWmQ73xNA",
          "dtype": "f8"
         },
         "yaxis": "y"
        }
       ],
       "layout": {
        "legend": {
         "itemsizing": "constant",
         "title": {
          "text": "region"
         },
         "tracegroupgap": 0
        },
        "template": {
         "data": {
          "bar": [
           {
            "error_x": {
             "color": "#2a3f5f"
            },
            "error_y": {
             "color": "#2a3f5f"
            },
            "marker": {
             "line": {
              "color": "#E5ECF6",
              "width": 0.5
             },
             "pattern": {
              "fillmode": "overlay",
              "size": 10,
              "solidity": 0.2
             }
            },
            "type": "bar"
           }
          ],
          "barpolar": [
           {
            "marker": {
             "line": {
              "color": "#E5ECF6",
              "width": 0.5
             },
             "pattern": {
              "fillmode": "overlay",
              "size": 10,
              "solidity": 0.2
             }
            },
            "type": "barpolar"
           }
          ],
          "carpet": [
           {
            "aaxis": {
             "endlinecolor": "#2a3f5f",
             "gridcolor": "white",
             "linecolor": "white",
             "minorgridcolor": "white",
             "startlinecolor": "#2a3f5f"
            },
            "baxis": {
             "endlinecolor": "#2a3f5f",
             "gridcolor": "white",
             "linecolor": "white",
             "minorgridcolor": "white",
             "startlinecolor": "#2a3f5f"
            },
            "type": "carpet"
           }
          ],
          "choropleth": [
           {
            "colorbar": {
             "outlinewidth": 0,
             "ticks": ""
            },
            "type": "choropleth"
           }
          ],
          "contour": [
           {
            "colorbar": {
             "outlinewidth": 0,
             "ticks": ""
            },
            "colorscale": [
             [
              0,
              "#0d0887"
             ],
             [
              0.1111111111111111,
              "#46039f"
             ],
             [
              0.2222222222222222,
              "#7201a8"
             ],
             [
              0.3333333333333333,
              "#9c179e"
             ],
             [
              0.4444444444444444,
              "#bd3786"
             ],
             [
              0.5555555555555556,
              "#d8576b"
             ],
             [
              0.6666666666666666,
              "#ed7953"
             ],
             [
              0.7777777777777778,
              "#fb9f3a"
             ],
             [
              0.8888888888888888,
              "#fdca26"
             ],
             [
              1,
              "#f0f921"
             ]
            ],
            "type": "contour"
           }
          ],
          "contourcarpet": [
           {
            "colorbar": {
             "outlinewidth": 0,
             "ticks": ""
            },
            "type": "contourcarpet"
           }
          ],
          "heatmap": [
           {
            "colorbar": {
             "outlinewidth": 0,
             "ticks": ""
            },
            "colorscale": [
             [
              0,
              "#0d0887"
             ],
             [
              0.1111111111111111,
              "#46039f"
             ],
             [
              0.2222222222222222,
              "#7201a8"
             ],
             [
              0.3333333333333333,
              "#9c179e"
             ],
             [
              0.4444444444444444,
              "#bd3786"
             ],
             [
              0.5555555555555556,
              "#d8576b"
             ],
             [
              0.6666666666666666,
              "#ed7953"
             ],
             [
              0.7777777777777778,
              "#fb9f3a"
             ],
             [
              0.8888888888888888,
              "#fdca26"
             ],
             [
              1,
              "#f0f921"
             ]
            ],
            "type": "heatmap"
           }
          ],
          "histogram": [
           {
            "marker": {
             "pattern": {
              "fillmode": "overlay",
              "size": 10,
              "solidity": 0.2
             }
            },
            "type": "histogram"
           }
          ],
          "histogram2d": [
           {
            "colorbar": {
             "outlinewidth": 0,
             "ticks": ""
            },
            "colorscale": [
             [
              0,
              "#0d0887"
             ],
             [
              0.1111111111111111,
              "#46039f"
             ],
             [
              0.2222222222222222,
              "#7201a8"
             ],
             [
              0.3333333333333333,
              "#9c179e"
             ],
             [
              0.4444444444444444,
              "#bd3786"
             ],
             [
              0.5555555555555556,
              "#d8576b"
             ],
             [
              0.6666666666666666,
              "#ed7953"
             ],
             [
              0.7777777777777778,
              "#fb9f3a"
             ],
             [
              0.8888888888888888,
              "#fdca26"
             ],
             [
              1,
              "#f0f921"
             ]
            ],
            "type": "histogram2d"
           }
          ],
          "histogram2dcontour": [
           {
            "colorbar": {
             "outlinewidth": 0,
             "ticks": ""
            },
            "colorscale": [
             [
              0,
              "#0d0887"
             ],
             [
              0.1111111111111111,
              "#46039f"
             ],
             [
              0.2222222222222222,
              "#7201a8"
             ],
             [
              0.3333333333333333,
              "#9c179e"
             ],
             [
              0.4444444444444444,
              "#bd3786"
             ],
             [
              0.5555555555555556,
              "#d8576b"
             ],
             [
              0.6666666666666666,
              "#ed7953"
             ],
             [
              0.7777777777777778,
              "#fb9f3a"
             ],
             [
              0.8888888888888888,
              "#fdca26"
             ],
             [
              1,
              "#f0f921"
             ]
            ],
            "type": "histogram2dcontour"
           }
          ],
          "mesh3d": [
           {
            "colorbar": {
             "outlinewidth": 0,
             "ticks": ""
            },
            "type": "mesh3d"
           }
          ],
          "parcoords": [
           {
            "line": {
             "colorbar": {
              "outlinewidth": 0,
              "ticks": ""
             }
            },
            "type": "parcoords"
           }
          ],
          "pie": [
           {
            "automargin": true,
            "type": "pie"
           }
          ],
          "scatter": [
           {
            "fillpattern": {
             "fillmode": "overlay",
             "size": 10,
             "solidity": 0.2
            },
            "type": "scatter"
           }
          ],
          "scatter3d": [
           {
            "line": {
             "colorbar": {
              "outlinewidth": 0,
              "ticks": ""
             }
            },
            "marker": {
             "colorbar": {
              "outlinewidth": 0,
              "ticks": ""
             }
            },
            "type": "scatter3d"
           }
          ],
          "scattercarpet": [
           {
            "marker": {
             "colorbar": {
              "outlinewidth": 0,
              "ticks": ""
             }
            },
            "type": "scattercarpet"
           }
          ],
          "scattergeo": [
           {
            "marker": {
             "colorbar": {
              "outlinewidth": 0,
              "ticks": ""
             }
            },
            "type": "scattergeo"
           }
          ],
          "scattergl": [
           {
            "marker": {
             "colorbar": {
              "outlinewidth": 0,
              "ticks": ""
             }
            },
            "type": "scattergl"
           }
          ],
          "scattermap": [
           {
            "marker": {
             "colorbar": {
              "outlinewidth": 0,
              "ticks": ""
             }
            },
            "type": "scattermap"
           }
          ],
          "scattermapbox": [
           {
            "marker": {
             "colorbar": {
              "outlinewidth": 0,
              "ticks": ""
             }
            },
            "type": "scattermapbox"
           }
          ],
          "scatterpolar": [
           {
            "marker": {
             "colorbar": {
              "outlinewidth": 0,
              "ticks": ""
             }
            },
            "type": "scatterpolar"
           }
          ],
          "scatterpolargl": [
           {
            "marker": {
             "colorbar": {
              "outlinewidth": 0,
              "ticks": ""
             }
            },
            "type": "scatterpolargl"
           }
          ],
          "scatterternary": [
           {
            "marker": {
             "colorbar": {
              "outlinewidth": 0,
              "ticks": ""
             }
            },
            "type": "scatterternary"
           }
          ],
          "surface": [
           {
            "colorbar": {
             "outlinewidth": 0,
             "ticks": ""
            },
            "colorscale": [
             [
              0,
              "#0d0887"
             ],
             [
              0.1111111111111111,
              "#46039f"
             ],
             [
              0.2222222222222222,
              "#7201a8"
             ],
             [
              0.3333333333333333,
              "#9c179e"
             ],
             [
              0.4444444444444444,
              "#bd3786"
             ],
             [
              0.5555555555555556,
              "#d8576b"
             ],
             [
              0.6666666666666666,
              "#ed7953"
             ],
             [
              0.7777777777777778,
              "#fb9f3a"
             ],
             [
              0.8888888888888888,
              "#fdca26"
             ],
             [
              1,
              "#f0f921"
             ]
            ],
            "type": "surface"
           }
          ],
          "table": [
           {
            "cells": {
             "fill": {
              "color": "#EBF0F8"
             },
             "line": {
              "color": "white"
             }
            },
            "header": {
             "fill": {
              "color": "#C8D4E3"
             },
             "line": {
              "color": "white"
             }
            },
            "type": "table"
           }
          ]
         },
         "layout": {
          "annotationdefaults": {
           "arrowcolor": "#2a3f5f",
           "arrowhead": 0,
           "arrowwidth": 1
          },
          "autotypenumbers": "strict",
          "coloraxis": {
           "colorbar": {
            "outlinewidth": 0,
            "ticks": ""
           }
          },
          "colorscale": {
           "diverging": [
            [
             0,
             "#8e0152"
            ],
            [
             0.1,
             "#c51b7d"
            ],
            [
             0.2,
             "#de77ae"
            ],
            [
             0.3,
             "#f1b6da"
            ],
            [
             0.4,
             "#fde0ef"
            ],
            [
             0.5,
             "#f7f7f7"
            ],
            [
             0.6,
             "#e6f5d0"
            ],
            [
             0.7,
             "#b8e186"
            ],
            [
             0.8,
             "#7fbc41"
            ],
            [
             0.9,
             "#4d9221"
            ],
            [
             1,
             "#276419"
            ]
           ],
           "sequential": [
            [
             0,
             "#0d0887"
            ],
            [
             0.1111111111111111,
             "#46039f"
            ],
            [
             0.2222222222222222,
             "#7201a8"
            ],
            [
             0.3333333333333333,
             "#9c179e"
            ],
            [
             0.4444444444444444,
             "#bd3786"
            ],
            [
             0.5555555555555556,
             "#d8576b"
            ],
            [
             0.6666666666666666,
             "#ed7953"
            ],
            [
             0.7777777777777778,
             "#fb9f3a"
            ],
            [
             0.8888888888888888,
             "#fdca26"
            ],
            [
             1,
             "#f0f921"
            ]
           ],
           "sequentialminus": [
            [
             0,
             "#0d0887"
            ],
            [
             0.1111111111111111,
             "#46039f"
            ],
            [
             0.2222222222222222,
             "#7201a8"
            ],
            [
             0.3333333333333333,
             "#9c179e"
            ],
            [
             0.4444444444444444,
             "#bd3786"
            ],
            [
             0.5555555555555556,
             "#d8576b"
            ],
            [
             0.6666666666666666,
             "#ed7953"
            ],
            [
             0.7777777777777778,
             "#fb9f3a"
            ],
            [
             0.8888888888888888,
             "#fdca26"
            ],
            [
             1,
             "#f0f921"
            ]
           ]
          },
          "colorway": [
           "#636efa",
           "#EF553B",
           "#00cc96",
           "#ab63fa",
           "#FFA15A",
           "#19d3f3",
           "#FF6692",
           "#B6E880",
           "#FF97FF",
           "#FECB52"
          ],
          "font": {
           "color": "#2a3f5f"
          },
          "geo": {
           "bgcolor": "white",
           "lakecolor": "white",
           "landcolor": "#E5ECF6",
           "showlakes": true,
           "showland": true,
           "subunitcolor": "white"
          },
          "hoverlabel": {
           "align": "left"
          },
          "hovermode": "closest",
          "mapbox": {
           "style": "light"
          },
          "paper_bgcolor": "white",
          "plot_bgcolor": "#E5ECF6",
          "polar": {
           "angularaxis": {
            "gridcolor": "white",
            "linecolor": "white",
            "ticks": ""
           },
           "bgcolor": "#E5ECF6",
           "radialaxis": {
            "gridcolor": "white",
            "linecolor": "white",
            "ticks": ""
           }
          },
          "scene": {
           "xaxis": {
            "backgroundcolor": "#E5ECF6",
            "gridcolor": "white",
            "gridwidth": 2,
            "linecolor": "white",
            "showbackground": true,
            "ticks": "",
            "zerolinecolor": "white"
           },
           "yaxis": {
            "backgroundcolor": "#E5ECF6",
            "gridcolor": "white",
            "gridwidth": 2,
            "linecolor": "white",
            "showbackground": true,
            "ticks": "",
            "zerolinecolor": "white"
           },
           "zaxis": {
            "backgroundcolor": "#E5ECF6",
            "gridcolor": "white",
            "gridwidth": 2,
            "linecolor": "white",
            "showbackground": true,
            "ticks": "",
            "zerolinecolor": "white"
           }
          },
          "shapedefaults": {
           "line": {
            "color": "#2a3f5f"
           }
          },
          "ternary": {
           "aaxis": {
            "gridcolor": "white",
            "linecolor": "white",
            "ticks": ""
           },
           "baxis": {
            "gridcolor": "white",
            "linecolor": "white",
            "ticks": ""
           },
           "bgcolor": "#E5ECF6",
           "caxis": {
            "gridcolor": "white",
            "linecolor": "white",
            "ticks": ""
           }
          },
          "title": {
           "x": 0.05
          },
          "xaxis": {
           "automargin": true,
           "gridcolor": "white",
           "linecolor": "white",
           "ticks": "",
           "title": {
            "standoff": 15
           },
           "zerolinecolor": "white",
           "zerolinewidth": 2
          },
          "yaxis": {
           "automargin": true,
           "gridcolor": "white",
           "linecolor": "white",
           "ticks": "",
           "title": {
            "standoff": 15
           },
           "zerolinecolor": "white",
           "zerolinewidth": 2
          }
         }
        },
        "title": {
         "text": "Total Accidents vs Speeding Accidents"
        },
        "xaxis": {
         "anchor": "y",
         "domain": [
          0,
          1
         ],
         "title": {
          "text": "total"
         }
        },
        "yaxis": {
         "anchor": "x",
         "domain": [
          0,
          1
         ],
         "title": {
          "text": "speeding"
         }
        }
       }
      }
     },
     "metadata": {},
     "output_type": "display_data"
    }
   ],
   "source": [
    "#total accidents vs speeding\n",
    "fig = px.scatter(df,x='total',y='speeding',\n",
    "                 size='alcohol',color='region',\n",
    "                 title='Total Accidents vs Speeding Accidents',\n",
    "                 hover_name='abbrev',\n",
    "                 )\n",
    "fig.show()"
   ]
  },
  {
   "cell_type": "code",
   "execution_count": 14,
   "id": "af7f8325",
   "metadata": {},
   "outputs": [
    {
     "data": {
      "application/vnd.plotly.v1+json": {
       "config": {
        "plotlyServerURL": "https://plot.ly"
       },
       "data": [
        {
         "hovertemplate": "abbrev=%{x}<br>ins_premium=%{marker.color}<extra></extra>",
         "legendgroup": "",
         "marker": {
          "color": {
           "bdata": "rkfhehRWlEAzMzMzMwaUQMP1KFyP55NACtejcD1Jk0DsUbgehSCSQClcj8L185FAFK5H4XrHkUA9CtejcFqRQFK4HoXrspBAUrgehet1kEA=",
           "dtype": "f8"
          },
          "coloraxis": "coloraxis",
          "pattern": {
           "shape": ""
          }
         },
         "name": "",
         "orientation": "v",
         "showlegend": false,
         "textposition": "auto",
         "type": "bar",
         "x": [
          "NJ",
          "LA",
          "DC",
          "NY",
          "FL",
          "RI",
          "DE",
          "MI",
          "CT",
          "AK"
         ],
         "xaxis": "x",
         "y": {
          "bdata": "rkfhehRWlEAzMzMzMwaUQMP1KFyP55NACtejcD1Jk0DsUbgehSCSQClcj8L185FAFK5H4XrHkUA9CtejcFqRQFK4HoXrspBAUrgehet1kEA=",
          "dtype": "f8"
         },
         "yaxis": "y"
        }
       ],
       "layout": {
        "barmode": "relative",
        "coloraxis": {
         "colorbar": {
          "title": {
           "text": "ins_premium"
          }
         },
         "colorscale": [
          [
           0,
           "#440154"
          ],
          [
           0.1111111111111111,
           "#482878"
          ],
          [
           0.2222222222222222,
           "#3e4989"
          ],
          [
           0.3333333333333333,
           "#31688e"
          ],
          [
           0.4444444444444444,
           "#26828e"
          ],
          [
           0.5555555555555556,
           "#1f9e89"
          ],
          [
           0.6666666666666666,
           "#35b779"
          ],
          [
           0.7777777777777778,
           "#6ece58"
          ],
          [
           0.8888888888888888,
           "#b5de2b"
          ],
          [
           1,
           "#fde725"
          ]
         ]
        },
        "legend": {
         "tracegroupgap": 0
        },
        "template": {
         "data": {
          "bar": [
           {
            "error_x": {
             "color": "#2a3f5f"
            },
            "error_y": {
             "color": "#2a3f5f"
            },
            "marker": {
             "line": {
              "color": "#E5ECF6",
              "width": 0.5
             },
             "pattern": {
              "fillmode": "overlay",
              "size": 10,
              "solidity": 0.2
             }
            },
            "type": "bar"
           }
          ],
          "barpolar": [
           {
            "marker": {
             "line": {
              "color": "#E5ECF6",
              "width": 0.5
             },
             "pattern": {
              "fillmode": "overlay",
              "size": 10,
              "solidity": 0.2
             }
            },
            "type": "barpolar"
           }
          ],
          "carpet": [
           {
            "aaxis": {
             "endlinecolor": "#2a3f5f",
             "gridcolor": "white",
             "linecolor": "white",
             "minorgridcolor": "white",
             "startlinecolor": "#2a3f5f"
            },
            "baxis": {
             "endlinecolor": "#2a3f5f",
             "gridcolor": "white",
             "linecolor": "white",
             "minorgridcolor": "white",
             "startlinecolor": "#2a3f5f"
            },
            "type": "carpet"
           }
          ],
          "choropleth": [
           {
            "colorbar": {
             "outlinewidth": 0,
             "ticks": ""
            },
            "type": "choropleth"
           }
          ],
          "contour": [
           {
            "colorbar": {
             "outlinewidth": 0,
             "ticks": ""
            },
            "colorscale": [
             [
              0,
              "#0d0887"
             ],
             [
              0.1111111111111111,
              "#46039f"
             ],
             [
              0.2222222222222222,
              "#7201a8"
             ],
             [
              0.3333333333333333,
              "#9c179e"
             ],
             [
              0.4444444444444444,
              "#bd3786"
             ],
             [
              0.5555555555555556,
              "#d8576b"
             ],
             [
              0.6666666666666666,
              "#ed7953"
             ],
             [
              0.7777777777777778,
              "#fb9f3a"
             ],
             [
              0.8888888888888888,
              "#fdca26"
             ],
             [
              1,
              "#f0f921"
             ]
            ],
            "type": "contour"
           }
          ],
          "contourcarpet": [
           {
            "colorbar": {
             "outlinewidth": 0,
             "ticks": ""
            },
            "type": "contourcarpet"
           }
          ],
          "heatmap": [
           {
            "colorbar": {
             "outlinewidth": 0,
             "ticks": ""
            },
            "colorscale": [
             [
              0,
              "#0d0887"
             ],
             [
              0.1111111111111111,
              "#46039f"
             ],
             [
              0.2222222222222222,
              "#7201a8"
             ],
             [
              0.3333333333333333,
              "#9c179e"
             ],
             [
              0.4444444444444444,
              "#bd3786"
             ],
             [
              0.5555555555555556,
              "#d8576b"
             ],
             [
              0.6666666666666666,
              "#ed7953"
             ],
             [
              0.7777777777777778,
              "#fb9f3a"
             ],
             [
              0.8888888888888888,
              "#fdca26"
             ],
             [
              1,
              "#f0f921"
             ]
            ],
            "type": "heatmap"
           }
          ],
          "histogram": [
           {
            "marker": {
             "pattern": {
              "fillmode": "overlay",
              "size": 10,
              "solidity": 0.2
             }
            },
            "type": "histogram"
           }
          ],
          "histogram2d": [
           {
            "colorbar": {
             "outlinewidth": 0,
             "ticks": ""
            },
            "colorscale": [
             [
              0,
              "#0d0887"
             ],
             [
              0.1111111111111111,
              "#46039f"
             ],
             [
              0.2222222222222222,
              "#7201a8"
             ],
             [
              0.3333333333333333,
              "#9c179e"
             ],
             [
              0.4444444444444444,
              "#bd3786"
             ],
             [
              0.5555555555555556,
              "#d8576b"
             ],
             [
              0.6666666666666666,
              "#ed7953"
             ],
             [
              0.7777777777777778,
              "#fb9f3a"
             ],
             [
              0.8888888888888888,
              "#fdca26"
             ],
             [
              1,
              "#f0f921"
             ]
            ],
            "type": "histogram2d"
           }
          ],
          "histogram2dcontour": [
           {
            "colorbar": {
             "outlinewidth": 0,
             "ticks": ""
            },
            "colorscale": [
             [
              0,
              "#0d0887"
             ],
             [
              0.1111111111111111,
              "#46039f"
             ],
             [
              0.2222222222222222,
              "#7201a8"
             ],
             [
              0.3333333333333333,
              "#9c179e"
             ],
             [
              0.4444444444444444,
              "#bd3786"
             ],
             [
              0.5555555555555556,
              "#d8576b"
             ],
             [
              0.6666666666666666,
              "#ed7953"
             ],
             [
              0.7777777777777778,
              "#fb9f3a"
             ],
             [
              0.8888888888888888,
              "#fdca26"
             ],
             [
              1,
              "#f0f921"
             ]
            ],
            "type": "histogram2dcontour"
           }
          ],
          "mesh3d": [
           {
            "colorbar": {
             "outlinewidth": 0,
             "ticks": ""
            },
            "type": "mesh3d"
           }
          ],
          "parcoords": [
           {
            "line": {
             "colorbar": {
              "outlinewidth": 0,
              "ticks": ""
             }
            },
            "type": "parcoords"
           }
          ],
          "pie": [
           {
            "automargin": true,
            "type": "pie"
           }
          ],
          "scatter": [
           {
            "fillpattern": {
             "fillmode": "overlay",
             "size": 10,
             "solidity": 0.2
            },
            "type": "scatter"
           }
          ],
          "scatter3d": [
           {
            "line": {
             "colorbar": {
              "outlinewidth": 0,
              "ticks": ""
             }
            },
            "marker": {
             "colorbar": {
              "outlinewidth": 0,
              "ticks": ""
             }
            },
            "type": "scatter3d"
           }
          ],
          "scattercarpet": [
           {
            "marker": {
             "colorbar": {
              "outlinewidth": 0,
              "ticks": ""
             }
            },
            "type": "scattercarpet"
           }
          ],
          "scattergeo": [
           {
            "marker": {
             "colorbar": {
              "outlinewidth": 0,
              "ticks": ""
             }
            },
            "type": "scattergeo"
           }
          ],
          "scattergl": [
           {
            "marker": {
             "colorbar": {
              "outlinewidth": 0,
              "ticks": ""
             }
            },
            "type": "scattergl"
           }
          ],
          "scattermap": [
           {
            "marker": {
             "colorbar": {
              "outlinewidth": 0,
              "ticks": ""
             }
            },
            "type": "scattermap"
           }
          ],
          "scattermapbox": [
           {
            "marker": {
             "colorbar": {
              "outlinewidth": 0,
              "ticks": ""
             }
            },
            "type": "scattermapbox"
           }
          ],
          "scatterpolar": [
           {
            "marker": {
             "colorbar": {
              "outlinewidth": 0,
              "ticks": ""
             }
            },
            "type": "scatterpolar"
           }
          ],
          "scatterpolargl": [
           {
            "marker": {
             "colorbar": {
              "outlinewidth": 0,
              "ticks": ""
             }
            },
            "type": "scatterpolargl"
           }
          ],
          "scatterternary": [
           {
            "marker": {
             "colorbar": {
              "outlinewidth": 0,
              "ticks": ""
             }
            },
            "type": "scatterternary"
           }
          ],
          "surface": [
           {
            "colorbar": {
             "outlinewidth": 0,
             "ticks": ""
            },
            "colorscale": [
             [
              0,
              "#0d0887"
             ],
             [
              0.1111111111111111,
              "#46039f"
             ],
             [
              0.2222222222222222,
              "#7201a8"
             ],
             [
              0.3333333333333333,
              "#9c179e"
             ],
             [
              0.4444444444444444,
              "#bd3786"
             ],
             [
              0.5555555555555556,
              "#d8576b"
             ],
             [
              0.6666666666666666,
              "#ed7953"
             ],
             [
              0.7777777777777778,
              "#fb9f3a"
             ],
             [
              0.8888888888888888,
              "#fdca26"
             ],
             [
              1,
              "#f0f921"
             ]
            ],
            "type": "surface"
           }
          ],
          "table": [
           {
            "cells": {
             "fill": {
              "color": "#EBF0F8"
             },
             "line": {
              "color": "white"
             }
            },
            "header": {
             "fill": {
              "color": "#C8D4E3"
             },
             "line": {
              "color": "white"
             }
            },
            "type": "table"
           }
          ]
         },
         "layout": {
          "annotationdefaults": {
           "arrowcolor": "#2a3f5f",
           "arrowhead": 0,
           "arrowwidth": 1
          },
          "autotypenumbers": "strict",
          "coloraxis": {
           "colorbar": {
            "outlinewidth": 0,
            "ticks": ""
           }
          },
          "colorscale": {
           "diverging": [
            [
             0,
             "#8e0152"
            ],
            [
             0.1,
             "#c51b7d"
            ],
            [
             0.2,
             "#de77ae"
            ],
            [
             0.3,
             "#f1b6da"
            ],
            [
             0.4,
             "#fde0ef"
            ],
            [
             0.5,
             "#f7f7f7"
            ],
            [
             0.6,
             "#e6f5d0"
            ],
            [
             0.7,
             "#b8e186"
            ],
            [
             0.8,
             "#7fbc41"
            ],
            [
             0.9,
             "#4d9221"
            ],
            [
             1,
             "#276419"
            ]
           ],
           "sequential": [
            [
             0,
             "#0d0887"
            ],
            [
             0.1111111111111111,
             "#46039f"
            ],
            [
             0.2222222222222222,
             "#7201a8"
            ],
            [
             0.3333333333333333,
             "#9c179e"
            ],
            [
             0.4444444444444444,
             "#bd3786"
            ],
            [
             0.5555555555555556,
             "#d8576b"
            ],
            [
             0.6666666666666666,
             "#ed7953"
            ],
            [
             0.7777777777777778,
             "#fb9f3a"
            ],
            [
             0.8888888888888888,
             "#fdca26"
            ],
            [
             1,
             "#f0f921"
            ]
           ],
           "sequentialminus": [
            [
             0,
             "#0d0887"
            ],
            [
             0.1111111111111111,
             "#46039f"
            ],
            [
             0.2222222222222222,
             "#7201a8"
            ],
            [
             0.3333333333333333,
             "#9c179e"
            ],
            [
             0.4444444444444444,
             "#bd3786"
            ],
            [
             0.5555555555555556,
             "#d8576b"
            ],
            [
             0.6666666666666666,
             "#ed7953"
            ],
            [
             0.7777777777777778,
             "#fb9f3a"
            ],
            [
             0.8888888888888888,
             "#fdca26"
            ],
            [
             1,
             "#f0f921"
            ]
           ]
          },
          "colorway": [
           "#636efa",
           "#EF553B",
           "#00cc96",
           "#ab63fa",
           "#FFA15A",
           "#19d3f3",
           "#FF6692",
           "#B6E880",
           "#FF97FF",
           "#FECB52"
          ],
          "font": {
           "color": "#2a3f5f"
          },
          "geo": {
           "bgcolor": "white",
           "lakecolor": "white",
           "landcolor": "#E5ECF6",
           "showlakes": true,
           "showland": true,
           "subunitcolor": "white"
          },
          "hoverlabel": {
           "align": "left"
          },
          "hovermode": "closest",
          "mapbox": {
           "style": "light"
          },
          "paper_bgcolor": "white",
          "plot_bgcolor": "#E5ECF6",
          "polar": {
           "angularaxis": {
            "gridcolor": "white",
            "linecolor": "white",
            "ticks": ""
           },
           "bgcolor": "#E5ECF6",
           "radialaxis": {
            "gridcolor": "white",
            "linecolor": "white",
            "ticks": ""
           }
          },
          "scene": {
           "xaxis": {
            "backgroundcolor": "#E5ECF6",
            "gridcolor": "white",
            "gridwidth": 2,
            "linecolor": "white",
            "showbackground": true,
            "ticks": "",
            "zerolinecolor": "white"
           },
           "yaxis": {
            "backgroundcolor": "#E5ECF6",
            "gridcolor": "white",
            "gridwidth": 2,
            "linecolor": "white",
            "showbackground": true,
            "ticks": "",
            "zerolinecolor": "white"
           },
           "zaxis": {
            "backgroundcolor": "#E5ECF6",
            "gridcolor": "white",
            "gridwidth": 2,
            "linecolor": "white",
            "showbackground": true,
            "ticks": "",
            "zerolinecolor": "white"
           }
          },
          "shapedefaults": {
           "line": {
            "color": "#2a3f5f"
           }
          },
          "ternary": {
           "aaxis": {
            "gridcolor": "white",
            "linecolor": "white",
            "ticks": ""
           },
           "baxis": {
            "gridcolor": "white",
            "linecolor": "white",
            "ticks": ""
           },
           "bgcolor": "#E5ECF6",
           "caxis": {
            "gridcolor": "white",
            "linecolor": "white",
            "ticks": ""
           }
          },
          "title": {
           "x": 0.05
          },
          "xaxis": {
           "automargin": true,
           "gridcolor": "white",
           "linecolor": "white",
           "ticks": "",
           "title": {
            "standoff": 15
           },
           "zerolinecolor": "white",
           "zerolinewidth": 2
          },
          "yaxis": {
           "automargin": true,
           "gridcolor": "white",
           "linecolor": "white",
           "ticks": "",
           "title": {
            "standoff": 15
           },
           "zerolinecolor": "white",
           "zerolinewidth": 2
          }
         }
        },
        "title": {
         "text": "Top 10 States by Insurance Premium"
        },
        "xaxis": {
         "anchor": "y",
         "domain": [
          0,
          1
         ],
         "title": {
          "text": "abbrev"
         }
        },
        "yaxis": {
         "anchor": "x",
         "domain": [
          0,
          1
         ],
         "title": {
          "text": "ins_premium"
         }
        }
       }
      }
     },
     "metadata": {},
     "output_type": "display_data"
    }
   ],
   "source": [
    "#top 10 state by insurance premium \n",
    "top10 = df.sort_values('ins_premium', ascending=False).head(10)\n",
    "fig = px.bar(top10, x='abbrev',y='ins_premium',color='ins_premium',\n",
    "             title='Top 10 States by Insurance Premium',\n",
    "             color_continuous_scale='Viridis')\n",
    "fig.show()"
   ]
  },
  {
   "cell_type": "code",
   "execution_count": 15,
   "id": "53dbeb14",
   "metadata": {},
   "outputs": [
    {
     "data": {
      "application/vnd.plotly.v1+json": {
       "config": {
        "plotlyServerURL": "https://plot.ly"
       },
       "data": [
        {
         "hovertemplate": "time=Dinner<br>sex=%{x}<br>total_bill=%{y}<extra></extra>",
         "legendgroup": "Dinner",
         "marker": {
          "color": "#636efa",
          "pattern": {
           "shape": ""
          }
         },
         "name": "Dinner",
         "orientation": "v",
         "showlegend": true,
         "textposition": "auto",
         "type": "bar",
         "x": [
          "Female",
          "Male",
          "Male",
          "Male",
          "Female",
          "Male",
          "Male",
          "Male",
          "Male",
          "Male",
          "Male",
          "Female",
          "Male",
          "Male",
          "Female",
          "Male",
          "Female",
          "Male",
          "Female",
          "Male",
          "Male",
          "Female",
          "Female",
          "Male",
          "Male",
          "Male",
          "Male",
          "Male",
          "Male",
          "Female",
          "Male",
          "Male",
          "Female",
          "Female",
          "Male",
          "Male",
          "Male",
          "Female",
          "Male",
          "Male",
          "Male",
          "Male",
          "Male",
          "Male",
          "Male",
          "Male",
          "Male",
          "Male",
          "Male",
          "Male",
          "Male",
          "Female",
          "Female",
          "Male",
          "Male",
          "Male",
          "Male",
          "Female",
          "Male",
          "Male",
          "Male",
          "Male",
          "Male",
          "Male",
          "Male",
          "Male",
          "Female",
          "Female",
          "Male",
          "Male",
          "Male",
          "Female",
          "Female",
          "Female",
          "Female",
          "Male",
          "Male",
          "Male",
          "Male",
          "Female",
          "Female",
          "Female",
          "Male",
          "Male",
          "Male",
          "Male",
          "Male",
          "Female",
          "Female",
          "Female",
          "Female",
          "Female",
          "Male",
          "Male",
          "Male",
          "Male",
          "Female",
          "Male",
          "Female",
          "Male",
          "Male",
          "Female",
          "Female",
          "Male",
          "Male",
          "Male",
          "Male",
          "Male",
          "Male",
          "Female",
          "Male",
          "Female",
          "Female",
          "Male",
          "Male",
          "Male",
          "Female",
          "Male",
          "Female",
          "Male",
          "Male",
          "Male",
          "Female",
          "Female",
          "Male",
          "Male",
          "Male",
          "Male",
          "Male",
          "Male",
          "Male",
          "Male",
          "Female",
          "Male",
          "Male",
          "Male",
          "Male",
          "Male",
          "Male",
          "Male",
          "Female",
          "Male",
          "Female",
          "Male",
          "Male",
          "Male",
          "Male",
          "Male",
          "Female",
          "Male",
          "Male",
          "Male",
          "Female",
          "Female",
          "Female",
          "Male",
          "Male",
          "Male",
          "Female",
          "Male",
          "Male",
          "Female",
          "Male",
          "Male",
          "Male",
          "Male",
          "Male",
          "Male",
          "Male",
          "Male",
          "Female",
          "Male",
          "Female",
          "Male",
          "Male",
          "Female"
         ],
         "xaxis": "x",
         "y": {
          "bdata": "PQrXo3D9MECuR+F6FK4kQMP1KFyPAjVArkfhehSuN0DXo3A9Cpc4QArXo3A9SjlACtejcD2KIUDhehSuR+E6QBSuR+F6FC5Aj8L1KFyPLUAK16NwPYokQOF6FK5HoUFA16NwPQrXLkCuR+F6FG4yQClcj8L1qC1AFK5H4XqUNUApXI/C9agkQArXo3A9SjBAuB6F61H4MEBmZmZmZqY0QOxRuB6F6zFACtejcD1KNEAK16NwPYovQPYoXI/CtUNAUrgehevRM0CPwvUoXM8xQD0K16NwvSpA4XoUrkdhKUAzMzMzM7M1QGZmZmZmpjNAmpmZmZkZI0CamZmZmVkyQB+F61G4Hi5AcT0K16OwNEBI4XoUrscxQI/C9ShcDzhAj8L1KFxPMECuR+F6FO4wQHE9CtejsDJAhetRuB5FP0AK16NwPQowQPYoXI/CdTFA4XoUrkfhK0Bcj8L1KFwjQGZmZmZmZj5ACtejcD1KMkB7FK5H4To2QDMzMzMzM0BAzczMzMyMPEAK16NwPQoyQBSuR+F6FClAFK5H4XqUJEBI4XoUrmdBQOF6FK5H4SNAj8L1KFyPOUA9CtejcH0zQOF6FK5HAUNAKVyPwvVoOkB7FK5H4XomQMP1KFyPIkhACtejcD1KNEAfhetRuJ4rQArXo3A9CiZACtejcD1KMkDXo3A9CpcxQBSuR+F6FDRAMzMzMzNzMECPwvUoXI8IQHsUrkfhOjRAhetRuB4FLkAK16NwPQooQFK4HoXrETFAXI/C9SjcOkBI4XoUrkc5QPYoXI/CdS1AhetRuB4FJUDsUbgehesxQLgehetR+DxAPQrXo3B9NkAAAAAAAAAXQFK4HoXrUTBAAAAAAADANkD2KFyPwhVEQEjhehSuRztAj8L1KFwPKEDD9ShcjwI1QOxRuB6F6yhAMzMzMzOzJkDD9Shcj8IuQGZmZmZmJkZA7FG4HoVrNkDsUbgehes0QLgehetRuC5APQrXo3B9NED2KFyPwjU5QD0K16NwPTJAH4XrUbieLEAAAAAAAAAsQAAAAAAAAB1AKVyPwvUIQ0AzMzMzM/M3QPYoXI/CtTlAj8L1KFxPMUCuR+F6FO49QKRwPQrXIyxAw/UoXI9CKkDD9Shcj0IxQM3MzMzMjDhAhetRuB7FM0CamZmZmdk9QPYoXI/CFUhAAAAAAAAAOUBI4XoUrscqQD0K16NwfTBAAAAAAACANUBSuB6F61EpQPYoXI/CNTBAH4XrUbieK0DD9Shcj4IxQIXrUbgehThAw/UoXI/CNED2KFyPwrU/QK5H4XoULiVAw/UoXI9CJUBI4XoUrmdJQB+F61G4ni9AAAAAAAAAHUCamZmZmdk/QFK4HoXr0TBAMzMzMzNzQECkcD0K1+MxQPYoXI/C9SxAMzMzMzMzI0BxPQrXo1BBQDMzMzMzU0FAFK5H4XpUN0DNzMzMzKxGQOxRuB6FKzdAZmZmZmZGREBxPQrXo7A0QGZmZmZm5jRA9ihcj8J1PkBmZmZmZiYyQJqZmZmZGTdA4XoUrkdhL0DXo3A9Cpc6QD0K16NwXUNAhetRuB5FOECF61G4HoUpQI/C9ShcDz5ApHA9CtfjOUAK16NwPSpIQArXo3A9iipA7FG4HoUrPEDNzMzMzMwpQGZmZmZmJjxArkfhehQuJ0D2KFyPwvUeQKRwPQrXIz5AMzMzMzNzNECPwvUoXI8qQB+F61G4HjZAw/UoXI8COEDhehSuR2EvQLgehetROCdACtejcD2KJUCPwvUoXA8vQKRwPQrXIyRAMzMzMzMzKUAK16NwPWpAQArXo3A96kFASOF6FK4HPUCuR+F6FC47QOxRuB6FqzZAUrgehevRMUBI4XoUrscyQA==",
          "dtype": "f8"
         },
         "yaxis": "y"
        },
        {
         "hovertemplate": "time=Lunch<br>sex=%{x}<br>total_bill=%{y}<extra></extra>",
         "legendgroup": "Lunch",
         "marker": {
          "color": "#EF553B",
          "pattern": {
           "shape": ""
          }
         },
         "name": "Lunch",
         "orientation": "v",
         "showlegend": true,
         "textposition": "auto",
         "type": "bar",
         "x": [
          "Male",
          "Male",
          "Male",
          "Male",
          "Male",
          "Female",
          "Male",
          "Male",
          "Female",
          "Male",
          "Male",
          "Male",
          "Male",
          "Female",
          "Female",
          "Female",
          "Male",
          "Female",
          "Male",
          "Male",
          "Female",
          "Female",
          "Male",
          "Female",
          "Female",
          "Male",
          "Male",
          "Female",
          "Female",
          "Female",
          "Female",
          "Female",
          "Female",
          "Female",
          "Male",
          "Female",
          "Female",
          "Male",
          "Male",
          "Female",
          "Female",
          "Female",
          "Female",
          "Female",
          "Male",
          "Male",
          "Female",
          "Male",
          "Male",
          "Male",
          "Male",
          "Male",
          "Female",
          "Female",
          "Male",
          "Male",
          "Female",
          "Female",
          "Female",
          "Male",
          "Female",
          "Male",
          "Female",
          "Male",
          "Female",
          "Male",
          "Female",
          "Female"
         ],
         "xaxis": "x",
         "y": {
          "bdata": "MzMzMzMzO0DD9Shcj8I2QArXo3A9SjFAcT0K16NwM0ApXI/C9agwQKRwPQrXIyRA16NwPQpXQED2KFyPwvUvQArXo3A9akFAj8L1KFwPKkBI4XoUrkcyQPYoXI/CtThAKVyPwvUoNUDNzMzMzEwlQFyPwvUo3ChAFK5H4XoUOEDhehSuR2EnQNejcD0K1ypAhetRuB6FLEBmZmZmZuYvQPYoXI/C9ShAzczMzMzMPUAK16NwPQohQArXo3A9Ci1Aw/UoXI/CJkBSuB6F69E2QBSuR+F6FDNAhetRuB5FNEDXo3A9ClcmQIXrUbgehShAw/UoXI9CMkCF61G4HgUhQClcj8L1qCRAzczMzMxMLEAAAAAAAAAwQFK4HoXrUSpAuB6F61F4MUBmZmZmZiZBQLgehetRmERAzczMzMwMO0CuR+F6FG4wQDMzMzMzsyBApHA9CtejMkA9CtejcL0nQI/C9ShcjyNACtejcD0KHkCPwvUoXM8zQHE9CtejcDxA9ihcj8L1LkAUrkfhepQwQD0K16NwPR5ArkfhehSuJECuR+F6FI5FQAAAAAAAACpAhetRuB4FK0D2KFyPwrUyQHsUrkfheilAAAAAAAAAKkBmZmZmZmYwQEjhehSuhzRAuB6F61F4MEBSuB6F61EoQNejcD0K1ypAKVyPwvUoIUD2KFyPwvUvQNejcD0K1ypAhetRuB5FMECuR+F6FC4kQA==",
          "dtype": "f8"
         },
         "yaxis": "y"
        }
       ],
       "layout": {
        "barmode": "relative",
        "legend": {
         "title": {
          "text": "time"
         },
         "tracegroupgap": 0
        },
        "margin": {
         "t": 60
        },
        "template": {
         "data": {
          "bar": [
           {
            "error_x": {
             "color": "#2a3f5f"
            },
            "error_y": {
             "color": "#2a3f5f"
            },
            "marker": {
             "line": {
              "color": "#E5ECF6",
              "width": 0.5
             },
             "pattern": {
              "fillmode": "overlay",
              "size": 10,
              "solidity": 0.2
             }
            },
            "type": "bar"
           }
          ],
          "barpolar": [
           {
            "marker": {
             "line": {
              "color": "#E5ECF6",
              "width": 0.5
             },
             "pattern": {
              "fillmode": "overlay",
              "size": 10,
              "solidity": 0.2
             }
            },
            "type": "barpolar"
           }
          ],
          "carpet": [
           {
            "aaxis": {
             "endlinecolor": "#2a3f5f",
             "gridcolor": "white",
             "linecolor": "white",
             "minorgridcolor": "white",
             "startlinecolor": "#2a3f5f"
            },
            "baxis": {
             "endlinecolor": "#2a3f5f",
             "gridcolor": "white",
             "linecolor": "white",
             "minorgridcolor": "white",
             "startlinecolor": "#2a3f5f"
            },
            "type": "carpet"
           }
          ],
          "choropleth": [
           {
            "colorbar": {
             "outlinewidth": 0,
             "ticks": ""
            },
            "type": "choropleth"
           }
          ],
          "contour": [
           {
            "colorbar": {
             "outlinewidth": 0,
             "ticks": ""
            },
            "colorscale": [
             [
              0,
              "#0d0887"
             ],
             [
              0.1111111111111111,
              "#46039f"
             ],
             [
              0.2222222222222222,
              "#7201a8"
             ],
             [
              0.3333333333333333,
              "#9c179e"
             ],
             [
              0.4444444444444444,
              "#bd3786"
             ],
             [
              0.5555555555555556,
              "#d8576b"
             ],
             [
              0.6666666666666666,
              "#ed7953"
             ],
             [
              0.7777777777777778,
              "#fb9f3a"
             ],
             [
              0.8888888888888888,
              "#fdca26"
             ],
             [
              1,
              "#f0f921"
             ]
            ],
            "type": "contour"
           }
          ],
          "contourcarpet": [
           {
            "colorbar": {
             "outlinewidth": 0,
             "ticks": ""
            },
            "type": "contourcarpet"
           }
          ],
          "heatmap": [
           {
            "colorbar": {
             "outlinewidth": 0,
             "ticks": ""
            },
            "colorscale": [
             [
              0,
              "#0d0887"
             ],
             [
              0.1111111111111111,
              "#46039f"
             ],
             [
              0.2222222222222222,
              "#7201a8"
             ],
             [
              0.3333333333333333,
              "#9c179e"
             ],
             [
              0.4444444444444444,
              "#bd3786"
             ],
             [
              0.5555555555555556,
              "#d8576b"
             ],
             [
              0.6666666666666666,
              "#ed7953"
             ],
             [
              0.7777777777777778,
              "#fb9f3a"
             ],
             [
              0.8888888888888888,
              "#fdca26"
             ],
             [
              1,
              "#f0f921"
             ]
            ],
            "type": "heatmap"
           }
          ],
          "histogram": [
           {
            "marker": {
             "pattern": {
              "fillmode": "overlay",
              "size": 10,
              "solidity": 0.2
             }
            },
            "type": "histogram"
           }
          ],
          "histogram2d": [
           {
            "colorbar": {
             "outlinewidth": 0,
             "ticks": ""
            },
            "colorscale": [
             [
              0,
              "#0d0887"
             ],
             [
              0.1111111111111111,
              "#46039f"
             ],
             [
              0.2222222222222222,
              "#7201a8"
             ],
             [
              0.3333333333333333,
              "#9c179e"
             ],
             [
              0.4444444444444444,
              "#bd3786"
             ],
             [
              0.5555555555555556,
              "#d8576b"
             ],
             [
              0.6666666666666666,
              "#ed7953"
             ],
             [
              0.7777777777777778,
              "#fb9f3a"
             ],
             [
              0.8888888888888888,
              "#fdca26"
             ],
             [
              1,
              "#f0f921"
             ]
            ],
            "type": "histogram2d"
           }
          ],
          "histogram2dcontour": [
           {
            "colorbar": {
             "outlinewidth": 0,
             "ticks": ""
            },
            "colorscale": [
             [
              0,
              "#0d0887"
             ],
             [
              0.1111111111111111,
              "#46039f"
             ],
             [
              0.2222222222222222,
              "#7201a8"
             ],
             [
              0.3333333333333333,
              "#9c179e"
             ],
             [
              0.4444444444444444,
              "#bd3786"
             ],
             [
              0.5555555555555556,
              "#d8576b"
             ],
             [
              0.6666666666666666,
              "#ed7953"
             ],
             [
              0.7777777777777778,
              "#fb9f3a"
             ],
             [
              0.8888888888888888,
              "#fdca26"
             ],
             [
              1,
              "#f0f921"
             ]
            ],
            "type": "histogram2dcontour"
           }
          ],
          "mesh3d": [
           {
            "colorbar": {
             "outlinewidth": 0,
             "ticks": ""
            },
            "type": "mesh3d"
           }
          ],
          "parcoords": [
           {
            "line": {
             "colorbar": {
              "outlinewidth": 0,
              "ticks": ""
             }
            },
            "type": "parcoords"
           }
          ],
          "pie": [
           {
            "automargin": true,
            "type": "pie"
           }
          ],
          "scatter": [
           {
            "fillpattern": {
             "fillmode": "overlay",
             "size": 10,
             "solidity": 0.2
            },
            "type": "scatter"
           }
          ],
          "scatter3d": [
           {
            "line": {
             "colorbar": {
              "outlinewidth": 0,
              "ticks": ""
             }
            },
            "marker": {
             "colorbar": {
              "outlinewidth": 0,
              "ticks": ""
             }
            },
            "type": "scatter3d"
           }
          ],
          "scattercarpet": [
           {
            "marker": {
             "colorbar": {
              "outlinewidth": 0,
              "ticks": ""
             }
            },
            "type": "scattercarpet"
           }
          ],
          "scattergeo": [
           {
            "marker": {
             "colorbar": {
              "outlinewidth": 0,
              "ticks": ""
             }
            },
            "type": "scattergeo"
           }
          ],
          "scattergl": [
           {
            "marker": {
             "colorbar": {
              "outlinewidth": 0,
              "ticks": ""
             }
            },
            "type": "scattergl"
           }
          ],
          "scattermap": [
           {
            "marker": {
             "colorbar": {
              "outlinewidth": 0,
              "ticks": ""
             }
            },
            "type": "scattermap"
           }
          ],
          "scattermapbox": [
           {
            "marker": {
             "colorbar": {
              "outlinewidth": 0,
              "ticks": ""
             }
            },
            "type": "scattermapbox"
           }
          ],
          "scatterpolar": [
           {
            "marker": {
             "colorbar": {
              "outlinewidth": 0,
              "ticks": ""
             }
            },
            "type": "scatterpolar"
           }
          ],
          "scatterpolargl": [
           {
            "marker": {
             "colorbar": {
              "outlinewidth": 0,
              "ticks": ""
             }
            },
            "type": "scatterpolargl"
           }
          ],
          "scatterternary": [
           {
            "marker": {
             "colorbar": {
              "outlinewidth": 0,
              "ticks": ""
             }
            },
            "type": "scatterternary"
           }
          ],
          "surface": [
           {
            "colorbar": {
             "outlinewidth": 0,
             "ticks": ""
            },
            "colorscale": [
             [
              0,
              "#0d0887"
             ],
             [
              0.1111111111111111,
              "#46039f"
             ],
             [
              0.2222222222222222,
              "#7201a8"
             ],
             [
              0.3333333333333333,
              "#9c179e"
             ],
             [
              0.4444444444444444,
              "#bd3786"
             ],
             [
              0.5555555555555556,
              "#d8576b"
             ],
             [
              0.6666666666666666,
              "#ed7953"
             ],
             [
              0.7777777777777778,
              "#fb9f3a"
             ],
             [
              0.8888888888888888,
              "#fdca26"
             ],
             [
              1,
              "#f0f921"
             ]
            ],
            "type": "surface"
           }
          ],
          "table": [
           {
            "cells": {
             "fill": {
              "color": "#EBF0F8"
             },
             "line": {
              "color": "white"
             }
            },
            "header": {
             "fill": {
              "color": "#C8D4E3"
             },
             "line": {
              "color": "white"
             }
            },
            "type": "table"
           }
          ]
         },
         "layout": {
          "annotationdefaults": {
           "arrowcolor": "#2a3f5f",
           "arrowhead": 0,
           "arrowwidth": 1
          },
          "autotypenumbers": "strict",
          "coloraxis": {
           "colorbar": {
            "outlinewidth": 0,
            "ticks": ""
           }
          },
          "colorscale": {
           "diverging": [
            [
             0,
             "#8e0152"
            ],
            [
             0.1,
             "#c51b7d"
            ],
            [
             0.2,
             "#de77ae"
            ],
            [
             0.3,
             "#f1b6da"
            ],
            [
             0.4,
             "#fde0ef"
            ],
            [
             0.5,
             "#f7f7f7"
            ],
            [
             0.6,
             "#e6f5d0"
            ],
            [
             0.7,
             "#b8e186"
            ],
            [
             0.8,
             "#7fbc41"
            ],
            [
             0.9,
             "#4d9221"
            ],
            [
             1,
             "#276419"
            ]
           ],
           "sequential": [
            [
             0,
             "#0d0887"
            ],
            [
             0.1111111111111111,
             "#46039f"
            ],
            [
             0.2222222222222222,
             "#7201a8"
            ],
            [
             0.3333333333333333,
             "#9c179e"
            ],
            [
             0.4444444444444444,
             "#bd3786"
            ],
            [
             0.5555555555555556,
             "#d8576b"
            ],
            [
             0.6666666666666666,
             "#ed7953"
            ],
            [
             0.7777777777777778,
             "#fb9f3a"
            ],
            [
             0.8888888888888888,
             "#fdca26"
            ],
            [
             1,
             "#f0f921"
            ]
           ],
           "sequentialminus": [
            [
             0,
             "#0d0887"
            ],
            [
             0.1111111111111111,
             "#46039f"
            ],
            [
             0.2222222222222222,
             "#7201a8"
            ],
            [
             0.3333333333333333,
             "#9c179e"
            ],
            [
             0.4444444444444444,
             "#bd3786"
            ],
            [
             0.5555555555555556,
             "#d8576b"
            ],
            [
             0.6666666666666666,
             "#ed7953"
            ],
            [
             0.7777777777777778,
             "#fb9f3a"
            ],
            [
             0.8888888888888888,
             "#fdca26"
            ],
            [
             1,
             "#f0f921"
            ]
           ]
          },
          "colorway": [
           "#636efa",
           "#EF553B",
           "#00cc96",
           "#ab63fa",
           "#FFA15A",
           "#19d3f3",
           "#FF6692",
           "#B6E880",
           "#FF97FF",
           "#FECB52"
          ],
          "font": {
           "color": "#2a3f5f"
          },
          "geo": {
           "bgcolor": "white",
           "lakecolor": "white",
           "landcolor": "#E5ECF6",
           "showlakes": true,
           "showland": true,
           "subunitcolor": "white"
          },
          "hoverlabel": {
           "align": "left"
          },
          "hovermode": "closest",
          "mapbox": {
           "style": "light"
          },
          "paper_bgcolor": "white",
          "plot_bgcolor": "#E5ECF6",
          "polar": {
           "angularaxis": {
            "gridcolor": "white",
            "linecolor": "white",
            "ticks": ""
           },
           "bgcolor": "#E5ECF6",
           "radialaxis": {
            "gridcolor": "white",
            "linecolor": "white",
            "ticks": ""
           }
          },
          "scene": {
           "xaxis": {
            "backgroundcolor": "#E5ECF6",
            "gridcolor": "white",
            "gridwidth": 2,
            "linecolor": "white",
            "showbackground": true,
            "ticks": "",
            "zerolinecolor": "white"
           },
           "yaxis": {
            "backgroundcolor": "#E5ECF6",
            "gridcolor": "white",
            "gridwidth": 2,
            "linecolor": "white",
            "showbackground": true,
            "ticks": "",
            "zerolinecolor": "white"
           },
           "zaxis": {
            "backgroundcolor": "#E5ECF6",
            "gridcolor": "white",
            "gridwidth": 2,
            "linecolor": "white",
            "showbackground": true,
            "ticks": "",
            "zerolinecolor": "white"
           }
          },
          "shapedefaults": {
           "line": {
            "color": "#2a3f5f"
           }
          },
          "ternary": {
           "aaxis": {
            "gridcolor": "white",
            "linecolor": "white",
            "ticks": ""
           },
           "baxis": {
            "gridcolor": "white",
            "linecolor": "white",
            "ticks": ""
           },
           "bgcolor": "#E5ECF6",
           "caxis": {
            "gridcolor": "white",
            "linecolor": "white",
            "ticks": ""
           }
          },
          "title": {
           "x": 0.05
          },
          "xaxis": {
           "automargin": true,
           "gridcolor": "white",
           "linecolor": "white",
           "ticks": "",
           "title": {
            "standoff": 15
           },
           "zerolinecolor": "white",
           "zerolinewidth": 2
          },
          "yaxis": {
           "automargin": true,
           "gridcolor": "white",
           "linecolor": "white",
           "ticks": "",
           "title": {
            "standoff": 15
           },
           "zerolinecolor": "white",
           "zerolinewidth": 2
          }
         }
        },
        "xaxis": {
         "anchor": "y",
         "domain": [
          0,
          1
         ],
         "title": {
          "text": "sex"
         }
        },
        "yaxis": {
         "anchor": "x",
         "domain": [
          0,
          1
         ],
         "title": {
          "text": "total_bill"
         }
        }
       }
      }
     },
     "metadata": {},
     "output_type": "display_data"
    }
   ],
   "source": [
    "#Stacked vs Grouped Bars\n",
    "import plotly.express as px\n",
    "df = px.data.tips()\n",
    "fig = px.bar(df, x=\"sex\", y=\"total_bill\", color='time')\n",
    "fig.show()"
   ]
  },
  {
   "cell_type": "code",
   "execution_count": 16,
   "id": "286d6754",
   "metadata": {},
   "outputs": [
    {
     "data": {
      "application/vnd.plotly.v1+json": {
       "config": {
        "plotlyServerURL": "https://plot.ly"
       },
       "data": [
        {
         "geo": "geo",
         "hoverinfo": "text",
         "lat": {
          "bdata": "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",
          "dtype": "f8"
         },
         "lon": {
          "bdata": "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",
          "dtype": "f8"
         },
         "marker": {
          "color": "crimson",
          "opacity": 0.8,
          "size": 4
         },
         "mode": "markers",
         "showlegend": false,
         "type": "scattergeo"
        },
        {
         "marker": {
          "color": "crimson"
         },
         "showlegend": false,
         "type": "bar",
         "x": [
          "United States",
          "Russia",
          "Indonesia",
          "Japan",
          "Chile",
          "Ethiopia",
          "Papua New Guinea",
          "Philippines",
          "Mexico",
          "Iceland"
         ],
         "xaxis": "x",
         "y": {
          "bdata": "uACpAIgAbwBXADkANgAxACkAJgA=",
          "dtype": "i2"
         },
         "yaxis": "y"
        },
        {
         "scene": "scene",
         "showscale": false,
         "type": "surface",
         "z": [
          [
           100,
           100,
           101,
           101,
           101,
           101,
           101,
           100,
           100,
           100,
           101,
           101,
           102,
           102,
           102,
           102,
           103,
           104,
           103,
           102,
           101,
           101,
           102,
           103,
           104,
           104,
           105,
           107,
           107,
           107,
           108,
           108,
           110,
           110,
           110,
           110,
           110,
           110,
           110,
           110,
           108,
           108,
           108,
           107,
           107,
           108,
           108,
           108,
           108,
           108,
           107,
           107,
           107,
           107,
           106,
           106,
           105,
           105,
           104,
           104,
           103
          ],
          [
           101,
           101,
           102,
           102,
           102,
           102,
           102,
           101,
           101,
           101,
           102,
           102,
           103,
           103,
           103,
           103,
           104,
           105,
           104,
           103,
           102,
           102,
           103,
           105,
           106,
           106,
           107,
           109,
           110,
           110,
           110,
           110,
           111,
           112,
           113,
           114,
           116,
           115,
           114,
           112,
           110,
           110,
           110,
           109,
           108,
           109,
           109,
           109,
           109,
           108,
           108,
           108,
           108,
           107,
           107,
           106,
           106,
           105,
           105,
           104,
           104
          ],
          [
           102,
           102,
           103,
           103,
           103,
           103,
           103,
           102,
           102,
           102,
           103,
           103,
           104,
           104,
           104,
           104,
           105,
           106,
           105,
           104,
           104,
           105,
           106,
           107,
           108,
           110,
           111,
           113,
           114,
           115,
           114,
           115,
           116,
           118,
           119,
           119,
           121,
           121,
           120,
           118,
           116,
           114,
           112,
           111,
           110,
           110,
           110,
           110,
           109,
           109,
           109,
           109,
           108,
           108,
           107,
           107,
           106,
           106,
           105,
           105,
           104
          ],
          [
           103,
           103,
           104,
           104,
           104,
           104,
           104,
           103,
           103,
           103,
           103,
           104,
           104,
           104,
           105,
           105,
           106,
           107,
           106,
           106,
           106,
           107,
           108,
           110,
           111,
           114,
           117,
           118,
           117,
           119,
           120,
           121,
           122,
           124,
           125,
           126,
           127,
           127,
           126,
           124,
           122,
           120,
           117,
           116,
           113,
           111,
           110,
           110,
           110,
           109,
           109,
           109,
           109,
           108,
           108,
           107,
           107,
           106,
           106,
           105,
           105
          ],
          [
           104,
           104,
           105,
           105,
           105,
           105,
           105,
           104,
           104,
           103,
           104,
           104,
           105,
           105,
           105,
           106,
           107,
           108,
           108,
           108,
           109,
           110,
           112,
           114,
           115,
           118,
           121,
           122,
           121,
           123,
           128,
           131,
           129,
           130,
           131,
           131,
           132,
           132,
           131,
           130,
           128,
           126,
           122,
           119,
           115,
           114,
           112,
           110,
           110,
           110,
           110,
           110,
           109,
           109,
           108,
           107,
           107,
           107,
           106,
           106,
           105
          ],
          [
           105,
           105,
           105,
           106,
           106,
           106,
           106,
           105,
           105,
           104,
           104,
           105,
           105,
           106,
           106,
           107,
           109,
           110,
           110,
           112,
           113,
           115,
           116,
           118,
           119,
           121,
           124,
           126,
           126,
           129,
           134,
           137,
           137,
           136,
           136,
           135,
           136,
           136,
           136,
           135,
           133,
           129,
           126,
           122,
           118,
           116,
           115,
           113,
           111,
           110,
           110,
           110,
           110,
           109,
           108,
           108,
           108,
           107,
           107,
           106,
           106
          ],
          [
           105,
           106,
           106,
           107,
           107,
           107,
           107,
           106,
           106,
           105,
           105,
           106,
           106,
           107,
           108,
           109,
           111,
           113,
           114,
           116,
           118,
           120,
           121,
           122,
           123,
           125,
           127,
           129,
           130,
           135,
           140,
           142,
           142,
           142,
           141,
           140,
           140,
           140,
           140,
           139,
           137,
           134,
           129,
           125,
           121,
           118,
           116,
           114,
           112,
           110,
           110,
           110,
           111,
           110,
           109,
           109,
           108,
           108,
           107,
           107,
           106
          ],
          [
           106,
           107,
           107,
           108,
           108,
           108,
           108,
           107,
           107,
           106,
           106,
           107,
           108,
           108,
           110,
           113,
           115,
           117,
           118,
           120,
           122,
           124,
           125,
           127,
           128,
           129,
           131,
           134,
           135,
           141,
           146,
           147,
           146,
           146,
           145,
           144,
           144,
           144,
           143,
           142,
           141,
           139,
           135,
           130,
           126,
           122,
           118,
           116,
           114,
           112,
           112,
           113,
           112,
           110,
           110,
           109,
           109,
           108,
           108,
           107,
           106
          ],
          [
           107,
           108,
           108,
           109,
           109,
           109,
           109,
           108,
           108,
           107,
           108,
           108,
           110,
           111,
           113,
           116,
           118,
           120,
           123,
           125,
           127,
           129,
           130,
           132,
           134,
           135,
           137,
           139,
           142,
           146,
           152,
           152,
           151,
           151,
           150,
           149,
           148,
           148,
           146,
           145,
           143,
           142,
           139,
           135,
           131,
           127,
           122,
           119,
           117,
           115,
           115,
           115,
           114,
           112,
           110,
           110,
           109,
           109,
           108,
           107,
           107
          ],
          [
           108,
           109,
           109,
           110,
           110,
           110,
           110,
           109,
           109,
           108,
           110,
           110,
           113,
           116,
           118,
           120,
           122,
           125,
           127,
           129,
           133,
           136,
           138,
           140,
           141,
           142,
           148,
           150,
           151,
           156,
           158,
           159,
           158,
           157,
           158,
           158,
           154,
           151,
           149,
           148,
           146,
           144,
           141,
           137,
           134,
           130,
           125,
           122,
           120,
           118,
           117,
           117,
           115,
           113,
           111,
           110,
           110,
           109,
           108,
           107,
           107
          ],
          [
           109,
           110,
           110,
           111,
           111,
           111,
           111,
           110,
           110,
           110,
           112,
           114,
           118,
           121,
           123,
           125,
           127,
           129,
           133,
           137,
           141,
           143,
           145,
           146,
           148,
           150,
           154,
           156,
           159,
           161,
           162,
           163,
           164,
           163,
           164,
           164,
           160,
           157,
           154,
           151,
           149,
           146,
           144,
           140,
           137,
           133,
           129,
           126,
           124,
           121,
           119,
           118,
           116,
           114,
           112,
           111,
           110,
           109,
           108,
           107,
           106
          ],
          [
           110,
           110,
           111,
           113,
           112,
           111,
           113,
           112,
           112,
           114,
           116,
           119,
           121,
           124,
           127,
           129,
           133,
           138,
           143,
           146,
           149,
           149,
           151,
           153,
           154,
           157,
           159,
           160,
           163,
           165,
           166,
           167,
           168,
           168,
           168,
           168,
           166,
           162,
           159,
           157,
           154,
           152,
           149,
           144,
           140,
           136,
           133,
           131,
           128,
           125,
           122,
           119,
           117,
           115,
           113,
           111,
           110,
           109,
           108,
           107,
           106
          ],
          [
           110,
           111,
           113,
           115,
           114,
           113,
           114,
           114,
           115,
           117,
           119,
           121,
           124,
           126,
           129,
           133,
           140,
           145,
           150,
           154,
           155,
           155,
           157,
           159,
           161,
           162,
           164,
           165,
           167,
           168,
           169,
           170,
           172,
           174,
           172,
           172,
           171,
           169,
           166,
           163,
           161,
           158,
           153,
           148,
           143,
           140,
           137,
           134,
           131,
           128,
           125,
           120,
           118,
           116,
           114,
           112,
           110,
           109,
           108,
           107,
           105
          ],
          [
           111,
           113,
           115,
           117,
           116,
           115,
           116,
           117,
           117,
           119,
           121,
           124,
           126,
           128,
           132,
           137,
           143,
           151,
           156,
           161,
           161,
           162,
           163,
           165,
           166,
           167,
           168,
           170,
           171,
           173,
           175,
           177,
           179,
           178,
           177,
           176,
           176,
           174,
           171,
           169,
           165,
           161,
           156,
           152,
           148,
           144,
           140,
           138,
           135,
           131,
           127,
           123,
           119,
           117,
           115,
           113,
           111,
           110,
           108,
           106,
           105
          ],
          [
           114,
           115,
           117,
           117,
           117,
           118,
           119,
           119,
           120,
           121,
           124,
           126,
           128,
           131,
           137,
           143,
           150,
           156,
           160,
           163,
           165,
           168,
           170,
           171,
           172,
           173,
           174,
           175,
           177,
           179,
           180,
           182,
           183,
           183,
           183,
           183,
           180,
           178,
           177,
           172,
           168,
           164,
           160,
           156,
           152,
           148,
           144,
           141,
           138,
           134,
           130,
           126,
           121,
           117,
           114,
           112,
           110,
           110,
           108,
           106,
           104
          ],
          [
           116,
           118,
           118,
           118,
           120,
           121,
           121,
           122,
           122,
           123,
           125,
           128,
           130,
           134,
           141,
           147,
           152,
           156,
           160,
           165,
           168,
           170,
           174,
           176,
           179,
           180,
           181,
           181,
           182,
           182,
           183,
           184,
           186,
           187,
           187,
           184,
           184,
           181,
           180,
           176,
           172,
           168,
           165,
           161,
           157,
           153,
           149,
           145,
           142,
           138,
           133,
           129,
           125,
           120,
           115,
           111,
           110,
           110,
           108,
           106,
           104
          ],
          [
           118,
           120,
           120,
           121,
           122,
           123,
           124,
           124,
           125,
           126,
           127,
           129,
           132,
           135,
           142,
           149,
           153,
           157,
           161,
           166,
           170,
           174,
           178,
           180,
           182,
           183,
           184,
           184,
           185,
           186,
           186,
           187,
           189,
           189,
           189,
           189,
           189,
           186,
           182,
           179,
           175,
           171,
           168,
           165,
           162,
           157,
           152,
           149,
           145,
           141,
           137,
           131,
           125,
           120,
           116,
           111,
           110,
           110,
           108,
           106,
           104
          ],
          [
           120,
           121,
           122,
           123,
           124,
           125,
           126,
           127,
           127,
           128,
           130,
           132,
           134,
           137,
           142,
           151,
           155,
           158,
           162,
           169,
           172,
           176,
           181,
           183,
           184,
           186,
           187,
           188,
           189,
           189,
           189,
           189,
           190,
           190,
           191,
           190,
           190,
           188,
           186,
           183,
           180,
           175,
           171,
           168,
           165,
           161,
           157,
           152,
           149,
           145,
           141,
           134,
           127,
           121,
           116,
           112,
           110,
           110,
           108,
           106,
           104
          ],
          [
           120,
           122,
           125,
           126,
           126,
           127,
           128,
           129,
           130,
           130,
           132,
           134,
           136,
           139,
           145,
           152,
           157,
           160,
           167,
           172,
           175,
           178,
           181,
           185,
           186,
           188,
           190,
           191,
           192,
           193,
           193,
           192,
           192,
           191,
           192,
           191,
           191,
           190,
           190,
           187,
           184,
           181,
           177,
           172,
           169,
           165,
           161,
           156,
           152,
           147,
           143,
           139,
           131,
           123,
           119,
           115,
           111,
           110,
           108,
           106,
           105
          ],
          [
           121,
           124,
           126,
           128,
           129,
           129,
           130,
           131,
           132,
           133,
           135,
           137,
           139,
           143,
           150,
           154,
           159,
           164,
           170,
           173,
           176,
           179,
           184,
           186,
           189,
           190,
           191,
           192,
           193,
           194,
           195,
           194,
           193,
           192,
           191,
           191,
           191,
           191,
           190,
           190,
           188,
           184,
           181,
           177,
           173,
           169,
           165,
           160,
           155,
           149,
           145,
           142,
           136,
           129,
           123,
           118,
           114,
           110,
           108,
           108,
           107
          ],
          [
           122,
           125,
           127,
           130,
           130,
           131,
           133,
           134,
           135,
           136,
           137,
           140,
           143,
           147,
           154,
           158,
           162,
           166,
           171,
           174,
           177,
           181,
           186,
           189,
           190,
           190,
           191,
           192,
           191,
           191,
           190,
           189,
           188,
           189,
           190,
           190,
           191,
           190,
           190,
           190,
           189,
           186,
           184,
           181,
           177,
           173,
           169,
           164,
           158,
           152,
           148,
           144,
           140,
           134,
           125,
           118,
           115,
           111,
           110,
           108,
           107
          ],
          [
           122,
           125,
           128,
           130,
           132,
           133,
           135,
           136,
           137,
           139,
           140,
           143,
           147,
           152,
           157,
           161,
           164,
           168,
           172,
           175,
           179,
           182,
           186,
           190,
           190,
           190,
           190,
           189,
           187,
           184,
           184,
           183,
           182,
           182,
           183,
           183,
           183,
           184,
           185,
           186,
           187,
           186,
           185,
           184,
           181,
           177,
           173,
           169,
           163,
           157,
           149,
           145,
           141,
           136,
           130,
           119,
           116,
           112,
           110,
           108,
           106
          ],
          [
           123,
           126,
           129,
           131,
           133,
           135,
           137,
           138,
           139,
           141,
           143,
           147,
           150,
           156,
           161,
           164,
           167,
           170,
           173,
           177,
           181,
           184,
           187,
           188,
           190,
           189,
           187,
           185,
           183,
           179,
           176,
           174,
           174,
           174,
           174,
           174,
           176,
           177,
           179,
           180,
           182,
           183,
           182,
           181,
           181,
           180,
           176,
           171,
           166,
           160,
           152,
           147,
           142,
           138,
           133,
           126,
           121,
           115,
           110,
           106,
           105
          ],
          [
           124,
           127,
           130,
           132,
           135,
           137,
           138,
           140,
           142,
           144,
           147,
           149,
           154,
           157,
           161,
           165,
           168,
           171,
           175,
           178,
           181,
           184,
           186,
           187,
           187,
           184,
           184,
           181,
           179,
           175,
           171,
           169,
           168,
           168,
           168,
           169,
           170,
           172,
           174,
           177,
           178,
           179,
           180,
           181,
           181,
           180,
           179,
           174,
           167,
           161,
           155,
           148,
           144,
           139,
           134,
           128,
           121,
           115,
           110,
           106,
           105
          ],
          [
           123,
           128,
           131,
           133,
           136,
           138,
           140,
           142,
           144,
           146,
           149,
           151,
           154,
           157,
           160,
           164,
           168,
           172,
           175,
           178,
           181,
           183,
           184,
           184,
           185,
           183,
           180,
           177,
           174,
           170,
           167,
           165,
           164,
           164,
           164,
           165,
           166,
           168,
           171,
           175,
           176,
           178,
           180,
           181,
           180,
           180,
           179,
           177,
           170,
           163,
           157,
           150,
           144,
           139,
           134,
           128,
           121,
           115,
           110,
           108,
           107
          ],
          [
           123,
           127,
           131,
           134,
           136,
           138,
           140,
           142,
           144,
           147,
           149,
           151,
           154,
           157,
           160,
           164,
           168,
           171,
           174,
           178,
           180,
           181,
           181,
           182,
           183,
           181,
           178,
           173,
           169,
           166,
           163,
           161,
           161,
           160,
           160,
           161,
           163,
           165,
           168,
           173,
           176,
           178,
           179,
           180,
           181,
           180,
           180,
           175,
           173,
           166,
           159,
           152,
           145,
           139,
           134,
           127,
           121,
           115,
           110,
           109,
           108
          ],
          [
           120,
           124,
           128,
           131,
           134,
           137,
           139,
           142,
           144,
           146,
           149,
           151,
           153,
           156,
           160,
           163,
           167,
           171,
           174,
           178,
           180,
           180,
           180,
           180,
           180,
           180,
           175,
           171,
           167,
           162,
           160,
           158,
           157,
           157,
           157,
           158,
           159,
           162,
           166,
           170,
           175,
           177,
           178,
           180,
           181,
           181,
           180,
           178,
           175,
           169,
           160,
           154,
           148,
           140,
           134,
           128,
           121,
           115,
           110,
           110,
           109
          ],
          [
           118,
           121,
           125,
           129,
           132,
           134,
           137,
           140,
           142,
           145,
           147,
           149,
           151,
           155,
           159,
           163,
           166,
           169,
           173,
           177,
           179,
           180,
           180,
           180,
           180,
           179,
           174,
           169,
           166,
           161,
           158,
           156,
           154,
           153,
           153,
           154,
           156,
           159,
           163,
           169,
           173,
           175,
           178,
           180,
           181,
           180,
           180,
           179,
           175,
           170,
           160,
           154,
           149,
           142,
           135,
           128,
           122,
           116,
           111,
           110,
           110
          ],
          [
           117,
           120,
           121,
           125,
           129,
           132,
           135,
           138,
           140,
           143,
           145,
           147,
           149,
           153,
           157,
           160,
           163,
           166,
           171,
           174,
           177,
           179,
           180,
           180,
           180,
           179,
           172,
           168,
           164,
           160,
           157,
           154,
           151,
           149,
           150,
           150,
           154,
           158,
           164,
           169,
           174,
           178,
           180,
           180,
           180,
           180,
           178,
           177,
           175,
           170,
           161,
           153,
           148,
           142,
           135,
           129,
           123,
           116,
           113,
           112,
           110
          ],
          [
           115,
           118,
           120,
           122,
           126,
           130,
           133,
           136,
           138,
           141,
           143,
           145,
           148,
           151,
           154,
           157,
           160,
           163,
           168,
           171,
           174,
           177,
           179,
           179,
           179,
           176,
           171,
           167,
           164,
           160,
           156,
           153,
           149,
           148,
           149,
           151,
           155,
           158,
           163,
           170,
           173,
           177,
           179,
           180,
           180,
           180,
           178,
           175,
           173,
           171,
           162,
           154,
           147,
           141,
           136,
           130,
           124,
           117,
           115,
           112,
           110
          ],
          [
           114,
           116,
           118,
           120,
           122,
           127,
           131,
           133,
           136,
           138,
           141,
           143,
           146,
           148,
           151,
           154,
           157,
           160,
           164,
           168,
           171,
           174,
           178,
           178,
           179,
           177,
           173,
           169,
           165,
           161,
           157,
           154,
           151,
           149,
           150,
           152,
           155,
           159,
           166,
           171,
           175,
           177,
           179,
           180,
           180,
           179,
           176,
           174,
           171,
           168,
           159,
           151,
           146,
           141,
           135,
           129,
           124,
           119,
           116,
           113,
           110
          ],
          [
           115,
           114,
           116,
           118,
           120,
           122,
           127,
           129,
           132,
           136,
           139,
           141,
           143,
           146,
           148,
           151,
           153,
           156,
           160,
           164,
           167,
           172,
           174,
           176,
           177,
           176,
           173,
           170,
           166,
           162,
           159,
           157,
           154,
           153,
           154,
           155,
           158,
           161,
           169,
           172,
           174,
           176,
           178,
           178,
           178,
           178,
           175,
           172,
           169,
           162,
           156,
           149,
           144,
           140,
           134,
           128,
           123,
           118,
           115,
           112,
           110
          ],
          [
           113,
           113,
           114,
           116,
           118,
           120,
           122,
           125,
           129,
           133,
           136,
           138,
           141,
           143,
           146,
           149,
           150,
           153,
           156,
           160,
           165,
           170,
           173,
           176,
           176,
           176,
           173,
           172,
           169,
           165,
           163,
           160,
           158,
           157,
           158,
           159,
           161,
           166,
           170,
           170,
           173,
           175,
           176,
           178,
           176,
           173,
           171,
           168,
           164,
           158,
           153,
           146,
           140,
           137,
           132,
           127,
           121,
           117,
           113,
           111,
           110
          ],
          [
           111,
           112,
           113,
           114,
           116,
           118,
           120,
           122,
           126,
           130,
           133,
           136,
           139,
           142,
           145,
           147,
           148,
           151,
           155,
           158,
           163,
           168,
           173,
           176,
           177,
           177,
           176,
           174,
           171,
           169,
           166,
           164,
           161,
           161,
           162,
           164,
           165,
           167,
           170,
           170,
           171,
           173,
           173,
           173,
           170,
           168,
           165,
           163,
           160,
           155,
           149,
           143,
           138,
           134,
           130,
           125,
           119,
           116,
           112,
           110,
           109
          ],
          [
           110,
           112,
           113,
           113,
           114,
           116,
           118,
           120,
           123,
           127,
           131,
           134,
           137,
           141,
           143,
           145,
           148,
           150,
           154,
           157,
           161,
           166,
           171,
           176,
           178,
           178,
           178,
           176,
           174,
           172,
           170,
           167,
           167,
           167,
           166,
           168,
           170,
           169,
           168,
           167,
           168,
           168,
           168,
           168,
           167,
           165,
           163,
           160,
           156,
           152,
           146,
           140,
           136,
           131,
           128,
           122,
           118,
           114,
           110,
           110,
           109
          ],
          [
           109,
           110,
           111,
           112,
           114,
           116,
           118,
           119,
           120,
           124,
           128,
           131,
           136,
           140,
           142,
           145,
           147,
           150,
           153,
           157,
           160,
           165,
           170,
           174,
           178,
           179,
           179,
           178,
           178,
           176,
           174,
           171,
           170,
           170,
           170,
           168,
           167,
           166,
           164,
           163,
           161,
           162,
           163,
           163,
           163,
           161,
           160,
           157,
           153,
           148,
           142,
           136,
           130,
           127,
           124,
           120,
           117,
           113,
           110,
           110,
           109
          ],
          [
           108,
           109,
           111,
           112,
           114,
           116,
           117,
           118,
           120,
           121,
           125,
           128,
           132,
           138,
           142,
           144,
           147,
           149,
           153,
           156,
           160,
           164,
           170,
           174,
           178,
           180,
           180,
           179,
           179,
           178,
           176,
           172,
           170,
           170,
           170,
           168,
           166,
           164,
           162,
           160,
           157,
           156,
           157,
           158,
           158,
           156,
           153,
           151,
           149,
           144,
           139,
           130,
           127,
           124,
           121,
           118,
           115,
           112,
           110,
           110,
           109
          ],
          [
           108,
           109,
           111,
           113,
           114,
           116,
           117,
           118,
           119,
           120,
           122,
           126,
           130,
           135,
           139,
           143,
           147,
           149,
           152,
           156,
           160,
           164,
           169,
           173,
           177,
           180,
           180,
           180,
           180,
           179,
           178,
           174,
           170,
           170,
           168,
           167,
           165,
           163,
           161,
           157,
           154,
           153,
           152,
           152,
           152,
           149,
           148,
           147,
           144,
           140,
           134,
           128,
           125,
           122,
           119,
           117,
           114,
           110,
           110,
           109,
           109
          ],
          [
           107,
           108,
           111,
           112,
           114,
           115,
           116,
           117,
           119,
           120,
           121,
           124,
           128,
           133,
           137,
           141,
           145,
           149,
           152,
           156,
           160,
           164,
           168,
           172,
           176,
           179,
           180,
           180,
           180,
           179,
           178,
           174,
           170,
           168,
           166,
           165,
           163,
           161,
           158,
           154,
           150,
           149,
           148,
           146,
           145,
           143,
           143,
           143,
           140,
           136,
           130,
           126,
           123,
           120,
           118,
           115,
           112,
           110,
           110,
           109,
           109
          ],
          [
           107,
           108,
           110,
           112,
           113,
           113,
           115,
           116,
           118,
           120,
           122,
           125,
           128,
           132,
           136,
           140,
           145,
           148,
           150,
           155,
           160,
           164,
           167,
           170,
           174,
           177,
           179,
           179,
           178,
           176,
           176,
           173,
           169,
           166,
           164,
           163,
           161,
           159,
           155,
           152,
           148,
           145,
           143,
           141,
           140,
           139,
           139,
           138,
           136,
           132,
           128,
           124,
           121,
           118,
           116,
           114,
           111,
           110,
           110,
           109,
           108
          ],
          [
           107,
           108,
           109,
           111,
           113,
           114,
           116,
           117,
           119,
           120,
           122,
           125,
           128,
           132,
           137,
           141,
           144,
           146,
           149,
           152,
           157,
           162,
           166,
           168,
           171,
           173,
           175,
           175,
           173,
           172,
           172,
           171,
           168,
           165,
           162,
           160,
           158,
           156,
           153,
           149,
           145,
           142,
           139,
           138,
           137,
           136,
           135,
           133,
           131,
           129,
           126,
           122,
           119,
           117,
           114,
           112,
           110,
           110,
           109,
           108,
           107
          ],
          [
           108,
           109,
           110,
           112,
           114,
           115,
           116,
           117,
           119,
           120,
           122,
           126,
           129,
           133,
           137,
           141,
           143,
           146,
           148,
           151,
           155,
           160,
           164,
           167,
           168,
           169,
           170,
           170,
           169,
           168,
           167,
           168,
           166,
           163,
           160,
           158,
           155,
           153,
           150,
           147,
           143,
           140,
           137,
           136,
           134,
           133,
           132,
           130,
           129,
           127,
           125,
           121,
           118,
           115,
           112,
           110,
           110,
           110,
           108,
           107,
           107
          ],
          [
           109,
           110,
           111,
           113,
           115,
           116,
           117,
           118,
           120,
           121,
           123,
           126,
           129,
           133,
           138,
           141,
           143,
           146,
           148,
           150,
           155,
           159,
           163,
           165,
           166,
           167,
           168,
           168,
           166,
           165,
           164,
           161,
           160,
           159,
           158,
           155,
           152,
           149,
           147,
           144,
           141,
           138,
           135,
           134,
           132,
           130,
           129,
           128,
           126,
           124,
           122,
           120,
           117,
           113,
           111,
           110,
           110,
           110,
           108,
           107,
           107
          ],
          [
           110,
           111,
           112,
           113,
           116,
           117,
           118,
           119,
           120,
           122,
           125,
           127,
           130,
           133,
           138,
           141,
           143,
           146,
           148,
           150,
           154,
           159,
           162,
           163,
           164,
           166,
           166,
           166,
           165,
           163,
           161,
           159,
           157,
           156,
           155,
           153,
           150,
           146,
           143,
           140,
           138,
           136,
           133,
           132,
           130,
           129,
           128,
           125,
           124,
           122,
           120,
           119,
           117,
           114,
           111,
           110,
           110,
           109,
           108,
           107,
           107
          ],
          [
           111,
           112,
           113,
           114,
           116,
           117,
           118,
           119,
           120,
           123,
           125,
           128,
           130,
           134,
           139,
           141,
           144,
           146,
           148,
           151,
           154,
           158,
           161,
           164,
           166,
           167,
           168,
           166,
           165,
           163,
           161,
           158,
           156,
           154,
           152,
           150,
           146,
           142,
           139,
           137,
           135,
           133,
           131,
           130,
           129,
           128,
           127,
           125,
           123,
           121,
           120,
           118,
           116,
           113,
           111,
           110,
           110,
           109,
           108,
           107,
           106
          ],
          [
           111,
           112,
           113,
           115,
           117,
           118,
           118,
           120,
           121,
           124,
           126,
           128,
           131,
           135,
           139,
           142,
           144,
           146,
           148,
           151,
           155,
           160,
           164,
           165,
           168,
           169,
           169,
           168,
           166,
           163,
           160,
           158,
           156,
           153,
           151,
           148,
           145,
           142,
           139,
           137,
           135,
           132,
           130,
           129,
           127,
           126,
           125,
           124,
           123,
           120,
           120,
           117,
           116,
           114,
           112,
           110,
           110,
           108,
           107,
           106,
           106
          ],
          [
           112,
           113,
           114,
           116,
           117,
           118,
           119,
           120,
           122,
           124,
           127,
           129,
           132,
           135,
           139,
           142,
           144,
           146,
           149,
           152,
           157,
           162,
           167,
           169,
           170,
           170,
           170,
           168,
           165,
           163,
           161,
           159,
           157,
           155,
           151,
           148,
           145,
           141,
           139,
           136,
           134,
           132,
           130,
           128,
           127,
           126,
           124,
           123,
           122,
           120,
           119,
           117,
           116,
           114,
           112,
           111,
           109,
           107,
           106,
           106,
           105
          ],
          [
           113,
           114,
           115,
           116,
           117,
           119,
           119,
           120,
           122,
           125,
           127,
           129,
           132,
           135,
           139,
           142,
           144,
           147,
           149,
           154,
           159,
           164,
           169,
           170,
           170,
           170,
           170,
           170,
           168,
           165,
           163,
           161,
           158,
           155,
           151,
           148,
           145,
           142,
           139,
           137,
           135,
           132,
           131,
           128,
           126,
           125,
           124,
           122,
           121,
           120,
           119,
           117,
           115,
           113,
           111,
           110,
           109,
           106,
           105,
           105,
           104
          ],
          [
           113,
           114,
           115,
           117,
           118,
           119,
           120,
           121,
           123,
           125,
           127,
           130,
           132,
           135,
           139,
           142,
           145,
           148,
           150,
           156,
           161,
           166,
           170,
           170,
           170,
           170,
           170,
           170,
           169,
           166,
           163,
           161,
           159,
           155,
           151,
           148,
           146,
           143,
           140,
           138,
           135,
           134,
           132,
           130,
           127,
           125,
           123,
           121,
           120,
           120,
           119,
           116,
           114,
           112,
           110,
           110,
           108,
           106,
           105,
           104,
           104
          ],
          [
           114,
           115,
           116,
           117,
           118,
           119,
           120,
           121,
           123,
           126,
           128,
           130,
           133,
           136,
           139,
           142,
           145,
           148,
           152,
           157,
           161,
           166,
           168,
           170,
           170,
           170,
           170,
           168,
           166,
           164,
           163,
           160,
           159,
           155,
           151,
           148,
           146,
           143,
           141,
           138,
           136,
           134,
           132,
           130,
           128,
           125,
           123,
           121,
           120,
           120,
           118,
           116,
           113,
           111,
           110,
           110,
           109,
           106,
           105,
           104,
           104
          ],
          [
           115,
           116,
           117,
           118,
           119,
           120,
           121,
           121,
           123,
           126,
           128,
           131,
           134,
           136,
           139,
           142,
           145,
           149,
           152,
           157,
           161,
           163,
           164,
           166,
           168,
           167,
           166,
           164,
           163,
           161,
           160,
           158,
           156,
           152,
           149,
           147,
           144,
           143,
           141,
           139,
           136,
           134,
           132,
           130,
           128,
           125,
           122,
           120,
           120,
           119,
           117,
           115,
           113,
           110,
           110,
           109,
           107,
           106,
           105,
           104,
           104
          ],
          [
           115,
           116,
           117,
           118,
           119,
           120,
           121,
           122,
           123,
           125,
           128,
           131,
           134,
           137,
           139,
           142,
           145,
           149,
           152,
           156,
           159,
           159,
           160,
           162,
           162,
           161,
           161,
           160,
           159,
           158,
           157,
           155,
           153,
           150,
           148,
           146,
           145,
           143,
           142,
           140,
           137,
           134,
           131,
           129,
           126,
           124,
           122,
           120,
           119,
           117,
           115,
           113,
           111,
           110,
           109,
           109,
           107,
           106,
           105,
           104,
           104
          ],
          [
           114,
           115,
           116,
           116,
           118,
           119,
           120,
           121,
           122,
           126,
           129,
           132,
           135,
           137,
           140,
           143,
           146,
           149,
           152,
           155,
           156,
           157,
           158,
           159,
           159,
           159,
           158,
           158,
           157,
           155,
           153,
           151,
           150,
           149,
           147,
           146,
           145,
           144,
           142,
           141,
           138,
           135,
           132,
           128,
           125,
           122,
           120,
           118,
           117,
           115,
           113,
           112,
           110,
           109,
           108,
           108,
           106,
           105,
           105,
           104,
           104
          ],
          [
           113,
           114,
           115,
           116,
           117,
           118,
           119,
           120,
           123,
           126,
           129,
           132,
           135,
           138,
           140,
           143,
           146,
           148,
           151,
           153,
           154,
           156,
           157,
           157,
           157,
           157,
           156,
           155,
           154,
           152,
           150,
           149,
           148,
           147,
           146,
           145,
           144,
           142,
           141,
           140,
           139,
           136,
           132,
           129,
           125,
           121,
           118,
           116,
           115,
           113,
           111,
           110,
           109,
           108,
           108,
           107,
           106,
           105,
           104,
           104,
           104
          ],
          [
           112,
           113,
           114,
           115,
           116,
           117,
           119,
           120,
           122,
           126,
           130,
           133,
           136,
           138,
           141,
           143,
           146,
           148,
           150,
           152,
           154,
           155,
           155,
           155,
           155,
           155,
           154,
           152,
           152,
           150,
           148,
           147,
           146,
           145,
           145,
           143,
           142,
           141,
           140,
           140,
           140,
           137,
           133,
           129,
           125,
           120,
           117,
           115,
           111,
           110,
           110,
           109,
           108,
           107,
           107,
           106,
           105,
           105,
           104,
           104,
           103
          ],
          [
           111,
           112,
           114,
           115,
           116,
           117,
           118,
           120,
           122,
           125,
           131,
           134,
           137,
           139,
           142,
           144,
           146,
           148,
           150,
           152,
           153,
           153,
           153,
           153,
           153,
           153,
           153,
           151,
           149,
           147,
           146,
           144,
           144,
           143,
           143,
           142,
           141,
           140,
           140,
           140,
           140,
           138,
           134,
           130,
           123,
           120,
           118,
           111,
           110,
           110,
           110,
           108,
           107,
           106,
           108,
           105,
           105,
           104,
           104,
           103,
           103
          ],
          [
           111,
           112,
           113,
           115,
           115,
           116,
           117,
           119,
           121,
           126,
           131,
           135,
           138,
           140,
           142,
           144,
           146,
           148,
           150,
           151,
           151,
           151,
           151,
           151,
           151,
           151,
           151,
           150,
           148,
           146,
           144,
           142,
           141,
           141,
           142,
           141,
           140,
           140,
           140,
           140,
           140,
           140,
           136,
           132,
           126,
           120,
           115,
           110,
           110,
           110,
           109,
           107,
           106,
           105,
           107,
           105,
           104,
           104,
           104,
           103,
           103
          ],
          [
           112,
           113,
           113,
           114,
           115,
           116,
           117,
           119,
           122,
           127,
           132,
           135,
           139,
           141,
           143,
           145,
           147,
           149,
           150,
           150,
           150,
           150,
           150,
           150,
           150,
           150,
           150,
           149,
           147,
           144,
           142,
           141,
           140,
           140,
           140,
           140,
           140,
           140,
           140,
           140,
           140,
           140,
           137,
           133,
           128,
           120,
           117,
           110,
           110,
           110,
           108,
           106,
           105,
           105,
           106,
           105,
           104,
           104,
           103,
           103,
           103
          ],
          [
           112,
           113,
           114,
           114,
           116,
           117,
           118,
           120,
           122,
           128,
           132,
           136,
           139,
           141,
           144,
           146,
           147,
           149,
           150,
           150,
           150,
           150,
           150,
           150,
           150,
           150,
           150,
           149,
           146,
           143,
           141,
           140,
           140,
           139,
           139,
           139,
           140,
           140,
           140,
           140,
           140,
           140,
           137,
           133,
           129,
           121,
           118,
           110,
           110,
           109,
           107,
           106,
           105,
           105,
           105,
           104,
           104,
           103,
           103,
           103,
           102
          ],
          [
           112,
           114,
           114,
           115,
           116,
           117,
           119,
           120,
           122,
           128,
           133,
           136,
           140,
           142,
           144,
           146,
           148,
           150,
           150,
           150,
           150,
           150,
           150,
           150,
           150,
           150,
           150,
           148,
           145,
           142,
           140,
           138,
           138,
           138,
           137,
           138,
           140,
           140,
           140,
           140,
           140,
           140,
           137,
           134,
           130,
           122,
           118,
           110,
           110,
           108,
           106,
           105,
           103,
           104,
           104,
           104,
           104,
           103,
           103,
           102,
           102
          ],
          [
           113,
           114,
           115,
           116,
           116,
           117,
           118,
           120,
           123,
           129,
           133,
           137,
           140,
           142,
           144,
           146,
           149,
           150,
           150,
           150,
           150,
           150,
           150,
           150,
           150,
           150,
           150,
           147,
           143,
           141,
           139,
           137,
           136,
           136,
           135,
           136,
           138,
           140,
           140,
           140,
           140,
           139,
           136,
           134,
           130,
           123,
           119,
           113,
           109,
           108,
           106,
           104,
           103,
           104,
           104,
           104,
           103,
           103,
           102,
           102,
           101
          ],
          [
           114,
           115,
           115,
           116,
           117,
           118,
           118,
           120,
           123,
           129,
           133,
           137,
           140,
           143,
           145,
           147,
           150,
           150,
           150,
           150,
           150,
           150,
           150,
           150,
           150,
           150,
           148,
           145,
           142,
           139,
           138,
           136,
           135,
           134,
           134,
           134,
           136,
           138,
           137,
           138,
           139,
           137,
           134,
           132,
           125,
           122,
           117,
           114,
           109,
           107,
           105,
           103,
           102,
           104,
           104,
           103,
           103,
           102,
           102,
           101,
           101
          ],
          [
           114,
           115,
           116,
           117,
           117,
           119,
           118,
           120,
           123,
           128,
           132,
           136,
           139,
           142,
           145,
           148,
           150,
           150,
           150,
           150,
           150,
           150,
           150,
           150,
           150,
           150,
           147,
           144,
           141,
           139,
           136,
           135,
           134,
           133,
           132,
           132,
           134,
           134,
           134,
           134,
           135,
           133,
           131,
           128,
           124,
           120,
           116,
           113,
           110,
           107,
           104,
           102,
           102,
           103,
           103,
           103,
           102,
           102,
           102,
           101,
           100
          ],
          [
           115,
           116,
           116,
           117,
           118,
           119,
           119,
           120,
           124,
           128,
           132,
           136,
           139,
           142,
           145,
           148,
           150,
           150,
           150,
           150,
           150,
           150,
           150,
           150,
           150,
           149,
           146,
           143,
           140,
           138,
           135,
           134,
           133,
           131,
           131,
           131,
           131,
           131,
           131,
           131,
           130,
           127,
           124,
           122,
           119,
           117,
           115,
           112,
           109,
           106,
           104,
           101,
           102,
           103,
           103,
           102,
           102,
           102,
           101,
           100,
           100
          ],
          [
           115,
           116,
           117,
           118,
           118,
           119,
           120,
           123,
           125,
           128,
           131,
           135,
           138,
           141,
           145,
           148,
           150,
           150,
           150,
           150,
           150,
           150,
           150,
           150,
           150,
           147,
           145,
           142,
           139,
           137,
           134,
           132,
           131,
           130,
           129,
           128,
           128,
           128,
           128,
           128,
           126,
           123,
           121,
           119,
           116,
           114,
           112,
           110,
           108,
           105,
           103,
           101,
           103,
           103,
           103,
           102,
           102,
           101,
           100,
           100,
           100
          ],
          [
           116,
           117,
           118,
           118,
           119,
           120,
           122,
           123,
           125,
           128,
           131,
           134,
           137,
           141,
           145,
           148,
           149,
           150,
           150,
           150,
           150,
           150,
           150,
           150,
           148,
           145,
           143,
           141,
           138,
           135,
           133,
           130,
           129,
           128,
           127,
           126,
           125,
           125,
           125,
           124,
           123,
           120,
           118,
           116,
           114,
           111,
           109,
           107,
           106,
           104,
           102,
           100,
           101,
           101,
           102,
           102,
           101,
           100,
           100,
           100,
           100
          ],
          [
           116,
           117,
           118,
           119,
           120,
           121,
           123,
           124,
           126,
           128,
           130,
           133,
           137,
           140,
           144,
           145,
           147,
           148,
           149,
           150,
           149,
           149,
           147,
           146,
           144,
           141,
           139,
           136,
           133,
           131,
           129,
           128,
           127,
           126,
           125,
           124,
           123,
           123,
           122,
           121,
           120,
           118,
           116,
           114,
           112,
           108,
           107,
           105,
           103,
           102,
           100,
           100,
           100,
           100,
           101,
           101,
           100,
           100,
           100,
           100,
           100
          ],
          [
           117,
           118,
           119,
           119,
           120,
           121,
           123,
           124,
           126,
           128,
           129,
           131,
           135,
           139,
           142,
           143,
           145,
           146,
           147,
           147,
           147,
           146,
           144,
           142,
           140,
           138,
           135,
           133,
           130,
           128,
           127,
           126,
           125,
           124,
           123,
           122,
           121,
           120,
           119,
           118,
           117,
           115,
           114,
           112,
           110,
           106,
           105,
           102,
           101,
           100,
           100,
           100,
           100,
           100,
           100,
           100,
           100,
           99,
           99,
           99,
           99
          ],
          [
           117,
           118,
           119,
           120,
           120,
           121,
           123,
           124,
           125,
           126,
           128,
           129,
           132,
           137,
           140,
           142,
           143,
           143,
           144,
           144,
           144,
           143,
           141,
           139,
           137,
           135,
           133,
           130,
           128,
           127,
           126,
           125,
           123,
           122,
           121,
           120,
           119,
           117,
           116,
           115,
           114,
           112,
           111,
           108,
           107,
           105,
           100,
           100,
           100,
           100,
           100,
           100,
           100,
           99,
           99,
           99,
           99,
           99,
           99,
           99,
           98
          ],
          [
           116,
           117,
           118,
           120,
           120,
           121,
           122,
           123,
           124,
           125,
           126,
           128,
           130,
           134,
           139,
           140,
           141,
           141,
           141,
           141,
           141,
           140,
           138,
           136,
           134,
           133,
           131,
           129,
           127,
           125,
           124,
           123,
           122,
           120,
           119,
           118,
           117,
           116,
           114,
           112,
           111,
           108,
           109,
           106,
           106,
           100,
           100,
           100,
           100,
           100,
           99,
           99,
           99,
           99,
           99,
           99,
           99,
           98,
           98,
           98,
           97
          ],
          [
           114,
           115,
           116,
           117,
           119,
           119,
           120,
           121,
           122,
           123,
           125,
           127,
           129,
           133,
           136,
           134,
           134,
           136,
           138,
           138,
           137,
           137,
           135,
           133,
           132,
           130,
           129,
           127,
           125,
           124,
           122,
           121,
           120,
           119,
           117,
           116,
           115,
           114,
           112,
           110,
           109,
           108,
           107,
           105,
           105,
           100,
           100,
           100,
           100,
           99,
           99,
           99,
           98,
           98,
           98,
           98,
           98,
           97,
           97,
           97,
           97
          ],
          [
           112,
           113,
           114,
           115,
           116,
           116,
           117,
           119,
           120,
           122,
           124,
           126,
           127,
           129,
           129,
           128,
           127,
           129,
           132,
           133,
           133,
           133,
           133,
           131,
           129,
           127,
           126,
           125,
           124,
           122,
           121,
           119,
           118,
           117,
           116,
           114,
           113,
           112,
           110,
           109,
           108,
           106,
           106,
           105,
           100,
           100,
           100,
           98,
           98,
           98,
           98,
           98,
           98,
           97,
           97,
           97,
           97,
           97,
           97,
           97,
           96
          ],
          [
           109,
           111,
           112,
           112,
           113,
           113,
           113,
           114,
           116,
           119,
           121,
           123,
           124,
           125,
           124,
           123,
           123,
           123,
           125,
           127,
           129,
           129,
           128,
           128,
           127,
           125,
           124,
           123,
           122,
           121,
           119,
           118,
           117,
           116,
           114,
           113,
           112,
           110,
           109,
           108,
           107,
           106,
           105,
           100,
           100,
           100,
           97,
           97,
           97,
           97,
           97,
           97,
           97,
           96,
           96,
           96,
           96,
           96,
           96,
           96,
           96
          ],
          [
           106,
           107,
           108,
           108,
           109,
           110,
           110,
           112,
           113,
           114,
           117,
           119,
           120,
           121,
           119,
           117,
           117,
           117,
           118,
           120,
           123,
           124,
           125,
           125,
           125,
           123,
           121,
           120,
           120,
           119,
           118,
           117,
           116,
           115,
           114,
           113,
           111,
           109,
           109,
           107,
           106,
           105,
           100,
           100,
           100,
           96,
           96,
           96,
           96,
           96,
           96,
           96,
           96,
           96,
           96,
           96,
           96,
           96,
           96,
           96,
           96
          ],
          [
           104,
           105,
           105,
           106,
           106,
           107,
           108,
           108,
           109,
           109,
           111,
           115,
           116,
           114,
           113,
           112,
           111,
           110,
           111,
           113,
           116,
           119,
           122,
           122,
           122,
           121,
           120,
           119,
           118,
           118,
           117,
           116,
           115,
           114,
           113,
           112,
           111,
           108,
           108,
           106,
           105,
           100,
           100,
           100,
           96,
           96,
           96,
           96,
           96,
           96,
           96,
           96,
           96,
           96,
           96,
           96,
           96,
           96,
           96,
           96,
           96
          ],
          [
           102,
           103,
           103,
           104,
           104,
           105,
           106,
           106,
           107,
           108,
           109,
           111,
           112,
           110,
           109,
           108,
           108,
           108,
           108,
           109,
           110,
           112,
           116,
           117,
           117,
           118,
           118,
           118,
           117,
           116,
           116,
           115,
           114,
           113,
           112,
           111,
           110,
           107,
           107,
           105,
           100,
           100,
           100,
           97,
           96,
           96,
           96,
           96,
           96,
           96,
           96,
           96,
           96,
           96,
           96,
           96,
           96,
           96,
           96,
           96,
           96
          ],
          [
           101,
           102,
           103,
           103,
           104,
           105,
           105,
           106,
           106,
           107,
           108,
           109,
           109,
           107,
           106,
           106,
           105,
           105,
           105,
           106,
           107,
           108,
           109,
           110,
           111,
           113,
           114,
           115,
           115,
           115,
           114,
           113,
           112,
           111,
           110,
           108,
           108,
           106,
           105,
           100,
           100,
           100,
           97,
           97,
           96,
           96,
           96,
           96,
           96,
           96,
           96,
           96,
           96,
           96,
           96,
           96,
           96,
           96,
           96,
           96,
           96
          ],
          [
           100,
           101,
           102,
           102,
           103,
           103,
           104,
           104,
           105,
           106,
           106,
           107,
           106,
           106,
           106,
           105,
           105,
           104,
           103,
           103,
           104,
           105,
           107,
           108,
           110,
           111,
           111,
           112,
           112,
           113,
           113,
           112,
           111,
           110,
           108,
           107,
           106,
           105,
           100,
           100,
           100,
           98,
           97,
           97,
           96,
           96,
           96,
           96,
           96,
           96,
           96,
           96,
           96,
           96,
           96,
           96,
           96,
           96,
           96,
           96,
           96
          ],
          [
           100,
           101,
           101,
           102,
           102,
           103,
           103,
           104,
           104,
           105,
           105,
           105,
           105,
           106,
           105,
           105,
           104,
           103,
           102,
           101,
           102,
           103,
           104,
           106,
           107,
           110,
           111,
           111,
           111,
           112,
           112,
           112,
           110,
           107,
           107,
           106,
           105,
           102,
           100,
           100,
           99,
           98,
           97,
           97,
           96,
           96,
           96,
           96,
           96,
           96,
           96,
           96,
           96,
           96,
           96,
           96,
           96,
           96,
           96,
           96,
           95
          ],
          [
           99,
           100,
           101,
           102,
           102,
           103,
           103,
           103,
           104,
           104,
           104,
           104,
           103,
           104,
           104,
           104,
           104,
           102,
           101,
           101,
           102,
           103,
           104,
           105,
           107,
           110,
           111,
           111,
           111,
           111,
           111,
           111,
           108,
           106,
           105,
           105,
           102,
           101,
           100,
           99,
           99,
           98,
           97,
           97,
           96,
           96,
           96,
           96,
           96,
           96,
           96,
           96,
           96,
           96,
           96,
           96,
           96,
           96,
           96,
           95,
           95
          ],
          [
           99,
           100,
           100,
           101,
           101,
           102,
           102,
           102,
           103,
           103,
           103,
           103,
           102,
           103,
           103,
           104,
           103,
           102,
           101,
           101,
           101,
           102,
           103,
           104,
           106,
           109,
           110,
           111,
           111,
           111,
           110,
           110,
           107,
           105,
           103,
           104,
           100,
           100,
           99,
           99,
           98,
           98,
           97,
           97,
           96,
           96,
           96,
           96,
           96,
           96,
           96,
           96,
           96,
           96,
           95,
           95,
           95,
           95,
           95,
           95,
           95
          ],
          [
           99,
           100,
           100,
           100,
           101,
           101,
           101,
           102,
           102,
           103,
           102,
           102,
           101,
           102,
           102,
           103,
           103,
           101,
           101,
           100,
           101,
           101,
           102,
           103,
           105,
           109,
           110,
           110,
           111,
           110,
           110,
           109,
           106,
           105,
           100,
           102,
           100,
           99,
           99,
           99,
           98,
           98,
           97,
           97,
           96,
           96,
           96,
           96,
           96,
           96,
           95,
           95,
           95,
           95,
           95,
           95,
           95,
           95,
           95,
           95,
           94
          ],
          [
           99,
           99,
           99,
           99,
           100,
           100,
           101,
           101,
           102,
           102,
           101,
           101,
           101,
           101,
           101,
           102,
           102,
           101,
           100,
           100,
           101,
           101,
           101,
           103,
           104,
           107,
           109,
           109,
           110,
           110,
           109,
           108,
           105,
           102,
           100,
           100,
           99,
           99,
           99,
           98,
           98,
           98,
           97,
           96,
           96,
           96,
           96,
           96,
           95,
           95,
           95,
           95,
           95,
           95,
           95,
           94,
           94,
           94,
           94,
           94,
           94
          ],
          [
           98,
           99,
           99,
           99,
           99,
           100,
           100,
           101,
           101,
           102,
           101,
           100,
           100,
           100,
           101,
           101,
           101,
           100,
           100,
           100,
           100,
           101,
           101,
           101,
           103,
           106,
           107,
           109,
           109,
           109,
           109,
           107,
           104,
           101,
           100,
           99,
           99,
           99,
           98,
           98,
           98,
           97,
           96,
           96,
           96,
           96,
           95,
           95,
           95,
           95,
           95,
           95,
           95,
           94,
           94,
           94,
           94,
           94,
           94,
           94,
           94
          ],
          [
           98,
           98,
           98,
           99,
           99,
           99,
           100,
           100,
           101,
           101,
           100,
           100,
           99,
           99,
           100,
           100,
           100,
           100,
           100,
           100,
           100,
           101,
           101,
           101,
           102,
           105,
           106,
           109,
           108,
           109,
           107,
           105,
           102,
           100,
           100,
           99,
           99,
           98,
           98,
           98,
           97,
           96,
           96,
           96,
           96,
           95,
           95,
           95,
           95,
           95,
           95,
           94,
           94,
           94,
           94,
           94,
           94,
           94,
           94,
           94,
           94
          ],
          [
           97,
           98,
           98,
           98,
           99,
           99,
           99,
           100,
           100,
           100,
           100,
           100,
           99,
           99,
           99,
           100,
           100,
           100,
           100,
           100,
           100,
           100,
           101,
           101,
           101,
           103,
           104,
           105,
           106,
           105,
           104,
           101,
           100,
           100,
           99,
           99,
           98,
           98,
           97,
           97,
           97,
           96,
           96,
           96,
           95,
           95,
           95,
           95,
           95,
           94,
           94,
           94,
           94,
           94,
           94,
           94,
           94,
           94,
           94,
           94,
           94
          ],
          [
           97,
           97,
           97,
           98,
           98,
           99,
           99,
           99,
           100,
           100,
           100,
           99,
           99,
           99,
           99,
           99,
           100,
           100,
           100,
           100,
           100,
           100,
           101,
           101,
           100,
           100,
           100,
           100,
           100,
           100,
           100,
           100,
           100,
           100,
           99,
           99,
           98,
           97,
           97,
           97,
           96,
           96,
           96,
           95,
           95,
           95,
           95,
           94,
           94,
           94,
           94,
           94,
           94,
           94,
           94,
           94,
           94,
           94,
           94,
           94,
           94
          ]
         ]
        }
       ],
       "layout": {
        "annotations": [
         {
          "showarrow": false,
          "text": "Source: NOAA",
          "x": 0,
          "xref": "paper",
          "y": 0,
          "yref": "paper"
         }
        ],
        "geo": {
         "domain": {
          "x": [
           0,
           0.54
          ],
          "y": [
           0,
           1
          ]
         },
         "lakecolor": "LightBlue",
         "landcolor": "white",
         "oceancolor": "MidnightBlue",
         "projection": {
          "type": "orthographic"
         },
         "showocean": true
        },
        "margin": {
         "b": 40,
         "l": 60,
         "r": 10,
         "t": 25
        },
        "scene": {
         "domain": {
          "x": [
           0.64,
           1
          ],
          "y": [
           0,
           0.51
          ]
         }
        },
        "template": {
         "data": {
          "bar": [
           {
            "error_x": {
             "color": "#f2f5fa"
            },
            "error_y": {
             "color": "#f2f5fa"
            },
            "marker": {
             "line": {
              "color": "rgb(17,17,17)",
              "width": 0.5
             },
             "pattern": {
              "fillmode": "overlay",
              "size": 10,
              "solidity": 0.2
             }
            },
            "type": "bar"
           }
          ],
          "barpolar": [
           {
            "marker": {
             "line": {
              "color": "rgb(17,17,17)",
              "width": 0.5
             },
             "pattern": {
              "fillmode": "overlay",
              "size": 10,
              "solidity": 0.2
             }
            },
            "type": "barpolar"
           }
          ],
          "carpet": [
           {
            "aaxis": {
             "endlinecolor": "#A2B1C6",
             "gridcolor": "#506784",
             "linecolor": "#506784",
             "minorgridcolor": "#506784",
             "startlinecolor": "#A2B1C6"
            },
            "baxis": {
             "endlinecolor": "#A2B1C6",
             "gridcolor": "#506784",
             "linecolor": "#506784",
             "minorgridcolor": "#506784",
             "startlinecolor": "#A2B1C6"
            },
            "type": "carpet"
           }
          ],
          "choropleth": [
           {
            "colorbar": {
             "outlinewidth": 0,
             "ticks": ""
            },
            "type": "choropleth"
           }
          ],
          "contour": [
           {
            "colorbar": {
             "outlinewidth": 0,
             "ticks": ""
            },
            "colorscale": [
             [
              0,
              "#0d0887"
             ],
             [
              0.1111111111111111,
              "#46039f"
             ],
             [
              0.2222222222222222,
              "#7201a8"
             ],
             [
              0.3333333333333333,
              "#9c179e"
             ],
             [
              0.4444444444444444,
              "#bd3786"
             ],
             [
              0.5555555555555556,
              "#d8576b"
             ],
             [
              0.6666666666666666,
              "#ed7953"
             ],
             [
              0.7777777777777778,
              "#fb9f3a"
             ],
             [
              0.8888888888888888,
              "#fdca26"
             ],
             [
              1,
              "#f0f921"
             ]
            ],
            "type": "contour"
           }
          ],
          "contourcarpet": [
           {
            "colorbar": {
             "outlinewidth": 0,
             "ticks": ""
            },
            "type": "contourcarpet"
           }
          ],
          "heatmap": [
           {
            "colorbar": {
             "outlinewidth": 0,
             "ticks": ""
            },
            "colorscale": [
             [
              0,
              "#0d0887"
             ],
             [
              0.1111111111111111,
              "#46039f"
             ],
             [
              0.2222222222222222,
              "#7201a8"
             ],
             [
              0.3333333333333333,
              "#9c179e"
             ],
             [
              0.4444444444444444,
              "#bd3786"
             ],
             [
              0.5555555555555556,
              "#d8576b"
             ],
             [
              0.6666666666666666,
              "#ed7953"
             ],
             [
              0.7777777777777778,
              "#fb9f3a"
             ],
             [
              0.8888888888888888,
              "#fdca26"
             ],
             [
              1,
              "#f0f921"
             ]
            ],
            "type": "heatmap"
           }
          ],
          "histogram": [
           {
            "marker": {
             "pattern": {
              "fillmode": "overlay",
              "size": 10,
              "solidity": 0.2
             }
            },
            "type": "histogram"
           }
          ],
          "histogram2d": [
           {
            "colorbar": {
             "outlinewidth": 0,
             "ticks": ""
            },
            "colorscale": [
             [
              0,
              "#0d0887"
             ],
             [
              0.1111111111111111,
              "#46039f"
             ],
             [
              0.2222222222222222,
              "#7201a8"
             ],
             [
              0.3333333333333333,
              "#9c179e"
             ],
             [
              0.4444444444444444,
              "#bd3786"
             ],
             [
              0.5555555555555556,
              "#d8576b"
             ],
             [
              0.6666666666666666,
              "#ed7953"
             ],
             [
              0.7777777777777778,
              "#fb9f3a"
             ],
             [
              0.8888888888888888,
              "#fdca26"
             ],
             [
              1,
              "#f0f921"
             ]
            ],
            "type": "histogram2d"
           }
          ],
          "histogram2dcontour": [
           {
            "colorbar": {
             "outlinewidth": 0,
             "ticks": ""
            },
            "colorscale": [
             [
              0,
              "#0d0887"
             ],
             [
              0.1111111111111111,
              "#46039f"
             ],
             [
              0.2222222222222222,
              "#7201a8"
             ],
             [
              0.3333333333333333,
              "#9c179e"
             ],
             [
              0.4444444444444444,
              "#bd3786"
             ],
             [
              0.5555555555555556,
              "#d8576b"
             ],
             [
              0.6666666666666666,
              "#ed7953"
             ],
             [
              0.7777777777777778,
              "#fb9f3a"
             ],
             [
              0.8888888888888888,
              "#fdca26"
             ],
             [
              1,
              "#f0f921"
             ]
            ],
            "type": "histogram2dcontour"
           }
          ],
          "mesh3d": [
           {
            "colorbar": {
             "outlinewidth": 0,
             "ticks": ""
            },
            "type": "mesh3d"
           }
          ],
          "parcoords": [
           {
            "line": {
             "colorbar": {
              "outlinewidth": 0,
              "ticks": ""
             }
            },
            "type": "parcoords"
           }
          ],
          "pie": [
           {
            "automargin": true,
            "type": "pie"
           }
          ],
          "scatter": [
           {
            "marker": {
             "line": {
              "color": "#283442"
             }
            },
            "type": "scatter"
           }
          ],
          "scatter3d": [
           {
            "line": {
             "colorbar": {
              "outlinewidth": 0,
              "ticks": ""
             }
            },
            "marker": {
             "colorbar": {
              "outlinewidth": 0,
              "ticks": ""
             }
            },
            "type": "scatter3d"
           }
          ],
          "scattercarpet": [
           {
            "marker": {
             "colorbar": {
              "outlinewidth": 0,
              "ticks": ""
             }
            },
            "type": "scattercarpet"
           }
          ],
          "scattergeo": [
           {
            "marker": {
             "colorbar": {
              "outlinewidth": 0,
              "ticks": ""
             }
            },
            "type": "scattergeo"
           }
          ],
          "scattergl": [
           {
            "marker": {
             "line": {
              "color": "#283442"
             }
            },
            "type": "scattergl"
           }
          ],
          "scattermap": [
           {
            "marker": {
             "colorbar": {
              "outlinewidth": 0,
              "ticks": ""
             }
            },
            "type": "scattermap"
           }
          ],
          "scattermapbox": [
           {
            "marker": {
             "colorbar": {
              "outlinewidth": 0,
              "ticks": ""
             }
            },
            "type": "scattermapbox"
           }
          ],
          "scatterpolar": [
           {
            "marker": {
             "colorbar": {
              "outlinewidth": 0,
              "ticks": ""
             }
            },
            "type": "scatterpolar"
           }
          ],
          "scatterpolargl": [
           {
            "marker": {
             "colorbar": {
              "outlinewidth": 0,
              "ticks": ""
             }
            },
            "type": "scatterpolargl"
           }
          ],
          "scatterternary": [
           {
            "marker": {
             "colorbar": {
              "outlinewidth": 0,
              "ticks": ""
             }
            },
            "type": "scatterternary"
           }
          ],
          "surface": [
           {
            "colorbar": {
             "outlinewidth": 0,
             "ticks": ""
            },
            "colorscale": [
             [
              0,
              "#0d0887"
             ],
             [
              0.1111111111111111,
              "#46039f"
             ],
             [
              0.2222222222222222,
              "#7201a8"
             ],
             [
              0.3333333333333333,
              "#9c179e"
             ],
             [
              0.4444444444444444,
              "#bd3786"
             ],
             [
              0.5555555555555556,
              "#d8576b"
             ],
             [
              0.6666666666666666,
              "#ed7953"
             ],
             [
              0.7777777777777778,
              "#fb9f3a"
             ],
             [
              0.8888888888888888,
              "#fdca26"
             ],
             [
              1,
              "#f0f921"
             ]
            ],
            "type": "surface"
           }
          ],
          "table": [
           {
            "cells": {
             "fill": {
              "color": "#506784"
             },
             "line": {
              "color": "rgb(17,17,17)"
             }
            },
            "header": {
             "fill": {
              "color": "#2a3f5f"
             },
             "line": {
              "color": "rgb(17,17,17)"
             }
            },
            "type": "table"
           }
          ]
         },
         "layout": {
          "annotationdefaults": {
           "arrowcolor": "#f2f5fa",
           "arrowhead": 0,
           "arrowwidth": 1
          },
          "autotypenumbers": "strict",
          "coloraxis": {
           "colorbar": {
            "outlinewidth": 0,
            "ticks": ""
           }
          },
          "colorscale": {
           "diverging": [
            [
             0,
             "#8e0152"
            ],
            [
             0.1,
             "#c51b7d"
            ],
            [
             0.2,
             "#de77ae"
            ],
            [
             0.3,
             "#f1b6da"
            ],
            [
             0.4,
             "#fde0ef"
            ],
            [
             0.5,
             "#f7f7f7"
            ],
            [
             0.6,
             "#e6f5d0"
            ],
            [
             0.7,
             "#b8e186"
            ],
            [
             0.8,
             "#7fbc41"
            ],
            [
             0.9,
             "#4d9221"
            ],
            [
             1,
             "#276419"
            ]
           ],
           "sequential": [
            [
             0,
             "#0d0887"
            ],
            [
             0.1111111111111111,
             "#46039f"
            ],
            [
             0.2222222222222222,
             "#7201a8"
            ],
            [
             0.3333333333333333,
             "#9c179e"
            ],
            [
             0.4444444444444444,
             "#bd3786"
            ],
            [
             0.5555555555555556,
             "#d8576b"
            ],
            [
             0.6666666666666666,
             "#ed7953"
            ],
            [
             0.7777777777777778,
             "#fb9f3a"
            ],
            [
             0.8888888888888888,
             "#fdca26"
            ],
            [
             1,
             "#f0f921"
            ]
           ],
           "sequentialminus": [
            [
             0,
             "#0d0887"
            ],
            [
             0.1111111111111111,
             "#46039f"
            ],
            [
             0.2222222222222222,
             "#7201a8"
            ],
            [
             0.3333333333333333,
             "#9c179e"
            ],
            [
             0.4444444444444444,
             "#bd3786"
            ],
            [
             0.5555555555555556,
             "#d8576b"
            ],
            [
             0.6666666666666666,
             "#ed7953"
            ],
            [
             0.7777777777777778,
             "#fb9f3a"
            ],
            [
             0.8888888888888888,
             "#fdca26"
            ],
            [
             1,
             "#f0f921"
            ]
           ]
          },
          "colorway": [
           "#636efa",
           "#EF553B",
           "#00cc96",
           "#ab63fa",
           "#FFA15A",
           "#19d3f3",
           "#FF6692",
           "#B6E880",
           "#FF97FF",
           "#FECB52"
          ],
          "font": {
           "color": "#f2f5fa"
          },
          "geo": {
           "bgcolor": "rgb(17,17,17)",
           "lakecolor": "rgb(17,17,17)",
           "landcolor": "rgb(17,17,17)",
           "showlakes": true,
           "showland": true,
           "subunitcolor": "#506784"
          },
          "hoverlabel": {
           "align": "left"
          },
          "hovermode": "closest",
          "mapbox": {
           "style": "dark"
          },
          "paper_bgcolor": "rgb(17,17,17)",
          "plot_bgcolor": "rgb(17,17,17)",
          "polar": {
           "angularaxis": {
            "gridcolor": "#506784",
            "linecolor": "#506784",
            "ticks": ""
           },
           "bgcolor": "rgb(17,17,17)",
           "radialaxis": {
            "gridcolor": "#506784",
            "linecolor": "#506784",
            "ticks": ""
           }
          },
          "scene": {
           "xaxis": {
            "backgroundcolor": "rgb(17,17,17)",
            "gridcolor": "#506784",
            "gridwidth": 2,
            "linecolor": "#506784",
            "showbackground": true,
            "ticks": "",
            "zerolinecolor": "#C8D4E3"
           },
           "yaxis": {
            "backgroundcolor": "rgb(17,17,17)",
            "gridcolor": "#506784",
            "gridwidth": 2,
            "linecolor": "#506784",
            "showbackground": true,
            "ticks": "",
            "zerolinecolor": "#C8D4E3"
           },
           "zaxis": {
            "backgroundcolor": "rgb(17,17,17)",
            "gridcolor": "#506784",
            "gridwidth": 2,
            "linecolor": "#506784",
            "showbackground": true,
            "ticks": "",
            "zerolinecolor": "#C8D4E3"
           }
          },
          "shapedefaults": {
           "line": {
            "color": "#f2f5fa"
           }
          },
          "sliderdefaults": {
           "bgcolor": "#C8D4E3",
           "bordercolor": "rgb(17,17,17)",
           "borderwidth": 1,
           "tickwidth": 0
          },
          "ternary": {
           "aaxis": {
            "gridcolor": "#506784",
            "linecolor": "#506784",
            "ticks": ""
           },
           "baxis": {
            "gridcolor": "#506784",
            "linecolor": "#506784",
            "ticks": ""
           },
           "bgcolor": "rgb(17,17,17)",
           "caxis": {
            "gridcolor": "#506784",
            "linecolor": "#506784",
            "ticks": ""
           }
          },
          "title": {
           "x": 0.05
          },
          "updatemenudefaults": {
           "bgcolor": "#506784",
           "borderwidth": 0
          },
          "xaxis": {
           "automargin": true,
           "gridcolor": "#283442",
           "linecolor": "#506784",
           "ticks": "",
           "title": {
            "standoff": 15
           },
           "zerolinecolor": "#283442",
           "zerolinewidth": 2
          },
          "yaxis": {
           "automargin": true,
           "gridcolor": "#283442",
           "linecolor": "#506784",
           "ticks": "",
           "title": {
            "standoff": 15
           },
           "zerolinecolor": "#283442",
           "zerolinewidth": 2
          }
         }
        },
        "xaxis": {
         "anchor": "y",
         "domain": [
          0.64,
          1
         ],
         "tickangle": 45
        },
        "yaxis": {
         "anchor": "x",
         "domain": [
          0.66,
          1
         ]
        }
       }
      }
     },
     "metadata": {},
     "output_type": "display_data"
    }
   ],
   "source": [
    "#Mixed Subplot\n",
    "import plotly.graph_objects as go\n",
    "from plotly.subplots import make_subplots\n",
    "\n",
    "import pandas as pd\n",
    "\n",
    "# read in volcano database data\n",
    "df = pd.read_csv(\n",
    "    \"https://raw.githubusercontent.com/plotly/datasets/master/volcano_db.csv\",\n",
    "    encoding=\"iso-8859-1\",\n",
    ")\n",
    "\n",
    "# frequency of Country\n",
    "freq = df['Country'].value_counts().reset_index()\n",
    "freq.columns = ['x', 'Country']\n",
    "\n",
    "# read in 3d volcano surface data\n",
    "df_v = pd.read_csv(\"https://raw.githubusercontent.com/plotly/datasets/master/volcano.csv\")\n",
    "\n",
    "# Initialize figure with subplots\n",
    "fig = make_subplots(\n",
    "    rows=2, cols=2,\n",
    "    column_widths=[0.6, 0.4],\n",
    "    row_heights=[0.4, 0.6],\n",
    "    specs=[[{\"type\": \"scattergeo\", \"rowspan\": 2}, {\"type\": \"bar\"}],\n",
    "           [            None                    , {\"type\": \"surface\"}]])\n",
    "\n",
    "# Add scattergeo globe map of volcano locations\n",
    "fig.add_trace(\n",
    "    go.Scattergeo(lat=df[\"Latitude\"],\n",
    "                  lon=df[\"Longitude\"],\n",
    "                  mode=\"markers\",\n",
    "                  hoverinfo=\"text\",\n",
    "                  showlegend=False,\n",
    "                  marker=dict(color=\"crimson\", size=4, opacity=0.8)),\n",
    "    row=1, col=1\n",
    ")\n",
    "\n",
    "# Add locations bar chart\n",
    "fig.add_trace(\n",
    "    go.Bar(x=freq[\"x\"][0:10],y=freq[\"Country\"][0:10], marker=dict(color=\"crimson\"), showlegend=False),\n",
    "    row=1, col=2\n",
    ")\n",
    "\n",
    "# Add 3d surface of volcano\n",
    "fig.add_trace(\n",
    "    go.Surface(z=df_v.values.tolist(), showscale=False),\n",
    "    row=2, col=2\n",
    ")\n",
    "\n",
    "# Update geo subplot properties\n",
    "fig.update_geos(\n",
    "    projection_type=\"orthographic\",\n",
    "    landcolor=\"white\",\n",
    "    oceancolor=\"MidnightBlue\",\n",
    "    showocean=True,\n",
    "    lakecolor=\"LightBlue\"\n",
    ")\n",
    "\n",
    "# Rotate x-axis labels\n",
    "fig.update_xaxes(tickangle=45)\n",
    "\n",
    "# Set theme, margin, and annotation in layout\n",
    "fig.update_layout(\n",
    "    template=\"plotly_dark\",\n",
    "    margin=dict(r=10, t=25, b=40, l=60),\n",
    "    annotations=[\n",
    "        dict(\n",
    "            text=\"Source: NOAA\",\n",
    "            showarrow=False,\n",
    "            xref=\"paper\",\n",
    "            yref=\"paper\",\n",
    "            x=0,\n",
    "            y=0)\n",
    "    ]\n",
    ")\n",
    "\n",
    "fig.show()"
   ]
  },
  {
   "cell_type": "code",
   "execution_count": 17,
   "id": "6945c831",
   "metadata": {},
   "outputs": [
    {
     "data": {
      "application/vnd.plotly.v1+json": {
       "config": {
        "plotlyServerURL": "https://plot.ly"
       },
       "data": [
        {
         "labels": [
          "Oxygen",
          "Hydrogen",
          "Carbon_Dioxide",
          "Nitrogen"
         ],
         "marker": {
          "colors": [
           "gold",
           "mediumturquoise",
           "darkorange",
           "lightgreen"
          ],
          "pattern": {
           "shape": [
            ".",
            "x",
            "+",
            "-"
           ]
          }
         },
         "textfont": {
          "size": 20
         },
         "type": "pie",
         "values": [
          4500,
          2500,
          1053,
          500
         ]
        }
       ],
       "layout": {
        "template": {
         "data": {
          "bar": [
           {
            "error_x": {
             "color": "#2a3f5f"
            },
            "error_y": {
             "color": "#2a3f5f"
            },
            "marker": {
             "line": {
              "color": "#E5ECF6",
              "width": 0.5
             },
             "pattern": {
              "fillmode": "overlay",
              "size": 10,
              "solidity": 0.2
             }
            },
            "type": "bar"
           }
          ],
          "barpolar": [
           {
            "marker": {
             "line": {
              "color": "#E5ECF6",
              "width": 0.5
             },
             "pattern": {
              "fillmode": "overlay",
              "size": 10,
              "solidity": 0.2
             }
            },
            "type": "barpolar"
           }
          ],
          "carpet": [
           {
            "aaxis": {
             "endlinecolor": "#2a3f5f",
             "gridcolor": "white",
             "linecolor": "white",
             "minorgridcolor": "white",
             "startlinecolor": "#2a3f5f"
            },
            "baxis": {
             "endlinecolor": "#2a3f5f",
             "gridcolor": "white",
             "linecolor": "white",
             "minorgridcolor": "white",
             "startlinecolor": "#2a3f5f"
            },
            "type": "carpet"
           }
          ],
          "choropleth": [
           {
            "colorbar": {
             "outlinewidth": 0,
             "ticks": ""
            },
            "type": "choropleth"
           }
          ],
          "contour": [
           {
            "colorbar": {
             "outlinewidth": 0,
             "ticks": ""
            },
            "colorscale": [
             [
              0,
              "#0d0887"
             ],
             [
              0.1111111111111111,
              "#46039f"
             ],
             [
              0.2222222222222222,
              "#7201a8"
             ],
             [
              0.3333333333333333,
              "#9c179e"
             ],
             [
              0.4444444444444444,
              "#bd3786"
             ],
             [
              0.5555555555555556,
              "#d8576b"
             ],
             [
              0.6666666666666666,
              "#ed7953"
             ],
             [
              0.7777777777777778,
              "#fb9f3a"
             ],
             [
              0.8888888888888888,
              "#fdca26"
             ],
             [
              1,
              "#f0f921"
             ]
            ],
            "type": "contour"
           }
          ],
          "contourcarpet": [
           {
            "colorbar": {
             "outlinewidth": 0,
             "ticks": ""
            },
            "type": "contourcarpet"
           }
          ],
          "heatmap": [
           {
            "colorbar": {
             "outlinewidth": 0,
             "ticks": ""
            },
            "colorscale": [
             [
              0,
              "#0d0887"
             ],
             [
              0.1111111111111111,
              "#46039f"
             ],
             [
              0.2222222222222222,
              "#7201a8"
             ],
             [
              0.3333333333333333,
              "#9c179e"
             ],
             [
              0.4444444444444444,
              "#bd3786"
             ],
             [
              0.5555555555555556,
              "#d8576b"
             ],
             [
              0.6666666666666666,
              "#ed7953"
             ],
             [
              0.7777777777777778,
              "#fb9f3a"
             ],
             [
              0.8888888888888888,
              "#fdca26"
             ],
             [
              1,
              "#f0f921"
             ]
            ],
            "type": "heatmap"
           }
          ],
          "histogram": [
           {
            "marker": {
             "pattern": {
              "fillmode": "overlay",
              "size": 10,
              "solidity": 0.2
             }
            },
            "type": "histogram"
           }
          ],
          "histogram2d": [
           {
            "colorbar": {
             "outlinewidth": 0,
             "ticks": ""
            },
            "colorscale": [
             [
              0,
              "#0d0887"
             ],
             [
              0.1111111111111111,
              "#46039f"
             ],
             [
              0.2222222222222222,
              "#7201a8"
             ],
             [
              0.3333333333333333,
              "#9c179e"
             ],
             [
              0.4444444444444444,
              "#bd3786"
             ],
             [
              0.5555555555555556,
              "#d8576b"
             ],
             [
              0.6666666666666666,
              "#ed7953"
             ],
             [
              0.7777777777777778,
              "#fb9f3a"
             ],
             [
              0.8888888888888888,
              "#fdca26"
             ],
             [
              1,
              "#f0f921"
             ]
            ],
            "type": "histogram2d"
           }
          ],
          "histogram2dcontour": [
           {
            "colorbar": {
             "outlinewidth": 0,
             "ticks": ""
            },
            "colorscale": [
             [
              0,
              "#0d0887"
             ],
             [
              0.1111111111111111,
              "#46039f"
             ],
             [
              0.2222222222222222,
              "#7201a8"
             ],
             [
              0.3333333333333333,
              "#9c179e"
             ],
             [
              0.4444444444444444,
              "#bd3786"
             ],
             [
              0.5555555555555556,
              "#d8576b"
             ],
             [
              0.6666666666666666,
              "#ed7953"
             ],
             [
              0.7777777777777778,
              "#fb9f3a"
             ],
             [
              0.8888888888888888,
              "#fdca26"
             ],
             [
              1,
              "#f0f921"
             ]
            ],
            "type": "histogram2dcontour"
           }
          ],
          "mesh3d": [
           {
            "colorbar": {
             "outlinewidth": 0,
             "ticks": ""
            },
            "type": "mesh3d"
           }
          ],
          "parcoords": [
           {
            "line": {
             "colorbar": {
              "outlinewidth": 0,
              "ticks": ""
             }
            },
            "type": "parcoords"
           }
          ],
          "pie": [
           {
            "automargin": true,
            "type": "pie"
           }
          ],
          "scatter": [
           {
            "fillpattern": {
             "fillmode": "overlay",
             "size": 10,
             "solidity": 0.2
            },
            "type": "scatter"
           }
          ],
          "scatter3d": [
           {
            "line": {
             "colorbar": {
              "outlinewidth": 0,
              "ticks": ""
             }
            },
            "marker": {
             "colorbar": {
              "outlinewidth": 0,
              "ticks": ""
             }
            },
            "type": "scatter3d"
           }
          ],
          "scattercarpet": [
           {
            "marker": {
             "colorbar": {
              "outlinewidth": 0,
              "ticks": ""
             }
            },
            "type": "scattercarpet"
           }
          ],
          "scattergeo": [
           {
            "marker": {
             "colorbar": {
              "outlinewidth": 0,
              "ticks": ""
             }
            },
            "type": "scattergeo"
           }
          ],
          "scattergl": [
           {
            "marker": {
             "colorbar": {
              "outlinewidth": 0,
              "ticks": ""
             }
            },
            "type": "scattergl"
           }
          ],
          "scattermap": [
           {
            "marker": {
             "colorbar": {
              "outlinewidth": 0,
              "ticks": ""
             }
            },
            "type": "scattermap"
           }
          ],
          "scattermapbox": [
           {
            "marker": {
             "colorbar": {
              "outlinewidth": 0,
              "ticks": ""
             }
            },
            "type": "scattermapbox"
           }
          ],
          "scatterpolar": [
           {
            "marker": {
             "colorbar": {
              "outlinewidth": 0,
              "ticks": ""
             }
            },
            "type": "scatterpolar"
           }
          ],
          "scatterpolargl": [
           {
            "marker": {
             "colorbar": {
              "outlinewidth": 0,
              "ticks": ""
             }
            },
            "type": "scatterpolargl"
           }
          ],
          "scatterternary": [
           {
            "marker": {
             "colorbar": {
              "outlinewidth": 0,
              "ticks": ""
             }
            },
            "type": "scatterternary"
           }
          ],
          "surface": [
           {
            "colorbar": {
             "outlinewidth": 0,
             "ticks": ""
            },
            "colorscale": [
             [
              0,
              "#0d0887"
             ],
             [
              0.1111111111111111,
              "#46039f"
             ],
             [
              0.2222222222222222,
              "#7201a8"
             ],
             [
              0.3333333333333333,
              "#9c179e"
             ],
             [
              0.4444444444444444,
              "#bd3786"
             ],
             [
              0.5555555555555556,
              "#d8576b"
             ],
             [
              0.6666666666666666,
              "#ed7953"
             ],
             [
              0.7777777777777778,
              "#fb9f3a"
             ],
             [
              0.8888888888888888,
              "#fdca26"
             ],
             [
              1,
              "#f0f921"
             ]
            ],
            "type": "surface"
           }
          ],
          "table": [
           {
            "cells": {
             "fill": {
              "color": "#EBF0F8"
             },
             "line": {
              "color": "white"
             }
            },
            "header": {
             "fill": {
              "color": "#C8D4E3"
             },
             "line": {
              "color": "white"
             }
            },
            "type": "table"
           }
          ]
         },
         "layout": {
          "annotationdefaults": {
           "arrowcolor": "#2a3f5f",
           "arrowhead": 0,
           "arrowwidth": 1
          },
          "autotypenumbers": "strict",
          "coloraxis": {
           "colorbar": {
            "outlinewidth": 0,
            "ticks": ""
           }
          },
          "colorscale": {
           "diverging": [
            [
             0,
             "#8e0152"
            ],
            [
             0.1,
             "#c51b7d"
            ],
            [
             0.2,
             "#de77ae"
            ],
            [
             0.3,
             "#f1b6da"
            ],
            [
             0.4,
             "#fde0ef"
            ],
            [
             0.5,
             "#f7f7f7"
            ],
            [
             0.6,
             "#e6f5d0"
            ],
            [
             0.7,
             "#b8e186"
            ],
            [
             0.8,
             "#7fbc41"
            ],
            [
             0.9,
             "#4d9221"
            ],
            [
             1,
             "#276419"
            ]
           ],
           "sequential": [
            [
             0,
             "#0d0887"
            ],
            [
             0.1111111111111111,
             "#46039f"
            ],
            [
             0.2222222222222222,
             "#7201a8"
            ],
            [
             0.3333333333333333,
             "#9c179e"
            ],
            [
             0.4444444444444444,
             "#bd3786"
            ],
            [
             0.5555555555555556,
             "#d8576b"
            ],
            [
             0.6666666666666666,
             "#ed7953"
            ],
            [
             0.7777777777777778,
             "#fb9f3a"
            ],
            [
             0.8888888888888888,
             "#fdca26"
            ],
            [
             1,
             "#f0f921"
            ]
           ],
           "sequentialminus": [
            [
             0,
             "#0d0887"
            ],
            [
             0.1111111111111111,
             "#46039f"
            ],
            [
             0.2222222222222222,
             "#7201a8"
            ],
            [
             0.3333333333333333,
             "#9c179e"
            ],
            [
             0.4444444444444444,
             "#bd3786"
            ],
            [
             0.5555555555555556,
             "#d8576b"
            ],
            [
             0.6666666666666666,
             "#ed7953"
            ],
            [
             0.7777777777777778,
             "#fb9f3a"
            ],
            [
             0.8888888888888888,
             "#fdca26"
            ],
            [
             1,
             "#f0f921"
            ]
           ]
          },
          "colorway": [
           "#636efa",
           "#EF553B",
           "#00cc96",
           "#ab63fa",
           "#FFA15A",
           "#19d3f3",
           "#FF6692",
           "#B6E880",
           "#FF97FF",
           "#FECB52"
          ],
          "font": {
           "color": "#2a3f5f"
          },
          "geo": {
           "bgcolor": "white",
           "lakecolor": "white",
           "landcolor": "#E5ECF6",
           "showlakes": true,
           "showland": true,
           "subunitcolor": "white"
          },
          "hoverlabel": {
           "align": "left"
          },
          "hovermode": "closest",
          "mapbox": {
           "style": "light"
          },
          "paper_bgcolor": "white",
          "plot_bgcolor": "#E5ECF6",
          "polar": {
           "angularaxis": {
            "gridcolor": "white",
            "linecolor": "white",
            "ticks": ""
           },
           "bgcolor": "#E5ECF6",
           "radialaxis": {
            "gridcolor": "white",
            "linecolor": "white",
            "ticks": ""
           }
          },
          "scene": {
           "xaxis": {
            "backgroundcolor": "#E5ECF6",
            "gridcolor": "white",
            "gridwidth": 2,
            "linecolor": "white",
            "showbackground": true,
            "ticks": "",
            "zerolinecolor": "white"
           },
           "yaxis": {
            "backgroundcolor": "#E5ECF6",
            "gridcolor": "white",
            "gridwidth": 2,
            "linecolor": "white",
            "showbackground": true,
            "ticks": "",
            "zerolinecolor": "white"
           },
           "zaxis": {
            "backgroundcolor": "#E5ECF6",
            "gridcolor": "white",
            "gridwidth": 2,
            "linecolor": "white",
            "showbackground": true,
            "ticks": "",
            "zerolinecolor": "white"
           }
          },
          "shapedefaults": {
           "line": {
            "color": "#2a3f5f"
           }
          },
          "ternary": {
           "aaxis": {
            "gridcolor": "white",
            "linecolor": "white",
            "ticks": ""
           },
           "baxis": {
            "gridcolor": "white",
            "linecolor": "white",
            "ticks": ""
           },
           "bgcolor": "#E5ECF6",
           "caxis": {
            "gridcolor": "white",
            "linecolor": "white",
            "ticks": ""
           }
          },
          "title": {
           "x": 0.05
          },
          "xaxis": {
           "automargin": true,
           "gridcolor": "white",
           "linecolor": "white",
           "ticks": "",
           "title": {
            "standoff": 15
           },
           "zerolinecolor": "white",
           "zerolinewidth": 2
          },
          "yaxis": {
           "automargin": true,
           "gridcolor": "white",
           "linecolor": "white",
           "ticks": "",
           "title": {
            "standoff": 15
           },
           "zerolinecolor": "white",
           "zerolinewidth": 2
          }
         }
        }
       }
      }
     },
     "metadata": {},
     "output_type": "display_data"
    }
   ],
   "source": [
    "import plotly.graph_objects as go\n",
    "\n",
    "labels = [\"Oxygen\", \"Hydrogen\", \"Carbon_Dioxide\", \"Nitrogen\"]\n",
    "values = [4500, 2500, 1053, 500]\n",
    "colors = [\"gold\", \"mediumturquoise\", \"darkorange\", \"lightgreen\"]\n",
    "\n",
    "fig = go.Figure(\n",
    "    data=[\n",
    "        go.Pie(\n",
    "            labels=labels,\n",
    "            values=values,\n",
    "            textfont_size=20,\n",
    "            marker=dict(colors=colors, pattern=dict(shape=[\".\", \"x\", \"+\", \"-\"]))\n",
    "        )\n",
    "    ]\n",
    ")\n",
    "\n",
    "fig.show()\n"
   ]
  },
  {
   "cell_type": "code",
   "execution_count": 18,
   "id": "476ecb72",
   "metadata": {},
   "outputs": [
    {
     "data": {
      "application/vnd.plotly.v1+json": {
       "config": {
        "plotlyServerURL": "https://plot.ly"
       },
       "data": [
        {
         "labels": [
          "Eve",
          "Cain",
          "Seth",
          "Enos",
          "Noam",
          "Abel",
          "Awan",
          "Enoch",
          "Azura"
         ],
         "parents": [
          "",
          "Eve",
          "Eve",
          "Seth",
          "Seth",
          "Eve",
          "Eve",
          "Awan",
          "Eve"
         ],
         "type": "sunburst",
         "values": [
          10,
          14,
          12,
          10,
          2,
          6,
          6,
          4,
          4
         ]
        }
       ],
       "layout": {
        "margin": {
         "b": 0,
         "l": 0,
         "r": 0,
         "t": 0
        },
        "template": {
         "data": {
          "bar": [
           {
            "error_x": {
             "color": "#2a3f5f"
            },
            "error_y": {
             "color": "#2a3f5f"
            },
            "marker": {
             "line": {
              "color": "#E5ECF6",
              "width": 0.5
             },
             "pattern": {
              "fillmode": "overlay",
              "size": 10,
              "solidity": 0.2
             }
            },
            "type": "bar"
           }
          ],
          "barpolar": [
           {
            "marker": {
             "line": {
              "color": "#E5ECF6",
              "width": 0.5
             },
             "pattern": {
              "fillmode": "overlay",
              "size": 10,
              "solidity": 0.2
             }
            },
            "type": "barpolar"
           }
          ],
          "carpet": [
           {
            "aaxis": {
             "endlinecolor": "#2a3f5f",
             "gridcolor": "white",
             "linecolor": "white",
             "minorgridcolor": "white",
             "startlinecolor": "#2a3f5f"
            },
            "baxis": {
             "endlinecolor": "#2a3f5f",
             "gridcolor": "white",
             "linecolor": "white",
             "minorgridcolor": "white",
             "startlinecolor": "#2a3f5f"
            },
            "type": "carpet"
           }
          ],
          "choropleth": [
           {
            "colorbar": {
             "outlinewidth": 0,
             "ticks": ""
            },
            "type": "choropleth"
           }
          ],
          "contour": [
           {
            "colorbar": {
             "outlinewidth": 0,
             "ticks": ""
            },
            "colorscale": [
             [
              0,
              "#0d0887"
             ],
             [
              0.1111111111111111,
              "#46039f"
             ],
             [
              0.2222222222222222,
              "#7201a8"
             ],
             [
              0.3333333333333333,
              "#9c179e"
             ],
             [
              0.4444444444444444,
              "#bd3786"
             ],
             [
              0.5555555555555556,
              "#d8576b"
             ],
             [
              0.6666666666666666,
              "#ed7953"
             ],
             [
              0.7777777777777778,
              "#fb9f3a"
             ],
             [
              0.8888888888888888,
              "#fdca26"
             ],
             [
              1,
              "#f0f921"
             ]
            ],
            "type": "contour"
           }
          ],
          "contourcarpet": [
           {
            "colorbar": {
             "outlinewidth": 0,
             "ticks": ""
            },
            "type": "contourcarpet"
           }
          ],
          "heatmap": [
           {
            "colorbar": {
             "outlinewidth": 0,
             "ticks": ""
            },
            "colorscale": [
             [
              0,
              "#0d0887"
             ],
             [
              0.1111111111111111,
              "#46039f"
             ],
             [
              0.2222222222222222,
              "#7201a8"
             ],
             [
              0.3333333333333333,
              "#9c179e"
             ],
             [
              0.4444444444444444,
              "#bd3786"
             ],
             [
              0.5555555555555556,
              "#d8576b"
             ],
             [
              0.6666666666666666,
              "#ed7953"
             ],
             [
              0.7777777777777778,
              "#fb9f3a"
             ],
             [
              0.8888888888888888,
              "#fdca26"
             ],
             [
              1,
              "#f0f921"
             ]
            ],
            "type": "heatmap"
           }
          ],
          "histogram": [
           {
            "marker": {
             "pattern": {
              "fillmode": "overlay",
              "size": 10,
              "solidity": 0.2
             }
            },
            "type": "histogram"
           }
          ],
          "histogram2d": [
           {
            "colorbar": {
             "outlinewidth": 0,
             "ticks": ""
            },
            "colorscale": [
             [
              0,
              "#0d0887"
             ],
             [
              0.1111111111111111,
              "#46039f"
             ],
             [
              0.2222222222222222,
              "#7201a8"
             ],
             [
              0.3333333333333333,
              "#9c179e"
             ],
             [
              0.4444444444444444,
              "#bd3786"
             ],
             [
              0.5555555555555556,
              "#d8576b"
             ],
             [
              0.6666666666666666,
              "#ed7953"
             ],
             [
              0.7777777777777778,
              "#fb9f3a"
             ],
             [
              0.8888888888888888,
              "#fdca26"
             ],
             [
              1,
              "#f0f921"
             ]
            ],
            "type": "histogram2d"
           }
          ],
          "histogram2dcontour": [
           {
            "colorbar": {
             "outlinewidth": 0,
             "ticks": ""
            },
            "colorscale": [
             [
              0,
              "#0d0887"
             ],
             [
              0.1111111111111111,
              "#46039f"
             ],
             [
              0.2222222222222222,
              "#7201a8"
             ],
             [
              0.3333333333333333,
              "#9c179e"
             ],
             [
              0.4444444444444444,
              "#bd3786"
             ],
             [
              0.5555555555555556,
              "#d8576b"
             ],
             [
              0.6666666666666666,
              "#ed7953"
             ],
             [
              0.7777777777777778,
              "#fb9f3a"
             ],
             [
              0.8888888888888888,
              "#fdca26"
             ],
             [
              1,
              "#f0f921"
             ]
            ],
            "type": "histogram2dcontour"
           }
          ],
          "mesh3d": [
           {
            "colorbar": {
             "outlinewidth": 0,
             "ticks": ""
            },
            "type": "mesh3d"
           }
          ],
          "parcoords": [
           {
            "line": {
             "colorbar": {
              "outlinewidth": 0,
              "ticks": ""
             }
            },
            "type": "parcoords"
           }
          ],
          "pie": [
           {
            "automargin": true,
            "type": "pie"
           }
          ],
          "scatter": [
           {
            "fillpattern": {
             "fillmode": "overlay",
             "size": 10,
             "solidity": 0.2
            },
            "type": "scatter"
           }
          ],
          "scatter3d": [
           {
            "line": {
             "colorbar": {
              "outlinewidth": 0,
              "ticks": ""
             }
            },
            "marker": {
             "colorbar": {
              "outlinewidth": 0,
              "ticks": ""
             }
            },
            "type": "scatter3d"
           }
          ],
          "scattercarpet": [
           {
            "marker": {
             "colorbar": {
              "outlinewidth": 0,
              "ticks": ""
             }
            },
            "type": "scattercarpet"
           }
          ],
          "scattergeo": [
           {
            "marker": {
             "colorbar": {
              "outlinewidth": 0,
              "ticks": ""
             }
            },
            "type": "scattergeo"
           }
          ],
          "scattergl": [
           {
            "marker": {
             "colorbar": {
              "outlinewidth": 0,
              "ticks": ""
             }
            },
            "type": "scattergl"
           }
          ],
          "scattermap": [
           {
            "marker": {
             "colorbar": {
              "outlinewidth": 0,
              "ticks": ""
             }
            },
            "type": "scattermap"
           }
          ],
          "scattermapbox": [
           {
            "marker": {
             "colorbar": {
              "outlinewidth": 0,
              "ticks": ""
             }
            },
            "type": "scattermapbox"
           }
          ],
          "scatterpolar": [
           {
            "marker": {
             "colorbar": {
              "outlinewidth": 0,
              "ticks": ""
             }
            },
            "type": "scatterpolar"
           }
          ],
          "scatterpolargl": [
           {
            "marker": {
             "colorbar": {
              "outlinewidth": 0,
              "ticks": ""
             }
            },
            "type": "scatterpolargl"
           }
          ],
          "scatterternary": [
           {
            "marker": {
             "colorbar": {
              "outlinewidth": 0,
              "ticks": ""
             }
            },
            "type": "scatterternary"
           }
          ],
          "surface": [
           {
            "colorbar": {
             "outlinewidth": 0,
             "ticks": ""
            },
            "colorscale": [
             [
              0,
              "#0d0887"
             ],
             [
              0.1111111111111111,
              "#46039f"
             ],
             [
              0.2222222222222222,
              "#7201a8"
             ],
             [
              0.3333333333333333,
              "#9c179e"
             ],
             [
              0.4444444444444444,
              "#bd3786"
             ],
             [
              0.5555555555555556,
              "#d8576b"
             ],
             [
              0.6666666666666666,
              "#ed7953"
             ],
             [
              0.7777777777777778,
              "#fb9f3a"
             ],
             [
              0.8888888888888888,
              "#fdca26"
             ],
             [
              1,
              "#f0f921"
             ]
            ],
            "type": "surface"
           }
          ],
          "table": [
           {
            "cells": {
             "fill": {
              "color": "#EBF0F8"
             },
             "line": {
              "color": "white"
             }
            },
            "header": {
             "fill": {
              "color": "#C8D4E3"
             },
             "line": {
              "color": "white"
             }
            },
            "type": "table"
           }
          ]
         },
         "layout": {
          "annotationdefaults": {
           "arrowcolor": "#2a3f5f",
           "arrowhead": 0,
           "arrowwidth": 1
          },
          "autotypenumbers": "strict",
          "coloraxis": {
           "colorbar": {
            "outlinewidth": 0,
            "ticks": ""
           }
          },
          "colorscale": {
           "diverging": [
            [
             0,
             "#8e0152"
            ],
            [
             0.1,
             "#c51b7d"
            ],
            [
             0.2,
             "#de77ae"
            ],
            [
             0.3,
             "#f1b6da"
            ],
            [
             0.4,
             "#fde0ef"
            ],
            [
             0.5,
             "#f7f7f7"
            ],
            [
             0.6,
             "#e6f5d0"
            ],
            [
             0.7,
             "#b8e186"
            ],
            [
             0.8,
             "#7fbc41"
            ],
            [
             0.9,
             "#4d9221"
            ],
            [
             1,
             "#276419"
            ]
           ],
           "sequential": [
            [
             0,
             "#0d0887"
            ],
            [
             0.1111111111111111,
             "#46039f"
            ],
            [
             0.2222222222222222,
             "#7201a8"
            ],
            [
             0.3333333333333333,
             "#9c179e"
            ],
            [
             0.4444444444444444,
             "#bd3786"
            ],
            [
             0.5555555555555556,
             "#d8576b"
            ],
            [
             0.6666666666666666,
             "#ed7953"
            ],
            [
             0.7777777777777778,
             "#fb9f3a"
            ],
            [
             0.8888888888888888,
             "#fdca26"
            ],
            [
             1,
             "#f0f921"
            ]
           ],
           "sequentialminus": [
            [
             0,
             "#0d0887"
            ],
            [
             0.1111111111111111,
             "#46039f"
            ],
            [
             0.2222222222222222,
             "#7201a8"
            ],
            [
             0.3333333333333333,
             "#9c179e"
            ],
            [
             0.4444444444444444,
             "#bd3786"
            ],
            [
             0.5555555555555556,
             "#d8576b"
            ],
            [
             0.6666666666666666,
             "#ed7953"
            ],
            [
             0.7777777777777778,
             "#fb9f3a"
            ],
            [
             0.8888888888888888,
             "#fdca26"
            ],
            [
             1,
             "#f0f921"
            ]
           ]
          },
          "colorway": [
           "#636efa",
           "#EF553B",
           "#00cc96",
           "#ab63fa",
           "#FFA15A",
           "#19d3f3",
           "#FF6692",
           "#B6E880",
           "#FF97FF",
           "#FECB52"
          ],
          "font": {
           "color": "#2a3f5f"
          },
          "geo": {
           "bgcolor": "white",
           "lakecolor": "white",
           "landcolor": "#E5ECF6",
           "showlakes": true,
           "showland": true,
           "subunitcolor": "white"
          },
          "hoverlabel": {
           "align": "left"
          },
          "hovermode": "closest",
          "mapbox": {
           "style": "light"
          },
          "paper_bgcolor": "white",
          "plot_bgcolor": "#E5ECF6",
          "polar": {
           "angularaxis": {
            "gridcolor": "white",
            "linecolor": "white",
            "ticks": ""
           },
           "bgcolor": "#E5ECF6",
           "radialaxis": {
            "gridcolor": "white",
            "linecolor": "white",
            "ticks": ""
           }
          },
          "scene": {
           "xaxis": {
            "backgroundcolor": "#E5ECF6",
            "gridcolor": "white",
            "gridwidth": 2,
            "linecolor": "white",
            "showbackground": true,
            "ticks": "",
            "zerolinecolor": "white"
           },
           "yaxis": {
            "backgroundcolor": "#E5ECF6",
            "gridcolor": "white",
            "gridwidth": 2,
            "linecolor": "white",
            "showbackground": true,
            "ticks": "",
            "zerolinecolor": "white"
           },
           "zaxis": {
            "backgroundcolor": "#E5ECF6",
            "gridcolor": "white",
            "gridwidth": 2,
            "linecolor": "white",
            "showbackground": true,
            "ticks": "",
            "zerolinecolor": "white"
           }
          },
          "shapedefaults": {
           "line": {
            "color": "#2a3f5f"
           }
          },
          "ternary": {
           "aaxis": {
            "gridcolor": "white",
            "linecolor": "white",
            "ticks": ""
           },
           "baxis": {
            "gridcolor": "white",
            "linecolor": "white",
            "ticks": ""
           },
           "bgcolor": "#E5ECF6",
           "caxis": {
            "gridcolor": "white",
            "linecolor": "white",
            "ticks": ""
           }
          },
          "title": {
           "x": 0.05
          },
          "xaxis": {
           "automargin": true,
           "gridcolor": "white",
           "linecolor": "white",
           "ticks": "",
           "title": {
            "standoff": 15
           },
           "zerolinecolor": "white",
           "zerolinewidth": 2
          },
          "yaxis": {
           "automargin": true,
           "gridcolor": "white",
           "linecolor": "white",
           "ticks": "",
           "title": {
            "standoff": 15
           },
           "zerolinecolor": "white",
           "zerolinewidth": 2
          }
         }
        }
       }
      }
     },
     "metadata": {},
     "output_type": "display_data"
    }
   ],
   "source": [
    "import plotly.graph_objects as go\n",
    "\n",
    "fig =go.Figure(go.Sunburst(\n",
    "    labels=[\"Eve\", \"Cain\", \"Seth\", \"Enos\", \"Noam\", \"Abel\", \"Awan\", \"Enoch\", \"Azura\"],\n",
    "    parents=[\"\", \"Eve\", \"Eve\", \"Seth\", \"Seth\", \"Eve\", \"Eve\", \"Awan\", \"Eve\" ],\n",
    "    values=[10, 14, 12, 10, 2, 6, 6, 4, 4],\n",
    "))\n",
    "fig.update_layout(margin = dict(t=0, l=0, r=0, b=0))\n",
    "\n",
    "fig.show()\n"
   ]
  },
  {
   "cell_type": "code",
   "execution_count": 19,
   "id": "81cddb0c",
   "metadata": {},
   "outputs": [
    {
     "data": {
      "application/vnd.plotly.v1+json": {
       "config": {
        "plotlyServerURL": "https://plot.ly"
       },
       "data": [
        {
         "domain": {
          "x": [
           0,
           1
          ],
          "y": [
           0,
           1
          ]
         },
         "hovertemplate": "country=%{label}<br>pop=%{value}<extra></extra>",
         "labels": [
          "Albania",
          "Austria",
          "Belgium",
          "Bosnia and Herzegovina",
          "Bulgaria",
          "Croatia",
          "Czech Republic",
          "Denmark",
          "Finland",
          "France",
          "Germany",
          "Greece",
          "Hungary",
          "Other countries",
          "Ireland",
          "Italy",
          "Other countries",
          "Netherlands",
          "Norway",
          "Poland",
          "Portugal",
          "Romania",
          "Serbia",
          "Slovak Republic",
          "Slovenia",
          "Spain",
          "Sweden",
          "Switzerland",
          "Turkey",
          "United Kingdom"
         ],
         "legendgroup": "",
         "name": "",
         "showlegend": true,
         "type": "pie",
         "values": {
          "bdata": "i/A2AGcefQCikp4ABnZFAOq8bwAAkEQACBScANhvUwC87k8ADBGkA+RW6QRyXaMADOuXAGubBAAesz4AlUN3A8ByCgD12PwA1p1GAOG9SwKUZaIA2OdTAXnhmgBOH1MAnageAL8waQKwzYkAZUZzAHfLPQQuX58D",
          "dtype": "i4"
         }
        }
       ],
       "layout": {
        "legend": {
         "tracegroupgap": 0
        },
        "template": {
         "data": {
          "bar": [
           {
            "error_x": {
             "color": "#2a3f5f"
            },
            "error_y": {
             "color": "#2a3f5f"
            },
            "marker": {
             "line": {
              "color": "#E5ECF6",
              "width": 0.5
             },
             "pattern": {
              "fillmode": "overlay",
              "size": 10,
              "solidity": 0.2
             }
            },
            "type": "bar"
           }
          ],
          "barpolar": [
           {
            "marker": {
             "line": {
              "color": "#E5ECF6",
              "width": 0.5
             },
             "pattern": {
              "fillmode": "overlay",
              "size": 10,
              "solidity": 0.2
             }
            },
            "type": "barpolar"
           }
          ],
          "carpet": [
           {
            "aaxis": {
             "endlinecolor": "#2a3f5f",
             "gridcolor": "white",
             "linecolor": "white",
             "minorgridcolor": "white",
             "startlinecolor": "#2a3f5f"
            },
            "baxis": {
             "endlinecolor": "#2a3f5f",
             "gridcolor": "white",
             "linecolor": "white",
             "minorgridcolor": "white",
             "startlinecolor": "#2a3f5f"
            },
            "type": "carpet"
           }
          ],
          "choropleth": [
           {
            "colorbar": {
             "outlinewidth": 0,
             "ticks": ""
            },
            "type": "choropleth"
           }
          ],
          "contour": [
           {
            "colorbar": {
             "outlinewidth": 0,
             "ticks": ""
            },
            "colorscale": [
             [
              0,
              "#0d0887"
             ],
             [
              0.1111111111111111,
              "#46039f"
             ],
             [
              0.2222222222222222,
              "#7201a8"
             ],
             [
              0.3333333333333333,
              "#9c179e"
             ],
             [
              0.4444444444444444,
              "#bd3786"
             ],
             [
              0.5555555555555556,
              "#d8576b"
             ],
             [
              0.6666666666666666,
              "#ed7953"
             ],
             [
              0.7777777777777778,
              "#fb9f3a"
             ],
             [
              0.8888888888888888,
              "#fdca26"
             ],
             [
              1,
              "#f0f921"
             ]
            ],
            "type": "contour"
           }
          ],
          "contourcarpet": [
           {
            "colorbar": {
             "outlinewidth": 0,
             "ticks": ""
            },
            "type": "contourcarpet"
           }
          ],
          "heatmap": [
           {
            "colorbar": {
             "outlinewidth": 0,
             "ticks": ""
            },
            "colorscale": [
             [
              0,
              "#0d0887"
             ],
             [
              0.1111111111111111,
              "#46039f"
             ],
             [
              0.2222222222222222,
              "#7201a8"
             ],
             [
              0.3333333333333333,
              "#9c179e"
             ],
             [
              0.4444444444444444,
              "#bd3786"
             ],
             [
              0.5555555555555556,
              "#d8576b"
             ],
             [
              0.6666666666666666,
              "#ed7953"
             ],
             [
              0.7777777777777778,
              "#fb9f3a"
             ],
             [
              0.8888888888888888,
              "#fdca26"
             ],
             [
              1,
              "#f0f921"
             ]
            ],
            "type": "heatmap"
           }
          ],
          "histogram": [
           {
            "marker": {
             "pattern": {
              "fillmode": "overlay",
              "size": 10,
              "solidity": 0.2
             }
            },
            "type": "histogram"
           }
          ],
          "histogram2d": [
           {
            "colorbar": {
             "outlinewidth": 0,
             "ticks": ""
            },
            "colorscale": [
             [
              0,
              "#0d0887"
             ],
             [
              0.1111111111111111,
              "#46039f"
             ],
             [
              0.2222222222222222,
              "#7201a8"
             ],
             [
              0.3333333333333333,
              "#9c179e"
             ],
             [
              0.4444444444444444,
              "#bd3786"
             ],
             [
              0.5555555555555556,
              "#d8576b"
             ],
             [
              0.6666666666666666,
              "#ed7953"
             ],
             [
              0.7777777777777778,
              "#fb9f3a"
             ],
             [
              0.8888888888888888,
              "#fdca26"
             ],
             [
              1,
              "#f0f921"
             ]
            ],
            "type": "histogram2d"
           }
          ],
          "histogram2dcontour": [
           {
            "colorbar": {
             "outlinewidth": 0,
             "ticks": ""
            },
            "colorscale": [
             [
              0,
              "#0d0887"
             ],
             [
              0.1111111111111111,
              "#46039f"
             ],
             [
              0.2222222222222222,
              "#7201a8"
             ],
             [
              0.3333333333333333,
              "#9c179e"
             ],
             [
              0.4444444444444444,
              "#bd3786"
             ],
             [
              0.5555555555555556,
              "#d8576b"
             ],
             [
              0.6666666666666666,
              "#ed7953"
             ],
             [
              0.7777777777777778,
              "#fb9f3a"
             ],
             [
              0.8888888888888888,
              "#fdca26"
             ],
             [
              1,
              "#f0f921"
             ]
            ],
            "type": "histogram2dcontour"
           }
          ],
          "mesh3d": [
           {
            "colorbar": {
             "outlinewidth": 0,
             "ticks": ""
            },
            "type": "mesh3d"
           }
          ],
          "parcoords": [
           {
            "line": {
             "colorbar": {
              "outlinewidth": 0,
              "ticks": ""
             }
            },
            "type": "parcoords"
           }
          ],
          "pie": [
           {
            "automargin": true,
            "type": "pie"
           }
          ],
          "scatter": [
           {
            "fillpattern": {
             "fillmode": "overlay",
             "size": 10,
             "solidity": 0.2
            },
            "type": "scatter"
           }
          ],
          "scatter3d": [
           {
            "line": {
             "colorbar": {
              "outlinewidth": 0,
              "ticks": ""
             }
            },
            "marker": {
             "colorbar": {
              "outlinewidth": 0,
              "ticks": ""
             }
            },
            "type": "scatter3d"
           }
          ],
          "scattercarpet": [
           {
            "marker": {
             "colorbar": {
              "outlinewidth": 0,
              "ticks": ""
             }
            },
            "type": "scattercarpet"
           }
          ],
          "scattergeo": [
           {
            "marker": {
             "colorbar": {
              "outlinewidth": 0,
              "ticks": ""
             }
            },
            "type": "scattergeo"
           }
          ],
          "scattergl": [
           {
            "marker": {
             "colorbar": {
              "outlinewidth": 0,
              "ticks": ""
             }
            },
            "type": "scattergl"
           }
          ],
          "scattermap": [
           {
            "marker": {
             "colorbar": {
              "outlinewidth": 0,
              "ticks": ""
             }
            },
            "type": "scattermap"
           }
          ],
          "scattermapbox": [
           {
            "marker": {
             "colorbar": {
              "outlinewidth": 0,
              "ticks": ""
             }
            },
            "type": "scattermapbox"
           }
          ],
          "scatterpolar": [
           {
            "marker": {
             "colorbar": {
              "outlinewidth": 0,
              "ticks": ""
             }
            },
            "type": "scatterpolar"
           }
          ],
          "scatterpolargl": [
           {
            "marker": {
             "colorbar": {
              "outlinewidth": 0,
              "ticks": ""
             }
            },
            "type": "scatterpolargl"
           }
          ],
          "scatterternary": [
           {
            "marker": {
             "colorbar": {
              "outlinewidth": 0,
              "ticks": ""
             }
            },
            "type": "scatterternary"
           }
          ],
          "surface": [
           {
            "colorbar": {
             "outlinewidth": 0,
             "ticks": ""
            },
            "colorscale": [
             [
              0,
              "#0d0887"
             ],
             [
              0.1111111111111111,
              "#46039f"
             ],
             [
              0.2222222222222222,
              "#7201a8"
             ],
             [
              0.3333333333333333,
              "#9c179e"
             ],
             [
              0.4444444444444444,
              "#bd3786"
             ],
             [
              0.5555555555555556,
              "#d8576b"
             ],
             [
              0.6666666666666666,
              "#ed7953"
             ],
             [
              0.7777777777777778,
              "#fb9f3a"
             ],
             [
              0.8888888888888888,
              "#fdca26"
             ],
             [
              1,
              "#f0f921"
             ]
            ],
            "type": "surface"
           }
          ],
          "table": [
           {
            "cells": {
             "fill": {
              "color": "#EBF0F8"
             },
             "line": {
              "color": "white"
             }
            },
            "header": {
             "fill": {
              "color": "#C8D4E3"
             },
             "line": {
              "color": "white"
             }
            },
            "type": "table"
           }
          ]
         },
         "layout": {
          "annotationdefaults": {
           "arrowcolor": "#2a3f5f",
           "arrowhead": 0,
           "arrowwidth": 1
          },
          "autotypenumbers": "strict",
          "coloraxis": {
           "colorbar": {
            "outlinewidth": 0,
            "ticks": ""
           }
          },
          "colorscale": {
           "diverging": [
            [
             0,
             "#8e0152"
            ],
            [
             0.1,
             "#c51b7d"
            ],
            [
             0.2,
             "#de77ae"
            ],
            [
             0.3,
             "#f1b6da"
            ],
            [
             0.4,
             "#fde0ef"
            ],
            [
             0.5,
             "#f7f7f7"
            ],
            [
             0.6,
             "#e6f5d0"
            ],
            [
             0.7,
             "#b8e186"
            ],
            [
             0.8,
             "#7fbc41"
            ],
            [
             0.9,
             "#4d9221"
            ],
            [
             1,
             "#276419"
            ]
           ],
           "sequential": [
            [
             0,
             "#0d0887"
            ],
            [
             0.1111111111111111,
             "#46039f"
            ],
            [
             0.2222222222222222,
             "#7201a8"
            ],
            [
             0.3333333333333333,
             "#9c179e"
            ],
            [
             0.4444444444444444,
             "#bd3786"
            ],
            [
             0.5555555555555556,
             "#d8576b"
            ],
            [
             0.6666666666666666,
             "#ed7953"
            ],
            [
             0.7777777777777778,
             "#fb9f3a"
            ],
            [
             0.8888888888888888,
             "#fdca26"
            ],
            [
             1,
             "#f0f921"
            ]
           ],
           "sequentialminus": [
            [
             0,
             "#0d0887"
            ],
            [
             0.1111111111111111,
             "#46039f"
            ],
            [
             0.2222222222222222,
             "#7201a8"
            ],
            [
             0.3333333333333333,
             "#9c179e"
            ],
            [
             0.4444444444444444,
             "#bd3786"
            ],
            [
             0.5555555555555556,
             "#d8576b"
            ],
            [
             0.6666666666666666,
             "#ed7953"
            ],
            [
             0.7777777777777778,
             "#fb9f3a"
            ],
            [
             0.8888888888888888,
             "#fdca26"
            ],
            [
             1,
             "#f0f921"
            ]
           ]
          },
          "colorway": [
           "#636efa",
           "#EF553B",
           "#00cc96",
           "#ab63fa",
           "#FFA15A",
           "#19d3f3",
           "#FF6692",
           "#B6E880",
           "#FF97FF",
           "#FECB52"
          ],
          "font": {
           "color": "#2a3f5f"
          },
          "geo": {
           "bgcolor": "white",
           "lakecolor": "white",
           "landcolor": "#E5ECF6",
           "showlakes": true,
           "showland": true,
           "subunitcolor": "white"
          },
          "hoverlabel": {
           "align": "left"
          },
          "hovermode": "closest",
          "mapbox": {
           "style": "light"
          },
          "paper_bgcolor": "white",
          "plot_bgcolor": "#E5ECF6",
          "polar": {
           "angularaxis": {
            "gridcolor": "white",
            "linecolor": "white",
            "ticks": ""
           },
           "bgcolor": "#E5ECF6",
           "radialaxis": {
            "gridcolor": "white",
            "linecolor": "white",
            "ticks": ""
           }
          },
          "scene": {
           "xaxis": {
            "backgroundcolor": "#E5ECF6",
            "gridcolor": "white",
            "gridwidth": 2,
            "linecolor": "white",
            "showbackground": true,
            "ticks": "",
            "zerolinecolor": "white"
           },
           "yaxis": {
            "backgroundcolor": "#E5ECF6",
            "gridcolor": "white",
            "gridwidth": 2,
            "linecolor": "white",
            "showbackground": true,
            "ticks": "",
            "zerolinecolor": "white"
           },
           "zaxis": {
            "backgroundcolor": "#E5ECF6",
            "gridcolor": "white",
            "gridwidth": 2,
            "linecolor": "white",
            "showbackground": true,
            "ticks": "",
            "zerolinecolor": "white"
           }
          },
          "shapedefaults": {
           "line": {
            "color": "#2a3f5f"
           }
          },
          "ternary": {
           "aaxis": {
            "gridcolor": "white",
            "linecolor": "white",
            "ticks": ""
           },
           "baxis": {
            "gridcolor": "white",
            "linecolor": "white",
            "ticks": ""
           },
           "bgcolor": "#E5ECF6",
           "caxis": {
            "gridcolor": "white",
            "linecolor": "white",
            "ticks": ""
           }
          },
          "title": {
           "x": 0.05
          },
          "xaxis": {
           "automargin": true,
           "gridcolor": "white",
           "linecolor": "white",
           "ticks": "",
           "title": {
            "standoff": 15
           },
           "zerolinecolor": "white",
           "zerolinewidth": 2
          },
          "yaxis": {
           "automargin": true,
           "gridcolor": "white",
           "linecolor": "white",
           "ticks": "",
           "title": {
            "standoff": 15
           },
           "zerolinecolor": "white",
           "zerolinewidth": 2
          }
         }
        },
        "title": {
         "text": "Population of European continent"
        }
       }
      }
     },
     "metadata": {},
     "output_type": "display_data"
    }
   ],
   "source": [
    "import plotly.express as px\n",
    "df = px.data.gapminder().query(\"year == 2007\").query(\"continent == 'Europe'\")\n",
    "df.loc[df['pop'] < 2.e6, 'country'] = 'Other countries' # Represent only large countries\n",
    "fig = px.pie(df, values='pop', names='country', title='Population of European continent')\n",
    "fig.show()"
   ]
  },
  {
   "cell_type": "code",
   "execution_count": 20,
   "id": "db76e396",
   "metadata": {},
   "outputs": [
    {
     "data": {
      "application/vnd.plotly.v1+json": {
       "config": {
        "plotlyServerURL": "https://plot.ly"
       },
       "data": [
        {
         "branchvalues": "total",
         "domain": {
          "x": [
           0,
           1
          ],
          "y": [
           0,
           1
          ]
         },
         "hovertemplate": "labels=%{label}<br>total_bill=%{value}<br>parent=%{parent}<br>id=%{id}<extra></extra>",
         "ids": [
          "Sun/Dinner/Female",
          "Sun/Dinner/Male",
          "Sat/Dinner/Male",
          "Sat/Dinner/Female",
          "Thur/Lunch/Male",
          "Thur/Lunch/Female",
          "Fri/Dinner/Male",
          "Fri/Dinner/Female",
          "Fri/Lunch/Male",
          "Fri/Lunch/Female",
          "Thur/Dinner/Female",
          "Sun/Dinner",
          "Sat/Dinner",
          "Thur/Lunch",
          "Fri/Dinner",
          "Fri/Lunch",
          "Thur/Dinner",
          "Sun",
          "Sat",
          "Thur",
          "Fri"
         ],
         "labels": [
          "Female",
          "Male",
          "Male",
          "Female",
          "Male",
          "Female",
          "Male",
          "Female",
          "Male",
          "Female",
          "Female",
          "Dinner",
          "Dinner",
          "Lunch",
          "Dinner",
          "Lunch",
          "Dinner",
          "Sun",
          "Sat",
          "Thur",
          "Fri"
         ],
         "name": "",
         "parents": [
          "Sun/Dinner",
          "Sun/Dinner",
          "Sat/Dinner",
          "Sat/Dinner",
          "Thur/Lunch",
          "Thur/Lunch",
          "Fri/Dinner",
          "Fri/Dinner",
          "Fri/Lunch",
          "Fri/Lunch",
          "Thur/Dinner",
          "Sun",
          "Sat",
          "Thur",
          "Fri",
          "Fri",
          "Thur",
          "",
          "",
          "",
          ""
         ],
         "type": "sunburst",
         "values": {
          "bdata": "MzMzMzNbdkCkcD0K19WTQGZmZmZmLZNAZmZmZmY4gUDrUbgehYuBQHsUrkfhIIBAhetRuB6NZEAzMzMzM+NRQBSuR+F6FEFA4noUrkfhS0BI4XoUrscyQHE9CtejbJlAmpmZmZnJm0AzMzMzM9aQQB+F61G4fm1AexSuR+F6VkBI4XoUrscyQHE9CtejbJlAmpmZmZnJm0C4HoXrUSGRQK5H4XoUXnRA",
          "dtype": "f8"
         }
        }
       ],
       "layout": {
        "legend": {
         "tracegroupgap": 0
        },
        "margin": {
         "t": 60
        },
        "template": {
         "data": {
          "bar": [
           {
            "error_x": {
             "color": "#2a3f5f"
            },
            "error_y": {
             "color": "#2a3f5f"
            },
            "marker": {
             "line": {
              "color": "#E5ECF6",
              "width": 0.5
             },
             "pattern": {
              "fillmode": "overlay",
              "size": 10,
              "solidity": 0.2
             }
            },
            "type": "bar"
           }
          ],
          "barpolar": [
           {
            "marker": {
             "line": {
              "color": "#E5ECF6",
              "width": 0.5
             },
             "pattern": {
              "fillmode": "overlay",
              "size": 10,
              "solidity": 0.2
             }
            },
            "type": "barpolar"
           }
          ],
          "carpet": [
           {
            "aaxis": {
             "endlinecolor": "#2a3f5f",
             "gridcolor": "white",
             "linecolor": "white",
             "minorgridcolor": "white",
             "startlinecolor": "#2a3f5f"
            },
            "baxis": {
             "endlinecolor": "#2a3f5f",
             "gridcolor": "white",
             "linecolor": "white",
             "minorgridcolor": "white",
             "startlinecolor": "#2a3f5f"
            },
            "type": "carpet"
           }
          ],
          "choropleth": [
           {
            "colorbar": {
             "outlinewidth": 0,
             "ticks": ""
            },
            "type": "choropleth"
           }
          ],
          "contour": [
           {
            "colorbar": {
             "outlinewidth": 0,
             "ticks": ""
            },
            "colorscale": [
             [
              0,
              "#0d0887"
             ],
             [
              0.1111111111111111,
              "#46039f"
             ],
             [
              0.2222222222222222,
              "#7201a8"
             ],
             [
              0.3333333333333333,
              "#9c179e"
             ],
             [
              0.4444444444444444,
              "#bd3786"
             ],
             [
              0.5555555555555556,
              "#d8576b"
             ],
             [
              0.6666666666666666,
              "#ed7953"
             ],
             [
              0.7777777777777778,
              "#fb9f3a"
             ],
             [
              0.8888888888888888,
              "#fdca26"
             ],
             [
              1,
              "#f0f921"
             ]
            ],
            "type": "contour"
           }
          ],
          "contourcarpet": [
           {
            "colorbar": {
             "outlinewidth": 0,
             "ticks": ""
            },
            "type": "contourcarpet"
           }
          ],
          "heatmap": [
           {
            "colorbar": {
             "outlinewidth": 0,
             "ticks": ""
            },
            "colorscale": [
             [
              0,
              "#0d0887"
             ],
             [
              0.1111111111111111,
              "#46039f"
             ],
             [
              0.2222222222222222,
              "#7201a8"
             ],
             [
              0.3333333333333333,
              "#9c179e"
             ],
             [
              0.4444444444444444,
              "#bd3786"
             ],
             [
              0.5555555555555556,
              "#d8576b"
             ],
             [
              0.6666666666666666,
              "#ed7953"
             ],
             [
              0.7777777777777778,
              "#fb9f3a"
             ],
             [
              0.8888888888888888,
              "#fdca26"
             ],
             [
              1,
              "#f0f921"
             ]
            ],
            "type": "heatmap"
           }
          ],
          "histogram": [
           {
            "marker": {
             "pattern": {
              "fillmode": "overlay",
              "size": 10,
              "solidity": 0.2
             }
            },
            "type": "histogram"
           }
          ],
          "histogram2d": [
           {
            "colorbar": {
             "outlinewidth": 0,
             "ticks": ""
            },
            "colorscale": [
             [
              0,
              "#0d0887"
             ],
             [
              0.1111111111111111,
              "#46039f"
             ],
             [
              0.2222222222222222,
              "#7201a8"
             ],
             [
              0.3333333333333333,
              "#9c179e"
             ],
             [
              0.4444444444444444,
              "#bd3786"
             ],
             [
              0.5555555555555556,
              "#d8576b"
             ],
             [
              0.6666666666666666,
              "#ed7953"
             ],
             [
              0.7777777777777778,
              "#fb9f3a"
             ],
             [
              0.8888888888888888,
              "#fdca26"
             ],
             [
              1,
              "#f0f921"
             ]
            ],
            "type": "histogram2d"
           }
          ],
          "histogram2dcontour": [
           {
            "colorbar": {
             "outlinewidth": 0,
             "ticks": ""
            },
            "colorscale": [
             [
              0,
              "#0d0887"
             ],
             [
              0.1111111111111111,
              "#46039f"
             ],
             [
              0.2222222222222222,
              "#7201a8"
             ],
             [
              0.3333333333333333,
              "#9c179e"
             ],
             [
              0.4444444444444444,
              "#bd3786"
             ],
             [
              0.5555555555555556,
              "#d8576b"
             ],
             [
              0.6666666666666666,
              "#ed7953"
             ],
             [
              0.7777777777777778,
              "#fb9f3a"
             ],
             [
              0.8888888888888888,
              "#fdca26"
             ],
             [
              1,
              "#f0f921"
             ]
            ],
            "type": "histogram2dcontour"
           }
          ],
          "mesh3d": [
           {
            "colorbar": {
             "outlinewidth": 0,
             "ticks": ""
            },
            "type": "mesh3d"
           }
          ],
          "parcoords": [
           {
            "line": {
             "colorbar": {
              "outlinewidth": 0,
              "ticks": ""
             }
            },
            "type": "parcoords"
           }
          ],
          "pie": [
           {
            "automargin": true,
            "type": "pie"
           }
          ],
          "scatter": [
           {
            "fillpattern": {
             "fillmode": "overlay",
             "size": 10,
             "solidity": 0.2
            },
            "type": "scatter"
           }
          ],
          "scatter3d": [
           {
            "line": {
             "colorbar": {
              "outlinewidth": 0,
              "ticks": ""
             }
            },
            "marker": {
             "colorbar": {
              "outlinewidth": 0,
              "ticks": ""
             }
            },
            "type": "scatter3d"
           }
          ],
          "scattercarpet": [
           {
            "marker": {
             "colorbar": {
              "outlinewidth": 0,
              "ticks": ""
             }
            },
            "type": "scattercarpet"
           }
          ],
          "scattergeo": [
           {
            "marker": {
             "colorbar": {
              "outlinewidth": 0,
              "ticks": ""
             }
            },
            "type": "scattergeo"
           }
          ],
          "scattergl": [
           {
            "marker": {
             "colorbar": {
              "outlinewidth": 0,
              "ticks": ""
             }
            },
            "type": "scattergl"
           }
          ],
          "scattermap": [
           {
            "marker": {
             "colorbar": {
              "outlinewidth": 0,
              "ticks": ""
             }
            },
            "type": "scattermap"
           }
          ],
          "scattermapbox": [
           {
            "marker": {
             "colorbar": {
              "outlinewidth": 0,
              "ticks": ""
             }
            },
            "type": "scattermapbox"
           }
          ],
          "scatterpolar": [
           {
            "marker": {
             "colorbar": {
              "outlinewidth": 0,
              "ticks": ""
             }
            },
            "type": "scatterpolar"
           }
          ],
          "scatterpolargl": [
           {
            "marker": {
             "colorbar": {
              "outlinewidth": 0,
              "ticks": ""
             }
            },
            "type": "scatterpolargl"
           }
          ],
          "scatterternary": [
           {
            "marker": {
             "colorbar": {
              "outlinewidth": 0,
              "ticks": ""
             }
            },
            "type": "scatterternary"
           }
          ],
          "surface": [
           {
            "colorbar": {
             "outlinewidth": 0,
             "ticks": ""
            },
            "colorscale": [
             [
              0,
              "#0d0887"
             ],
             [
              0.1111111111111111,
              "#46039f"
             ],
             [
              0.2222222222222222,
              "#7201a8"
             ],
             [
              0.3333333333333333,
              "#9c179e"
             ],
             [
              0.4444444444444444,
              "#bd3786"
             ],
             [
              0.5555555555555556,
              "#d8576b"
             ],
             [
              0.6666666666666666,
              "#ed7953"
             ],
             [
              0.7777777777777778,
              "#fb9f3a"
             ],
             [
              0.8888888888888888,
              "#fdca26"
             ],
             [
              1,
              "#f0f921"
             ]
            ],
            "type": "surface"
           }
          ],
          "table": [
           {
            "cells": {
             "fill": {
              "color": "#EBF0F8"
             },
             "line": {
              "color": "white"
             }
            },
            "header": {
             "fill": {
              "color": "#C8D4E3"
             },
             "line": {
              "color": "white"
             }
            },
            "type": "table"
           }
          ]
         },
         "layout": {
          "annotationdefaults": {
           "arrowcolor": "#2a3f5f",
           "arrowhead": 0,
           "arrowwidth": 1
          },
          "autotypenumbers": "strict",
          "coloraxis": {
           "colorbar": {
            "outlinewidth": 0,
            "ticks": ""
           }
          },
          "colorscale": {
           "diverging": [
            [
             0,
             "#8e0152"
            ],
            [
             0.1,
             "#c51b7d"
            ],
            [
             0.2,
             "#de77ae"
            ],
            [
             0.3,
             "#f1b6da"
            ],
            [
             0.4,
             "#fde0ef"
            ],
            [
             0.5,
             "#f7f7f7"
            ],
            [
             0.6,
             "#e6f5d0"
            ],
            [
             0.7,
             "#b8e186"
            ],
            [
             0.8,
             "#7fbc41"
            ],
            [
             0.9,
             "#4d9221"
            ],
            [
             1,
             "#276419"
            ]
           ],
           "sequential": [
            [
             0,
             "#0d0887"
            ],
            [
             0.1111111111111111,
             "#46039f"
            ],
            [
             0.2222222222222222,
             "#7201a8"
            ],
            [
             0.3333333333333333,
             "#9c179e"
            ],
            [
             0.4444444444444444,
             "#bd3786"
            ],
            [
             0.5555555555555556,
             "#d8576b"
            ],
            [
             0.6666666666666666,
             "#ed7953"
            ],
            [
             0.7777777777777778,
             "#fb9f3a"
            ],
            [
             0.8888888888888888,
             "#fdca26"
            ],
            [
             1,
             "#f0f921"
            ]
           ],
           "sequentialminus": [
            [
             0,
             "#0d0887"
            ],
            [
             0.1111111111111111,
             "#46039f"
            ],
            [
             0.2222222222222222,
             "#7201a8"
            ],
            [
             0.3333333333333333,
             "#9c179e"
            ],
            [
             0.4444444444444444,
             "#bd3786"
            ],
            [
             0.5555555555555556,
             "#d8576b"
            ],
            [
             0.6666666666666666,
             "#ed7953"
            ],
            [
             0.7777777777777778,
             "#fb9f3a"
            ],
            [
             0.8888888888888888,
             "#fdca26"
            ],
            [
             1,
             "#f0f921"
            ]
           ]
          },
          "colorway": [
           "#636efa",
           "#EF553B",
           "#00cc96",
           "#ab63fa",
           "#FFA15A",
           "#19d3f3",
           "#FF6692",
           "#B6E880",
           "#FF97FF",
           "#FECB52"
          ],
          "font": {
           "color": "#2a3f5f"
          },
          "geo": {
           "bgcolor": "white",
           "lakecolor": "white",
           "landcolor": "#E5ECF6",
           "showlakes": true,
           "showland": true,
           "subunitcolor": "white"
          },
          "hoverlabel": {
           "align": "left"
          },
          "hovermode": "closest",
          "mapbox": {
           "style": "light"
          },
          "paper_bgcolor": "white",
          "plot_bgcolor": "#E5ECF6",
          "polar": {
           "angularaxis": {
            "gridcolor": "white",
            "linecolor": "white",
            "ticks": ""
           },
           "bgcolor": "#E5ECF6",
           "radialaxis": {
            "gridcolor": "white",
            "linecolor": "white",
            "ticks": ""
           }
          },
          "scene": {
           "xaxis": {
            "backgroundcolor": "#E5ECF6",
            "gridcolor": "white",
            "gridwidth": 2,
            "linecolor": "white",
            "showbackground": true,
            "ticks": "",
            "zerolinecolor": "white"
           },
           "yaxis": {
            "backgroundcolor": "#E5ECF6",
            "gridcolor": "white",
            "gridwidth": 2,
            "linecolor": "white",
            "showbackground": true,
            "ticks": "",
            "zerolinecolor": "white"
           },
           "zaxis": {
            "backgroundcolor": "#E5ECF6",
            "gridcolor": "white",
            "gridwidth": 2,
            "linecolor": "white",
            "showbackground": true,
            "ticks": "",
            "zerolinecolor": "white"
           }
          },
          "shapedefaults": {
           "line": {
            "color": "#2a3f5f"
           }
          },
          "ternary": {
           "aaxis": {
            "gridcolor": "white",
            "linecolor": "white",
            "ticks": ""
           },
           "baxis": {
            "gridcolor": "white",
            "linecolor": "white",
            "ticks": ""
           },
           "bgcolor": "#E5ECF6",
           "caxis": {
            "gridcolor": "white",
            "linecolor": "white",
            "ticks": ""
           }
          },
          "title": {
           "x": 0.05
          },
          "xaxis": {
           "automargin": true,
           "gridcolor": "white",
           "linecolor": "white",
           "ticks": "",
           "title": {
            "standoff": 15
           },
           "zerolinecolor": "white",
           "zerolinewidth": 2
          },
          "yaxis": {
           "automargin": true,
           "gridcolor": "white",
           "linecolor": "white",
           "ticks": "",
           "title": {
            "standoff": 15
           },
           "zerolinecolor": "white",
           "zerolinewidth": 2
          }
         }
        }
       }
      }
     },
     "metadata": {},
     "output_type": "display_data"
    }
   ],
   "source": [
    "import plotly.express as px\n",
    "df = px.data.tips()\n",
    "fig = px.sunburst(df, path=['day', 'time', 'sex'], values='total_bill')\n",
    "fig.show()\n"
   ]
  },
  {
   "cell_type": "code",
   "execution_count": 21,
   "id": "9215af83",
   "metadata": {},
   "outputs": [
    {
     "data": {
      "application/vnd.plotly.v1+json": {
       "config": {
        "plotlyServerURL": "https://plot.ly"
       },
       "data": [
        {
         "branchvalues": "total",
         "customdata": [
          [
           "(?)"
          ],
          [
           "(?)"
          ],
          [
           "(?)"
          ],
          [
           "(?)"
          ],
          [
           "(?)"
          ],
          [
           "Dinner"
          ],
          [
           "Dinner"
          ],
          [
           "Dinner"
          ],
          [
           "Dinner"
          ],
          [
           "Dinner"
          ],
          [
           "Dinner"
          ],
          [
           "Dinner"
          ],
          [
           "Dinner"
          ],
          [
           "Dinner"
          ],
          [
           "Dinner"
          ],
          [
           "Dinner"
          ],
          [
           "Lunch"
          ],
          [
           "Lunch"
          ],
          [
           "Lunch"
          ],
          [
           "Lunch"
          ],
          [
           "Lunch"
          ]
         ],
         "domain": {
          "x": [
           0,
           1
          ],
          "y": [
           0,
           1
          ]
         },
         "hovertemplate": "labels=%{label}<br>total_bill=%{value}<br>parent=%{parent}<br>id=%{id}<br>time=%{customdata[0]}<extra></extra>",
         "ids": [
          "Male",
          "Female/Fri",
          "Male/Fri",
          "Female/Thur",
          "Female",
          "Female/Sat",
          "Male/Sat",
          "Male/Sun",
          "Female/Sun",
          "Female/Sun/Dinner",
          "Female/Fri/Dinner",
          "Male/Fri/Dinner",
          "Female/Sat/Dinner",
          "Male/Sat/Dinner",
          "Male/Sun/Dinner",
          "Female/Thur/Dinner",
          "Male/Fri/Lunch",
          "Female/Thur/Lunch",
          "Male/Thur/Lunch",
          "Male/Thur",
          "Female/Fri/Lunch"
         ],
         "labels": [
          "Male",
          "Fri",
          "Fri",
          "Thur",
          "Female",
          "Sat",
          "Sat",
          "Sun",
          "Sun",
          "Dinner",
          "Dinner",
          "Dinner",
          "Dinner",
          "Dinner",
          "Dinner",
          "Dinner",
          "Lunch",
          "Lunch",
          "Lunch",
          "Thur",
          "Lunch"
         ],
         "marker": {
          "colors": [
           "black",
           "black",
           "black",
           "black",
           "black",
           "darkblue",
           "darkblue",
           "darkblue",
           "darkblue",
           "darkblue",
           "darkblue",
           "darkblue",
           "darkblue",
           "darkblue",
           "darkblue",
           "darkblue",
           "gold",
           "gold",
           "gold",
           "gold",
           "gold"
          ]
         },
         "name": "",
         "parents": [
          "",
          "Female",
          "Male",
          "Female",
          "",
          "Female",
          "Male",
          "Male",
          "Female",
          "Female/Sun",
          "Female/Fri",
          "Male/Fri",
          "Female/Sat",
          "Male/Sat",
          "Male/Sun",
          "Female/Thur",
          "Male/Fri",
          "Female/Thur",
          "Male/Thur",
          "Male",
          "Female/Fri"
         ],
         "type": "sunburst",
         "values": {
          "bdata": "cT0K16NxqUCkcD0K19NfQArXo3A90mhAhetRuB63gEDNzMzMzIuYQGZmZmZmOIFAZmZmZmYtk0CkcD0K19WTQDMzMzMzW3ZAMzMzMzNbdkAzMzMzM+NRQIXrUbgejWRAZmZmZmY4gUBmZmZmZi2TQKRwPQrX1ZNASOF6FK7HMkAUrkfhehRBQHsUrkfhIIBA61G4HoWLgUDrUbgehYuBQOJ6FK5H4UtA",
          "dtype": "f8"
         }
        }
       ],
       "layout": {
        "legend": {
         "tracegroupgap": 0
        },
        "margin": {
         "t": 60
        },
        "template": {
         "data": {
          "bar": [
           {
            "error_x": {
             "color": "#2a3f5f"
            },
            "error_y": {
             "color": "#2a3f5f"
            },
            "marker": {
             "line": {
              "color": "#E5ECF6",
              "width": 0.5
             },
             "pattern": {
              "fillmode": "overlay",
              "size": 10,
              "solidity": 0.2
             }
            },
            "type": "bar"
           }
          ],
          "barpolar": [
           {
            "marker": {
             "line": {
              "color": "#E5ECF6",
              "width": 0.5
             },
             "pattern": {
              "fillmode": "overlay",
              "size": 10,
              "solidity": 0.2
             }
            },
            "type": "barpolar"
           }
          ],
          "carpet": [
           {
            "aaxis": {
             "endlinecolor": "#2a3f5f",
             "gridcolor": "white",
             "linecolor": "white",
             "minorgridcolor": "white",
             "startlinecolor": "#2a3f5f"
            },
            "baxis": {
             "endlinecolor": "#2a3f5f",
             "gridcolor": "white",
             "linecolor": "white",
             "minorgridcolor": "white",
             "startlinecolor": "#2a3f5f"
            },
            "type": "carpet"
           }
          ],
          "choropleth": [
           {
            "colorbar": {
             "outlinewidth": 0,
             "ticks": ""
            },
            "type": "choropleth"
           }
          ],
          "contour": [
           {
            "colorbar": {
             "outlinewidth": 0,
             "ticks": ""
            },
            "colorscale": [
             [
              0,
              "#0d0887"
             ],
             [
              0.1111111111111111,
              "#46039f"
             ],
             [
              0.2222222222222222,
              "#7201a8"
             ],
             [
              0.3333333333333333,
              "#9c179e"
             ],
             [
              0.4444444444444444,
              "#bd3786"
             ],
             [
              0.5555555555555556,
              "#d8576b"
             ],
             [
              0.6666666666666666,
              "#ed7953"
             ],
             [
              0.7777777777777778,
              "#fb9f3a"
             ],
             [
              0.8888888888888888,
              "#fdca26"
             ],
             [
              1,
              "#f0f921"
             ]
            ],
            "type": "contour"
           }
          ],
          "contourcarpet": [
           {
            "colorbar": {
             "outlinewidth": 0,
             "ticks": ""
            },
            "type": "contourcarpet"
           }
          ],
          "heatmap": [
           {
            "colorbar": {
             "outlinewidth": 0,
             "ticks": ""
            },
            "colorscale": [
             [
              0,
              "#0d0887"
             ],
             [
              0.1111111111111111,
              "#46039f"
             ],
             [
              0.2222222222222222,
              "#7201a8"
             ],
             [
              0.3333333333333333,
              "#9c179e"
             ],
             [
              0.4444444444444444,
              "#bd3786"
             ],
             [
              0.5555555555555556,
              "#d8576b"
             ],
             [
              0.6666666666666666,
              "#ed7953"
             ],
             [
              0.7777777777777778,
              "#fb9f3a"
             ],
             [
              0.8888888888888888,
              "#fdca26"
             ],
             [
              1,
              "#f0f921"
             ]
            ],
            "type": "heatmap"
           }
          ],
          "histogram": [
           {
            "marker": {
             "pattern": {
              "fillmode": "overlay",
              "size": 10,
              "solidity": 0.2
             }
            },
            "type": "histogram"
           }
          ],
          "histogram2d": [
           {
            "colorbar": {
             "outlinewidth": 0,
             "ticks": ""
            },
            "colorscale": [
             [
              0,
              "#0d0887"
             ],
             [
              0.1111111111111111,
              "#46039f"
             ],
             [
              0.2222222222222222,
              "#7201a8"
             ],
             [
              0.3333333333333333,
              "#9c179e"
             ],
             [
              0.4444444444444444,
              "#bd3786"
             ],
             [
              0.5555555555555556,
              "#d8576b"
             ],
             [
              0.6666666666666666,
              "#ed7953"
             ],
             [
              0.7777777777777778,
              "#fb9f3a"
             ],
             [
              0.8888888888888888,
              "#fdca26"
             ],
             [
              1,
              "#f0f921"
             ]
            ],
            "type": "histogram2d"
           }
          ],
          "histogram2dcontour": [
           {
            "colorbar": {
             "outlinewidth": 0,
             "ticks": ""
            },
            "colorscale": [
             [
              0,
              "#0d0887"
             ],
             [
              0.1111111111111111,
              "#46039f"
             ],
             [
              0.2222222222222222,
              "#7201a8"
             ],
             [
              0.3333333333333333,
              "#9c179e"
             ],
             [
              0.4444444444444444,
              "#bd3786"
             ],
             [
              0.5555555555555556,
              "#d8576b"
             ],
             [
              0.6666666666666666,
              "#ed7953"
             ],
             [
              0.7777777777777778,
              "#fb9f3a"
             ],
             [
              0.8888888888888888,
              "#fdca26"
             ],
             [
              1,
              "#f0f921"
             ]
            ],
            "type": "histogram2dcontour"
           }
          ],
          "mesh3d": [
           {
            "colorbar": {
             "outlinewidth": 0,
             "ticks": ""
            },
            "type": "mesh3d"
           }
          ],
          "parcoords": [
           {
            "line": {
             "colorbar": {
              "outlinewidth": 0,
              "ticks": ""
             }
            },
            "type": "parcoords"
           }
          ],
          "pie": [
           {
            "automargin": true,
            "type": "pie"
           }
          ],
          "scatter": [
           {
            "fillpattern": {
             "fillmode": "overlay",
             "size": 10,
             "solidity": 0.2
            },
            "type": "scatter"
           }
          ],
          "scatter3d": [
           {
            "line": {
             "colorbar": {
              "outlinewidth": 0,
              "ticks": ""
             }
            },
            "marker": {
             "colorbar": {
              "outlinewidth": 0,
              "ticks": ""
             }
            },
            "type": "scatter3d"
           }
          ],
          "scattercarpet": [
           {
            "marker": {
             "colorbar": {
              "outlinewidth": 0,
              "ticks": ""
             }
            },
            "type": "scattercarpet"
           }
          ],
          "scattergeo": [
           {
            "marker": {
             "colorbar": {
              "outlinewidth": 0,
              "ticks": ""
             }
            },
            "type": "scattergeo"
           }
          ],
          "scattergl": [
           {
            "marker": {
             "colorbar": {
              "outlinewidth": 0,
              "ticks": ""
             }
            },
            "type": "scattergl"
           }
          ],
          "scattermap": [
           {
            "marker": {
             "colorbar": {
              "outlinewidth": 0,
              "ticks": ""
             }
            },
            "type": "scattermap"
           }
          ],
          "scattermapbox": [
           {
            "marker": {
             "colorbar": {
              "outlinewidth": 0,
              "ticks": ""
             }
            },
            "type": "scattermapbox"
           }
          ],
          "scatterpolar": [
           {
            "marker": {
             "colorbar": {
              "outlinewidth": 0,
              "ticks": ""
             }
            },
            "type": "scatterpolar"
           }
          ],
          "scatterpolargl": [
           {
            "marker": {
             "colorbar": {
              "outlinewidth": 0,
              "ticks": ""
             }
            },
            "type": "scatterpolargl"
           }
          ],
          "scatterternary": [
           {
            "marker": {
             "colorbar": {
              "outlinewidth": 0,
              "ticks": ""
             }
            },
            "type": "scatterternary"
           }
          ],
          "surface": [
           {
            "colorbar": {
             "outlinewidth": 0,
             "ticks": ""
            },
            "colorscale": [
             [
              0,
              "#0d0887"
             ],
             [
              0.1111111111111111,
              "#46039f"
             ],
             [
              0.2222222222222222,
              "#7201a8"
             ],
             [
              0.3333333333333333,
              "#9c179e"
             ],
             [
              0.4444444444444444,
              "#bd3786"
             ],
             [
              0.5555555555555556,
              "#d8576b"
             ],
             [
              0.6666666666666666,
              "#ed7953"
             ],
             [
              0.7777777777777778,
              "#fb9f3a"
             ],
             [
              0.8888888888888888,
              "#fdca26"
             ],
             [
              1,
              "#f0f921"
             ]
            ],
            "type": "surface"
           }
          ],
          "table": [
           {
            "cells": {
             "fill": {
              "color": "#EBF0F8"
             },
             "line": {
              "color": "white"
             }
            },
            "header": {
             "fill": {
              "color": "#C8D4E3"
             },
             "line": {
              "color": "white"
             }
            },
            "type": "table"
           }
          ]
         },
         "layout": {
          "annotationdefaults": {
           "arrowcolor": "#2a3f5f",
           "arrowhead": 0,
           "arrowwidth": 1
          },
          "autotypenumbers": "strict",
          "coloraxis": {
           "colorbar": {
            "outlinewidth": 0,
            "ticks": ""
           }
          },
          "colorscale": {
           "diverging": [
            [
             0,
             "#8e0152"
            ],
            [
             0.1,
             "#c51b7d"
            ],
            [
             0.2,
             "#de77ae"
            ],
            [
             0.3,
             "#f1b6da"
            ],
            [
             0.4,
             "#fde0ef"
            ],
            [
             0.5,
             "#f7f7f7"
            ],
            [
             0.6,
             "#e6f5d0"
            ],
            [
             0.7,
             "#b8e186"
            ],
            [
             0.8,
             "#7fbc41"
            ],
            [
             0.9,
             "#4d9221"
            ],
            [
             1,
             "#276419"
            ]
           ],
           "sequential": [
            [
             0,
             "#0d0887"
            ],
            [
             0.1111111111111111,
             "#46039f"
            ],
            [
             0.2222222222222222,
             "#7201a8"
            ],
            [
             0.3333333333333333,
             "#9c179e"
            ],
            [
             0.4444444444444444,
             "#bd3786"
            ],
            [
             0.5555555555555556,
             "#d8576b"
            ],
            [
             0.6666666666666666,
             "#ed7953"
            ],
            [
             0.7777777777777778,
             "#fb9f3a"
            ],
            [
             0.8888888888888888,
             "#fdca26"
            ],
            [
             1,
             "#f0f921"
            ]
           ],
           "sequentialminus": [
            [
             0,
             "#0d0887"
            ],
            [
             0.1111111111111111,
             "#46039f"
            ],
            [
             0.2222222222222222,
             "#7201a8"
            ],
            [
             0.3333333333333333,
             "#9c179e"
            ],
            [
             0.4444444444444444,
             "#bd3786"
            ],
            [
             0.5555555555555556,
             "#d8576b"
            ],
            [
             0.6666666666666666,
             "#ed7953"
            ],
            [
             0.7777777777777778,
             "#fb9f3a"
            ],
            [
             0.8888888888888888,
             "#fdca26"
            ],
            [
             1,
             "#f0f921"
            ]
           ]
          },
          "colorway": [
           "#636efa",
           "#EF553B",
           "#00cc96",
           "#ab63fa",
           "#FFA15A",
           "#19d3f3",
           "#FF6692",
           "#B6E880",
           "#FF97FF",
           "#FECB52"
          ],
          "font": {
           "color": "#2a3f5f"
          },
          "geo": {
           "bgcolor": "white",
           "lakecolor": "white",
           "landcolor": "#E5ECF6",
           "showlakes": true,
           "showland": true,
           "subunitcolor": "white"
          },
          "hoverlabel": {
           "align": "left"
          },
          "hovermode": "closest",
          "mapbox": {
           "style": "light"
          },
          "paper_bgcolor": "white",
          "plot_bgcolor": "#E5ECF6",
          "polar": {
           "angularaxis": {
            "gridcolor": "white",
            "linecolor": "white",
            "ticks": ""
           },
           "bgcolor": "#E5ECF6",
           "radialaxis": {
            "gridcolor": "white",
            "linecolor": "white",
            "ticks": ""
           }
          },
          "scene": {
           "xaxis": {
            "backgroundcolor": "#E5ECF6",
            "gridcolor": "white",
            "gridwidth": 2,
            "linecolor": "white",
            "showbackground": true,
            "ticks": "",
            "zerolinecolor": "white"
           },
           "yaxis": {
            "backgroundcolor": "#E5ECF6",
            "gridcolor": "white",
            "gridwidth": 2,
            "linecolor": "white",
            "showbackground": true,
            "ticks": "",
            "zerolinecolor": "white"
           },
           "zaxis": {
            "backgroundcolor": "#E5ECF6",
            "gridcolor": "white",
            "gridwidth": 2,
            "linecolor": "white",
            "showbackground": true,
            "ticks": "",
            "zerolinecolor": "white"
           }
          },
          "shapedefaults": {
           "line": {
            "color": "#2a3f5f"
           }
          },
          "ternary": {
           "aaxis": {
            "gridcolor": "white",
            "linecolor": "white",
            "ticks": ""
           },
           "baxis": {
            "gridcolor": "white",
            "linecolor": "white",
            "ticks": ""
           },
           "bgcolor": "#E5ECF6",
           "caxis": {
            "gridcolor": "white",
            "linecolor": "white",
            "ticks": ""
           }
          },
          "title": {
           "x": 0.05
          },
          "xaxis": {
           "automargin": true,
           "gridcolor": "white",
           "linecolor": "white",
           "ticks": "",
           "title": {
            "standoff": 15
           },
           "zerolinecolor": "white",
           "zerolinewidth": 2
          },
          "yaxis": {
           "automargin": true,
           "gridcolor": "white",
           "linecolor": "white",
           "ticks": "",
           "title": {
            "standoff": 15
           },
           "zerolinecolor": "white",
           "zerolinewidth": 2
          }
         }
        }
       }
      }
     },
     "metadata": {},
     "output_type": "display_data"
    }
   ],
   "source": [
    "import plotly.express as px\n",
    "df = px.data.tips()\n",
    "fig = px.sunburst(df, path=['sex', 'day', 'time'], values='total_bill', color='time',\n",
    "                  color_discrete_map={'(?)':'black', 'Lunch':'gold', 'Dinner':'darkblue'})\n",
    "fig.show()\n"
   ]
  },
  {
   "cell_type": "code",
   "execution_count": null,
   "id": "090ad428",
   "metadata": {},
   "outputs": [],
   "source": []
  },
  {
   "cell_type": "code",
   "execution_count": null,
   "id": "439761aa",
   "metadata": {},
   "outputs": [],
   "source": []
  },
  {
   "cell_type": "code",
   "execution_count": null,
   "id": "14c456e6",
   "metadata": {},
   "outputs": [],
   "source": []
  },
  {
   "cell_type": "code",
   "execution_count": null,
   "id": "a582ee2f",
   "metadata": {},
   "outputs": [],
   "source": []
  },
  {
   "cell_type": "code",
   "execution_count": null,
   "id": "559b8d3f",
   "metadata": {},
   "outputs": [],
   "source": []
  },
  {
   "cell_type": "code",
   "execution_count": null,
   "id": "a29c60cf",
   "metadata": {},
   "outputs": [],
   "source": []
  },
  {
   "cell_type": "code",
   "execution_count": null,
   "id": "a1a47bd3",
   "metadata": {},
   "outputs": [],
   "source": []
  },
  {
   "cell_type": "code",
   "execution_count": null,
   "id": "8ac39eec",
   "metadata": {},
   "outputs": [],
   "source": []
  },
  {
   "cell_type": "code",
   "execution_count": null,
   "id": "324170ac",
   "metadata": {},
   "outputs": [],
   "source": []
  }
 ],
 "metadata": {
  "kernelspec": {
   "display_name": "base",
   "language": "python",
   "name": "python3"
  },
  "language_info": {
   "codemirror_mode": {
    "name": "ipython",
    "version": 3
   },
   "file_extension": ".py",
   "mimetype": "text/x-python",
   "name": "python",
   "nbconvert_exporter": "python",
   "pygments_lexer": "ipython3",
   "version": "3.13.2"
  }
 },
 "nbformat": 4,
 "nbformat_minor": 5
}
