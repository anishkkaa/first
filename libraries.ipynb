{
 "cells": [
  {
   "cell_type": "code",
   "execution_count": 1,
   "id": "2c7a1967",
   "metadata": {},
   "outputs": [],
   "source": [
    "import math"
   ]
  },
  {
   "cell_type": "code",
   "execution_count": 3,
   "id": "64b456d8",
   "metadata": {},
   "outputs": [
    {
     "name": "stdout",
     "output_type": "stream",
     "text": [
      "120\n",
      "4.0\n",
      "12\n",
      "2\n",
      "3.141592653589793\n",
      "0.0\n",
      "0.8414709848078965\n"
     ]
    }
   ],
   "source": [
    "print(math.factorial(5))\n",
    "print(math.sqrt(16))\n",
    "print(math.lcm(2,4,3))\n",
    "print(math.gcd(2,4))\n",
    "print(math.pi)\n",
    "print(math.log(1))\n",
    "print(math.sin(1))\n"
   ]
  },
  {
   "cell_type": "code",
   "execution_count": 4,
   "id": "8958d20d",
   "metadata": {},
   "outputs": [],
   "source": [
    "from random import random, randint, choice, shuffle"
   ]
  },
  {
   "cell_type": "code",
   "execution_count": 5,
   "id": "1b849626",
   "metadata": {},
   "outputs": [
    {
     "name": "stdout",
     "output_type": "stream",
     "text": [
      "get a random number between 0 and 1: 0.4306755570899159\n",
      "get a random number between 1 and 100: 35\n",
      "Select a random element from a list: 3\n",
      "shuffled list : ['Jill', 'Jack', 'John', 'Jane']\n"
     ]
    }
   ],
   "source": [
    "print ('get a random number between 0 and 1:', random())\n",
    "print ('get a random number between 1 and 100:', randint(1,100))\n",
    "print ('Select a random element from a list:', choice([1,2,3,4,5,6,7,8,9,10]))\n",
    "names = ['John','Jane','Jack','Jill']\n",
    "shuffle(names)\n",
    "print('shuffled list :',names)"
   ]
  },
  {
   "cell_type": "code",
   "execution_count": 6,
   "id": "60d562ab",
   "metadata": {},
   "outputs": [],
   "source": [
    "from datetime import datetime as dt"
   ]
  },
  {
   "cell_type": "code",
   "execution_count": 7,
   "id": "6c941170",
   "metadata": {},
   "outputs": [
    {
     "name": "stdout",
     "output_type": "stream",
     "text": [
      "current Date and Time : 2025-07-03 10:40:54.227674\n"
     ]
    }
   ],
   "source": [
    "print ('current Date and Time :',dt.now())"
   ]
  },
  {
   "cell_type": "code",
   "execution_count": 8,
   "id": "6b1dbf9b",
   "metadata": {},
   "outputs": [
    {
     "name": "stdout",
     "output_type": "stream",
     "text": [
      "Current Date : 2025-07-03\n",
      "Current Time : 10:49:10.157800\n"
     ]
    }
   ],
   "source": [
    "print('Current Date :', dt.now().date())\n",
    "print('Current Time :', dt.now().time())"
   ]
  },
  {
   "cell_type": "code",
   "execution_count": 10,
   "id": "4c6f83b4",
   "metadata": {},
   "outputs": [
    {
     "name": "stdout",
     "output_type": "stream",
     "text": [
      "Current year : 2025\n",
      "Current month : 7\n",
      "Current Date : 3\n",
      "Current hour : 10\n",
      "Current minute : 53\n",
      "Current second : 24\n",
      "Current weekday : 3\n"
     ]
    }
   ],
   "source": [
    "\n",
    "print('Current year :', dt.now().year)\n",
    "print('Current month :', dt.now().month)\n",
    "print('Current Date :', dt.now().day)\n",
    "print('Current hour :', dt.now().hour)\n",
    "print('Current minute :', dt.now().minute)\n",
    "print('Current second :', dt.now().second)\n",
    "print('Current weekday :',dt.now().weekday())"
   ]
  },
  {
   "cell_type": "code",
   "execution_count": 12,
   "id": "04ef5d00",
   "metadata": {},
   "outputs": [
    {
     "name": "stdout",
     "output_type": "stream",
     "text": [
      "03 / 07 /25 \n"
     ]
    }
   ],
   "source": [
    "date = dt.strftime(dt.now(), '%d / %m /%y ')\n",
    "print(date)"
   ]
  },
  {
   "cell_type": "code",
   "execution_count": 13,
   "id": "3f100a33",
   "metadata": {},
   "outputs": [
    {
     "name": "stdout",
     "output_type": "stream",
     "text": [
      "10 : 58 : 44\n"
     ]
    }
   ],
   "source": [
    "time = dt.strftime(dt.now(), '%H : %M : %S')\n",
    "print(time)"
   ]
  },
  {
   "cell_type": "code",
   "execution_count": null,
   "id": "e68131c5",
   "metadata": {},
   "outputs": [],
   "source": []
  },
  {
   "cell_type": "code",
   "execution_count": null,
   "id": "34fc54fa",
   "metadata": {},
   "outputs": [],
   "source": []
  },
  {
   "cell_type": "code",
   "execution_count": null,
   "id": "9988ac7c",
   "metadata": {},
   "outputs": [],
   "source": []
  },
  {
   "cell_type": "code",
   "execution_count": null,
   "id": "a6551979",
   "metadata": {},
   "outputs": [],
   "source": []
  },
  {
   "cell_type": "code",
   "execution_count": null,
   "id": "e6dc969b",
   "metadata": {},
   "outputs": [],
   "source": []
  },
  {
   "cell_type": "code",
   "execution_count": null,
   "id": "e865e84f",
   "metadata": {},
   "outputs": [],
   "source": []
  },
  {
   "cell_type": "code",
   "execution_count": null,
   "id": "c57acf65",
   "metadata": {},
   "outputs": [],
   "source": []
  },
  {
   "cell_type": "code",
   "execution_count": null,
   "id": "987649f2",
   "metadata": {},
   "outputs": [],
   "source": []
  }
 ],
 "metadata": {
  "kernelspec": {
   "display_name": "base",
   "language": "python",
   "name": "python3"
  },
  "language_info": {
   "codemirror_mode": {
    "name": "ipython",
    "version": 3
   },
   "file_extension": ".py",
   "mimetype": "text/x-python",
   "name": "python",
   "nbconvert_exporter": "python",
   "pygments_lexer": "ipython3",
   "version": "3.13.2"
  }
 },
 "nbformat": 4,
 "nbformat_minor": 5
}
