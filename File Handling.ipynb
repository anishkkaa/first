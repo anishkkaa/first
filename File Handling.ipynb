{
 "cells": [
  {
   "cell_type": "code",
   "execution_count": 1,
   "id": "c52ef614",
   "metadata": {},
   "outputs": [],
   "source": [
    "import os"
   ]
  },
  {
   "cell_type": "code",
   "execution_count": 2,
   "id": "192c97d7",
   "metadata": {},
   "outputs": [
    {
     "name": "stdout",
     "output_type": "stream",
     "text": [
      "Current Working Directly is : c:\\Users\\anamika\\OneDrive\\Desktop\\first\n"
     ]
    }
   ],
   "source": [
    "print('Current Working Directly is :', os.getcwd())"
   ]
  },
  {
   "cell_type": "code",
   "execution_count": 3,
   "id": "00b39cbb",
   "metadata": {},
   "outputs": [
    {
     "name": "stdout",
     "output_type": "stream",
     "text": [
      "Files in current working directory ['.git', 'basic.ipynb', 'conditon.ipynb', 'Data Structures', 'datatypes.ipynb', 'File Handling.ipynb', 'function.ipynb', 'functions.ipynb', 'libraries.ipynb', 'loops.ipynb', 'operators.ipynb']\n"
     ]
    }
   ],
   "source": [
    "files = os.listdir()\n",
    "print('Files in current working directory',files)"
   ]
  },
  {
   "cell_type": "code",
   "execution_count": 4,
   "id": "0ccf98c9",
   "metadata": {},
   "outputs": [
    {
     "name": "stdout",
     "output_type": "stream",
     "text": [
      "Files in specified directory : ['pathology']\n",
      "Number of files in specified directory : 1\n"
     ]
    }
   ],
   "source": [
    "files = os.listdir(r\"C:\\Users\\anamika\\OneDrive\\Desktop\\BCAFinalProject\")\n",
    "print('Files in specified directory :',files)\n",
    "print('Number of files in specified directory :',len (files))"
   ]
  },
  {
   "cell_type": "code",
   "execution_count": 10,
   "id": "c220161c",
   "metadata": {},
   "outputs": [
    {
     "name": "stdout",
     "output_type": "stream",
     "text": [
      "=> C:\\Users\\anamika\\OneDrive\\Desktop\\BCAFinalProject\n",
      "📁 ['pathology']\n",
      "🗄️ []\n",
      "=> C:\\Users\\anamika\\OneDrive\\Desktop\\BCAFinalProject\\pathology\n",
      "📁 ['media', 'pathology', 'path_app']\n",
      "🗄️ ['db.sqlite3', 'manage.py']\n",
      "=> C:\\Users\\anamika\\OneDrive\\Desktop\\BCAFinalProject\\pathology\\media\n",
      "📁 ['path_app', 'pdfs_reports']\n",
      "🗄️ []\n",
      "=> C:\\Users\\anamika\\OneDrive\\Desktop\\BCAFinalProject\\pathology\\media\\path_app\n",
      "📁 ['test']\n",
      "🗄️ []\n",
      "=> C:\\Users\\anamika\\OneDrive\\Desktop\\BCAFinalProject\\pathology\\media\\path_app\\test\n",
      "📁 []\n",
      "🗄️ ['8-serious-health-conditions-that-eye-tests-can-detect.png', 'genetic-testing.jpeg', 'kidney-function-test.png', 'Liver-Function-Tests.jpg', 'pathology-blood-test.jpeg', 'thyroid1.jpg']\n",
      "=> C:\\Users\\anamika\\OneDrive\\Desktop\\BCAFinalProject\\pathology\\media\\pdfs_reports\n",
      "📁 []\n",
      "🗄️ ['INCOME.jpg', 'New_Doc_08-29-2024_09.34.pdf', 'pathology3.jpg', 'post_anushka.pdf', 'reportttt.jpg', 'reportttt_2GVfGnp.jpg']\n",
      "=> C:\\Users\\anamika\\OneDrive\\Desktop\\BCAFinalProject\\pathology\\pathology\n",
      "📁 ['__pycache__']\n",
      "🗄️ ['asgi.py', 'settings.py', 'urls.py', 'wsgi.py', '__init__.py']\n",
      "=> C:\\Users\\anamika\\OneDrive\\Desktop\\BCAFinalProject\\pathology\\pathology\\__pycache__\n",
      "📁 []\n",
      "🗄️ ['settings.cpython-312.pyc', 'urls.cpython-312.pyc', 'wsgi.cpython-312.pyc', '__init__.cpython-312.pyc']\n",
      "=> C:\\Users\\anamika\\OneDrive\\Desktop\\BCAFinalProject\\pathology\\path_app\n",
      "📁 ['migrations', 'static', 'templates', '__pycache__']\n",
      "🗄️ ['admin.py', 'apps.py', 'models.py', 'patient_view.py', 'tests.py', 'urls.py', 'views.py', '__init__.py']\n",
      "=> C:\\Users\\anamika\\OneDrive\\Desktop\\BCAFinalProject\\pathology\\path_app\\migrations\n",
      "📁 ['__pycache__']\n",
      "🗄️ ['0001_initial.py', '0002_test.py', '0003_notice.py', '0004_feedback.py', '0005_technician.py', '0006_patient.py', '0007_remove_patient_gender.py', '0008_appointment.py', '0009_rename_patient_phone_appointment_patient_email.py', '0010_alter_appointment_patient_email.py', '0011_test_image.py', '0012_report.py', '0013_delete_report_and_more.py', '0014_appointment_test_type_alter_appointment_report.py', '0015_alter_appointment_report.py', '__init__.py']\n",
      "=> C:\\Users\\anamika\\OneDrive\\Desktop\\BCAFinalProject\\pathology\\path_app\\migrations\\__pycache__\n",
      "📁 []\n",
      "🗄️ ['0001_initial.cpython-312.pyc', '0002_test.cpython-312.pyc', '0003_notice.cpython-312.pyc', '0004_feedback.cpython-312.pyc', '0005_technician.cpython-312.pyc', '0006_patient.cpython-312.pyc', '0007_remove_patient_gender.cpython-312.pyc', '0008_appointment.cpython-312.pyc', '0009_rename_patient_phone_appointment_patient_email.cpython-312.pyc', '0010_alter_appointment_patient_email.cpython-312.pyc', '0011_test_image.cpython-312.pyc', '0012_report.cpython-312.pyc', '0013_delete_report_and_more.cpython-312.pyc', '0014_appointment_test_type_alter_appointment_report.cpython-312.pyc', '0015_alter_appointment_report.cpython-312.pyc', '__init__.cpython-312.pyc']\n",
      "=> C:\\Users\\anamika\\OneDrive\\Desktop\\BCAFinalProject\\pathology\\path_app\\static\n",
      "📁 ['path_app']\n",
      "🗄️ []\n",
      "=> C:\\Users\\anamika\\OneDrive\\Desktop\\BCAFinalProject\\pathology\\path_app\\static\\path_app\n",
      "📁 ['css', 'images']\n",
      "🗄️ []\n",
      "=> C:\\Users\\anamika\\OneDrive\\Desktop\\BCAFinalProject\\pathology\\path_app\\static\\path_app\\css\n",
      "📁 []\n",
      "🗄️ []\n",
      "=> C:\\Users\\anamika\\OneDrive\\Desktop\\BCAFinalProject\\pathology\\path_app\\static\\path_app\\images\n",
      "📁 []\n",
      "🗄️ ['1.jpg', '2.jpg', '3.jpg', 'ambulance.png', 'login.jpg', 'profile.png', 'samples.jpeg']\n",
      "=> C:\\Users\\anamika\\OneDrive\\Desktop\\BCAFinalProject\\pathology\\path_app\\templates\n",
      "📁 ['path_app']\n",
      "🗄️ []\n",
      "=> C:\\Users\\anamika\\OneDrive\\Desktop\\BCAFinalProject\\pathology\\path_app\\templates\\path_app\n",
      "📁 ['html', 'patient']\n",
      "🗄️ []\n",
      "=> C:\\Users\\anamika\\OneDrive\\Desktop\\BCAFinalProject\\pathology\\path_app\\templates\\path_app\\html\n",
      "📁 []\n",
      "🗄️ ['about_us.html', 'common_css.html', 'contact.html', 'facilities.html', 'header.html', 'index.html', 'test.html']\n",
      "=> C:\\Users\\anamika\\OneDrive\\Desktop\\BCAFinalProject\\pathology\\path_app\\templates\\path_app\\patient\n",
      "📁 []\n",
      "🗄️ ['book_appointment.html', 'feedback.html', 'p_header.html', 'p_home.html', 'p_login.html', 'p_registration.html', 'report.html', 'view_appointment.html']\n",
      "=> C:\\Users\\anamika\\OneDrive\\Desktop\\BCAFinalProject\\pathology\\path_app\\__pycache__\n",
      "📁 []\n",
      "🗄️ ['admin.cpython-312.pyc', 'apps.cpython-312.pyc', 'models.cpython-312.pyc', 'patient_view.cpython-312.pyc', 'urls.cpython-312.pyc', 'views.cpython-312.pyc', '__init__.cpython-312.pyc']\n",
      "Total Files in directory tree : 92\n"
     ]
    }
   ],
   "source": [
    "total_files = 0\n",
    "for path, folder, files in os.walk(r\"C:\\Users\\anamika\\OneDrive\\Desktop\\BCAFinalProject\"):\n",
    "    print('=>', path)\n",
    "    print('📁', folder)\n",
    "    print('🗄️', files)\n",
    "    total_files += len(files)\n",
    "print('Total Files in directory tree :', total_files)    "
   ]
  },
  {
   "cell_type": "code",
   "execution_count": 17,
   "id": "79558537",
   "metadata": {},
   "outputs": [
    {
     "name": "stdout",
     "output_type": "stream",
     "text": [
      "The File exists\n"
     ]
    }
   ],
   "source": [
    "Files = r\"C:\\Users\\anamika\\OneDrive\\Desktop\\BCAFinalProject\"\n",
    "if os.path.exists(Files):\n",
    "   print(\"The File exists\")\n",
    "else:\n",
    "   print(\"The file dows not exists\")"
   ]
  }
 ],
 "metadata": {
  "kernelspec": {
   "display_name": "base",
   "language": "python",
   "name": "python3"
  },
  "language_info": {
   "codemirror_mode": {
    "name": "ipython",
    "version": 3
   },
   "file_extension": ".py",
   "mimetype": "text/x-python",
   "name": "python",
   "nbconvert_exporter": "python",
   "pygments_lexer": "ipython3",
   "version": "3.13.2"
  }
 },
 "nbformat": 4,
 "nbformat_minor": 5
}
