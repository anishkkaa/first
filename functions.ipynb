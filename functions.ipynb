{
 "cells": [
  {
   "cell_type": "markdown",
   "id": "73d42d6b",
   "metadata": {},
   "source": [
    "*functions Types\n",
    ". User defined\n",
    ". Built -in \n",
    "*User defined types\n",
    ".Parametrized \n",
    ".Non- Parametrized \n",
    ".Return \n",
    ".Non- Return\n",
    "*Built - in\n",
    ".Default\n",
    ".Parametrized \n",
    ".Lambda "
   ]
  },
  {
   "cell_type": "code",
   "execution_count": null,
   "id": "a2c4a39e",
   "metadata": {},
   "outputs": [],
   "source": [
    "#non parametrized function\n",
    "def greet():#fuction initialization\n",
    "    print(\"Hello , Good Morning\")\n",
    "    print(\"How are you\")\n",
    "    print(\"i am good, Thank you\")"
   ]
  },
  {
   "cell_type": "code",
   "execution_count": 2,
   "id": "153ebf64",
   "metadata": {},
   "outputs": [
    {
     "name": "stdout",
     "output_type": "stream",
     "text": [
      "Hello , Good Morning\n",
      "How are you\n",
      "i am good, Thank you\n"
     ]
    }
   ],
   "source": [
    "#fuction calling\n",
    "greet()"
   ]
  },
  {
   "cell_type": "code",
   "execution_count": 4,
   "id": "7829095e",
   "metadata": {},
   "outputs": [
    {
     "name": "stdout",
     "output_type": "stream",
     "text": [
      "Hello , Good Morning\n",
      "How are you\n",
      "i am good, Thank you\n"
     ]
    }
   ],
   "source": [
    "greet()"
   ]
  },
  {
   "cell_type": "code",
   "execution_count": 5,
   "id": "e530e262",
   "metadata": {},
   "outputs": [
    {
     "name": "stdout",
     "output_type": "stream",
     "text": [
      "60\n"
     ]
    }
   ],
   "source": [
    "#parametrized functions\n",
    "def add(a,b,c):\n",
    "    print(a+b+c)\n",
    "\n",
    "add(10,20,30)#arguements    "
   ]
  },
  {
   "cell_type": "code",
   "execution_count": null,
   "id": "4a4b3bc8",
   "metadata": {},
   "outputs": [
    {
     "name": "stdout",
     "output_type": "stream",
     "text": [
      "10 20 30 40 50\n"
     ]
    }
   ],
   "source": [
    "#finding average\n",
    "def average(a,b,c,d,e):\n",
    "    print(a,b,c,d,e)\n",
    "\n",
    "average(10,20,30,40,50)    "
   ]
  },
  {
   "cell_type": "code",
   "execution_count": 10,
   "id": "ddfc5c2c",
   "metadata": {},
   "outputs": [
    {
     "name": "stdout",
     "output_type": "stream",
     "text": [
      "odd\n"
     ]
    }
   ],
   "source": [
    "#check whether functions is even or odd\n",
    "def eve_odd(num):\n",
    "    if num%2==0:\n",
    "        print(\"even\")\n",
    "    else:\n",
    "        print(\"odd\")\n",
    "\n",
    "result = int(input(\"Enter a number\"))\n",
    "eve_odd(result)\n"
   ]
  },
  {
   "cell_type": "code",
   "execution_count": 11,
   "id": "224aeb83",
   "metadata": {},
   "outputs": [
    {
     "name": "stdout",
     "output_type": "stream",
     "text": [
      "Alex\n"
     ]
    }
   ],
   "source": [
    "#example of return or non- return\n",
    "name= \"Alex\"\n",
    "print(name)"
   ]
  },
  {
   "cell_type": "code",
   "execution_count": 12,
   "id": "7f2fe00a",
   "metadata": {},
   "outputs": [
    {
     "name": "stdout",
     "output_type": "stream",
     "text": [
      "200\n"
     ]
    }
   ],
   "source": [
    "#non returned functions\n",
    "def mul(a,b):\n",
    "    print(a*b)\n",
    "\n",
    "mul(10,20)    "
   ]
  },
  {
   "cell_type": "code",
   "execution_count": 14,
   "id": "4499b90b",
   "metadata": {},
   "outputs": [
    {
     "name": "stdout",
     "output_type": "stream",
     "text": [
      "200\n"
     ]
    }
   ],
   "source": [
    "#returned functions\n",
    "def mul(a,b):\n",
    "    return a*b\n",
    "\n",
    "a= mul(10,20) \n",
    "print(a)"
   ]
  },
  {
   "cell_type": "code",
   "execution_count": null,
   "metadata": {},
   "outputs": [
    {
     "name": "stdout",
     "output_type": "stream",
     "text": [
      " I LOVE USA\n",
      " I LOVE America\n",
      " I LOVE India\n"
     ]
    }
   ],
   "source": [
    "#default parametrized function\n",
    "def my_country(name= \"India\"):\n",
    "    return f\" I LOVE {name}\"\n",
    "\n",
    "print(my_country(\"USA\"))\n",
    "print(my_country(\"America\"))\n",
    "print(my_country())\n",
    "\n",
    "\n",
    "\n",
    "\n",
    "\n",
    "\n",
    "\n",
    "\n",
    "\n",
    "\n",
    "\n",
    "\n",
    "\n",
    "\n",
    "\n",
    "\n",
    "\n",
    "\n",
    "\n",
    "\n",
    "\n",
    "\n",
    "\n",
    "\n",
    "\n",
    "\n",
    "\n",
    "\n",
    "\n",
    "\n",
    "\n",
    "\n",
    "\n",
    "\n",
    "\n",
    "\n",
    "\n",
    "\n",
    "\n",
    "\n",
    "\n",
    "\n",
    "\n",
    "\n",
    "\n",
    "\n",
    "\n",
    "\n",
    "\n",
    "\n",
    "\n",
    "\n",
    "\n",
    "\n",
    "\n",
    "\n",
    "\n",
    "\n",
    "\n",
    "\n",
    "\n",
    "\n",
    "\n",
    "\n",
    "\n",
    "\n",
    "\n",
    "\n",
    "\n",
    "\n",
    "\n",
    "\n",
    "\n",
    "\n",
    "\n",
    "\n",
    "\n",
    "\n",
    "\n",
    "\n",
    "\n",
    "\n",
    "\n",
    "\n",
    "\n",
    "\n",
    "\n",
    "\n",
    "\n",
    "\n",
    "\n",
    "\n",
    "\n",
    "\n",
    "\n",
    "\n",
    "\n",
    "\n",
    "\n",
    "\n",
    "\n",
    "\n",
    "\n",
    "\n",
    "\n",
    "\n",
    "\n",
    "\n",
    "\n",
    "\n",
    "\n",
    "\n",
    "\n",
    "\n",
    "\n",
    "\n",
    "\n",
    "\n",
    "\n",
    "\n",
    "\n",
    "\n",
    "\n",
    "\n",
    "\n",
    "\n",
    "\n",
    "\n",
    "\n",
    "\n",
    "\n",
    "\n"
   ]
  }
 ],
 "metadata": {
  "kernelspec": {
   "display_name": "base",
   "language": "python",
   "name": "python3"
  },
  "language_info": {
   "codemirror_mode": {
    "name": "ipython",
    "version": 3
   },
   "file_extension": ".py",
   "mimetype": "text/x-python",
   "name": "python",
   "nbconvert_exporter": "python",
   "pygments_lexer": "ipython3",
   "version": "3.13.2"
  }
 },
 "nbformat": 4,
 "nbformat_minor": 5
}
