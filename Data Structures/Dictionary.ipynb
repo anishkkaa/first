{
 "cells": [
  {
   "cell_type": "code",
   "execution_count": 1,
   "id": "07af3d28",
   "metadata": {},
   "outputs": [
    {
     "name": "stdout",
     "output_type": "stream",
     "text": [
      "{'name': 'John Doe', 'age': 20, 'class': 'bca', 'marks': 90}\n"
     ]
    }
   ],
   "source": [
    "students = {\n",
    "    'name' : 'John Doe',\n",
    "    'age' : 20,\n",
    "    'class' : input('Enter your class: '),\n",
    "    'marks' : 90\n",
    "}\n",
    "print(students)"
   ]
  },
  {
   "cell_type": "code",
   "execution_count": 2,
   "id": "5bc4b25e",
   "metadata": {},
   "outputs": [
    {
     "name": "stdout",
     "output_type": "stream",
     "text": [
      "{'lucknow': [32, 28, 40], 'delhi': [45, 35, 29], 'chennai': [30, 25, 28]}\n"
     ]
    }
   ],
   "source": [
    "temp = {\n",
    "    'lucknow' : [32,28,40],\n",
    "    'delhi' : [45,35,29],\n",
    "    'chennai' : [30,25,28]\n",
    "}\n",
    "print(temp)"
   ]
  },
  {
   "cell_type": "code",
   "execution_count": 3,
   "id": "606b9ba2",
   "metadata": {},
   "outputs": [
    {
     "name": "stdout",
     "output_type": "stream",
     "text": [
      "{'name': 'John Doe', 'age': 20, 'course': 'Python', 'marks': 90}\n"
     ]
    }
   ],
   "source": [
    "info = dict(name='John Doe', age=20, course='Python', marks=90)\n",
    "print(info)"
   ]
  },
  {
   "cell_type": "code",
   "execution_count": 4,
   "id": "b4c2698e",
   "metadata": {},
   "outputs": [
    {
     "name": "stdout",
     "output_type": "stream",
     "text": [
      "{'name': 'Anishka srivastava', 'age': 20, 'course': 'Python', 'marks': 90}\n"
     ]
    }
   ],
   "source": [
    "info2 = dict(name=input(\"Enter your name:\"), age=20, course='Python', marks=90)\n",
    "print(info2)"
   ]
  },
  {
   "cell_type": "code",
   "execution_count": 5,
   "id": "be686f37",
   "metadata": {},
   "outputs": [
    {
     "name": "stdout",
     "output_type": "stream",
     "text": [
      "John Doe\n"
     ]
    }
   ],
   "source": [
    "#1st method to acces value using its key\n",
    "print(info['name'])"
   ]
  },
  {
   "cell_type": "code",
   "execution_count": 6,
   "id": "90cedfba",
   "metadata": {},
   "outputs": [
    {
     "name": "stdout",
     "output_type": "stream",
     "text": [
      "20\n"
     ]
    }
   ],
   "source": [
    "#2nd method to acces value using its key\n",
    "print(info.get('age'))\n"
   ]
  },
  {
   "cell_type": "code",
   "execution_count": 7,
   "id": "ba7aed5c",
   "metadata": {},
   "outputs": [
    {
     "name": "stdout",
     "output_type": "stream",
     "text": [
      "{'name': 'John Doe', 'age': 20, 'class': 'bca', 'marks': 90, 'city': 'Lucknow'}\n"
     ]
    }
   ],
   "source": [
    "#to add a new pair in the dictionary\n",
    "students['city'] = 'Lucknow'\n",
    "print(students)"
   ]
  },
  {
   "cell_type": "code",
   "execution_count": 8,
   "id": "dea2dd04",
   "metadata": {},
   "outputs": [
    {
     "name": "stdout",
     "output_type": "stream",
     "text": [
      "dict_keys(['name', 'age', 'class', 'marks', 'city'])\n",
      "dict_values(['John Doe', 20, 'bca', 90, 'Lucknow'])\n",
      "dict_items([('name', 'John Doe'), ('age', 20), ('class', 'bca'), ('marks', 90), ('city', 'Lucknow')])\n"
     ]
    }
   ],
   "source": [
    "print(students.keys())\n",
    "print(students.values())\n",
    "print(students.items())"
   ]
  },
  {
   "cell_type": "code",
   "execution_count": 9,
   "id": "23c6d16a",
   "metadata": {},
   "outputs": [
    {
     "name": "stdout",
     "output_type": "stream",
     "text": [
      "name John Doe\n",
      "age 20\n",
      "class bca\n",
      "marks 90\n",
      "city Lucknow\n"
     ]
    }
   ],
   "source": [
    "for k,v in students.items():\n",
    "    print(k,v)"
   ]
  },
  {
   "cell_type": "code",
   "execution_count": 10,
   "metadata": {},
   "outputs": [
    {
     "name": "stdout",
     "output_type": "stream",
     "text": [
      "name : John Doe\n",
      "age : 20\n",
      "class : bca\n",
      "marks : 90\n",
      "city : Lucknow\n"
     ]
    }
   ],
   "source": [
    "for k,v in students.items():\n",
    "    print(f'{k} : {v}')\n"
   ]
  },
  {
   "cell_type": "code",
   "execution_count": 11,
   "id": "7d774759",
   "metadata": {},
   "outputs": [
    {
     "name": "stdout",
     "output_type": "stream",
     "text": [
      "{'emp001': {'name': 'John', 'salary': 25000, 'city': 'Lucknow'}, 'emp002': {'name': 'Jane', 'salary': 30000, 'city': 'Delhi'}, 'emp003': {'name': 'Marie', 'salary': 35000, 'city': 'Lucknow'}}\n"
     ]
    }
   ],
   "source": [
    "company = {\n",
    "    'emp001': {\n",
    "        'name': 'John',\n",
    "        'salary': 25000,\n",
    "        'city': 'Lucknow'\n",
    "    },\n",
    "    'emp002': {\n",
    "        'name': 'Jane',\n",
    "        'salary': 30000,\n",
    "        'city': 'Delhi'\n",
    "    },\n",
    "    'emp003': {\n",
    "        'name': 'Marie',\n",
    "        'salary': 35000,\n",
    "        'city': 'Lucknow'\n",
    "    }\n",
    "}\n",
    "print(company)"
   ]
  },
  {
   "cell_type": "code",
   "execution_count": 12,
   "id": "f147008f",
   "metadata": {},
   "outputs": [],
   "source": [
    "from pprint import pprint"
   ]
  },
  {
   "cell_type": "code",
   "execution_count": 13,
   "id": "fd1ba665",
   "metadata": {},
   "outputs": [
    {
     "name": "stdout",
     "output_type": "stream",
     "text": [
      "{'emp001': {'city': 'Lucknow', 'name': 'John', 'salary': 25000},\n",
      " 'emp002': {'city': 'Delhi', 'name': 'Jane', 'salary': 30000},\n",
      " 'emp003': {'city': 'Lucknow', 'name': 'Marie', 'salary': 35000}}\n"
     ]
    }
   ],
   "source": [
    "pprint(company)"
   ]
  },
  {
   "cell_type": "code",
   "execution_count": 14,
   "id": "7126c757",
   "metadata": {},
   "outputs": [
    {
     "name": "stdout",
     "output_type": "stream",
     "text": [
      "Jane\n"
     ]
    }
   ],
   "source": [
    "print(company['emp002']['name'])"
   ]
  },
  {
   "cell_type": "code",
   "execution_count": 15,
   "id": "379edc4f",
   "metadata": {},
   "outputs": [
    {
     "name": "stdout",
     "output_type": "stream",
     "text": [
      "28\n"
     ]
    }
   ],
   "source": [
    "print(temp['lucknow'][1])"
   ]
  },
  {
   "cell_type": "code",
   "execution_count": 16,
   "id": "3e23bcb7",
   "metadata": {},
   "outputs": [
    {
     "name": "stdout",
     "output_type": "stream",
     "text": [
      "average temp in delhi: 36.333333333333336\n"
     ]
    }
   ],
   "source": [
    "print('average temp in delhi:',sum(temp['delhi'])/len(temp['delhi']))"
   ]
  },
  {
   "cell_type": "code",
   "execution_count": null,
   "id": "fb090331",
   "metadata": {},
   "outputs": [],
   "source": []
  }
 ],
 "metadata": {
  "kernelspec": {
   "display_name": "base",
   "language": "python",
   "name": "python3"
  },
  "language_info": {
   "codemirror_mode": {
    "name": "ipython",
    "version": 3
   },
   "file_extension": ".py",
   "mimetype": "text/x-python",
   "name": "python",
   "nbconvert_exporter": "python",
   "pygments_lexer": "ipython3",
   "version": "3.13.2"
  }
 },
 "nbformat": 4,
 "nbformat_minor": 5
}
