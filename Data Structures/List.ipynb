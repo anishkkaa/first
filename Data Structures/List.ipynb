{
 "cells": [
  {
   "cell_type": "code",
   "execution_count": 2,
   "id": "6adf9efd",
   "metadata": {},
   "outputs": [
    {
     "name": "stdout",
     "output_type": "stream",
     "text": [
      "['google', 'drive', 'uber', 'ola', 'swiggy', 'zomato', 'insta', 'facebook', 'watsap']\n"
     ]
    }
   ],
   "source": [
    "apps = [\"google\",\"drive\",\"uber\",\"ola\",\"swiggy\",\"zomato\",\"insta\",\"facebook\",\"watsap\"]\n",
    "print(apps)\n"
   ]
  },
  {
   "cell_type": "code",
   "execution_count": 3,
   "id": "afc28a88",
   "metadata": {},
   "outputs": [
    {
     "name": "stdout",
     "output_type": "stream",
     "text": [
      "zomato\n",
      "insta\n"
     ]
    }
   ],
   "source": [
    "print(apps[5])\n",
    "print(apps[-3])"
   ]
  },
  {
   "cell_type": "code",
   "execution_count": 4,
   "id": "695af3a7",
   "metadata": {},
   "outputs": [
    {
     "name": "stdout",
     "output_type": "stream",
     "text": [
      "['uber', 'ola', 'swiggy', 'zomato', 'insta']\n",
      "['drive', 'ola', 'zomato', 'facebook']\n",
      "['uber', 'ola', 'swiggy', 'zomato', 'insta', 'facebook', 'watsap']\n",
      "['uber', 'swiggy', 'insta', 'watsap']\n",
      "['google', 'drive', 'uber', 'ola', 'swiggy']\n",
      "['google', 'drive', 'uber', 'ola', 'swiggy', 'zomato', 'insta', 'facebook', 'watsap']\n"
     ]
    }
   ],
   "source": [
    "print(apps[2:7])\n",
    "print(apps[1:10:2])\n",
    "print(apps[2:])\n",
    "print(apps[2::2])\n",
    "print(apps[:5])\n",
    "print(apps[:])"
   ]
  },
  {
   "cell_type": "code",
   "execution_count": 5,
   "id": "3531251f",
   "metadata": {},
   "outputs": [
    {
     "name": "stdout",
     "output_type": "stream",
     "text": [
      "['google', 'drive', 'uber', 'ola', 'swiggy', 'zomato', 'insta', 'facebook', 'watsap', 'snapchat']\n"
     ]
    }
   ],
   "source": [
    "apps.append(\"snapchat\")\n",
    "print(apps)"
   ]
  },
  {
   "cell_type": "code",
   "execution_count": 6,
   "id": "2b6cfed3",
   "metadata": {},
   "outputs": [
    {
     "name": "stdout",
     "output_type": "stream",
     "text": [
      "['google', 'drive', 'uber', 'paytm', 'ola', 'swiggy', 'zomato', 'insta', 'facebook', 'watsap', 'snapchat']\n"
     ]
    }
   ],
   "source": [
    "apps.insert(3,\"paytm\")\n",
    "print(apps)"
   ]
  },
  {
   "cell_type": "code",
   "execution_count": 7,
   "id": "44731989",
   "metadata": {},
   "outputs": [
    {
     "name": "stdout",
     "output_type": "stream",
     "text": [
      "['google', 'drive', 'uber', 'paytm', 'swiggy', 'zomato', 'insta', 'facebook', 'watsap', 'snapchat']\n"
     ]
    }
   ],
   "source": [
    "apps.pop(4)\n",
    "print(apps)"
   ]
  },
  {
   "cell_type": "code",
   "execution_count": 8,
   "id": "348f6c03",
   "metadata": {},
   "outputs": [
    {
     "name": "stdout",
     "output_type": "stream",
     "text": [
      "['google', 'drive', 'paytm', 'swiggy', 'zomato', 'insta', 'facebook', 'watsap', 'snapchat']\n"
     ]
    }
   ],
   "source": [
    "apps.remove(\"uber\")\n",
    "print(apps)"
   ]
  },
  {
   "cell_type": "code",
   "execution_count": 9,
   "id": "5297e84a",
   "metadata": {},
   "outputs": [
    {
     "name": "stdout",
     "output_type": "stream",
     "text": [
      "['google', 'drive', 'paytm', 'swiggy', 'zomato', 'insta', 'facebook', 'watsap', 'snapchat']\n"
     ]
    }
   ],
   "source": [
    "x = apps.copy()\n",
    "print(x)"
   ]
  },
  {
   "cell_type": "code",
   "execution_count": 10,
   "id": "8a47efa1",
   "metadata": {},
   "outputs": [
    {
     "name": "stdout",
     "output_type": "stream",
     "text": [
      "['drive', 'facebook', 'google', 'insta', 'paytm', 'snapchat', 'swiggy', 'watsap', 'zomato']\n"
     ]
    }
   ],
   "source": [
    "apps.sort()\n",
    "print(apps)"
   ]
  },
  {
   "cell_type": "code",
   "execution_count": 11,
   "id": "d0d89e6e",
   "metadata": {},
   "outputs": [
    {
     "name": "stdout",
     "output_type": "stream",
     "text": [
      "['zomato', 'watsap', 'swiggy', 'snapchat', 'paytm', 'insta', 'google', 'facebook', 'drive']\n"
     ]
    }
   ],
   "source": [
    "apps.reverse()\n",
    "print(apps)"
   ]
  },
  {
   "cell_type": "code",
   "execution_count": 12,
   "id": "0d3bebf9",
   "metadata": {},
   "outputs": [
    {
     "name": "stdout",
     "output_type": "stream",
     "text": [
      "['zomato', 'watsap', 'swiggy', 'snapchat', 'paytm', 'insta', 'google', 'facebook', 'drive', 'water', 'juice', 'milk']\n"
     ]
    }
   ],
   "source": [
    "apps2 = [\"water\",\"juice\",\"milk\"]\n",
    "apps.extend(apps2)\n",
    "print(apps)"
   ]
  },
  {
   "cell_type": "code",
   "execution_count": 13,
   "id": "ab94e5bd",
   "metadata": {},
   "outputs": [
    {
     "name": "stdout",
     "output_type": "stream",
     "text": [
      "['water', 'juice', 'milk', 'zomato', 'watsap', 'swiggy', 'snapchat', 'paytm', 'insta', 'google', 'facebook', 'drive', 'water', 'juice', 'milk']\n"
     ]
    }
   ],
   "source": [
    "apps2.extend(apps)\n",
    "print(apps2)"
   ]
  },
  {
   "cell_type": "code",
   "execution_count": 14,
   "id": "f97f483a",
   "metadata": {},
   "outputs": [
    {
     "name": "stdout",
     "output_type": "stream",
     "text": [
      "{'lucknow': [32, 28, 40], 'delhi': [45, 35, 29], 'chennai': [30, 25, 28]}\n"
     ]
    }
   ],
   "source": [
    "temp = {\n",
    "    'lucknow' : [32,28,40],\n",
    "    'delhi' : [45,35,29],\n",
    "    'chennai' : [30,25,28]\n",
    "}\n",
    "print(temp)"
   ]
  },
  {
   "cell_type": "code",
   "execution_count": 15,
   "id": "61fbd0aa",
   "metadata": {},
   "outputs": [
    {
     "name": "stdout",
     "output_type": "stream",
     "text": [
      "36.333333333333336\n"
     ]
    }
   ],
   "source": [
    "print(sum(temp['delhi'])/len(temp['delhi']))"
   ]
  },
  {
   "cell_type": "code",
   "execution_count": null,
   "id": "7570d57c",
   "metadata": {},
   "outputs": [],
   "source": []
  },
  {
   "cell_type": "code",
   "execution_count": null,
   "id": "b61a354a",
   "metadata": {},
   "outputs": [],
   "source": []
  },
  {
   "cell_type": "code",
   "execution_count": null,
   "id": "d74117ce",
   "metadata": {},
   "outputs": [],
   "source": []
  },
  {
   "cell_type": "code",
   "execution_count": null,
   "id": "20f7ad57",
   "metadata": {},
   "outputs": [],
   "source": []
  }
 ],
 "metadata": {
  "kernelspec": {
   "display_name": "base",
   "language": "python",
   "name": "python3"
  },
  "language_info": {
   "codemirror_mode": {
    "name": "ipython",
    "version": 3
   },
   "file_extension": ".py",
   "mimetype": "text/x-python",
   "name": "python",
   "nbconvert_exporter": "python",
   "pygments_lexer": "ipython3",
   "version": "3.13.2"
  }
 },
 "nbformat": 4,
 "nbformat_minor": 5
}
